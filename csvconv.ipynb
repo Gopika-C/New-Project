{
  "nbformat": 4,
  "nbformat_minor": 0,
  "metadata": {
    "colab": {
      "provenance": [],
      "mount_file_id": "1ltOBZ5UYbpEpWa1tZ5MA8aKcP6nt4PN6",
      "authorship_tag": "ABX9TyNzYXlt9xdjEctEX4ZMDoAG",
      "include_colab_link": true
    },
    "kernelspec": {
      "name": "python3",
      "display_name": "Python 3"
    },
    "language_info": {
      "name": "python"
    }
  },
  "cells": [
    {
      "cell_type": "markdown",
      "metadata": {
        "id": "view-in-github",
        "colab_type": "text"
      },
      "source": [
        "<a href=\"https://colab.research.google.com/github/Gopika-C/New-Project/blob/main/csvconv.ipynb\" target=\"_parent\"><img src=\"https://colab.research.google.com/assets/colab-badge.svg\" alt=\"Open In Colab\"/></a>"
      ]
    },
    {
      "cell_type": "code",
      "execution_count": null,
      "metadata": {
        "colab": {
          "base_uri": "https://localhost:8080/"
        },
        "id": "eumGsA1IlAMm",
        "outputId": "cc8646e7-a333-42ed-f9e7-6bb7c97444f1"
      },
      "outputs": [
        {
          "output_type": "stream",
          "name": "stdout",
          "text": [
            "Looking in indexes: https://pypi.org/simple, https://us-python.pkg.dev/colab-wheels/public/simple/\n",
            "Requirement already satisfied: pandas in /usr/local/lib/python3.7/dist-packages (1.3.5)\n",
            "Requirement already satisfied: pytz>=2017.3 in /usr/local/lib/python3.7/dist-packages (from pandas) (2022.2.1)\n",
            "Requirement already satisfied: numpy>=1.17.3 in /usr/local/lib/python3.7/dist-packages (from pandas) (1.21.6)\n",
            "Requirement already satisfied: python-dateutil>=2.7.3 in /usr/local/lib/python3.7/dist-packages (from pandas) (2.8.2)\n",
            "Requirement already satisfied: six>=1.5 in /usr/local/lib/python3.7/dist-packages (from python-dateutil>=2.7.3->pandas) (1.15.0)\n"
          ]
        }
      ],
      "source": [
        "pip install pandas"
      ]
    },
    {
      "cell_type": "code",
      "source": [
        "import pandas as pd\n",
        "df = pd.read_json (r'/content/drive/MyDrive/Mini Project/data2.json')\n",
        "df.to_csv (r'C:\\Users\\USER\\Desktop\\Mini Project\\newdataset.csv', index = None)"
      ],
      "metadata": {
        "id": "tKKRg_8hlPef"
      },
      "execution_count": null,
      "outputs": []
    },
    {
      "cell_type": "code",
      "source": [
        "print(df)"
      ],
      "metadata": {
        "colab": {
          "base_uri": "https://localhost:8080/"
        },
        "id": "HzDLqADtcdyp",
        "outputId": "14d4329b-4288-4ebd-9c12-05e88a1d8bb7"
      },
      "execution_count": null,
      "outputs": [
        {
          "output_type": "stream",
          "name": "stdout",
          "text": [
            "                 Host  severity          title\n",
            "0      tkrw10-ktjelm2      27.0  CVE-2016-6924\n",
            "1      tkrw10-ktjelm2      27.0  CVE-2016-4227\n",
            "2      tkrw10-ktjelm2      27.0  CVE-2016-4235\n",
            "3      tkrw10-ktjelm2      27.0  CVE-2016-4171\n",
            "4      tkrw10-ktjelm2      27.0  CVE-2016-6929\n",
            "...               ...       ...            ...\n",
            "2495   wpw10-aedwards      27.0  CVE-2016-1028\n",
            "2496   wpw10-aedwards      27.0  CVE-2016-6925\n",
            "2497   wpw10-aedwards      27.0  CVE-2016-1006\n",
            "2498  avigilon-usr-pc      18.9  CVE-2016-4163\n",
            "2499   wpw10-aedwards      27.0  CVE-2016-1030\n",
            "\n",
            "[2500 rows x 3 columns]\n"
          ]
        }
      ]
    },
    {
      "cell_type": "code",
      "source": [
        "import json\n",
        "import csv\n",
        "\n",
        "# Open the JSON file & load its data\n",
        "with open('/content/drive/MyDrive/Mini Project/data2.json') as dat_file:\n",
        "    data = json.load(dat_file)\n",
        "new_data = data['Data_details']\n",
        " \n",
        "# Opening a CSV file for writing in write mode\n",
        "data_file = open('C:\\Users\\USER\\Desktop\\Mini Project\\newdataset.csv', 'w') \n",
        "csv_writer = csv.writer(data_file)\n",
        "\n",
        "count = 0 \n",
        "for cnt in stud_data:\n",
        "    if count == 0:\n",
        "        header = cnt.keys()\n",
        "        csv_writer.writerow(header)\n",
        "        count += 1\n",
        "    csv_writer.writerow(cnt.values())\n",
        "data_file.close()"
      ],
      "metadata": {
        "colab": {
          "base_uri": "https://localhost:8080/",
          "height": 148
        },
        "id": "9ZZXiPxdhdRo",
        "outputId": "20aac7c6-5429-4904-e052-3d27cce2edc4"
      },
      "execution_count": null,
      "outputs": [
        {
          "output_type": "error",
          "ename": "SyntaxError",
          "evalue": "ignored",
          "traceback": [
            "\u001b[0;36m  File \u001b[0;32m\"<ipython-input-13-e910505a35fd>\"\u001b[0;36m, line \u001b[0;32m10\u001b[0m\n\u001b[0;31m    data_file = open('C:\\Users\\USER\\Desktop\\Mini Project\\newdataset.csv', 'w')\u001b[0m\n\u001b[0m                    ^\u001b[0m\n\u001b[0;31mSyntaxError\u001b[0m\u001b[0;31m:\u001b[0m (unicode error) 'unicodeescape' codec can't decode bytes in position 2-3: truncated \\UXXXXXXXX escape\n"
          ]
        }
      ]
    },
    {
      "cell_type": "code",
      "source": [
        "import pandas as pd"
      ],
      "metadata": {
        "id": "15cX6E6Li6h8"
      },
      "execution_count": null,
      "outputs": []
    },
    {
      "cell_type": "code",
      "source": [
        "dt = pd.read_json (r'/content/drive/MyDrive/Mini Project/data2.json')\n",
        "input_json_file=dt\n",
        "output_csv_file='csv_file_csv'\n",
        "\n",
        "  file=open(r'/content/drive/MyDrive/Mini Project/data2.json',rb)\n",
        "  df=pd.read.json(inputfile)\n",
        "  df.to_csv(output_scv_file,index=false)"
      ],
      "metadata": {
        "colab": {
          "base_uri": "https://localhost:8080/",
          "height": 130
        },
        "id": "seq9dznDjAM-",
        "outputId": "e9683617-09a0-4ff0-d8e9-fae64c39e9a9"
      },
      "execution_count": null,
      "outputs": [
        {
          "output_type": "error",
          "ename": "IndentationError",
          "evalue": "ignored",
          "traceback": [
            "\u001b[0;36m  File \u001b[0;32m\"<ipython-input-19-47e6dc481dec>\"\u001b[0;36m, line \u001b[0;32m5\u001b[0m\n\u001b[0;31m    file=open(r'/content/drive/MyDrive/Mini Project/data2.json',rb)\u001b[0m\n\u001b[0m    ^\u001b[0m\n\u001b[0;31mIndentationError\u001b[0m\u001b[0;31m:\u001b[0m unexpected indent\n"
          ]
        }
      ]
    },
    {
      "cell_type": "code",
      "source": [
        "import pandas as pd\n",
        "from pathlib import Path\n",
        "import json\n",
        "jsonpath=Path('/content/drive/MyDrive/Mini Project/data2.json')\n",
        "with jsonpath.open('r',encoding='utf-8')as dat_f:\n",
        "  dat=json.loads(dat_f.read())\n",
        "  df=pd.json_normalize(dat)\n",
        "  df.to_csv('datfile.csv',encoding='utf-8',index=False)\n",
        "  print(df)"
      ],
      "metadata": {
        "colab": {
          "base_uri": "https://localhost:8080/"
        },
        "id": "Dbg4bvpOlvpZ",
        "outputId": "6490315e-3a7c-4a83-8a4b-fdd4ae198128"
      },
      "execution_count": null,
      "outputs": [
        {
          "output_type": "stream",
          "name": "stdout",
          "text": [
            "                 Host  severity          title\n",
            "0      tkrw10-ktjelm2      27.0  CVE-2016-6924\n",
            "1      tkrw10-ktjelm2      27.0  CVE-2016-4227\n",
            "2      tkrw10-ktjelm2      27.0  CVE-2016-4235\n",
            "3      tkrw10-ktjelm2      27.0  CVE-2016-4171\n",
            "4      tkrw10-ktjelm2      27.0  CVE-2016-6929\n",
            "...               ...       ...            ...\n",
            "2495   wpw10-aedwards      27.0  CVE-2016-1028\n",
            "2496   wpw10-aedwards      27.0  CVE-2016-6925\n",
            "2497   wpw10-aedwards      27.0  CVE-2016-1006\n",
            "2498  avigilon-usr-pc      18.9  CVE-2016-4163\n",
            "2499   wpw10-aedwards      27.0  CVE-2016-1030\n",
            "\n",
            "[2500 rows x 3 columns]\n"
          ]
        }
      ]
    },
    {
      "cell_type": "code",
      "source": [
        "df.dtypes"
      ],
      "metadata": {
        "colab": {
          "base_uri": "https://localhost:8080/"
        },
        "id": "Lu_FkumQee7v",
        "outputId": "7401b783-b6f6-4db3-8a19-69449f9573e7"
      },
      "execution_count": null,
      "outputs": [
        {
          "output_type": "execute_result",
          "data": {
            "text/plain": [
              "Host         object\n",
              "severity    float64\n",
              "title        object\n",
              "dtype: object"
            ]
          },
          "metadata": {},
          "execution_count": 6
        }
      ]
    }
  ]
}