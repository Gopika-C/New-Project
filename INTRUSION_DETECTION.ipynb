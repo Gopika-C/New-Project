{
  "nbformat": 4,
  "nbformat_minor": 0,
  "metadata": {
    "colab": {
      "provenance": [],
      "mount_file_id": "1dYA076hLe1i4TYK-4j02Hy_X4-06lQZb",
      "authorship_tag": "ABX9TyOSujwz+coLj+uDhjA22M4U",
      "include_colab_link": true
    },
    "kernelspec": {
      "name": "python3",
      "display_name": "Python 3"
    },
    "language_info": {
      "name": "python"
    }
  },
  "cells": [
    {
      "cell_type": "markdown",
      "metadata": {
        "id": "view-in-github",
        "colab_type": "text"
      },
      "source": [
        "<a href=\"https://colab.research.google.com/github/Gopika-C/New-Project/blob/main/INTRUSION_DETECTION.ipynb\" target=\"_parent\"><img src=\"https://colab.research.google.com/assets/colab-badge.svg\" alt=\"Open In Colab\"/></a>"
      ]
    },
    {
      "cell_type": "markdown",
      "source": [
        "## **INTRUSION DETECTION**"
      ],
      "metadata": {
        "id": "LkQXW8naQOcw"
      }
    },
    {
      "cell_type": "code",
      "execution_count": null,
      "metadata": {
        "id": "6Oh9utTu3nO2"
      },
      "outputs": [],
      "source": [
        "#importing required packages for this module\n",
        "import pandas as pd\n",
        "import numpy as np\n",
        "import random\n",
        "from sklearn import preprocessing\n",
        "from pathlib import Path\n",
        "import matplotlib.pyplot as plt\n",
        "import seaborn as sns\n",
        "from sklearn.metrics import confusion_matrix,classification_report\n",
        "from sklearn.neighbors import KNeighborsClassifier\n",
        "from sklearn.linear_model import LogisticRegression\n"
      ]
    },
    {
      "cell_type": "code",
      "source": [
        "import json\n",
        "jsonpath=Path('/content/drive/MyDrive/Mini Project/datasetnew.json')\n",
        "with jsonpath.open('r',encoding='utf-8')as dat_f:\n",
        "  dat=json.loads(dat_f.read())\n",
        "  df=pd.json_normalize(dat)\n",
        "  df.to_csv('/content/drive/MyDrive/Mini Project/logdataset1.csv',encoding='utf-8',index=False)"
      ],
      "metadata": {
        "id": "FlMoWbYu3tqg"
      },
      "execution_count": null,
      "outputs": []
    },
    {
      "cell_type": "code",
      "source": [
        "from google.colab import drive\n",
        "drive.mount('/content/drive')"
      ],
      "metadata": {
        "id": "5DuR5Upe3wj_",
        "colab": {
          "base_uri": "https://localhost:8080/"
        },
        "outputId": "79260969-941f-4af0-cbb2-fb91d12e91fc"
      },
      "execution_count": null,
      "outputs": [
        {
          "output_type": "stream",
          "name": "stdout",
          "text": [
            "Drive already mounted at /content/drive; to attempt to forcibly remount, call drive.mount(\"/content/drive\", force_remount=True).\n"
          ]
        }
      ]
    },
    {
      "cell_type": "code",
      "source": [
        "data=pd.read_csv(\"/content/drive/MyDrive/Mini Project/newlogdataset.csv\")\n",
        "data"
      ],
      "metadata": {
        "id": "jSTFToZm4XmC",
        "colab": {
          "base_uri": "https://localhost:8080/",
          "height": 1000
        },
        "outputId": "b7de585f-3c51-49cf-b300-7fd121cbf90c"
      },
      "execution_count": null,
      "outputs": [
        {
          "output_type": "execute_result",
          "data": {
            "text/plain": [
              "     modload_count                                       process_path  \\\n",
              "0                2  c:\\windows\\syswow64\\macromed\\flash\\flashplayer...   \n",
              "1                2  c:\\windows\\syswow64\\macromed\\flash\\flashplayer...   \n",
              "2                2  c:\\windows\\syswow64\\macromed\\flash\\flashplayer...   \n",
              "3                2  c:\\windows\\syswow64\\macromed\\flash\\flashplayer...   \n",
              "4                2  c:\\windows\\syswow64\\macromed\\flash\\flashplayer...   \n",
              "...            ...                                                ...   \n",
              "2495             1  c:\\windows\\syswow64\\macromed\\flash\\flashplayer...   \n",
              "2496             1  c:\\windows\\syswow64\\macromed\\flash\\flashplayer...   \n",
              "2497             1  c:\\windows\\syswow64\\macromed\\flash\\flashplayer...   \n",
              "2498             1  c:\\windows\\syswow64\\macromed\\flash\\flashplayer...   \n",
              "2499           116  c:\\program files\\dell\\supportassistagent\\bin\\s...   \n",
              "\n",
              "                         alert_type  sensor_criticality  \\\n",
              "0     watchlist.hit.ingress.process                   3   \n",
              "1     watchlist.hit.ingress.process                   3   \n",
              "2     watchlist.hit.ingress.process                   3   \n",
              "3     watchlist.hit.ingress.process                   3   \n",
              "4     watchlist.hit.ingress.process                   3   \n",
              "...                             ...                 ...   \n",
              "2495  watchlist.hit.ingress.process                   3   \n",
              "2496  watchlist.hit.ingress.process                   3   \n",
              "2497  watchlist.hit.ingress.process                   3   \n",
              "2498  watchlist.hit.ingress.process                   3   \n",
              "2499  watchlist.hit.ingress.process                   3   \n",
              "\n",
              "                    @timestamp  report_score  \\\n",
              "0     2019-11-29T12:18:17.856Z            40   \n",
              "1     2019-11-29T12:18:17.856Z            40   \n",
              "2     2019-11-29T12:18:17.856Z            40   \n",
              "3     2019-11-29T12:18:17.856Z            40   \n",
              "4     2019-11-29T12:18:17.856Z            40   \n",
              "...                        ...           ...   \n",
              "2495  2019-11-27T03:12:01.144Z            40   \n",
              "2496  2019-11-27T03:12:01.143Z            40   \n",
              "2497  2019-11-27T03:12:01.143Z            40   \n",
              "2498  2019-11-27T03:12:01.143Z            40   \n",
              "2499  2019-11-27T19:34:13.902Z           100   \n",
              "\n",
              "                              watchlist_id  sensor_id            feed_name  \\\n",
              "0                            CVE-2016-4171        322                  nvd   \n",
              "1                            CVE-2016-4181        322                  nvd   \n",
              "2                            CVE-2016-4138        322                  nvd   \n",
              "3                            CVE-2016-4128        322                  nvd   \n",
              "4                            CVE-2016-4227        322                  nvd   \n",
              "...                                    ...        ...                  ...   \n",
              "2495                         CVE-2016-0995        237                  nvd   \n",
              "2496                         CVE-2016-1031        237                  nvd   \n",
              "2497                         CVE-2016-4284        237                  nvd   \n",
              "2498                         CVE-2016-4284        237                  nvd   \n",
              "2499  8fb984ee-b44c-4a68-992f-4f7aae23ae07        578  bit9advancedthreats   \n",
              "\n",
              "                  created_time  ...    interface_ip    segment_id  \\\n",
              "0     2019-11-29T12:11:06.587Z  ...    172.20.7.254 -1.223531e+09   \n",
              "1     2019-11-29T12:11:06.589Z  ...    172.20.7.254 -1.223531e+09   \n",
              "2     2019-11-29T12:11:06.413Z  ...    172.20.7.254 -1.223531e+09   \n",
              "3     2019-11-29T12:11:06.406Z  ...    172.20.7.254 -1.223531e+09   \n",
              "4      2019-11-29T12:11:06.41Z  ...    172.20.7.254 -1.223531e+09   \n",
              "...                        ...  ...             ...           ...   \n",
              "2495  2019-11-27T03:09:30.037Z  ...  192.168.168.20 -1.428828e+09   \n",
              "2496  2019-11-27T03:09:30.207Z  ...  192.168.168.20 -1.428828e+09   \n",
              "2497  2019-11-27T03:09:30.212Z  ...  192.168.168.20 -1.428828e+09   \n",
              "2498  2019-11-27T03:09:30.212Z  ...  192.168.168.20 -1.428828e+09   \n",
              "2499  2019-11-27T19:30:21.126Z  ...  192.168.10.100 -1.400000e+09   \n",
              "\n",
              "      total_hosts  feed_id      status  os_type @version childproc_count  \\\n",
              "0             198       18  Unresolved  windows        1               2   \n",
              "1             198       18  Unresolved  windows        1               2   \n",
              "2             198       18  Unresolved  windows        1               2   \n",
              "3             198       18  Unresolved  windows        1               2   \n",
              "4             198       18  Unresolved  windows        1               2   \n",
              "...           ...      ...         ...      ...      ...             ...   \n",
              "2495          271       18  Unresolved  windows        1               2   \n",
              "2496          271       18  Unresolved  windows        1               2   \n",
              "2497          271       18  Unresolved  windows        1               2   \n",
              "2498          271       18  Unresolved  windows        1               2   \n",
              "2499          271        8  Unresolved  windows        1              30   \n",
              "\n",
              "                                 unique_id  feed_rating  \n",
              "0     c9845596-2a1c-40fa-ba73-1a3cb250e988            3  \n",
              "1     a3e78117-f02b-4a58-9194-39b8c153b1fb            3  \n",
              "2     cf8a47c0-fe5e-4738-a0c4-841c04bd4e85            3  \n",
              "3     9c819b01-6e5c-4985-92a6-132c98cb6f63            3  \n",
              "4     7cbfe316-3569-4a6b-8b30-efd474b13cc6            3  \n",
              "...                                    ...          ...  \n",
              "2495  d1634d4f-c262-4484-9a10-3939743a8ca5            3  \n",
              "2496  9ab8684a-bec1-4dd4-8688-e698f107d038            3  \n",
              "2497  85110b00-ce52-4cfd-9b38-1ff1ea9452ed            3  \n",
              "2498  85110b00-ce52-4cfd-9b38-1ff1ea9452ed            3  \n",
              "2499  a4d94528-5154-44d2-9d3d-6aa786c6a909            3  \n",
              "\n",
              "[2500 rows x 47 columns]"
            ],
            "text/html": [
              "\n",
              "  <div id=\"df-539d9741-cc5d-49b2-9bb6-7a54303d15c1\">\n",
              "    <div class=\"colab-df-container\">\n",
              "      <div>\n",
              "<style scoped>\n",
              "    .dataframe tbody tr th:only-of-type {\n",
              "        vertical-align: middle;\n",
              "    }\n",
              "\n",
              "    .dataframe tbody tr th {\n",
              "        vertical-align: top;\n",
              "    }\n",
              "\n",
              "    .dataframe thead th {\n",
              "        text-align: right;\n",
              "    }\n",
              "</style>\n",
              "<table border=\"1\" class=\"dataframe\">\n",
              "  <thead>\n",
              "    <tr style=\"text-align: right;\">\n",
              "      <th></th>\n",
              "      <th>modload_count</th>\n",
              "      <th>process_path</th>\n",
              "      <th>alert_type</th>\n",
              "      <th>sensor_criticality</th>\n",
              "      <th>@timestamp</th>\n",
              "      <th>report_score</th>\n",
              "      <th>watchlist_id</th>\n",
              "      <th>sensor_id</th>\n",
              "      <th>feed_name</th>\n",
              "      <th>created_time</th>\n",
              "      <th>...</th>\n",
              "      <th>interface_ip</th>\n",
              "      <th>segment_id</th>\n",
              "      <th>total_hosts</th>\n",
              "      <th>feed_id</th>\n",
              "      <th>status</th>\n",
              "      <th>os_type</th>\n",
              "      <th>@version</th>\n",
              "      <th>childproc_count</th>\n",
              "      <th>unique_id</th>\n",
              "      <th>feed_rating</th>\n",
              "    </tr>\n",
              "  </thead>\n",
              "  <tbody>\n",
              "    <tr>\n",
              "      <th>0</th>\n",
              "      <td>2</td>\n",
              "      <td>c:\\windows\\syswow64\\macromed\\flash\\flashplayer...</td>\n",
              "      <td>watchlist.hit.ingress.process</td>\n",
              "      <td>3</td>\n",
              "      <td>2019-11-29T12:18:17.856Z</td>\n",
              "      <td>40</td>\n",
              "      <td>CVE-2016-4171</td>\n",
              "      <td>322</td>\n",
              "      <td>nvd</td>\n",
              "      <td>2019-11-29T12:11:06.587Z</td>\n",
              "      <td>...</td>\n",
              "      <td>172.20.7.254</td>\n",
              "      <td>-1.223531e+09</td>\n",
              "      <td>198</td>\n",
              "      <td>18</td>\n",
              "      <td>Unresolved</td>\n",
              "      <td>windows</td>\n",
              "      <td>1</td>\n",
              "      <td>2</td>\n",
              "      <td>c9845596-2a1c-40fa-ba73-1a3cb250e988</td>\n",
              "      <td>3</td>\n",
              "    </tr>\n",
              "    <tr>\n",
              "      <th>1</th>\n",
              "      <td>2</td>\n",
              "      <td>c:\\windows\\syswow64\\macromed\\flash\\flashplayer...</td>\n",
              "      <td>watchlist.hit.ingress.process</td>\n",
              "      <td>3</td>\n",
              "      <td>2019-11-29T12:18:17.856Z</td>\n",
              "      <td>40</td>\n",
              "      <td>CVE-2016-4181</td>\n",
              "      <td>322</td>\n",
              "      <td>nvd</td>\n",
              "      <td>2019-11-29T12:11:06.589Z</td>\n",
              "      <td>...</td>\n",
              "      <td>172.20.7.254</td>\n",
              "      <td>-1.223531e+09</td>\n",
              "      <td>198</td>\n",
              "      <td>18</td>\n",
              "      <td>Unresolved</td>\n",
              "      <td>windows</td>\n",
              "      <td>1</td>\n",
              "      <td>2</td>\n",
              "      <td>a3e78117-f02b-4a58-9194-39b8c153b1fb</td>\n",
              "      <td>3</td>\n",
              "    </tr>\n",
              "    <tr>\n",
              "      <th>2</th>\n",
              "      <td>2</td>\n",
              "      <td>c:\\windows\\syswow64\\macromed\\flash\\flashplayer...</td>\n",
              "      <td>watchlist.hit.ingress.process</td>\n",
              "      <td>3</td>\n",
              "      <td>2019-11-29T12:18:17.856Z</td>\n",
              "      <td>40</td>\n",
              "      <td>CVE-2016-4138</td>\n",
              "      <td>322</td>\n",
              "      <td>nvd</td>\n",
              "      <td>2019-11-29T12:11:06.413Z</td>\n",
              "      <td>...</td>\n",
              "      <td>172.20.7.254</td>\n",
              "      <td>-1.223531e+09</td>\n",
              "      <td>198</td>\n",
              "      <td>18</td>\n",
              "      <td>Unresolved</td>\n",
              "      <td>windows</td>\n",
              "      <td>1</td>\n",
              "      <td>2</td>\n",
              "      <td>cf8a47c0-fe5e-4738-a0c4-841c04bd4e85</td>\n",
              "      <td>3</td>\n",
              "    </tr>\n",
              "    <tr>\n",
              "      <th>3</th>\n",
              "      <td>2</td>\n",
              "      <td>c:\\windows\\syswow64\\macromed\\flash\\flashplayer...</td>\n",
              "      <td>watchlist.hit.ingress.process</td>\n",
              "      <td>3</td>\n",
              "      <td>2019-11-29T12:18:17.856Z</td>\n",
              "      <td>40</td>\n",
              "      <td>CVE-2016-4128</td>\n",
              "      <td>322</td>\n",
              "      <td>nvd</td>\n",
              "      <td>2019-11-29T12:11:06.406Z</td>\n",
              "      <td>...</td>\n",
              "      <td>172.20.7.254</td>\n",
              "      <td>-1.223531e+09</td>\n",
              "      <td>198</td>\n",
              "      <td>18</td>\n",
              "      <td>Unresolved</td>\n",
              "      <td>windows</td>\n",
              "      <td>1</td>\n",
              "      <td>2</td>\n",
              "      <td>9c819b01-6e5c-4985-92a6-132c98cb6f63</td>\n",
              "      <td>3</td>\n",
              "    </tr>\n",
              "    <tr>\n",
              "      <th>4</th>\n",
              "      <td>2</td>\n",
              "      <td>c:\\windows\\syswow64\\macromed\\flash\\flashplayer...</td>\n",
              "      <td>watchlist.hit.ingress.process</td>\n",
              "      <td>3</td>\n",
              "      <td>2019-11-29T12:18:17.856Z</td>\n",
              "      <td>40</td>\n",
              "      <td>CVE-2016-4227</td>\n",
              "      <td>322</td>\n",
              "      <td>nvd</td>\n",
              "      <td>2019-11-29T12:11:06.41Z</td>\n",
              "      <td>...</td>\n",
              "      <td>172.20.7.254</td>\n",
              "      <td>-1.223531e+09</td>\n",
              "      <td>198</td>\n",
              "      <td>18</td>\n",
              "      <td>Unresolved</td>\n",
              "      <td>windows</td>\n",
              "      <td>1</td>\n",
              "      <td>2</td>\n",
              "      <td>7cbfe316-3569-4a6b-8b30-efd474b13cc6</td>\n",
              "      <td>3</td>\n",
              "    </tr>\n",
              "    <tr>\n",
              "      <th>...</th>\n",
              "      <td>...</td>\n",
              "      <td>...</td>\n",
              "      <td>...</td>\n",
              "      <td>...</td>\n",
              "      <td>...</td>\n",
              "      <td>...</td>\n",
              "      <td>...</td>\n",
              "      <td>...</td>\n",
              "      <td>...</td>\n",
              "      <td>...</td>\n",
              "      <td>...</td>\n",
              "      <td>...</td>\n",
              "      <td>...</td>\n",
              "      <td>...</td>\n",
              "      <td>...</td>\n",
              "      <td>...</td>\n",
              "      <td>...</td>\n",
              "      <td>...</td>\n",
              "      <td>...</td>\n",
              "      <td>...</td>\n",
              "      <td>...</td>\n",
              "    </tr>\n",
              "    <tr>\n",
              "      <th>2495</th>\n",
              "      <td>1</td>\n",
              "      <td>c:\\windows\\syswow64\\macromed\\flash\\flashplayer...</td>\n",
              "      <td>watchlist.hit.ingress.process</td>\n",
              "      <td>3</td>\n",
              "      <td>2019-11-27T03:12:01.144Z</td>\n",
              "      <td>40</td>\n",
              "      <td>CVE-2016-0995</td>\n",
              "      <td>237</td>\n",
              "      <td>nvd</td>\n",
              "      <td>2019-11-27T03:09:30.037Z</td>\n",
              "      <td>...</td>\n",
              "      <td>192.168.168.20</td>\n",
              "      <td>-1.428828e+09</td>\n",
              "      <td>271</td>\n",
              "      <td>18</td>\n",
              "      <td>Unresolved</td>\n",
              "      <td>windows</td>\n",
              "      <td>1</td>\n",
              "      <td>2</td>\n",
              "      <td>d1634d4f-c262-4484-9a10-3939743a8ca5</td>\n",
              "      <td>3</td>\n",
              "    </tr>\n",
              "    <tr>\n",
              "      <th>2496</th>\n",
              "      <td>1</td>\n",
              "      <td>c:\\windows\\syswow64\\macromed\\flash\\flashplayer...</td>\n",
              "      <td>watchlist.hit.ingress.process</td>\n",
              "      <td>3</td>\n",
              "      <td>2019-11-27T03:12:01.143Z</td>\n",
              "      <td>40</td>\n",
              "      <td>CVE-2016-1031</td>\n",
              "      <td>237</td>\n",
              "      <td>nvd</td>\n",
              "      <td>2019-11-27T03:09:30.207Z</td>\n",
              "      <td>...</td>\n",
              "      <td>192.168.168.20</td>\n",
              "      <td>-1.428828e+09</td>\n",
              "      <td>271</td>\n",
              "      <td>18</td>\n",
              "      <td>Unresolved</td>\n",
              "      <td>windows</td>\n",
              "      <td>1</td>\n",
              "      <td>2</td>\n",
              "      <td>9ab8684a-bec1-4dd4-8688-e698f107d038</td>\n",
              "      <td>3</td>\n",
              "    </tr>\n",
              "    <tr>\n",
              "      <th>2497</th>\n",
              "      <td>1</td>\n",
              "      <td>c:\\windows\\syswow64\\macromed\\flash\\flashplayer...</td>\n",
              "      <td>watchlist.hit.ingress.process</td>\n",
              "      <td>3</td>\n",
              "      <td>2019-11-27T03:12:01.143Z</td>\n",
              "      <td>40</td>\n",
              "      <td>CVE-2016-4284</td>\n",
              "      <td>237</td>\n",
              "      <td>nvd</td>\n",
              "      <td>2019-11-27T03:09:30.212Z</td>\n",
              "      <td>...</td>\n",
              "      <td>192.168.168.20</td>\n",
              "      <td>-1.428828e+09</td>\n",
              "      <td>271</td>\n",
              "      <td>18</td>\n",
              "      <td>Unresolved</td>\n",
              "      <td>windows</td>\n",
              "      <td>1</td>\n",
              "      <td>2</td>\n",
              "      <td>85110b00-ce52-4cfd-9b38-1ff1ea9452ed</td>\n",
              "      <td>3</td>\n",
              "    </tr>\n",
              "    <tr>\n",
              "      <th>2498</th>\n",
              "      <td>1</td>\n",
              "      <td>c:\\windows\\syswow64\\macromed\\flash\\flashplayer...</td>\n",
              "      <td>watchlist.hit.ingress.process</td>\n",
              "      <td>3</td>\n",
              "      <td>2019-11-27T03:12:01.143Z</td>\n",
              "      <td>40</td>\n",
              "      <td>CVE-2016-4284</td>\n",
              "      <td>237</td>\n",
              "      <td>nvd</td>\n",
              "      <td>2019-11-27T03:09:30.212Z</td>\n",
              "      <td>...</td>\n",
              "      <td>192.168.168.20</td>\n",
              "      <td>-1.428828e+09</td>\n",
              "      <td>271</td>\n",
              "      <td>18</td>\n",
              "      <td>Unresolved</td>\n",
              "      <td>windows</td>\n",
              "      <td>1</td>\n",
              "      <td>2</td>\n",
              "      <td>85110b00-ce52-4cfd-9b38-1ff1ea9452ed</td>\n",
              "      <td>3</td>\n",
              "    </tr>\n",
              "    <tr>\n",
              "      <th>2499</th>\n",
              "      <td>116</td>\n",
              "      <td>c:\\program files\\dell\\supportassistagent\\bin\\s...</td>\n",
              "      <td>watchlist.hit.ingress.process</td>\n",
              "      <td>3</td>\n",
              "      <td>2019-11-27T19:34:13.902Z</td>\n",
              "      <td>100</td>\n",
              "      <td>8fb984ee-b44c-4a68-992f-4f7aae23ae07</td>\n",
              "      <td>578</td>\n",
              "      <td>bit9advancedthreats</td>\n",
              "      <td>2019-11-27T19:30:21.126Z</td>\n",
              "      <td>...</td>\n",
              "      <td>192.168.10.100</td>\n",
              "      <td>-1.400000e+09</td>\n",
              "      <td>271</td>\n",
              "      <td>8</td>\n",
              "      <td>Unresolved</td>\n",
              "      <td>windows</td>\n",
              "      <td>1</td>\n",
              "      <td>30</td>\n",
              "      <td>a4d94528-5154-44d2-9d3d-6aa786c6a909</td>\n",
              "      <td>3</td>\n",
              "    </tr>\n",
              "  </tbody>\n",
              "</table>\n",
              "<p>2500 rows × 47 columns</p>\n",
              "</div>\n",
              "      <button class=\"colab-df-convert\" onclick=\"convertToInteractive('df-539d9741-cc5d-49b2-9bb6-7a54303d15c1')\"\n",
              "              title=\"Convert this dataframe to an interactive table.\"\n",
              "              style=\"display:none;\">\n",
              "        \n",
              "  <svg xmlns=\"http://www.w3.org/2000/svg\" height=\"24px\"viewBox=\"0 0 24 24\"\n",
              "       width=\"24px\">\n",
              "    <path d=\"M0 0h24v24H0V0z\" fill=\"none\"/>\n",
              "    <path d=\"M18.56 5.44l.94 2.06.94-2.06 2.06-.94-2.06-.94-.94-2.06-.94 2.06-2.06.94zm-11 1L8.5 8.5l.94-2.06 2.06-.94-2.06-.94L8.5 2.5l-.94 2.06-2.06.94zm10 10l.94 2.06.94-2.06 2.06-.94-2.06-.94-.94-2.06-.94 2.06-2.06.94z\"/><path d=\"M17.41 7.96l-1.37-1.37c-.4-.4-.92-.59-1.43-.59-.52 0-1.04.2-1.43.59L10.3 9.45l-7.72 7.72c-.78.78-.78 2.05 0 2.83L4 21.41c.39.39.9.59 1.41.59.51 0 1.02-.2 1.41-.59l7.78-7.78 2.81-2.81c.8-.78.8-2.07 0-2.86zM5.41 20L4 18.59l7.72-7.72 1.47 1.35L5.41 20z\"/>\n",
              "  </svg>\n",
              "      </button>\n",
              "      \n",
              "  <style>\n",
              "    .colab-df-container {\n",
              "      display:flex;\n",
              "      flex-wrap:wrap;\n",
              "      gap: 12px;\n",
              "    }\n",
              "\n",
              "    .colab-df-convert {\n",
              "      background-color: #E8F0FE;\n",
              "      border: none;\n",
              "      border-radius: 50%;\n",
              "      cursor: pointer;\n",
              "      display: none;\n",
              "      fill: #1967D2;\n",
              "      height: 32px;\n",
              "      padding: 0 0 0 0;\n",
              "      width: 32px;\n",
              "    }\n",
              "\n",
              "    .colab-df-convert:hover {\n",
              "      background-color: #E2EBFA;\n",
              "      box-shadow: 0px 1px 2px rgba(60, 64, 67, 0.3), 0px 1px 3px 1px rgba(60, 64, 67, 0.15);\n",
              "      fill: #174EA6;\n",
              "    }\n",
              "\n",
              "    [theme=dark] .colab-df-convert {\n",
              "      background-color: #3B4455;\n",
              "      fill: #D2E3FC;\n",
              "    }\n",
              "\n",
              "    [theme=dark] .colab-df-convert:hover {\n",
              "      background-color: #434B5C;\n",
              "      box-shadow: 0px 1px 3px 1px rgba(0, 0, 0, 0.15);\n",
              "      filter: drop-shadow(0px 1px 2px rgba(0, 0, 0, 0.3));\n",
              "      fill: #FFFFFF;\n",
              "    }\n",
              "  </style>\n",
              "\n",
              "      <script>\n",
              "        const buttonEl =\n",
              "          document.querySelector('#df-539d9741-cc5d-49b2-9bb6-7a54303d15c1 button.colab-df-convert');\n",
              "        buttonEl.style.display =\n",
              "          google.colab.kernel.accessAllowed ? 'block' : 'none';\n",
              "\n",
              "        async function convertToInteractive(key) {\n",
              "          const element = document.querySelector('#df-539d9741-cc5d-49b2-9bb6-7a54303d15c1');\n",
              "          const dataTable =\n",
              "            await google.colab.kernel.invokeFunction('convertToInteractive',\n",
              "                                                     [key], {});\n",
              "          if (!dataTable) return;\n",
              "\n",
              "          const docLinkHtml = 'Like what you see? Visit the ' +\n",
              "            '<a target=\"_blank\" href=https://colab.research.google.com/notebooks/data_table.ipynb>data table notebook</a>'\n",
              "            + ' to learn more about interactive tables.';\n",
              "          element.innerHTML = '';\n",
              "          dataTable['output_type'] = 'display_data';\n",
              "          await google.colab.output.renderOutput(dataTable, element);\n",
              "          const docLink = document.createElement('div');\n",
              "          docLink.innerHTML = docLinkHtml;\n",
              "          element.appendChild(docLink);\n",
              "        }\n",
              "      </script>\n",
              "    </div>\n",
              "  </div>\n",
              "  "
            ]
          },
          "metadata": {},
          "execution_count": 9
        }
      ]
    },
    {
      "cell_type": "code",
      "source": [
        "ds=data[['process_path','alert_type','@timestamp','watchlist_id','tags','report_score','alert_severity']]"
      ],
      "metadata": {
        "id": "iU1qybhj4eFH"
      },
      "execution_count": null,
      "outputs": []
    },
    {
      "cell_type": "code",
      "source": [
        "ds"
      ],
      "metadata": {
        "colab": {
          "base_uri": "https://localhost:8080/",
          "height": 696
        },
        "id": "qzuuY6SnBoVA",
        "outputId": "28c8e122-01d5-4964-dc74-0d9de91aab9f"
      },
      "execution_count": null,
      "outputs": [
        {
          "output_type": "execute_result",
          "data": {
            "text/plain": [
              "                                           process_path  \\\n",
              "0     c:\\windows\\syswow64\\macromed\\flash\\flashplayer...   \n",
              "1     c:\\windows\\syswow64\\macromed\\flash\\flashplayer...   \n",
              "2     c:\\windows\\syswow64\\macromed\\flash\\flashplayer...   \n",
              "3     c:\\windows\\syswow64\\macromed\\flash\\flashplayer...   \n",
              "4     c:\\windows\\syswow64\\macromed\\flash\\flashplayer...   \n",
              "...                                                 ...   \n",
              "2495  c:\\windows\\syswow64\\macromed\\flash\\flashplayer...   \n",
              "2496  c:\\windows\\syswow64\\macromed\\flash\\flashplayer...   \n",
              "2497  c:\\windows\\syswow64\\macromed\\flash\\flashplayer...   \n",
              "2498  c:\\windows\\syswow64\\macromed\\flash\\flashplayer...   \n",
              "2499  c:\\program files\\dell\\supportassistagent\\bin\\s...   \n",
              "\n",
              "                         alert_type                @timestamp  \\\n",
              "0     watchlist.hit.ingress.process  2019-11-29T12:18:17.856Z   \n",
              "1     watchlist.hit.ingress.process  2019-11-29T12:18:17.856Z   \n",
              "2     watchlist.hit.ingress.process  2019-11-29T12:18:17.856Z   \n",
              "3     watchlist.hit.ingress.process  2019-11-29T12:18:17.856Z   \n",
              "4     watchlist.hit.ingress.process  2019-11-29T12:18:17.856Z   \n",
              "...                             ...                       ...   \n",
              "2495  watchlist.hit.ingress.process  2019-11-27T03:12:01.144Z   \n",
              "2496  watchlist.hit.ingress.process  2019-11-27T03:12:01.143Z   \n",
              "2497  watchlist.hit.ingress.process  2019-11-27T03:12:01.143Z   \n",
              "2498  watchlist.hit.ingress.process  2019-11-27T03:12:01.143Z   \n",
              "2499  watchlist.hit.ingress.process  2019-11-27T19:34:13.902Z   \n",
              "\n",
              "                              watchlist_id             tags  report_score  \\\n",
              "0                            CVE-2016-4171  ['carbonblack']            40   \n",
              "1                            CVE-2016-4181  ['carbonblack']            40   \n",
              "2                            CVE-2016-4138  ['carbonblack']            40   \n",
              "3                            CVE-2016-4128  ['carbonblack']            40   \n",
              "4                            CVE-2016-4227  ['carbonblack']            40   \n",
              "...                                    ...              ...           ...   \n",
              "2495                         CVE-2016-0995  ['carbonblack']            40   \n",
              "2496                         CVE-2016-1031  ['carbonblack']            40   \n",
              "2497                         CVE-2016-4284  ['carbonblack']            40   \n",
              "2498                         CVE-2016-4284  ['carbonblack']            40   \n",
              "2499  8fb984ee-b44c-4a68-992f-4f7aae23ae07  ['carbonblack']           100   \n",
              "\n",
              "      alert_severity  \n",
              "0               27.0  \n",
              "1               27.0  \n",
              "2               27.0  \n",
              "3               27.0  \n",
              "4               27.0  \n",
              "...              ...  \n",
              "2495            27.0  \n",
              "2496            27.0  \n",
              "2497            27.0  \n",
              "2498            27.0  \n",
              "2499            67.5  \n",
              "\n",
              "[2500 rows x 7 columns]"
            ],
            "text/html": [
              "\n",
              "  <div id=\"df-622adc88-4103-45b9-b78a-0c9c5b771d52\">\n",
              "    <div class=\"colab-df-container\">\n",
              "      <div>\n",
              "<style scoped>\n",
              "    .dataframe tbody tr th:only-of-type {\n",
              "        vertical-align: middle;\n",
              "    }\n",
              "\n",
              "    .dataframe tbody tr th {\n",
              "        vertical-align: top;\n",
              "    }\n",
              "\n",
              "    .dataframe thead th {\n",
              "        text-align: right;\n",
              "    }\n",
              "</style>\n",
              "<table border=\"1\" class=\"dataframe\">\n",
              "  <thead>\n",
              "    <tr style=\"text-align: right;\">\n",
              "      <th></th>\n",
              "      <th>process_path</th>\n",
              "      <th>alert_type</th>\n",
              "      <th>@timestamp</th>\n",
              "      <th>watchlist_id</th>\n",
              "      <th>tags</th>\n",
              "      <th>report_score</th>\n",
              "      <th>alert_severity</th>\n",
              "    </tr>\n",
              "  </thead>\n",
              "  <tbody>\n",
              "    <tr>\n",
              "      <th>0</th>\n",
              "      <td>c:\\windows\\syswow64\\macromed\\flash\\flashplayer...</td>\n",
              "      <td>watchlist.hit.ingress.process</td>\n",
              "      <td>2019-11-29T12:18:17.856Z</td>\n",
              "      <td>CVE-2016-4171</td>\n",
              "      <td>['carbonblack']</td>\n",
              "      <td>40</td>\n",
              "      <td>27.0</td>\n",
              "    </tr>\n",
              "    <tr>\n",
              "      <th>1</th>\n",
              "      <td>c:\\windows\\syswow64\\macromed\\flash\\flashplayer...</td>\n",
              "      <td>watchlist.hit.ingress.process</td>\n",
              "      <td>2019-11-29T12:18:17.856Z</td>\n",
              "      <td>CVE-2016-4181</td>\n",
              "      <td>['carbonblack']</td>\n",
              "      <td>40</td>\n",
              "      <td>27.0</td>\n",
              "    </tr>\n",
              "    <tr>\n",
              "      <th>2</th>\n",
              "      <td>c:\\windows\\syswow64\\macromed\\flash\\flashplayer...</td>\n",
              "      <td>watchlist.hit.ingress.process</td>\n",
              "      <td>2019-11-29T12:18:17.856Z</td>\n",
              "      <td>CVE-2016-4138</td>\n",
              "      <td>['carbonblack']</td>\n",
              "      <td>40</td>\n",
              "      <td>27.0</td>\n",
              "    </tr>\n",
              "    <tr>\n",
              "      <th>3</th>\n",
              "      <td>c:\\windows\\syswow64\\macromed\\flash\\flashplayer...</td>\n",
              "      <td>watchlist.hit.ingress.process</td>\n",
              "      <td>2019-11-29T12:18:17.856Z</td>\n",
              "      <td>CVE-2016-4128</td>\n",
              "      <td>['carbonblack']</td>\n",
              "      <td>40</td>\n",
              "      <td>27.0</td>\n",
              "    </tr>\n",
              "    <tr>\n",
              "      <th>4</th>\n",
              "      <td>c:\\windows\\syswow64\\macromed\\flash\\flashplayer...</td>\n",
              "      <td>watchlist.hit.ingress.process</td>\n",
              "      <td>2019-11-29T12:18:17.856Z</td>\n",
              "      <td>CVE-2016-4227</td>\n",
              "      <td>['carbonblack']</td>\n",
              "      <td>40</td>\n",
              "      <td>27.0</td>\n",
              "    </tr>\n",
              "    <tr>\n",
              "      <th>...</th>\n",
              "      <td>...</td>\n",
              "      <td>...</td>\n",
              "      <td>...</td>\n",
              "      <td>...</td>\n",
              "      <td>...</td>\n",
              "      <td>...</td>\n",
              "      <td>...</td>\n",
              "    </tr>\n",
              "    <tr>\n",
              "      <th>2495</th>\n",
              "      <td>c:\\windows\\syswow64\\macromed\\flash\\flashplayer...</td>\n",
              "      <td>watchlist.hit.ingress.process</td>\n",
              "      <td>2019-11-27T03:12:01.144Z</td>\n",
              "      <td>CVE-2016-0995</td>\n",
              "      <td>['carbonblack']</td>\n",
              "      <td>40</td>\n",
              "      <td>27.0</td>\n",
              "    </tr>\n",
              "    <tr>\n",
              "      <th>2496</th>\n",
              "      <td>c:\\windows\\syswow64\\macromed\\flash\\flashplayer...</td>\n",
              "      <td>watchlist.hit.ingress.process</td>\n",
              "      <td>2019-11-27T03:12:01.143Z</td>\n",
              "      <td>CVE-2016-1031</td>\n",
              "      <td>['carbonblack']</td>\n",
              "      <td>40</td>\n",
              "      <td>27.0</td>\n",
              "    </tr>\n",
              "    <tr>\n",
              "      <th>2497</th>\n",
              "      <td>c:\\windows\\syswow64\\macromed\\flash\\flashplayer...</td>\n",
              "      <td>watchlist.hit.ingress.process</td>\n",
              "      <td>2019-11-27T03:12:01.143Z</td>\n",
              "      <td>CVE-2016-4284</td>\n",
              "      <td>['carbonblack']</td>\n",
              "      <td>40</td>\n",
              "      <td>27.0</td>\n",
              "    </tr>\n",
              "    <tr>\n",
              "      <th>2498</th>\n",
              "      <td>c:\\windows\\syswow64\\macromed\\flash\\flashplayer...</td>\n",
              "      <td>watchlist.hit.ingress.process</td>\n",
              "      <td>2019-11-27T03:12:01.143Z</td>\n",
              "      <td>CVE-2016-4284</td>\n",
              "      <td>['carbonblack']</td>\n",
              "      <td>40</td>\n",
              "      <td>27.0</td>\n",
              "    </tr>\n",
              "    <tr>\n",
              "      <th>2499</th>\n",
              "      <td>c:\\program files\\dell\\supportassistagent\\bin\\s...</td>\n",
              "      <td>watchlist.hit.ingress.process</td>\n",
              "      <td>2019-11-27T19:34:13.902Z</td>\n",
              "      <td>8fb984ee-b44c-4a68-992f-4f7aae23ae07</td>\n",
              "      <td>['carbonblack']</td>\n",
              "      <td>100</td>\n",
              "      <td>67.5</td>\n",
              "    </tr>\n",
              "  </tbody>\n",
              "</table>\n",
              "<p>2500 rows × 7 columns</p>\n",
              "</div>\n",
              "      <button class=\"colab-df-convert\" onclick=\"convertToInteractive('df-622adc88-4103-45b9-b78a-0c9c5b771d52')\"\n",
              "              title=\"Convert this dataframe to an interactive table.\"\n",
              "              style=\"display:none;\">\n",
              "        \n",
              "  <svg xmlns=\"http://www.w3.org/2000/svg\" height=\"24px\"viewBox=\"0 0 24 24\"\n",
              "       width=\"24px\">\n",
              "    <path d=\"M0 0h24v24H0V0z\" fill=\"none\"/>\n",
              "    <path d=\"M18.56 5.44l.94 2.06.94-2.06 2.06-.94-2.06-.94-.94-2.06-.94 2.06-2.06.94zm-11 1L8.5 8.5l.94-2.06 2.06-.94-2.06-.94L8.5 2.5l-.94 2.06-2.06.94zm10 10l.94 2.06.94-2.06 2.06-.94-2.06-.94-.94-2.06-.94 2.06-2.06.94z\"/><path d=\"M17.41 7.96l-1.37-1.37c-.4-.4-.92-.59-1.43-.59-.52 0-1.04.2-1.43.59L10.3 9.45l-7.72 7.72c-.78.78-.78 2.05 0 2.83L4 21.41c.39.39.9.59 1.41.59.51 0 1.02-.2 1.41-.59l7.78-7.78 2.81-2.81c.8-.78.8-2.07 0-2.86zM5.41 20L4 18.59l7.72-7.72 1.47 1.35L5.41 20z\"/>\n",
              "  </svg>\n",
              "      </button>\n",
              "      \n",
              "  <style>\n",
              "    .colab-df-container {\n",
              "      display:flex;\n",
              "      flex-wrap:wrap;\n",
              "      gap: 12px;\n",
              "    }\n",
              "\n",
              "    .colab-df-convert {\n",
              "      background-color: #E8F0FE;\n",
              "      border: none;\n",
              "      border-radius: 50%;\n",
              "      cursor: pointer;\n",
              "      display: none;\n",
              "      fill: #1967D2;\n",
              "      height: 32px;\n",
              "      padding: 0 0 0 0;\n",
              "      width: 32px;\n",
              "    }\n",
              "\n",
              "    .colab-df-convert:hover {\n",
              "      background-color: #E2EBFA;\n",
              "      box-shadow: 0px 1px 2px rgba(60, 64, 67, 0.3), 0px 1px 3px 1px rgba(60, 64, 67, 0.15);\n",
              "      fill: #174EA6;\n",
              "    }\n",
              "\n",
              "    [theme=dark] .colab-df-convert {\n",
              "      background-color: #3B4455;\n",
              "      fill: #D2E3FC;\n",
              "    }\n",
              "\n",
              "    [theme=dark] .colab-df-convert:hover {\n",
              "      background-color: #434B5C;\n",
              "      box-shadow: 0px 1px 3px 1px rgba(0, 0, 0, 0.15);\n",
              "      filter: drop-shadow(0px 1px 2px rgba(0, 0, 0, 0.3));\n",
              "      fill: #FFFFFF;\n",
              "    }\n",
              "  </style>\n",
              "\n",
              "      <script>\n",
              "        const buttonEl =\n",
              "          document.querySelector('#df-622adc88-4103-45b9-b78a-0c9c5b771d52 button.colab-df-convert');\n",
              "        buttonEl.style.display =\n",
              "          google.colab.kernel.accessAllowed ? 'block' : 'none';\n",
              "\n",
              "        async function convertToInteractive(key) {\n",
              "          const element = document.querySelector('#df-622adc88-4103-45b9-b78a-0c9c5b771d52');\n",
              "          const dataTable =\n",
              "            await google.colab.kernel.invokeFunction('convertToInteractive',\n",
              "                                                     [key], {});\n",
              "          if (!dataTable) return;\n",
              "\n",
              "          const docLinkHtml = 'Like what you see? Visit the ' +\n",
              "            '<a target=\"_blank\" href=https://colab.research.google.com/notebooks/data_table.ipynb>data table notebook</a>'\n",
              "            + ' to learn more about interactive tables.';\n",
              "          element.innerHTML = '';\n",
              "          dataTable['output_type'] = 'display_data';\n",
              "          await google.colab.output.renderOutput(dataTable, element);\n",
              "          const docLink = document.createElement('div');\n",
              "          docLink.innerHTML = docLinkHtml;\n",
              "          element.appendChild(docLink);\n",
              "        }\n",
              "      </script>\n",
              "    </div>\n",
              "  </div>\n",
              "  "
            ]
          },
          "metadata": {},
          "execution_count": 11
        }
      ]
    },
    {
      "cell_type": "code",
      "source": [
        "inp=ds.drop([\"report_score\"],axis=1)\n",
        "inp"
      ],
      "metadata": {
        "colab": {
          "base_uri": "https://localhost:8080/",
          "height": 696
        },
        "id": "sFJn9KQyrsxD",
        "outputId": "f12b4eb4-9453-494e-9b21-333414ef6c6f"
      },
      "execution_count": null,
      "outputs": [
        {
          "output_type": "execute_result",
          "data": {
            "text/plain": [
              "                                           process_path  \\\n",
              "0     c:\\windows\\syswow64\\macromed\\flash\\flashplayer...   \n",
              "1     c:\\windows\\syswow64\\macromed\\flash\\flashplayer...   \n",
              "2     c:\\windows\\syswow64\\macromed\\flash\\flashplayer...   \n",
              "3     c:\\windows\\syswow64\\macromed\\flash\\flashplayer...   \n",
              "4     c:\\windows\\syswow64\\macromed\\flash\\flashplayer...   \n",
              "...                                                 ...   \n",
              "2495  c:\\windows\\syswow64\\macromed\\flash\\flashplayer...   \n",
              "2496  c:\\windows\\syswow64\\macromed\\flash\\flashplayer...   \n",
              "2497  c:\\windows\\syswow64\\macromed\\flash\\flashplayer...   \n",
              "2498  c:\\windows\\syswow64\\macromed\\flash\\flashplayer...   \n",
              "2499  c:\\program files\\dell\\supportassistagent\\bin\\s...   \n",
              "\n",
              "                         alert_type                @timestamp  \\\n",
              "0     watchlist.hit.ingress.process  2019-11-29T12:18:17.856Z   \n",
              "1     watchlist.hit.ingress.process  2019-11-29T12:18:17.856Z   \n",
              "2     watchlist.hit.ingress.process  2019-11-29T12:18:17.856Z   \n",
              "3     watchlist.hit.ingress.process  2019-11-29T12:18:17.856Z   \n",
              "4     watchlist.hit.ingress.process  2019-11-29T12:18:17.856Z   \n",
              "...                             ...                       ...   \n",
              "2495  watchlist.hit.ingress.process  2019-11-27T03:12:01.144Z   \n",
              "2496  watchlist.hit.ingress.process  2019-11-27T03:12:01.143Z   \n",
              "2497  watchlist.hit.ingress.process  2019-11-27T03:12:01.143Z   \n",
              "2498  watchlist.hit.ingress.process  2019-11-27T03:12:01.143Z   \n",
              "2499  watchlist.hit.ingress.process  2019-11-27T19:34:13.902Z   \n",
              "\n",
              "                              watchlist_id             tags  alert_severity  \n",
              "0                            CVE-2016-4171  ['carbonblack']            27.0  \n",
              "1                            CVE-2016-4181  ['carbonblack']            27.0  \n",
              "2                            CVE-2016-4138  ['carbonblack']            27.0  \n",
              "3                            CVE-2016-4128  ['carbonblack']            27.0  \n",
              "4                            CVE-2016-4227  ['carbonblack']            27.0  \n",
              "...                                    ...              ...             ...  \n",
              "2495                         CVE-2016-0995  ['carbonblack']            27.0  \n",
              "2496                         CVE-2016-1031  ['carbonblack']            27.0  \n",
              "2497                         CVE-2016-4284  ['carbonblack']            27.0  \n",
              "2498                         CVE-2016-4284  ['carbonblack']            27.0  \n",
              "2499  8fb984ee-b44c-4a68-992f-4f7aae23ae07  ['carbonblack']            67.5  \n",
              "\n",
              "[2500 rows x 6 columns]"
            ],
            "text/html": [
              "\n",
              "  <div id=\"df-1e3a3cf4-56ec-484b-937f-58803eef0fe6\">\n",
              "    <div class=\"colab-df-container\">\n",
              "      <div>\n",
              "<style scoped>\n",
              "    .dataframe tbody tr th:only-of-type {\n",
              "        vertical-align: middle;\n",
              "    }\n",
              "\n",
              "    .dataframe tbody tr th {\n",
              "        vertical-align: top;\n",
              "    }\n",
              "\n",
              "    .dataframe thead th {\n",
              "        text-align: right;\n",
              "    }\n",
              "</style>\n",
              "<table border=\"1\" class=\"dataframe\">\n",
              "  <thead>\n",
              "    <tr style=\"text-align: right;\">\n",
              "      <th></th>\n",
              "      <th>process_path</th>\n",
              "      <th>alert_type</th>\n",
              "      <th>@timestamp</th>\n",
              "      <th>watchlist_id</th>\n",
              "      <th>tags</th>\n",
              "      <th>alert_severity</th>\n",
              "    </tr>\n",
              "  </thead>\n",
              "  <tbody>\n",
              "    <tr>\n",
              "      <th>0</th>\n",
              "      <td>c:\\windows\\syswow64\\macromed\\flash\\flashplayer...</td>\n",
              "      <td>watchlist.hit.ingress.process</td>\n",
              "      <td>2019-11-29T12:18:17.856Z</td>\n",
              "      <td>CVE-2016-4171</td>\n",
              "      <td>['carbonblack']</td>\n",
              "      <td>27.0</td>\n",
              "    </tr>\n",
              "    <tr>\n",
              "      <th>1</th>\n",
              "      <td>c:\\windows\\syswow64\\macromed\\flash\\flashplayer...</td>\n",
              "      <td>watchlist.hit.ingress.process</td>\n",
              "      <td>2019-11-29T12:18:17.856Z</td>\n",
              "      <td>CVE-2016-4181</td>\n",
              "      <td>['carbonblack']</td>\n",
              "      <td>27.0</td>\n",
              "    </tr>\n",
              "    <tr>\n",
              "      <th>2</th>\n",
              "      <td>c:\\windows\\syswow64\\macromed\\flash\\flashplayer...</td>\n",
              "      <td>watchlist.hit.ingress.process</td>\n",
              "      <td>2019-11-29T12:18:17.856Z</td>\n",
              "      <td>CVE-2016-4138</td>\n",
              "      <td>['carbonblack']</td>\n",
              "      <td>27.0</td>\n",
              "    </tr>\n",
              "    <tr>\n",
              "      <th>3</th>\n",
              "      <td>c:\\windows\\syswow64\\macromed\\flash\\flashplayer...</td>\n",
              "      <td>watchlist.hit.ingress.process</td>\n",
              "      <td>2019-11-29T12:18:17.856Z</td>\n",
              "      <td>CVE-2016-4128</td>\n",
              "      <td>['carbonblack']</td>\n",
              "      <td>27.0</td>\n",
              "    </tr>\n",
              "    <tr>\n",
              "      <th>4</th>\n",
              "      <td>c:\\windows\\syswow64\\macromed\\flash\\flashplayer...</td>\n",
              "      <td>watchlist.hit.ingress.process</td>\n",
              "      <td>2019-11-29T12:18:17.856Z</td>\n",
              "      <td>CVE-2016-4227</td>\n",
              "      <td>['carbonblack']</td>\n",
              "      <td>27.0</td>\n",
              "    </tr>\n",
              "    <tr>\n",
              "      <th>...</th>\n",
              "      <td>...</td>\n",
              "      <td>...</td>\n",
              "      <td>...</td>\n",
              "      <td>...</td>\n",
              "      <td>...</td>\n",
              "      <td>...</td>\n",
              "    </tr>\n",
              "    <tr>\n",
              "      <th>2495</th>\n",
              "      <td>c:\\windows\\syswow64\\macromed\\flash\\flashplayer...</td>\n",
              "      <td>watchlist.hit.ingress.process</td>\n",
              "      <td>2019-11-27T03:12:01.144Z</td>\n",
              "      <td>CVE-2016-0995</td>\n",
              "      <td>['carbonblack']</td>\n",
              "      <td>27.0</td>\n",
              "    </tr>\n",
              "    <tr>\n",
              "      <th>2496</th>\n",
              "      <td>c:\\windows\\syswow64\\macromed\\flash\\flashplayer...</td>\n",
              "      <td>watchlist.hit.ingress.process</td>\n",
              "      <td>2019-11-27T03:12:01.143Z</td>\n",
              "      <td>CVE-2016-1031</td>\n",
              "      <td>['carbonblack']</td>\n",
              "      <td>27.0</td>\n",
              "    </tr>\n",
              "    <tr>\n",
              "      <th>2497</th>\n",
              "      <td>c:\\windows\\syswow64\\macromed\\flash\\flashplayer...</td>\n",
              "      <td>watchlist.hit.ingress.process</td>\n",
              "      <td>2019-11-27T03:12:01.143Z</td>\n",
              "      <td>CVE-2016-4284</td>\n",
              "      <td>['carbonblack']</td>\n",
              "      <td>27.0</td>\n",
              "    </tr>\n",
              "    <tr>\n",
              "      <th>2498</th>\n",
              "      <td>c:\\windows\\syswow64\\macromed\\flash\\flashplayer...</td>\n",
              "      <td>watchlist.hit.ingress.process</td>\n",
              "      <td>2019-11-27T03:12:01.143Z</td>\n",
              "      <td>CVE-2016-4284</td>\n",
              "      <td>['carbonblack']</td>\n",
              "      <td>27.0</td>\n",
              "    </tr>\n",
              "    <tr>\n",
              "      <th>2499</th>\n",
              "      <td>c:\\program files\\dell\\supportassistagent\\bin\\s...</td>\n",
              "      <td>watchlist.hit.ingress.process</td>\n",
              "      <td>2019-11-27T19:34:13.902Z</td>\n",
              "      <td>8fb984ee-b44c-4a68-992f-4f7aae23ae07</td>\n",
              "      <td>['carbonblack']</td>\n",
              "      <td>67.5</td>\n",
              "    </tr>\n",
              "  </tbody>\n",
              "</table>\n",
              "<p>2500 rows × 6 columns</p>\n",
              "</div>\n",
              "      <button class=\"colab-df-convert\" onclick=\"convertToInteractive('df-1e3a3cf4-56ec-484b-937f-58803eef0fe6')\"\n",
              "              title=\"Convert this dataframe to an interactive table.\"\n",
              "              style=\"display:none;\">\n",
              "        \n",
              "  <svg xmlns=\"http://www.w3.org/2000/svg\" height=\"24px\"viewBox=\"0 0 24 24\"\n",
              "       width=\"24px\">\n",
              "    <path d=\"M0 0h24v24H0V0z\" fill=\"none\"/>\n",
              "    <path d=\"M18.56 5.44l.94 2.06.94-2.06 2.06-.94-2.06-.94-.94-2.06-.94 2.06-2.06.94zm-11 1L8.5 8.5l.94-2.06 2.06-.94-2.06-.94L8.5 2.5l-.94 2.06-2.06.94zm10 10l.94 2.06.94-2.06 2.06-.94-2.06-.94-.94-2.06-.94 2.06-2.06.94z\"/><path d=\"M17.41 7.96l-1.37-1.37c-.4-.4-.92-.59-1.43-.59-.52 0-1.04.2-1.43.59L10.3 9.45l-7.72 7.72c-.78.78-.78 2.05 0 2.83L4 21.41c.39.39.9.59 1.41.59.51 0 1.02-.2 1.41-.59l7.78-7.78 2.81-2.81c.8-.78.8-2.07 0-2.86zM5.41 20L4 18.59l7.72-7.72 1.47 1.35L5.41 20z\"/>\n",
              "  </svg>\n",
              "      </button>\n",
              "      \n",
              "  <style>\n",
              "    .colab-df-container {\n",
              "      display:flex;\n",
              "      flex-wrap:wrap;\n",
              "      gap: 12px;\n",
              "    }\n",
              "\n",
              "    .colab-df-convert {\n",
              "      background-color: #E8F0FE;\n",
              "      border: none;\n",
              "      border-radius: 50%;\n",
              "      cursor: pointer;\n",
              "      display: none;\n",
              "      fill: #1967D2;\n",
              "      height: 32px;\n",
              "      padding: 0 0 0 0;\n",
              "      width: 32px;\n",
              "    }\n",
              "\n",
              "    .colab-df-convert:hover {\n",
              "      background-color: #E2EBFA;\n",
              "      box-shadow: 0px 1px 2px rgba(60, 64, 67, 0.3), 0px 1px 3px 1px rgba(60, 64, 67, 0.15);\n",
              "      fill: #174EA6;\n",
              "    }\n",
              "\n",
              "    [theme=dark] .colab-df-convert {\n",
              "      background-color: #3B4455;\n",
              "      fill: #D2E3FC;\n",
              "    }\n",
              "\n",
              "    [theme=dark] .colab-df-convert:hover {\n",
              "      background-color: #434B5C;\n",
              "      box-shadow: 0px 1px 3px 1px rgba(0, 0, 0, 0.15);\n",
              "      filter: drop-shadow(0px 1px 2px rgba(0, 0, 0, 0.3));\n",
              "      fill: #FFFFFF;\n",
              "    }\n",
              "  </style>\n",
              "\n",
              "      <script>\n",
              "        const buttonEl =\n",
              "          document.querySelector('#df-1e3a3cf4-56ec-484b-937f-58803eef0fe6 button.colab-df-convert');\n",
              "        buttonEl.style.display =\n",
              "          google.colab.kernel.accessAllowed ? 'block' : 'none';\n",
              "\n",
              "        async function convertToInteractive(key) {\n",
              "          const element = document.querySelector('#df-1e3a3cf4-56ec-484b-937f-58803eef0fe6');\n",
              "          const dataTable =\n",
              "            await google.colab.kernel.invokeFunction('convertToInteractive',\n",
              "                                                     [key], {});\n",
              "          if (!dataTable) return;\n",
              "\n",
              "          const docLinkHtml = 'Like what you see? Visit the ' +\n",
              "            '<a target=\"_blank\" href=https://colab.research.google.com/notebooks/data_table.ipynb>data table notebook</a>'\n",
              "            + ' to learn more about interactive tables.';\n",
              "          element.innerHTML = '';\n",
              "          dataTable['output_type'] = 'display_data';\n",
              "          await google.colab.output.renderOutput(dataTable, element);\n",
              "          const docLink = document.createElement('div');\n",
              "          docLink.innerHTML = docLinkHtml;\n",
              "          element.appendChild(docLink);\n",
              "        }\n",
              "      </script>\n",
              "    </div>\n",
              "  </div>\n",
              "  "
            ]
          },
          "metadata": {},
          "execution_count": 12
        }
      ]
    },
    {
      "cell_type": "code",
      "source": [
        "inp.to_csv('datafile.csv')"
      ],
      "metadata": {
        "id": "lIGgCRYn7TRq"
      },
      "execution_count": null,
      "outputs": []
    },
    {
      "cell_type": "code",
      "source": [
        "ds.dtypes"
      ],
      "metadata": {
        "colab": {
          "base_uri": "https://localhost:8080/"
        },
        "id": "Onc7tAqEBses",
        "outputId": "846a280e-04c7-47b7-813f-54b596adf5a6"
      },
      "execution_count": null,
      "outputs": [
        {
          "output_type": "execute_result",
          "data": {
            "text/plain": [
              "process_path       object\n",
              "alert_type         object\n",
              "@timestamp         object\n",
              "watchlist_id       object\n",
              "tags               object\n",
              "report_score        int64\n",
              "alert_severity    float64\n",
              "dtype: object"
            ]
          },
          "metadata": {},
          "execution_count": 14
        }
      ]
    },
    {
      "cell_type": "code",
      "source": [
        "df=ds"
      ],
      "metadata": {
        "id": "tPgI16IfEjUW"
      },
      "execution_count": null,
      "outputs": []
    },
    {
      "cell_type": "markdown",
      "source": [
        "**PREPROCESSING**\n",
        "\n",
        "Object datatype is converted into integer"
      ],
      "metadata": {
        "id": "252AQtXof2k_"
      }
    },
    {
      "cell_type": "code",
      "source": [
        "#Preprocessing\n",
        "#applying the labelencoder for datatype convertion\n",
        "from sklearn.preprocessing  import LabelEncoder\n",
        "label_encoder=LabelEncoder()\n",
        "df['process_path']=label_encoder.fit_transform(df['process_path'].astype(str))\n",
        "df['alert_type']=label_encoder.fit_transform(df['alert_type'].astype(str))\n",
        "df['@timestamp']=label_encoder.fit_transform(df['@timestamp'].astype(str))\n",
        "df['watchlist_id']=label_encoder.fit_transform(df['watchlist_id'].astype(str))\n",
        "df['tags']=label_encoder.fit_transform(df['tags'].astype(str))\n"
      ],
      "metadata": {
        "colab": {
          "base_uri": "https://localhost:8080/"
        },
        "id": "hKu7KDflCZwV",
        "outputId": "07435956-2097-48ed-951f-1230d92aa525"
      },
      "execution_count": null,
      "outputs": [
        {
          "output_type": "stream",
          "name": "stderr",
          "text": [
            "/usr/local/lib/python3.7/dist-packages/ipykernel_launcher.py:5: SettingWithCopyWarning: \n",
            "A value is trying to be set on a copy of a slice from a DataFrame.\n",
            "Try using .loc[row_indexer,col_indexer] = value instead\n",
            "\n",
            "See the caveats in the documentation: https://pandas.pydata.org/pandas-docs/stable/user_guide/indexing.html#returning-a-view-versus-a-copy\n",
            "  \"\"\"\n",
            "/usr/local/lib/python3.7/dist-packages/ipykernel_launcher.py:6: SettingWithCopyWarning: \n",
            "A value is trying to be set on a copy of a slice from a DataFrame.\n",
            "Try using .loc[row_indexer,col_indexer] = value instead\n",
            "\n",
            "See the caveats in the documentation: https://pandas.pydata.org/pandas-docs/stable/user_guide/indexing.html#returning-a-view-versus-a-copy\n",
            "  \n",
            "/usr/local/lib/python3.7/dist-packages/ipykernel_launcher.py:7: SettingWithCopyWarning: \n",
            "A value is trying to be set on a copy of a slice from a DataFrame.\n",
            "Try using .loc[row_indexer,col_indexer] = value instead\n",
            "\n",
            "See the caveats in the documentation: https://pandas.pydata.org/pandas-docs/stable/user_guide/indexing.html#returning-a-view-versus-a-copy\n",
            "  import sys\n",
            "/usr/local/lib/python3.7/dist-packages/ipykernel_launcher.py:8: SettingWithCopyWarning: \n",
            "A value is trying to be set on a copy of a slice from a DataFrame.\n",
            "Try using .loc[row_indexer,col_indexer] = value instead\n",
            "\n",
            "See the caveats in the documentation: https://pandas.pydata.org/pandas-docs/stable/user_guide/indexing.html#returning-a-view-versus-a-copy\n",
            "  \n",
            "/usr/local/lib/python3.7/dist-packages/ipykernel_launcher.py:9: SettingWithCopyWarning: \n",
            "A value is trying to be set on a copy of a slice from a DataFrame.\n",
            "Try using .loc[row_indexer,col_indexer] = value instead\n",
            "\n",
            "See the caveats in the documentation: https://pandas.pydata.org/pandas-docs/stable/user_guide/indexing.html#returning-a-view-versus-a-copy\n",
            "  if __name__ == '__main__':\n"
          ]
        }
      ]
    },
    {
      "cell_type": "code",
      "source": [
        "df.dtypes"
      ],
      "metadata": {
        "colab": {
          "base_uri": "https://localhost:8080/"
        },
        "id": "GaTXMtKbwGX1",
        "outputId": "029d5185-c83a-43be-8b14-b136457f7abc"
      },
      "execution_count": null,
      "outputs": [
        {
          "output_type": "execute_result",
          "data": {
            "text/plain": [
              "process_path        int64\n",
              "alert_type          int64\n",
              "@timestamp          int64\n",
              "watchlist_id        int64\n",
              "tags                int64\n",
              "report_score        int64\n",
              "alert_severity    float64\n",
              "dtype: object"
            ]
          },
          "metadata": {},
          "execution_count": 17
        }
      ]
    },
    {
      "cell_type": "code",
      "source": [
        "df"
      ],
      "metadata": {
        "colab": {
          "base_uri": "https://localhost:8080/",
          "height": 424
        },
        "id": "eT0lohrFyP6e",
        "outputId": "a8eb970f-4832-4ff3-d1f4-b8af1cfb5b7e"
      },
      "execution_count": null,
      "outputs": [
        {
          "output_type": "execute_result",
          "data": {
            "text/plain": [
              "      process_path  alert_type  @timestamp  watchlist_id  tags  report_score  \\\n",
              "0                4           0          35            23     0            40   \n",
              "1                4           0          35            25     0            40   \n",
              "2                4           0          35            20     0            40   \n",
              "3                4           0          35            19     0            40   \n",
              "4                4           0          35            28     0            40   \n",
              "...            ...         ...         ...           ...   ...           ...   \n",
              "2495             4           0           1            10     0            40   \n",
              "2496             4           0           0            17     0            40   \n",
              "2497             4           0           0            32     0            40   \n",
              "2498             4           0           0            32     0            40   \n",
              "2499             1           0          22             2     0           100   \n",
              "\n",
              "      alert_severity  \n",
              "0               27.0  \n",
              "1               27.0  \n",
              "2               27.0  \n",
              "3               27.0  \n",
              "4               27.0  \n",
              "...              ...  \n",
              "2495            27.0  \n",
              "2496            27.0  \n",
              "2497            27.0  \n",
              "2498            27.0  \n",
              "2499            67.5  \n",
              "\n",
              "[2500 rows x 7 columns]"
            ],
            "text/html": [
              "\n",
              "  <div id=\"df-1545914b-2d22-4396-9218-a821489a8282\">\n",
              "    <div class=\"colab-df-container\">\n",
              "      <div>\n",
              "<style scoped>\n",
              "    .dataframe tbody tr th:only-of-type {\n",
              "        vertical-align: middle;\n",
              "    }\n",
              "\n",
              "    .dataframe tbody tr th {\n",
              "        vertical-align: top;\n",
              "    }\n",
              "\n",
              "    .dataframe thead th {\n",
              "        text-align: right;\n",
              "    }\n",
              "</style>\n",
              "<table border=\"1\" class=\"dataframe\">\n",
              "  <thead>\n",
              "    <tr style=\"text-align: right;\">\n",
              "      <th></th>\n",
              "      <th>process_path</th>\n",
              "      <th>alert_type</th>\n",
              "      <th>@timestamp</th>\n",
              "      <th>watchlist_id</th>\n",
              "      <th>tags</th>\n",
              "      <th>report_score</th>\n",
              "      <th>alert_severity</th>\n",
              "    </tr>\n",
              "  </thead>\n",
              "  <tbody>\n",
              "    <tr>\n",
              "      <th>0</th>\n",
              "      <td>4</td>\n",
              "      <td>0</td>\n",
              "      <td>35</td>\n",
              "      <td>23</td>\n",
              "      <td>0</td>\n",
              "      <td>40</td>\n",
              "      <td>27.0</td>\n",
              "    </tr>\n",
              "    <tr>\n",
              "      <th>1</th>\n",
              "      <td>4</td>\n",
              "      <td>0</td>\n",
              "      <td>35</td>\n",
              "      <td>25</td>\n",
              "      <td>0</td>\n",
              "      <td>40</td>\n",
              "      <td>27.0</td>\n",
              "    </tr>\n",
              "    <tr>\n",
              "      <th>2</th>\n",
              "      <td>4</td>\n",
              "      <td>0</td>\n",
              "      <td>35</td>\n",
              "      <td>20</td>\n",
              "      <td>0</td>\n",
              "      <td>40</td>\n",
              "      <td>27.0</td>\n",
              "    </tr>\n",
              "    <tr>\n",
              "      <th>3</th>\n",
              "      <td>4</td>\n",
              "      <td>0</td>\n",
              "      <td>35</td>\n",
              "      <td>19</td>\n",
              "      <td>0</td>\n",
              "      <td>40</td>\n",
              "      <td>27.0</td>\n",
              "    </tr>\n",
              "    <tr>\n",
              "      <th>4</th>\n",
              "      <td>4</td>\n",
              "      <td>0</td>\n",
              "      <td>35</td>\n",
              "      <td>28</td>\n",
              "      <td>0</td>\n",
              "      <td>40</td>\n",
              "      <td>27.0</td>\n",
              "    </tr>\n",
              "    <tr>\n",
              "      <th>...</th>\n",
              "      <td>...</td>\n",
              "      <td>...</td>\n",
              "      <td>...</td>\n",
              "      <td>...</td>\n",
              "      <td>...</td>\n",
              "      <td>...</td>\n",
              "      <td>...</td>\n",
              "    </tr>\n",
              "    <tr>\n",
              "      <th>2495</th>\n",
              "      <td>4</td>\n",
              "      <td>0</td>\n",
              "      <td>1</td>\n",
              "      <td>10</td>\n",
              "      <td>0</td>\n",
              "      <td>40</td>\n",
              "      <td>27.0</td>\n",
              "    </tr>\n",
              "    <tr>\n",
              "      <th>2496</th>\n",
              "      <td>4</td>\n",
              "      <td>0</td>\n",
              "      <td>0</td>\n",
              "      <td>17</td>\n",
              "      <td>0</td>\n",
              "      <td>40</td>\n",
              "      <td>27.0</td>\n",
              "    </tr>\n",
              "    <tr>\n",
              "      <th>2497</th>\n",
              "      <td>4</td>\n",
              "      <td>0</td>\n",
              "      <td>0</td>\n",
              "      <td>32</td>\n",
              "      <td>0</td>\n",
              "      <td>40</td>\n",
              "      <td>27.0</td>\n",
              "    </tr>\n",
              "    <tr>\n",
              "      <th>2498</th>\n",
              "      <td>4</td>\n",
              "      <td>0</td>\n",
              "      <td>0</td>\n",
              "      <td>32</td>\n",
              "      <td>0</td>\n",
              "      <td>40</td>\n",
              "      <td>27.0</td>\n",
              "    </tr>\n",
              "    <tr>\n",
              "      <th>2499</th>\n",
              "      <td>1</td>\n",
              "      <td>0</td>\n",
              "      <td>22</td>\n",
              "      <td>2</td>\n",
              "      <td>0</td>\n",
              "      <td>100</td>\n",
              "      <td>67.5</td>\n",
              "    </tr>\n",
              "  </tbody>\n",
              "</table>\n",
              "<p>2500 rows × 7 columns</p>\n",
              "</div>\n",
              "      <button class=\"colab-df-convert\" onclick=\"convertToInteractive('df-1545914b-2d22-4396-9218-a821489a8282')\"\n",
              "              title=\"Convert this dataframe to an interactive table.\"\n",
              "              style=\"display:none;\">\n",
              "        \n",
              "  <svg xmlns=\"http://www.w3.org/2000/svg\" height=\"24px\"viewBox=\"0 0 24 24\"\n",
              "       width=\"24px\">\n",
              "    <path d=\"M0 0h24v24H0V0z\" fill=\"none\"/>\n",
              "    <path d=\"M18.56 5.44l.94 2.06.94-2.06 2.06-.94-2.06-.94-.94-2.06-.94 2.06-2.06.94zm-11 1L8.5 8.5l.94-2.06 2.06-.94-2.06-.94L8.5 2.5l-.94 2.06-2.06.94zm10 10l.94 2.06.94-2.06 2.06-.94-2.06-.94-.94-2.06-.94 2.06-2.06.94z\"/><path d=\"M17.41 7.96l-1.37-1.37c-.4-.4-.92-.59-1.43-.59-.52 0-1.04.2-1.43.59L10.3 9.45l-7.72 7.72c-.78.78-.78 2.05 0 2.83L4 21.41c.39.39.9.59 1.41.59.51 0 1.02-.2 1.41-.59l7.78-7.78 2.81-2.81c.8-.78.8-2.07 0-2.86zM5.41 20L4 18.59l7.72-7.72 1.47 1.35L5.41 20z\"/>\n",
              "  </svg>\n",
              "      </button>\n",
              "      \n",
              "  <style>\n",
              "    .colab-df-container {\n",
              "      display:flex;\n",
              "      flex-wrap:wrap;\n",
              "      gap: 12px;\n",
              "    }\n",
              "\n",
              "    .colab-df-convert {\n",
              "      background-color: #E8F0FE;\n",
              "      border: none;\n",
              "      border-radius: 50%;\n",
              "      cursor: pointer;\n",
              "      display: none;\n",
              "      fill: #1967D2;\n",
              "      height: 32px;\n",
              "      padding: 0 0 0 0;\n",
              "      width: 32px;\n",
              "    }\n",
              "\n",
              "    .colab-df-convert:hover {\n",
              "      background-color: #E2EBFA;\n",
              "      box-shadow: 0px 1px 2px rgba(60, 64, 67, 0.3), 0px 1px 3px 1px rgba(60, 64, 67, 0.15);\n",
              "      fill: #174EA6;\n",
              "    }\n",
              "\n",
              "    [theme=dark] .colab-df-convert {\n",
              "      background-color: #3B4455;\n",
              "      fill: #D2E3FC;\n",
              "    }\n",
              "\n",
              "    [theme=dark] .colab-df-convert:hover {\n",
              "      background-color: #434B5C;\n",
              "      box-shadow: 0px 1px 3px 1px rgba(0, 0, 0, 0.15);\n",
              "      filter: drop-shadow(0px 1px 2px rgba(0, 0, 0, 0.3));\n",
              "      fill: #FFFFFF;\n",
              "    }\n",
              "  </style>\n",
              "\n",
              "      <script>\n",
              "        const buttonEl =\n",
              "          document.querySelector('#df-1545914b-2d22-4396-9218-a821489a8282 button.colab-df-convert');\n",
              "        buttonEl.style.display =\n",
              "          google.colab.kernel.accessAllowed ? 'block' : 'none';\n",
              "\n",
              "        async function convertToInteractive(key) {\n",
              "          const element = document.querySelector('#df-1545914b-2d22-4396-9218-a821489a8282');\n",
              "          const dataTable =\n",
              "            await google.colab.kernel.invokeFunction('convertToInteractive',\n",
              "                                                     [key], {});\n",
              "          if (!dataTable) return;\n",
              "\n",
              "          const docLinkHtml = 'Like what you see? Visit the ' +\n",
              "            '<a target=\"_blank\" href=https://colab.research.google.com/notebooks/data_table.ipynb>data table notebook</a>'\n",
              "            + ' to learn more about interactive tables.';\n",
              "          element.innerHTML = '';\n",
              "          dataTable['output_type'] = 'display_data';\n",
              "          await google.colab.output.renderOutput(dataTable, element);\n",
              "          const docLink = document.createElement('div');\n",
              "          docLink.innerHTML = docLinkHtml;\n",
              "          element.appendChild(docLink);\n",
              "        }\n",
              "      </script>\n",
              "    </div>\n",
              "  </div>\n",
              "  "
            ]
          },
          "metadata": {},
          "execution_count": 18
        }
      ]
    },
    {
      "cell_type": "code",
      "source": [
        "import pickle\n"
      ],
      "metadata": {
        "id": "hTiR_jeSIKR3"
      },
      "execution_count": null,
      "outputs": []
    },
    {
      "cell_type": "code",
      "source": [
        "# save the model to disk\n",
        "filename = 'labelencodermodeln1.pkl'\n",
        "pickle.dump(label_encoder, open(filename, 'wb'))"
      ],
      "metadata": {
        "id": "HkdQJsdVIU4g"
      },
      "execution_count": null,
      "outputs": []
    },
    {
      "cell_type": "code",
      "source": [
        "df"
      ],
      "metadata": {
        "colab": {
          "base_uri": "https://localhost:8080/",
          "height": 424
        },
        "id": "0d9pJzWAv7Ua",
        "outputId": "9bbedfe1-f156-4ff4-a1ff-128b99913e27"
      },
      "execution_count": null,
      "outputs": [
        {
          "output_type": "execute_result",
          "data": {
            "text/plain": [
              "      process_path  alert_type  @timestamp  watchlist_id  tags  report_score  \\\n",
              "0                4           0          35            23     0            40   \n",
              "1                4           0          35            25     0            40   \n",
              "2                4           0          35            20     0            40   \n",
              "3                4           0          35            19     0            40   \n",
              "4                4           0          35            28     0            40   \n",
              "...            ...         ...         ...           ...   ...           ...   \n",
              "2495             4           0           1            10     0            40   \n",
              "2496             4           0           0            17     0            40   \n",
              "2497             4           0           0            32     0            40   \n",
              "2498             4           0           0            32     0            40   \n",
              "2499             1           0          22             2     0           100   \n",
              "\n",
              "      alert_severity  \n",
              "0               27.0  \n",
              "1               27.0  \n",
              "2               27.0  \n",
              "3               27.0  \n",
              "4               27.0  \n",
              "...              ...  \n",
              "2495            27.0  \n",
              "2496            27.0  \n",
              "2497            27.0  \n",
              "2498            27.0  \n",
              "2499            67.5  \n",
              "\n",
              "[2500 rows x 7 columns]"
            ],
            "text/html": [
              "\n",
              "  <div id=\"df-8b187b80-6d58-4977-bcfe-a5d129e36293\">\n",
              "    <div class=\"colab-df-container\">\n",
              "      <div>\n",
              "<style scoped>\n",
              "    .dataframe tbody tr th:only-of-type {\n",
              "        vertical-align: middle;\n",
              "    }\n",
              "\n",
              "    .dataframe tbody tr th {\n",
              "        vertical-align: top;\n",
              "    }\n",
              "\n",
              "    .dataframe thead th {\n",
              "        text-align: right;\n",
              "    }\n",
              "</style>\n",
              "<table border=\"1\" class=\"dataframe\">\n",
              "  <thead>\n",
              "    <tr style=\"text-align: right;\">\n",
              "      <th></th>\n",
              "      <th>process_path</th>\n",
              "      <th>alert_type</th>\n",
              "      <th>@timestamp</th>\n",
              "      <th>watchlist_id</th>\n",
              "      <th>tags</th>\n",
              "      <th>report_score</th>\n",
              "      <th>alert_severity</th>\n",
              "    </tr>\n",
              "  </thead>\n",
              "  <tbody>\n",
              "    <tr>\n",
              "      <th>0</th>\n",
              "      <td>4</td>\n",
              "      <td>0</td>\n",
              "      <td>35</td>\n",
              "      <td>23</td>\n",
              "      <td>0</td>\n",
              "      <td>40</td>\n",
              "      <td>27.0</td>\n",
              "    </tr>\n",
              "    <tr>\n",
              "      <th>1</th>\n",
              "      <td>4</td>\n",
              "      <td>0</td>\n",
              "      <td>35</td>\n",
              "      <td>25</td>\n",
              "      <td>0</td>\n",
              "      <td>40</td>\n",
              "      <td>27.0</td>\n",
              "    </tr>\n",
              "    <tr>\n",
              "      <th>2</th>\n",
              "      <td>4</td>\n",
              "      <td>0</td>\n",
              "      <td>35</td>\n",
              "      <td>20</td>\n",
              "      <td>0</td>\n",
              "      <td>40</td>\n",
              "      <td>27.0</td>\n",
              "    </tr>\n",
              "    <tr>\n",
              "      <th>3</th>\n",
              "      <td>4</td>\n",
              "      <td>0</td>\n",
              "      <td>35</td>\n",
              "      <td>19</td>\n",
              "      <td>0</td>\n",
              "      <td>40</td>\n",
              "      <td>27.0</td>\n",
              "    </tr>\n",
              "    <tr>\n",
              "      <th>4</th>\n",
              "      <td>4</td>\n",
              "      <td>0</td>\n",
              "      <td>35</td>\n",
              "      <td>28</td>\n",
              "      <td>0</td>\n",
              "      <td>40</td>\n",
              "      <td>27.0</td>\n",
              "    </tr>\n",
              "    <tr>\n",
              "      <th>...</th>\n",
              "      <td>...</td>\n",
              "      <td>...</td>\n",
              "      <td>...</td>\n",
              "      <td>...</td>\n",
              "      <td>...</td>\n",
              "      <td>...</td>\n",
              "      <td>...</td>\n",
              "    </tr>\n",
              "    <tr>\n",
              "      <th>2495</th>\n",
              "      <td>4</td>\n",
              "      <td>0</td>\n",
              "      <td>1</td>\n",
              "      <td>10</td>\n",
              "      <td>0</td>\n",
              "      <td>40</td>\n",
              "      <td>27.0</td>\n",
              "    </tr>\n",
              "    <tr>\n",
              "      <th>2496</th>\n",
              "      <td>4</td>\n",
              "      <td>0</td>\n",
              "      <td>0</td>\n",
              "      <td>17</td>\n",
              "      <td>0</td>\n",
              "      <td>40</td>\n",
              "      <td>27.0</td>\n",
              "    </tr>\n",
              "    <tr>\n",
              "      <th>2497</th>\n",
              "      <td>4</td>\n",
              "      <td>0</td>\n",
              "      <td>0</td>\n",
              "      <td>32</td>\n",
              "      <td>0</td>\n",
              "      <td>40</td>\n",
              "      <td>27.0</td>\n",
              "    </tr>\n",
              "    <tr>\n",
              "      <th>2498</th>\n",
              "      <td>4</td>\n",
              "      <td>0</td>\n",
              "      <td>0</td>\n",
              "      <td>32</td>\n",
              "      <td>0</td>\n",
              "      <td>40</td>\n",
              "      <td>27.0</td>\n",
              "    </tr>\n",
              "    <tr>\n",
              "      <th>2499</th>\n",
              "      <td>1</td>\n",
              "      <td>0</td>\n",
              "      <td>22</td>\n",
              "      <td>2</td>\n",
              "      <td>0</td>\n",
              "      <td>100</td>\n",
              "      <td>67.5</td>\n",
              "    </tr>\n",
              "  </tbody>\n",
              "</table>\n",
              "<p>2500 rows × 7 columns</p>\n",
              "</div>\n",
              "      <button class=\"colab-df-convert\" onclick=\"convertToInteractive('df-8b187b80-6d58-4977-bcfe-a5d129e36293')\"\n",
              "              title=\"Convert this dataframe to an interactive table.\"\n",
              "              style=\"display:none;\">\n",
              "        \n",
              "  <svg xmlns=\"http://www.w3.org/2000/svg\" height=\"24px\"viewBox=\"0 0 24 24\"\n",
              "       width=\"24px\">\n",
              "    <path d=\"M0 0h24v24H0V0z\" fill=\"none\"/>\n",
              "    <path d=\"M18.56 5.44l.94 2.06.94-2.06 2.06-.94-2.06-.94-.94-2.06-.94 2.06-2.06.94zm-11 1L8.5 8.5l.94-2.06 2.06-.94-2.06-.94L8.5 2.5l-.94 2.06-2.06.94zm10 10l.94 2.06.94-2.06 2.06-.94-2.06-.94-.94-2.06-.94 2.06-2.06.94z\"/><path d=\"M17.41 7.96l-1.37-1.37c-.4-.4-.92-.59-1.43-.59-.52 0-1.04.2-1.43.59L10.3 9.45l-7.72 7.72c-.78.78-.78 2.05 0 2.83L4 21.41c.39.39.9.59 1.41.59.51 0 1.02-.2 1.41-.59l7.78-7.78 2.81-2.81c.8-.78.8-2.07 0-2.86zM5.41 20L4 18.59l7.72-7.72 1.47 1.35L5.41 20z\"/>\n",
              "  </svg>\n",
              "      </button>\n",
              "      \n",
              "  <style>\n",
              "    .colab-df-container {\n",
              "      display:flex;\n",
              "      flex-wrap:wrap;\n",
              "      gap: 12px;\n",
              "    }\n",
              "\n",
              "    .colab-df-convert {\n",
              "      background-color: #E8F0FE;\n",
              "      border: none;\n",
              "      border-radius: 50%;\n",
              "      cursor: pointer;\n",
              "      display: none;\n",
              "      fill: #1967D2;\n",
              "      height: 32px;\n",
              "      padding: 0 0 0 0;\n",
              "      width: 32px;\n",
              "    }\n",
              "\n",
              "    .colab-df-convert:hover {\n",
              "      background-color: #E2EBFA;\n",
              "      box-shadow: 0px 1px 2px rgba(60, 64, 67, 0.3), 0px 1px 3px 1px rgba(60, 64, 67, 0.15);\n",
              "      fill: #174EA6;\n",
              "    }\n",
              "\n",
              "    [theme=dark] .colab-df-convert {\n",
              "      background-color: #3B4455;\n",
              "      fill: #D2E3FC;\n",
              "    }\n",
              "\n",
              "    [theme=dark] .colab-df-convert:hover {\n",
              "      background-color: #434B5C;\n",
              "      box-shadow: 0px 1px 3px 1px rgba(0, 0, 0, 0.15);\n",
              "      filter: drop-shadow(0px 1px 2px rgba(0, 0, 0, 0.3));\n",
              "      fill: #FFFFFF;\n",
              "    }\n",
              "  </style>\n",
              "\n",
              "      <script>\n",
              "        const buttonEl =\n",
              "          document.querySelector('#df-8b187b80-6d58-4977-bcfe-a5d129e36293 button.colab-df-convert');\n",
              "        buttonEl.style.display =\n",
              "          google.colab.kernel.accessAllowed ? 'block' : 'none';\n",
              "\n",
              "        async function convertToInteractive(key) {\n",
              "          const element = document.querySelector('#df-8b187b80-6d58-4977-bcfe-a5d129e36293');\n",
              "          const dataTable =\n",
              "            await google.colab.kernel.invokeFunction('convertToInteractive',\n",
              "                                                     [key], {});\n",
              "          if (!dataTable) return;\n",
              "\n",
              "          const docLinkHtml = 'Like what you see? Visit the ' +\n",
              "            '<a target=\"_blank\" href=https://colab.research.google.com/notebooks/data_table.ipynb>data table notebook</a>'\n",
              "            + ' to learn more about interactive tables.';\n",
              "          element.innerHTML = '';\n",
              "          dataTable['output_type'] = 'display_data';\n",
              "          await google.colab.output.renderOutput(dataTable, element);\n",
              "          const docLink = document.createElement('div');\n",
              "          docLink.innerHTML = docLinkHtml;\n",
              "          element.appendChild(docLink);\n",
              "        }\n",
              "      </script>\n",
              "    </div>\n",
              "  </div>\n",
              "  "
            ]
          },
          "metadata": {},
          "execution_count": 21
        }
      ]
    },
    {
      "cell_type": "code",
      "source": [],
      "metadata": {
        "id": "ZTn9vFwKgstI"
      },
      "execution_count": null,
      "outputs": []
    },
    {
      "cell_type": "code",
      "source": [
        "df.loc[(df['report_score'] >=10) & (df['report_score'] <= 39), 'class'] = \"LowRisk\"  \n",
        "df.loc[(df['report_score'] >=40) & (df['report_score'] <= 69), 'class'] = \"MediumRisk\" \n",
        "df.loc[(df['report_score'] >=70) & (df['report_score'] <= 89), 'class'] = \"HighRisk\" \n",
        "df.loc[(df['report_score'] >=90) & (df['report_score'] <= 100), 'class'] = \"Critical\" "
      ],
      "metadata": {
        "colab": {
          "base_uri": "https://localhost:8080/"
        },
        "id": "dWB1jfJmS-OL",
        "outputId": "4dc92edf-4534-4b53-9cee-da9985c15fbf"
      },
      "execution_count": null,
      "outputs": [
        {
          "output_type": "stream",
          "name": "stderr",
          "text": [
            "/usr/local/lib/python3.7/dist-packages/pandas/core/indexing.py:1684: SettingWithCopyWarning: \n",
            "A value is trying to be set on a copy of a slice from a DataFrame.\n",
            "Try using .loc[row_indexer,col_indexer] = value instead\n",
            "\n",
            "See the caveats in the documentation: https://pandas.pydata.org/pandas-docs/stable/user_guide/indexing.html#returning-a-view-versus-a-copy\n",
            "  self.obj[key] = infer_fill_value(value)\n",
            "/usr/local/lib/python3.7/dist-packages/pandas/core/indexing.py:1817: SettingWithCopyWarning: \n",
            "A value is trying to be set on a copy of a slice from a DataFrame.\n",
            "Try using .loc[row_indexer,col_indexer] = value instead\n",
            "\n",
            "See the caveats in the documentation: https://pandas.pydata.org/pandas-docs/stable/user_guide/indexing.html#returning-a-view-versus-a-copy\n",
            "  self._setitem_single_column(loc, value, pi)\n"
          ]
        }
      ]
    },
    {
      "cell_type": "code",
      "source": [
        "def cdc(report_score):\n",
        "    if report_score=='LowRisk':\n",
        "        return 0\n",
        "    elif report_score == 'MediumRisk':\n",
        "        return 1\n",
        "    elif report_score =='HighRisk':\n",
        "        return 2\n",
        "    elif report_score=='Critical':\n",
        "        return 3"
      ],
      "metadata": {
        "id": "yWIa8BbQTo1w"
      },
      "execution_count": null,
      "outputs": []
    },
    {
      "cell_type": "code",
      "source": [
        "df['class'] = df['class'].apply(cdc)\n",
        "df"
      ],
      "metadata": {
        "colab": {
          "base_uri": "https://localhost:8080/",
          "height": 548
        },
        "id": "X__VdfByTuZC",
        "outputId": "8c72777c-bb97-4b07-88ad-e54677769d25"
      },
      "execution_count": null,
      "outputs": [
        {
          "output_type": "stream",
          "name": "stderr",
          "text": [
            "/usr/local/lib/python3.7/dist-packages/ipykernel_launcher.py:1: SettingWithCopyWarning: \n",
            "A value is trying to be set on a copy of a slice from a DataFrame.\n",
            "Try using .loc[row_indexer,col_indexer] = value instead\n",
            "\n",
            "See the caveats in the documentation: https://pandas.pydata.org/pandas-docs/stable/user_guide/indexing.html#returning-a-view-versus-a-copy\n",
            "  \"\"\"Entry point for launching an IPython kernel.\n"
          ]
        },
        {
          "output_type": "execute_result",
          "data": {
            "text/plain": [
              "      process_path  alert_type  @timestamp  watchlist_id  tags  report_score  \\\n",
              "0                4           0          35            23     0            40   \n",
              "1                4           0          35            25     0            40   \n",
              "2                4           0          35            20     0            40   \n",
              "3                4           0          35            19     0            40   \n",
              "4                4           0          35            28     0            40   \n",
              "...            ...         ...         ...           ...   ...           ...   \n",
              "2495             4           0           1            10     0            40   \n",
              "2496             4           0           0            17     0            40   \n",
              "2497             4           0           0            32     0            40   \n",
              "2498             4           0           0            32     0            40   \n",
              "2499             1           0          22             2     0           100   \n",
              "\n",
              "      alert_severity  class  \n",
              "0               27.0      1  \n",
              "1               27.0      1  \n",
              "2               27.0      1  \n",
              "3               27.0      1  \n",
              "4               27.0      1  \n",
              "...              ...    ...  \n",
              "2495            27.0      1  \n",
              "2496            27.0      1  \n",
              "2497            27.0      1  \n",
              "2498            27.0      1  \n",
              "2499            67.5      3  \n",
              "\n",
              "[2500 rows x 8 columns]"
            ],
            "text/html": [
              "\n",
              "  <div id=\"df-b2fc7890-e1b0-4068-9447-7898701c9607\">\n",
              "    <div class=\"colab-df-container\">\n",
              "      <div>\n",
              "<style scoped>\n",
              "    .dataframe tbody tr th:only-of-type {\n",
              "        vertical-align: middle;\n",
              "    }\n",
              "\n",
              "    .dataframe tbody tr th {\n",
              "        vertical-align: top;\n",
              "    }\n",
              "\n",
              "    .dataframe thead th {\n",
              "        text-align: right;\n",
              "    }\n",
              "</style>\n",
              "<table border=\"1\" class=\"dataframe\">\n",
              "  <thead>\n",
              "    <tr style=\"text-align: right;\">\n",
              "      <th></th>\n",
              "      <th>process_path</th>\n",
              "      <th>alert_type</th>\n",
              "      <th>@timestamp</th>\n",
              "      <th>watchlist_id</th>\n",
              "      <th>tags</th>\n",
              "      <th>report_score</th>\n",
              "      <th>alert_severity</th>\n",
              "      <th>class</th>\n",
              "    </tr>\n",
              "  </thead>\n",
              "  <tbody>\n",
              "    <tr>\n",
              "      <th>0</th>\n",
              "      <td>4</td>\n",
              "      <td>0</td>\n",
              "      <td>35</td>\n",
              "      <td>23</td>\n",
              "      <td>0</td>\n",
              "      <td>40</td>\n",
              "      <td>27.0</td>\n",
              "      <td>1</td>\n",
              "    </tr>\n",
              "    <tr>\n",
              "      <th>1</th>\n",
              "      <td>4</td>\n",
              "      <td>0</td>\n",
              "      <td>35</td>\n",
              "      <td>25</td>\n",
              "      <td>0</td>\n",
              "      <td>40</td>\n",
              "      <td>27.0</td>\n",
              "      <td>1</td>\n",
              "    </tr>\n",
              "    <tr>\n",
              "      <th>2</th>\n",
              "      <td>4</td>\n",
              "      <td>0</td>\n",
              "      <td>35</td>\n",
              "      <td>20</td>\n",
              "      <td>0</td>\n",
              "      <td>40</td>\n",
              "      <td>27.0</td>\n",
              "      <td>1</td>\n",
              "    </tr>\n",
              "    <tr>\n",
              "      <th>3</th>\n",
              "      <td>4</td>\n",
              "      <td>0</td>\n",
              "      <td>35</td>\n",
              "      <td>19</td>\n",
              "      <td>0</td>\n",
              "      <td>40</td>\n",
              "      <td>27.0</td>\n",
              "      <td>1</td>\n",
              "    </tr>\n",
              "    <tr>\n",
              "      <th>4</th>\n",
              "      <td>4</td>\n",
              "      <td>0</td>\n",
              "      <td>35</td>\n",
              "      <td>28</td>\n",
              "      <td>0</td>\n",
              "      <td>40</td>\n",
              "      <td>27.0</td>\n",
              "      <td>1</td>\n",
              "    </tr>\n",
              "    <tr>\n",
              "      <th>...</th>\n",
              "      <td>...</td>\n",
              "      <td>...</td>\n",
              "      <td>...</td>\n",
              "      <td>...</td>\n",
              "      <td>...</td>\n",
              "      <td>...</td>\n",
              "      <td>...</td>\n",
              "      <td>...</td>\n",
              "    </tr>\n",
              "    <tr>\n",
              "      <th>2495</th>\n",
              "      <td>4</td>\n",
              "      <td>0</td>\n",
              "      <td>1</td>\n",
              "      <td>10</td>\n",
              "      <td>0</td>\n",
              "      <td>40</td>\n",
              "      <td>27.0</td>\n",
              "      <td>1</td>\n",
              "    </tr>\n",
              "    <tr>\n",
              "      <th>2496</th>\n",
              "      <td>4</td>\n",
              "      <td>0</td>\n",
              "      <td>0</td>\n",
              "      <td>17</td>\n",
              "      <td>0</td>\n",
              "      <td>40</td>\n",
              "      <td>27.0</td>\n",
              "      <td>1</td>\n",
              "    </tr>\n",
              "    <tr>\n",
              "      <th>2497</th>\n",
              "      <td>4</td>\n",
              "      <td>0</td>\n",
              "      <td>0</td>\n",
              "      <td>32</td>\n",
              "      <td>0</td>\n",
              "      <td>40</td>\n",
              "      <td>27.0</td>\n",
              "      <td>1</td>\n",
              "    </tr>\n",
              "    <tr>\n",
              "      <th>2498</th>\n",
              "      <td>4</td>\n",
              "      <td>0</td>\n",
              "      <td>0</td>\n",
              "      <td>32</td>\n",
              "      <td>0</td>\n",
              "      <td>40</td>\n",
              "      <td>27.0</td>\n",
              "      <td>1</td>\n",
              "    </tr>\n",
              "    <tr>\n",
              "      <th>2499</th>\n",
              "      <td>1</td>\n",
              "      <td>0</td>\n",
              "      <td>22</td>\n",
              "      <td>2</td>\n",
              "      <td>0</td>\n",
              "      <td>100</td>\n",
              "      <td>67.5</td>\n",
              "      <td>3</td>\n",
              "    </tr>\n",
              "  </tbody>\n",
              "</table>\n",
              "<p>2500 rows × 8 columns</p>\n",
              "</div>\n",
              "      <button class=\"colab-df-convert\" onclick=\"convertToInteractive('df-b2fc7890-e1b0-4068-9447-7898701c9607')\"\n",
              "              title=\"Convert this dataframe to an interactive table.\"\n",
              "              style=\"display:none;\">\n",
              "        \n",
              "  <svg xmlns=\"http://www.w3.org/2000/svg\" height=\"24px\"viewBox=\"0 0 24 24\"\n",
              "       width=\"24px\">\n",
              "    <path d=\"M0 0h24v24H0V0z\" fill=\"none\"/>\n",
              "    <path d=\"M18.56 5.44l.94 2.06.94-2.06 2.06-.94-2.06-.94-.94-2.06-.94 2.06-2.06.94zm-11 1L8.5 8.5l.94-2.06 2.06-.94-2.06-.94L8.5 2.5l-.94 2.06-2.06.94zm10 10l.94 2.06.94-2.06 2.06-.94-2.06-.94-.94-2.06-.94 2.06-2.06.94z\"/><path d=\"M17.41 7.96l-1.37-1.37c-.4-.4-.92-.59-1.43-.59-.52 0-1.04.2-1.43.59L10.3 9.45l-7.72 7.72c-.78.78-.78 2.05 0 2.83L4 21.41c.39.39.9.59 1.41.59.51 0 1.02-.2 1.41-.59l7.78-7.78 2.81-2.81c.8-.78.8-2.07 0-2.86zM5.41 20L4 18.59l7.72-7.72 1.47 1.35L5.41 20z\"/>\n",
              "  </svg>\n",
              "      </button>\n",
              "      \n",
              "  <style>\n",
              "    .colab-df-container {\n",
              "      display:flex;\n",
              "      flex-wrap:wrap;\n",
              "      gap: 12px;\n",
              "    }\n",
              "\n",
              "    .colab-df-convert {\n",
              "      background-color: #E8F0FE;\n",
              "      border: none;\n",
              "      border-radius: 50%;\n",
              "      cursor: pointer;\n",
              "      display: none;\n",
              "      fill: #1967D2;\n",
              "      height: 32px;\n",
              "      padding: 0 0 0 0;\n",
              "      width: 32px;\n",
              "    }\n",
              "\n",
              "    .colab-df-convert:hover {\n",
              "      background-color: #E2EBFA;\n",
              "      box-shadow: 0px 1px 2px rgba(60, 64, 67, 0.3), 0px 1px 3px 1px rgba(60, 64, 67, 0.15);\n",
              "      fill: #174EA6;\n",
              "    }\n",
              "\n",
              "    [theme=dark] .colab-df-convert {\n",
              "      background-color: #3B4455;\n",
              "      fill: #D2E3FC;\n",
              "    }\n",
              "\n",
              "    [theme=dark] .colab-df-convert:hover {\n",
              "      background-color: #434B5C;\n",
              "      box-shadow: 0px 1px 3px 1px rgba(0, 0, 0, 0.15);\n",
              "      filter: drop-shadow(0px 1px 2px rgba(0, 0, 0, 0.3));\n",
              "      fill: #FFFFFF;\n",
              "    }\n",
              "  </style>\n",
              "\n",
              "      <script>\n",
              "        const buttonEl =\n",
              "          document.querySelector('#df-b2fc7890-e1b0-4068-9447-7898701c9607 button.colab-df-convert');\n",
              "        buttonEl.style.display =\n",
              "          google.colab.kernel.accessAllowed ? 'block' : 'none';\n",
              "\n",
              "        async function convertToInteractive(key) {\n",
              "          const element = document.querySelector('#df-b2fc7890-e1b0-4068-9447-7898701c9607');\n",
              "          const dataTable =\n",
              "            await google.colab.kernel.invokeFunction('convertToInteractive',\n",
              "                                                     [key], {});\n",
              "          if (!dataTable) return;\n",
              "\n",
              "          const docLinkHtml = 'Like what you see? Visit the ' +\n",
              "            '<a target=\"_blank\" href=https://colab.research.google.com/notebooks/data_table.ipynb>data table notebook</a>'\n",
              "            + ' to learn more about interactive tables.';\n",
              "          element.innerHTML = '';\n",
              "          dataTable['output_type'] = 'display_data';\n",
              "          await google.colab.output.renderOutput(dataTable, element);\n",
              "          const docLink = document.createElement('div');\n",
              "          docLink.innerHTML = docLinkHtml;\n",
              "          element.appendChild(docLink);\n",
              "        }\n",
              "      </script>\n",
              "    </div>\n",
              "  </div>\n",
              "  "
            ]
          },
          "metadata": {},
          "execution_count": 24
        }
      ]
    },
    {
      "cell_type": "code",
      "source": [
        "df.dtypes"
      ],
      "metadata": {
        "colab": {
          "base_uri": "https://localhost:8080/"
        },
        "id": "nE2ZdNrBIves",
        "outputId": "f1c0f9c8-2b78-415d-d162-78c4448a17b2"
      },
      "execution_count": null,
      "outputs": [
        {
          "output_type": "execute_result",
          "data": {
            "text/plain": [
              "process_path        int64\n",
              "alert_type          int64\n",
              "@timestamp          int64\n",
              "watchlist_id        int64\n",
              "tags                int64\n",
              "report_score        int64\n",
              "alert_severity    float64\n",
              "class               int64\n",
              "dtype: object"
            ]
          },
          "metadata": {},
          "execution_count": 25
        }
      ]
    },
    {
      "cell_type": "code",
      "source": [
        "x=df.drop([\"class\",\"report_score\"],axis=1)\n",
        "y=df[\"class\"]"
      ],
      "metadata": {
        "id": "0QRitHNPTwnz"
      },
      "execution_count": null,
      "outputs": []
    },
    {
      "cell_type": "markdown",
      "source": [
        "Scaling Features"
      ],
      "metadata": {
        "id": "Ml3vIqawyalT"
      }
    },
    {
      "cell_type": "code",
      "source": [
        "from sklearn.preprocessing import MinMaxScaler\n",
        "scaler = MinMaxScaler()\n",
        "x_df = scaler.fit_transform(x)\n"
      ],
      "metadata": {
        "id": "YsSrScY8T7NS"
      },
      "execution_count": null,
      "outputs": []
    },
    {
      "cell_type": "markdown",
      "source": [
        "Splitting the model"
      ],
      "metadata": {
        "id": "GsR2JWQVhEPl"
      }
    },
    {
      "cell_type": "code",
      "source": [
        "from sklearn.model_selection import train_test_split\n",
        "\n",
        "x_train,x_test,y_train,y_test=train_test_split(x_df,y,test_size=0.2,random_state=42)\n",
        "#X_train, X_test, y_train, y_test = train_test_split(x, y, test_size=0.2, random_state=42)\n",
        "x_train\n",
        "x_test"
      ],
      "metadata": {
        "colab": {
          "base_uri": "https://localhost:8080/"
        },
        "id": "HB2mjf9LUYte",
        "outputId": "952e876b-3aa7-4d35-f087-19048b3a5fc2"
      },
      "execution_count": null,
      "outputs": [
        {
          "output_type": "execute_result",
          "data": {
            "text/plain": [
              "array([[1.        , 0.        , 0.68571429, 0.71794872, 0.        ,\n",
              "        0.33333333],\n",
              "       [1.        , 0.        , 0.8       , 0.84615385, 0.        ,\n",
              "        0.33333333],\n",
              "       [1.        , 0.        , 0.8       , 0.61538462, 0.        ,\n",
              "        0.33333333],\n",
              "       ...,\n",
              "       [1.        , 0.        , 0.8       , 0.82051282, 0.        ,\n",
              "        0.33333333],\n",
              "       [1.        , 0.        , 0.97142857, 0.79487179, 0.        ,\n",
              "        0.33333333],\n",
              "       [1.        , 0.        , 0.91428571, 0.25641026, 0.        ,\n",
              "        0.33333333]])"
            ]
          },
          "metadata": {},
          "execution_count": 28
        }
      ]
    },
    {
      "cell_type": "markdown",
      "source": [
        "**MODELS** "
      ],
      "metadata": {
        "id": "u5Hrl2UOhkJm"
      }
    },
    {
      "cell_type": "code",
      "source": [
        "\n",
        "#Applying SVM\n",
        "from sklearn.svm import SVC\n",
        "sv = SVC(kernel = 'linear')\n",
        "sv.fit(x_train,y_train)\n",
        "y_predsvm=sv.predict(x_train)\n"
      ],
      "metadata": {
        "id": "OuV4xVC2Ub7i"
      },
      "execution_count": null,
      "outputs": []
    },
    {
      "cell_type": "code",
      "source": [
        "\n",
        "sv.score(x_test,y_test)"
      ],
      "metadata": {
        "colab": {
          "base_uri": "https://localhost:8080/"
        },
        "id": "iXDEmrlJUf9k",
        "outputId": "16633648-2d68-49f5-dc18-8a598f74e945"
      },
      "execution_count": null,
      "outputs": [
        {
          "output_type": "execute_result",
          "data": {
            "text/plain": [
              "0.898"
            ]
          },
          "metadata": {},
          "execution_count": 30
        }
      ]
    },
    {
      "cell_type": "code",
      "source": [
        "#Applying KNN\n",
        "knn_clf=KNeighborsClassifier()\n",
        "knn_clf.fit(x_train,y_train)\n",
        "ypred_knn=knn_clf.predict(x_test)"
      ],
      "metadata": {
        "id": "5QleZ4ERVSJs"
      },
      "execution_count": null,
      "outputs": []
    },
    {
      "cell_type": "code",
      "source": [
        "knn_clf.score(x_test,y_test)"
      ],
      "metadata": {
        "colab": {
          "base_uri": "https://localhost:8080/"
        },
        "id": "9ckr7CHiJ29N",
        "outputId": "43fe341f-2a82-4744-acfe-29f6193d40fc"
      },
      "execution_count": null,
      "outputs": [
        {
          "output_type": "execute_result",
          "data": {
            "text/plain": [
              "0.894"
            ]
          },
          "metadata": {},
          "execution_count": 32
        }
      ]
    },
    {
      "cell_type": "code",
      "source": [
        "#Applying Random Forest\n",
        "from sklearn.ensemble import RandomForestClassifier\n",
        "rf=RandomForestClassifier()\n",
        "rf.fit(x_train,y_train)\n",
        "y_predrf=rf.predict(x_test)\n",
        "\n"
      ],
      "metadata": {
        "id": "jGBGDysoJ5wN"
      },
      "execution_count": null,
      "outputs": []
    },
    {
      "cell_type": "code",
      "source": [
        "rf.score(x_test,y_test)"
      ],
      "metadata": {
        "colab": {
          "base_uri": "https://localhost:8080/"
        },
        "id": "LppCw8ztJ9pl",
        "outputId": "a565c315-e469-4dd0-b317-79d662f07316"
      },
      "execution_count": null,
      "outputs": [
        {
          "output_type": "execute_result",
          "data": {
            "text/plain": [
              "0.906"
            ]
          },
          "metadata": {},
          "execution_count": 34
        }
      ]
    },
    {
      "cell_type": "code",
      "source": [
        "# save the model to disk\n",
        "filename = 'randomforestmodelc1'\n",
        "pickle.dump(rf, open(filename, 'wb'))"
      ],
      "metadata": {
        "id": "BhDZFwu4I7PX"
      },
      "execution_count": null,
      "outputs": []
    },
    {
      "cell_type": "code",
      "source": [
        "loaded_model = pickle.load(open(filename, 'rb'))\n",
        "result = loaded_model.score(x_test, y_test)\n",
        "print(result)"
      ],
      "metadata": {
        "colab": {
          "base_uri": "https://localhost:8080/"
        },
        "id": "amklFd-kJKk5",
        "outputId": "d6055b73-62ce-4700-93d2-994dcaaf35f9"
      },
      "execution_count": null,
      "outputs": [
        {
          "output_type": "stream",
          "name": "stdout",
          "text": [
            "0.906\n"
          ]
        }
      ]
    },
    {
      "cell_type": "code",
      "source": [
        "#Applying Naive Bayes\n",
        "from sklearn.naive_bayes import MultinomialNB\n",
        "clf=MultinomialNB()\n",
        "clf.fit(x_train,y_train)\n",
        "y_prednb=clf.predict(x_test)"
      ],
      "metadata": {
        "id": "tB0NlWXaKA3w"
      },
      "execution_count": null,
      "outputs": []
    },
    {
      "cell_type": "code",
      "source": [
        "clf.score(x_test,y_test)"
      ],
      "metadata": {
        "colab": {
          "base_uri": "https://localhost:8080/"
        },
        "id": "AO34BX5CKJhu",
        "outputId": "f435c37a-5dce-4df6-fe39-400241590ec9"
      },
      "execution_count": null,
      "outputs": [
        {
          "output_type": "execute_result",
          "data": {
            "text/plain": [
              "0.832"
            ]
          },
          "metadata": {},
          "execution_count": 38
        }
      ]
    },
    {
      "cell_type": "code",
      "source": [
        "#Applying logistic regression\n",
        "from sklearn.datasets import make_classification\n",
        "from sklearn.linear_model import LogisticRegression\n",
        "lr = LogisticRegression(multi_class='multinomial', solver='lbfgs')\n",
        "lr.fit(x_train,y_train)\n",
        "y_predlr=lr.predict(x_test)\n",
        "\n"
      ],
      "metadata": {
        "id": "frygzko3KMCz"
      },
      "execution_count": null,
      "outputs": []
    },
    {
      "cell_type": "code",
      "source": [
        "lr.score(x_test,y_test)"
      ],
      "metadata": {
        "colab": {
          "base_uri": "https://localhost:8080/"
        },
        "id": "rJgmU4XiMlPl",
        "outputId": "1a77e6b4-5462-47f4-9494-431ac52c01e9"
      },
      "execution_count": null,
      "outputs": [
        {
          "output_type": "execute_result",
          "data": {
            "text/plain": [
              "0.86"
            ]
          },
          "metadata": {},
          "execution_count": 40
        }
      ]
    },
    {
      "cell_type": "markdown",
      "source": [
        "**MODEL EVALUATION**"
      ],
      "metadata": {
        "id": "BA9hWQtMhz8s"
      }
    },
    {
      "cell_type": "code",
      "source": [
        "#Model Evaluation of Random Forest\n",
        "y_pred4=rf.predict(x_test)\n",
        "confusion3=confusion_matrix(y_test,y_pred4)\n",
        "plt.figure(figsize = (10,7))\n",
        "sns.heatmap(confusion3, annot=True,fmt='g',cmap='Blues')\n",
        "plt.ylabel(\"actual\")\n",
        "plt.xlabel('predicted');"
      ],
      "metadata": {
        "colab": {
          "base_uri": "https://localhost:8080/",
          "height": 442
        },
        "id": "jaxAaDhGMock",
        "outputId": "3f76fa42-2666-44f3-ff6f-b68184726d0b"
      },
      "execution_count": null,
      "outputs": [
        {
          "output_type": "display_data",
          "data": {
            "text/plain": [
              "<Figure size 720x504 with 2 Axes>"
            ],
            "image/png": "[encoded data removed]"
          },
          "metadata": {
            "needs_background": "light"
          }
        }
      ]
    },
    {
      "cell_type": "markdown",
      "source": [
        "**CLASSIFICATION REPORT**"
      ],
      "metadata": {
        "id": "R7TSBuduh9_q"
      }
    },
    {
      "cell_type": "code",
      "source": [
        "print(\"Classification report of Random Forest \\n\")\n",
        "print(classification_report(y_test,y_pred4))"
      ],
      "metadata": {
        "colab": {
          "base_uri": "https://localhost:8080/"
        },
        "id": "QCmAq8dzNDea",
        "outputId": "1741da3f-2f6f-4de7-ab59-a8710a93023c"
      },
      "execution_count": null,
      "outputs": [
        {
          "output_type": "stream",
          "name": "stdout",
          "text": [
            "Classification report of Random Forest \n",
            "\n",
            "              precision    recall  f1-score   support\n",
            "\n",
            "           0       0.88      0.70      0.78        30\n",
            "           1       0.92      0.98      0.95       416\n",
            "           2       0.74      0.43      0.54        54\n",
            "\n",
            "    accuracy                           0.91       500\n",
            "   macro avg       0.85      0.70      0.76       500\n",
            "weighted avg       0.90      0.91      0.90       500\n",
            "\n"
          ]
        }
      ]
    },
    {
      "cell_type": "markdown",
      "source": [
        "**BALANCING THE DATASET**"
      ],
      "metadata": {
        "id": "XK6lUlYdiSKT"
      }
    },
    {
      "cell_type": "code",
      "source": [
        "df[\"class\"].value_counts()"
      ],
      "metadata": {
        "colab": {
          "base_uri": "https://localhost:8080/"
        },
        "id": "qUfSffjuNURU",
        "outputId": "40eae313-b83f-4042-f9df-b7ccde8098a9"
      },
      "execution_count": null,
      "outputs": [
        {
          "output_type": "execute_result",
          "data": {
            "text/plain": [
              "1    2145\n",
              "2     214\n",
              "0     136\n",
              "3       5\n",
              "Name: class, dtype: int64"
            ]
          },
          "metadata": {},
          "execution_count": 43
        }
      ]
    },
    {
      "cell_type": "code",
      "source": [
        "low=df[df[\"class\"]==0]\n",
        "medium=df[df[\"class\"]==1]\n",
        "avg=df[df[\"class\"]==2]\n",
        "high=df[df[\"class\"]==3]"
      ],
      "metadata": {
        "id": "M4esNXCaNes6"
      },
      "execution_count": null,
      "outputs": []
    },
    {
      "cell_type": "code",
      "source": [
        "n=len(medium)"
      ],
      "metadata": {
        "id": "L-zvcrtkNlcI"
      },
      "execution_count": null,
      "outputs": []
    },
    {
      "cell_type": "code",
      "source": [
        "low_over = low.sample(n, replace=True)\n",
        "avg_over = avg.sample(n, replace=True)\n",
        "high_over = high.sample(n, replace=True)"
      ],
      "metadata": {
        "id": "GAtFlOsCNn6c"
      },
      "execution_count": null,
      "outputs": []
    },
    {
      "cell_type": "code",
      "source": [
        "low_over.shape\n",
        "avg_over.shape\n",
        "high_over.shape"
      ],
      "metadata": {
        "colab": {
          "base_uri": "https://localhost:8080/"
        },
        "id": "IZP4cOMVNptZ",
        "outputId": "03f19238-f922-4e47-a4a7-28b70f795128"
      },
      "execution_count": null,
      "outputs": [
        {
          "output_type": "execute_result",
          "data": {
            "text/plain": [
              "(2145, 8)"
            ]
          },
          "metadata": {},
          "execution_count": 47
        }
      ]
    },
    {
      "cell_type": "code",
      "source": [
        "data_over = pd.concat([low_over,medium,avg_over,high_over], axis=0)"
      ],
      "metadata": {
        "id": "g47Bj9JPNrod"
      },
      "execution_count": null,
      "outputs": []
    },
    {
      "cell_type": "code",
      "source": [
        "data_over[\"class\"].value_counts()"
      ],
      "metadata": {
        "colab": {
          "base_uri": "https://localhost:8080/"
        },
        "id": "I-TYY2JWNuaB",
        "outputId": "ec11d0b7-96ea-4d2d-aaca-dcc78c770ffc"
      },
      "execution_count": null,
      "outputs": [
        {
          "output_type": "execute_result",
          "data": {
            "text/plain": [
              "0    2145\n",
              "1    2145\n",
              "2    2145\n",
              "3    2145\n",
              "Name: class, dtype: int64"
            ]
          },
          "metadata": {},
          "execution_count": 49
        }
      ]
    },
    {
      "cell_type": "code",
      "source": [
        "data_over"
      ],
      "metadata": {
        "colab": {
          "base_uri": "https://localhost:8080/",
          "height": 424
        },
        "id": "4x-qyZULNwmA",
        "outputId": "e4893325-d686-4d2f-b29c-6142d4fd6821"
      },
      "execution_count": null,
      "outputs": [
        {
          "output_type": "execute_result",
          "data": {
            "text/plain": [
              "      process_path  alert_type  @timestamp  watchlist_id  tags  report_score  \\\n",
              "1300             4           0          27            21     0            28   \n",
              "950              4           0          34            26     0            30   \n",
              "137              4           0          31            18     0            28   \n",
              "1444             4           0          27            21     0            28   \n",
              "1156             4           0          27            21     0            28   \n",
              "...            ...         ...         ...           ...   ...           ...   \n",
              "902              4           0          32             8     0            99   \n",
              "902              4           0          32             8     0            99   \n",
              "2383             1           0          20             2     0            95   \n",
              "2383             1           0          20             2     0            95   \n",
              "2499             1           0          22             2     0           100   \n",
              "\n",
              "      alert_severity  class  \n",
              "1300            18.9      0  \n",
              "950             27.0      0  \n",
              "137             18.9      0  \n",
              "1444            18.9      0  \n",
              "1156            18.9      0  \n",
              "...              ...    ...  \n",
              "902             27.0      3  \n",
              "902             27.0      3  \n",
              "2383            67.5      3  \n",
              "2383            67.5      3  \n",
              "2499            67.5      3  \n",
              "\n",
              "[8580 rows x 8 columns]"
            ],
            "text/html": [
              "\n",
              "  <div id=\"df-63dcf9d9-837d-474d-9e9f-a6dd6135e9dc\">\n",
              "    <div class=\"colab-df-container\">\n",
              "      <div>\n",
              "<style scoped>\n",
              "    .dataframe tbody tr th:only-of-type {\n",
              "        vertical-align: middle;\n",
              "    }\n",
              "\n",
              "    .dataframe tbody tr th {\n",
              "        vertical-align: top;\n",
              "    }\n",
              "\n",
              "    .dataframe thead th {\n",
              "        text-align: right;\n",
              "    }\n",
              "</style>\n",
              "<table border=\"1\" class=\"dataframe\">\n",
              "  <thead>\n",
              "    <tr style=\"text-align: right;\">\n",
              "      <th></th>\n",
              "      <th>process_path</th>\n",
              "      <th>alert_type</th>\n",
              "      <th>@timestamp</th>\n",
              "      <th>watchlist_id</th>\n",
              "      <th>tags</th>\n",
              "      <th>report_score</th>\n",
              "      <th>alert_severity</th>\n",
              "      <th>class</th>\n",
              "    </tr>\n",
              "  </thead>\n",
              "  <tbody>\n",
              "    <tr>\n",
              "      <th>1300</th>\n",
              "      <td>4</td>\n",
              "      <td>0</td>\n",
              "      <td>27</td>\n",
              "      <td>21</td>\n",
              "      <td>0</td>\n",
              "      <td>28</td>\n",
              "      <td>18.9</td>\n",
              "      <td>0</td>\n",
              "    </tr>\n",
              "    <tr>\n",
              "      <th>950</th>\n",
              "      <td>4</td>\n",
              "      <td>0</td>\n",
              "      <td>34</td>\n",
              "      <td>26</td>\n",
              "      <td>0</td>\n",
              "      <td>30</td>\n",
              "      <td>27.0</td>\n",
              "      <td>0</td>\n",
              "    </tr>\n",
              "    <tr>\n",
              "      <th>137</th>\n",
              "      <td>4</td>\n",
              "      <td>0</td>\n",
              "      <td>31</td>\n",
              "      <td>18</td>\n",
              "      <td>0</td>\n",
              "      <td>28</td>\n",
              "      <td>18.9</td>\n",
              "      <td>0</td>\n",
              "    </tr>\n",
              "    <tr>\n",
              "      <th>1444</th>\n",
              "      <td>4</td>\n",
              "      <td>0</td>\n",
              "      <td>27</td>\n",
              "      <td>21</td>\n",
              "      <td>0</td>\n",
              "      <td>28</td>\n",
              "      <td>18.9</td>\n",
              "      <td>0</td>\n",
              "    </tr>\n",
              "    <tr>\n",
              "      <th>1156</th>\n",
              "      <td>4</td>\n",
              "      <td>0</td>\n",
              "      <td>27</td>\n",
              "      <td>21</td>\n",
              "      <td>0</td>\n",
              "      <td>28</td>\n",
              "      <td>18.9</td>\n",
              "      <td>0</td>\n",
              "    </tr>\n",
              "    <tr>\n",
              "      <th>...</th>\n",
              "      <td>...</td>\n",
              "      <td>...</td>\n",
              "      <td>...</td>\n",
              "      <td>...</td>\n",
              "      <td>...</td>\n",
              "      <td>...</td>\n",
              "      <td>...</td>\n",
              "      <td>...</td>\n",
              "    </tr>\n",
              "    <tr>\n",
              "      <th>902</th>\n",
              "      <td>4</td>\n",
              "      <td>0</td>\n",
              "      <td>32</td>\n",
              "      <td>8</td>\n",
              "      <td>0</td>\n",
              "      <td>99</td>\n",
              "      <td>27.0</td>\n",
              "      <td>3</td>\n",
              "    </tr>\n",
              "    <tr>\n",
              "      <th>902</th>\n",
              "      <td>4</td>\n",
              "      <td>0</td>\n",
              "      <td>32</td>\n",
              "      <td>8</td>\n",
              "      <td>0</td>\n",
              "      <td>99</td>\n",
              "      <td>27.0</td>\n",
              "      <td>3</td>\n",
              "    </tr>\n",
              "    <tr>\n",
              "      <th>2383</th>\n",
              "      <td>1</td>\n",
              "      <td>0</td>\n",
              "      <td>20</td>\n",
              "      <td>2</td>\n",
              "      <td>0</td>\n",
              "      <td>95</td>\n",
              "      <td>67.5</td>\n",
              "      <td>3</td>\n",
              "    </tr>\n",
              "    <tr>\n",
              "      <th>2383</th>\n",
              "      <td>1</td>\n",
              "      <td>0</td>\n",
              "      <td>20</td>\n",
              "      <td>2</td>\n",
              "      <td>0</td>\n",
              "      <td>95</td>\n",
              "      <td>67.5</td>\n",
              "      <td>3</td>\n",
              "    </tr>\n",
              "    <tr>\n",
              "      <th>2499</th>\n",
              "      <td>1</td>\n",
              "      <td>0</td>\n",
              "      <td>22</td>\n",
              "      <td>2</td>\n",
              "      <td>0</td>\n",
              "      <td>100</td>\n",
              "      <td>67.5</td>\n",
              "      <td>3</td>\n",
              "    </tr>\n",
              "  </tbody>\n",
              "</table>\n",
              "<p>8580 rows × 8 columns</p>\n",
              "</div>\n",
              "      <button class=\"colab-df-convert\" onclick=\"convertToInteractive('df-63dcf9d9-837d-474d-9e9f-a6dd6135e9dc')\"\n",
              "              title=\"Convert this dataframe to an interactive table.\"\n",
              "              style=\"display:none;\">\n",
              "        \n",
              "  <svg xmlns=\"http://www.w3.org/2000/svg\" height=\"24px\"viewBox=\"0 0 24 24\"\n",
              "       width=\"24px\">\n",
              "    <path d=\"M0 0h24v24H0V0z\" fill=\"none\"/>\n",
              "    <path d=\"M18.56 5.44l.94 2.06.94-2.06 2.06-.94-2.06-.94-.94-2.06-.94 2.06-2.06.94zm-11 1L8.5 8.5l.94-2.06 2.06-.94-2.06-.94L8.5 2.5l-.94 2.06-2.06.94zm10 10l.94 2.06.94-2.06 2.06-.94-2.06-.94-.94-2.06-.94 2.06-2.06.94z\"/><path d=\"M17.41 7.96l-1.37-1.37c-.4-.4-.92-.59-1.43-.59-.52 0-1.04.2-1.43.59L10.3 9.45l-7.72 7.72c-.78.78-.78 2.05 0 2.83L4 21.41c.39.39.9.59 1.41.59.51 0 1.02-.2 1.41-.59l7.78-7.78 2.81-2.81c.8-.78.8-2.07 0-2.86zM5.41 20L4 18.59l7.72-7.72 1.47 1.35L5.41 20z\"/>\n",
              "  </svg>\n",
              "      </button>\n",
              "      \n",
              "  <style>\n",
              "    .colab-df-container {\n",
              "      display:flex;\n",
              "      flex-wrap:wrap;\n",
              "      gap: 12px;\n",
              "    }\n",
              "\n",
              "    .colab-df-convert {\n",
              "      background-color: #E8F0FE;\n",
              "      border: none;\n",
              "      border-radius: 50%;\n",
              "      cursor: pointer;\n",
              "      display: none;\n",
              "      fill: #1967D2;\n",
              "      height: 32px;\n",
              "      padding: 0 0 0 0;\n",
              "      width: 32px;\n",
              "    }\n",
              "\n",
              "    .colab-df-convert:hover {\n",
              "      background-color: #E2EBFA;\n",
              "      box-shadow: 0px 1px 2px rgba(60, 64, 67, 0.3), 0px 1px 3px 1px rgba(60, 64, 67, 0.15);\n",
              "      fill: #174EA6;\n",
              "    }\n",
              "\n",
              "    [theme=dark] .colab-df-convert {\n",
              "      background-color: #3B4455;\n",
              "      fill: #D2E3FC;\n",
              "    }\n",
              "\n",
              "    [theme=dark] .colab-df-convert:hover {\n",
              "      background-color: #434B5C;\n",
              "      box-shadow: 0px 1px 3px 1px rgba(0, 0, 0, 0.15);\n",
              "      filter: drop-shadow(0px 1px 2px rgba(0, 0, 0, 0.3));\n",
              "      fill: #FFFFFF;\n",
              "    }\n",
              "  </style>\n",
              "\n",
              "      <script>\n",
              "        const buttonEl =\n",
              "          document.querySelector('#df-63dcf9d9-837d-474d-9e9f-a6dd6135e9dc button.colab-df-convert');\n",
              "        buttonEl.style.display =\n",
              "          google.colab.kernel.accessAllowed ? 'block' : 'none';\n",
              "\n",
              "        async function convertToInteractive(key) {\n",
              "          const element = document.querySelector('#df-63dcf9d9-837d-474d-9e9f-a6dd6135e9dc');\n",
              "          const dataTable =\n",
              "            await google.colab.kernel.invokeFunction('convertToInteractive',\n",
              "                                                     [key], {});\n",
              "          if (!dataTable) return;\n",
              "\n",
              "          const docLinkHtml = 'Like what you see? Visit the ' +\n",
              "            '<a target=\"_blank\" href=https://colab.research.google.com/notebooks/data_table.ipynb>data table notebook</a>'\n",
              "            + ' to learn more about interactive tables.';\n",
              "          element.innerHTML = '';\n",
              "          dataTable['output_type'] = 'display_data';\n",
              "          await google.colab.output.renderOutput(dataTable, element);\n",
              "          const docLink = document.createElement('div');\n",
              "          docLink.innerHTML = docLinkHtml;\n",
              "          element.appendChild(docLink);\n",
              "        }\n",
              "      </script>\n",
              "    </div>\n",
              "  </div>\n",
              "  "
            ]
          },
          "metadata": {},
          "execution_count": 50
        }
      ]
    },
    {
      "cell_type": "code",
      "source": [
        "data_over=data_over.sample(frac=1)"
      ],
      "metadata": {
        "id": "wqBaGrx1Nz37"
      },
      "execution_count": null,
      "outputs": []
    },
    {
      "cell_type": "code",
      "source": [
        "x=data_over.drop([\"class\",\"report_score\"],axis=1)\n",
        "y=data_over[\"class\"]"
      ],
      "metadata": {
        "id": "EojiYti5N3BL"
      },
      "execution_count": null,
      "outputs": []
    },
    {
      "cell_type": "code",
      "source": [
        "x.reset_index(inplace=True, drop=True)\n",
        "y.reset_index(inplace=True, drop=True)"
      ],
      "metadata": {
        "id": "gDJEWs-PN5Ff"
      },
      "execution_count": null,
      "outputs": []
    },
    {
      "cell_type": "markdown",
      "source": [
        "**SCALING THE FEATURES**"
      ],
      "metadata": {
        "id": "uxxtwbOiieFZ"
      }
    },
    {
      "cell_type": "code",
      "source": [
        "from sklearn.preprocessing import MinMaxScaler\n",
        "scaler = MinMaxScaler()\n",
        "x_df = scaler.fit_transform(x)"
      ],
      "metadata": {
        "id": "89jREzWhN9nl"
      },
      "execution_count": null,
      "outputs": []
    },
    {
      "cell_type": "markdown",
      "source": [
        "**SPLITTING DATASET**"
      ],
      "metadata": {
        "id": "zJDGRQEyin3H"
      }
    },
    {
      "cell_type": "code",
      "source": [
        "from sklearn.model_selection import train_test_split\n",
        "\n",
        "x_train,x_test,y_train,y_test=train_test_split(x_df,y,test_size=0.2,random_state=42)\n",
        "#X_train, X_test, y_train, y_test = train_test_split(x, y, test_size=0.2, random_state=42)\n",
        "x_train\n",
        "x_test"
      ],
      "metadata": {
        "colab": {
          "base_uri": "https://localhost:8080/"
        },
        "id": "NLBPsRkxODYj",
        "outputId": "e1aa3dcb-37f5-49af-e22a-ffe3557ce907"
      },
      "execution_count": null,
      "outputs": [
        {
          "output_type": "execute_result",
          "data": {
            "text/plain": [
              "array([[0.25      , 0.        , 0.57142857, 0.05128205, 0.        ,\n",
              "        1.        ],\n",
              "       [1.        , 0.        , 0.74285714, 0.82051282, 0.        ,\n",
              "        0.33333333],\n",
              "       [1.        , 0.        , 0.8       , 0.71794872, 0.        ,\n",
              "        0.33333333],\n",
              "       ...,\n",
              "       [1.        , 0.        , 0.74285714, 0.82051282, 0.        ,\n",
              "        0.33333333],\n",
              "       [1.        , 0.        , 0.91428571, 0.20512821, 0.        ,\n",
              "        0.33333333],\n",
              "       [1.        , 0.        , 0.77142857, 0.53846154, 0.        ,\n",
              "        0.2       ]])"
            ]
          },
          "metadata": {},
          "execution_count": 55
        }
      ]
    },
    {
      "cell_type": "markdown",
      "source": [
        "**MODELS**"
      ],
      "metadata": {
        "id": "6Nf1UrWXivOW"
      }
    },
    {
      "cell_type": "code",
      "source": [
        "#Applying Naive Bayes\n",
        "from sklearn.naive_bayes import MultinomialNB\n",
        "clf=MultinomialNB()\n",
        "clf.fit(x_train,y_train)\n",
        "y_prednb=clf.predict(x_test)\n",
        "clf.score(x_test,y_test)"
      ],
      "metadata": {
        "colab": {
          "base_uri": "https://localhost:8080/"
        },
        "id": "ng9TFlCDOGTJ",
        "outputId": "195ca0f4-1204-421a-81c9-3b462eb39cf3"
      },
      "execution_count": null,
      "outputs": [
        {
          "output_type": "execute_result",
          "data": {
            "text/plain": [
              "0.6258741258741258"
            ]
          },
          "metadata": {},
          "execution_count": 56
        }
      ]
    },
    {
      "cell_type": "code",
      "source": [
        "#Applying SVM\n",
        "from sklearn.svm import SVC\n",
        "sv = SVC(kernel = 'poly',degree=3, gamma='auto')\n",
        "sv.fit(x_train,y_train)\n",
        "y_predsvm=sv.predict(x_train)\n",
        "sv.score(x_test,y_test)"
      ],
      "metadata": {
        "colab": {
          "base_uri": "https://localhost:8080/"
        },
        "id": "YIdlOvf7ON5F",
        "outputId": "9d6ca3db-6149-458e-903c-00028fb12313"
      },
      "execution_count": null,
      "outputs": [
        {
          "output_type": "execute_result",
          "data": {
            "text/plain": [
              "0.6666666666666666"
            ]
          },
          "metadata": {},
          "execution_count": 57
        }
      ]
    },
    {
      "cell_type": "code",
      "source": [
        "#Applying KNN\n",
        "knn_clf=KNeighborsClassifier()\n",
        "knn_clf.fit(x_train,y_train)\n",
        "ypred_knn=knn_clf.predict(x_test)\n",
        "knn_clf.score(x_test,y_test)"
      ],
      "metadata": {
        "colab": {
          "base_uri": "https://localhost:8080/"
        },
        "id": "fPHdN8I4OTLE",
        "outputId": "23a84146-a9dc-4a97-ca25-c52a548c9747"
      },
      "execution_count": null,
      "outputs": [
        {
          "output_type": "execute_result",
          "data": {
            "text/plain": [
              "0.833916083916084"
            ]
          },
          "metadata": {},
          "execution_count": 58
        }
      ]
    },
    {
      "cell_type": "code",
      "source": [
        "#Applying Random Forest\n",
        "from sklearn.ensemble import RandomForestClassifier\n",
        "rf1=RandomForestClassifier()\n",
        "rf1.fit(x_train,y_train)\n",
        "y_predrf=rf.predict(x_test)\n",
        "rf1.score(x_test,y_test)\n"
      ],
      "metadata": {
        "colab": {
          "base_uri": "https://localhost:8080/"
        },
        "id": "tLrKqrLpOWvr",
        "outputId": "3467a06f-1ba7-45d2-da3c-e0c7441dcff2"
      },
      "execution_count": null,
      "outputs": [
        {
          "output_type": "execute_result",
          "data": {
            "text/plain": [
              "0.8601398601398601"
            ]
          },
          "metadata": {},
          "execution_count": 59
        }
      ]
    },
    {
      "cell_type": "code",
      "source": [
        "# save the model to disk\n",
        "filename = 'randomforest1model1.pkl'\n",
        "pickle.dump(rf1, open(filename, 'wb'))"
      ],
      "metadata": {
        "id": "9EmsGJx6J8H_"
      },
      "execution_count": null,
      "outputs": []
    },
    {
      "cell_type": "code",
      "source": [
        "#Applying logistic regression\n",
        "from sklearn.datasets import make_classification\n",
        "from sklearn.linear_model import LogisticRegression\n",
        "lr = LogisticRegression(multi_class='multinomial', solver='lbfgs')\n",
        "lr.fit(x_train,y_train)\n",
        "y_predlr=lr.predict(x_test)\n",
        "lr.score(x_test,y_test)\n"
      ],
      "metadata": {
        "colab": {
          "base_uri": "https://localhost:8080/"
        },
        "id": "eUAeL0HXOZxi",
        "outputId": "b46a0a16-f53a-4b62-a1af-47f65af0aa55"
      },
      "execution_count": null,
      "outputs": [
        {
          "output_type": "stream",
          "name": "stderr",
          "text": [
            "/usr/local/lib/python3.7/dist-packages/sklearn/linear_model/_logistic.py:818: ConvergenceWarning: lbfgs failed to converge (status=1):\n",
            "STOP: TOTAL NO. of ITERATIONS REACHED LIMIT.\n",
            "\n",
            "Increase the number of iterations (max_iter) or scale the data as shown in:\n",
            "    https://scikit-learn.org/stable/modules/preprocessing.html\n",
            "Please also refer to the documentation for alternative solver options:\n",
            "    https://scikit-learn.org/stable/modules/linear_model.html#logistic-regression\n",
            "  extra_warning_msg=_LOGISTIC_SOLVER_CONVERGENCE_MSG,\n"
          ]
        },
        {
          "output_type": "execute_result",
          "data": {
            "text/plain": [
              "0.6194638694638694"
            ]
          },
          "metadata": {},
          "execution_count": 61
        }
      ]
    },
    {
      "cell_type": "code",
      "source": [
        "#Applying DecisionTreeClassifier\n",
        "from sklearn.tree import DecisionTreeClassifier\n",
        "dt= DecisionTreeClassifier()\n",
        "dt.fit(x_train,y_train)\n",
        "y_predlr=dt.predict(x_test)\n",
        "dt.score(x_test,y_test)\n",
        "\n"
      ],
      "metadata": {
        "colab": {
          "base_uri": "https://localhost:8080/"
        },
        "id": "vfl91ZDoOxHC",
        "outputId": "af6f944f-91e0-4392-c6fd-0d5c9987e683"
      },
      "execution_count": null,
      "outputs": [
        {
          "output_type": "execute_result",
          "data": {
            "text/plain": [
              "0.8601398601398601"
            ]
          },
          "metadata": {},
          "execution_count": 69
        }
      ]
    },
    {
      "cell_type": "code",
      "source": [
        "filename = 'decisionmodel.pkl'\n",
        "pickle.dump(rf1, open(filename, 'wb'))"
      ],
      "metadata": {
        "id": "Db3L3EwM4E6q"
      },
      "execution_count": null,
      "outputs": []
    },
    {
      "cell_type": "code",
      "source": [
        "loaded_model_random = pickle.load(open('decisionmodel.pkl', 'rb'))\n",
        "result = loaded_model_random.score(x_test, y_test)\n",
        "print(result)"
      ],
      "metadata": {
        "colab": {
          "base_uri": "https://localhost:8080/"
        },
        "id": "SkfxLWF_4OPf",
        "outputId": "64f6c9c7-2397-443a-cd3b-258ccbbcef6f"
      },
      "execution_count": null,
      "outputs": [
        {
          "output_type": "stream",
          "name": "stdout",
          "text": [
            "0.8601398601398601\n"
          ]
        }
      ]
    },
    {
      "cell_type": "markdown",
      "source": [
        "**MODEL EVALUATION**"
      ],
      "metadata": {
        "id": "Sp3XLyLCi01a"
      }
    },
    {
      "cell_type": "code",
      "source": [
        "#Model Evaluation of Random Forest\n",
        "y_pred4=rf1.predict(x_test)\n",
        "confusion3=confusion_matrix(y_test,y_pred4)\n",
        "plt.figure(figsize = (10,7))\n",
        "sns.heatmap(confusion3, annot=True,fmt='g',cmap='Blues')\n",
        "plt.ylabel(\"actual\")\n",
        "plt.xlabel('predicted');"
      ],
      "metadata": {
        "colab": {
          "base_uri": "https://localhost:8080/",
          "height": 442
        },
        "id": "s_Tz9MqbTOXL",
        "outputId": "e537f6cb-f646-4ac5-cd6d-e21cbecf0c07"
      },
      "execution_count": null,
      "outputs": [
        {
          "output_type": "display_data",
          "data": {
            "text/plain": [
              "<Figure size 720x504 with 2 Axes>"
            ],
            "image/png": "[encoded data removed]"
          },
          "metadata": {
            "needs_background": "light"
          }
        }
      ]
    },
    {
      "cell_type": "markdown",
      "source": [
        "**CLASSIFICATION REPORT**"
      ],
      "metadata": {
        "id": "H0chn2h0i4Mu"
      }
    },
    {
      "cell_type": "code",
      "source": [
        "print(\"Classification report of Random Forest \\n\")\n",
        "print(classification_report(y_test,y_pred4))"
      ],
      "metadata": {
        "colab": {
          "base_uri": "https://localhost:8080/"
        },
        "id": "xLp5eg9STYmi",
        "outputId": "8d3822bb-eb2c-4940-c30d-e9c1db12979c"
      },
      "execution_count": null,
      "outputs": [
        {
          "output_type": "stream",
          "name": "stdout",
          "text": [
            "Classification report of Random Forest \n",
            "\n",
            "              precision    recall  f1-score   support\n",
            "\n",
            "           0       0.96      0.79      0.86       429\n",
            "           1       0.71      0.88      0.79       439\n",
            "           2       0.91      0.77      0.83       411\n",
            "           3       0.92      1.00      0.96       437\n",
            "\n",
            "    accuracy                           0.86      1716\n",
            "   macro avg       0.87      0.86      0.86      1716\n",
            "weighted avg       0.87      0.86      0.86      1716\n",
            "\n"
          ]
        }
      ]
    },
    {
      "cell_type": "markdown",
      "source": [
        "**PREDICTION**"
      ],
      "metadata": {
        "id": "_Vxj8NtKjBk_"
      }
    },
    {
      "cell_type": "code",
      "source": [
        "loaded_model_le = pickle.load(open('labelencodermodeln1.pkl', 'rb'))\n"
      ],
      "metadata": {
        "id": "iUbcaMK5NDmK"
      },
      "execution_count": null,
      "outputs": []
    },
    {
      "cell_type": "code",
      "source": [
        "loaded_model_random = pickle.load(open('randomforest1model1.pkl', 'rb'))\n",
        "result = loaded_model_random.score(x_test, y_test)\n",
        "print(result)"
      ],
      "metadata": {
        "id": "wq237BVJOQ2Q",
        "colab": {
          "base_uri": "https://localhost:8080/"
        },
        "outputId": "71bab3b9-f162-4c14-a460-076f897e5969"
      },
      "execution_count": null,
      "outputs": [
        {
          "output_type": "stream",
          "name": "stdout",
          "text": [
            "0.8601398601398601\n"
          ]
        }
      ]
    },
    {
      "cell_type": "code",
      "source": [
        "input_pred=[[\"c:\\windows\\system32\\cmd.exe\",\"watchlist.hit.ingress.process\",\"2019-11-29T11:58:13.296Z\",\"d67c0501-339c-4f3c-885c-4bdf001df2fe\",\"['carbonblack']\",57.375]]"
      ],
      "metadata": {
        "id": "mgjBsiRGVC-v"
      },
      "execution_count": null,
      "outputs": []
    },
    {
      "cell_type": "code",
      "source": [
        "def prediction(input_pred):\n",
        "    inputw=pd.DataFrame(input_pred,columns =['process_path','alert_type','@timestamp','watchlist_id','tags','alert_severity'])\n",
        "    edit=pd.concat([inputw,inp],axis=0)\n",
        "    edit.reset_index(inplace=True, drop=True)\n",
        "    edit[\"process_path\"]=loaded_model_le.fit_transform(edit[\"process_path\"])\n",
        "    edit[\"alert_type\"]=loaded_model_le.fit_transform(edit[\"alert_type\"])\n",
        "    edit[\"@timestamp\"]=loaded_model_le.fit_transform(edit[\"@timestamp\"])\n",
        "    edit[\"watchlist_id\"]=loaded_model_le.fit_transform(edit[\"watchlist_id\"])\n",
        "    edit[\"tags\"]=loaded_model_le.fit_transform(edit[\"tags\"])\n",
        "    inputt=edit.head(1)\n",
        "    print(inputt)\n",
        "    return loaded_model_random.predict(inputt)\n",
        "    \n",
        "\n",
        "\n"
      ],
      "metadata": {
        "id": "8qOsTRJO3_nh"
      },
      "execution_count": null,
      "outputs": []
    },
    {
      "cell_type": "code",
      "source": [
        "prediction(input_pred)"
      ],
      "metadata": {
        "id": "UcGr6dNe-dAn",
        "outputId": "f08febe9-904e-43ae-c484-8d66e8d4af53",
        "colab": {
          "base_uri": "https://localhost:8080/"
        }
      },
      "execution_count": null,
      "outputs": [
        {
          "output_type": "stream",
          "name": "stdout",
          "text": [
            "   process_path  alert_type  @timestamp  watchlist_id  tags  alert_severity\n",
            "0             2           0          33            39     0          57.375\n"
          ]
        },
        {
          "output_type": "stream",
          "name": "stderr",
          "text": [
            "/usr/local/lib/python3.7/dist-packages/sklearn/base.py:444: UserWarning: X has feature names, but RandomForestClassifier was fitted without feature names\n",
            "  f\"X has feature names, but {self.__class__.__name__} was fitted without\"\n"
          ]
        },
        {
          "output_type": "execute_result",
          "data": {
            "text/plain": [
              "array([2])"
            ]
          },
          "metadata": {},
          "execution_count": 73
        }
      ]
    },
    {
      "cell_type": "code",
      "source": [
        "arr=prediction(input_pred)\n",
        "def classpred(arr):\n",
        "  if arr==[0] :\n",
        "    return \"Low risk\"\n",
        "  elif arr==[1] :\n",
        "    return \"Medium risk\"\n",
        "  elif arr==[2] :\n",
        "    return \"High Risk\"\n",
        "  else :\n",
        "    return \"Critical\"\n"
      ],
      "metadata": {
        "colab": {
          "base_uri": "https://localhost:8080/"
        },
        "id": "Fq4U-v_xiPgV",
        "outputId": "3c4c79a7-cb3f-495e-da8e-1a5b3ef24c00"
      },
      "execution_count": null,
      "outputs": [
        {
          "output_type": "stream",
          "name": "stderr",
          "text": [
            "/usr/local/lib/python3.7/dist-packages/sklearn/base.py:444: UserWarning: X has feature names, but RandomForestClassifier was fitted without feature names\n",
            "  f\"X has feature names, but {self.__class__.__name__} was fitted without\"\n"
          ]
        }
      ]
    },
    {
      "cell_type": "code",
      "source": [
        "classpred(arr)"
      ],
      "metadata": {
        "id": "JZElItAaWOkm",
        "colab": {
          "base_uri": "https://localhost:8080/",
          "height": 35
        },
        "outputId": "047aff2b-d62b-4bb6-ec38-9c30a2b51869"
      },
      "execution_count": null,
      "outputs": [
        {
          "output_type": "execute_result",
          "data": {
            "text/plain": [
              "'High Risk'"
            ],
            "application/vnd.google.colaboratory.intrinsic+json": {
              "type": "string"
            }
          },
          "metadata": {},
          "execution_count": 72
        }
      ]
    },
    {
      "cell_type": "code",
      "source": [],
      "metadata": {
        "id": "IrRo0gDyDIwR"
      },
      "execution_count": null,
      "outputs": []
    }
  ]
}