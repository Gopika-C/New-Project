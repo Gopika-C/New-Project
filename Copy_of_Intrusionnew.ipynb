{
  "nbformat": 4,
  "nbformat_minor": 0,
  "metadata": {
    "colab": {
      "provenance": [],
      "authorship_tag": "ABX9TyOmEppH0aDdNpllSf9PLk0h",
      "include_colab_link": true
    },
    "kernelspec": {
      "name": "python3",
      "display_name": "Python 3"
    },
    "language_info": {
      "name": "python"
    }
  },
  "cells": [
    {
      "cell_type": "markdown",
      "metadata": {
        "id": "view-in-github",
        "colab_type": "text"
      },
      "source": [
        "<a href=\"https://colab.research.google.com/github/Gopika-C/New-Project/blob/main/Copy_of_Intrusionnew.ipynb\" target=\"_parent\"><img src=\"https://colab.research.google.com/assets/colab-badge.svg\" alt=\"Open In Colab\"/></a>"
      ]
    },
    {
      "cell_type": "code",
      "execution_count": null,
      "metadata": {
        "id": "6Oh9utTu3nO2"
      },
      "outputs": [],
      "source": [
        "#importing required packages for this module\n",
        "import pandas as pd\n",
        "import numpy as np\n",
        "import random\n",
        "from sklearn import preprocessing\n",
        "from pathlib import Path\n",
        "import matplotlib.pyplot as plt\n",
        "import seaborn as sns\n",
        "from sklearn.metrics import confusion_matrix,classification_report\n",
        "from sklearn.neighbors import KNeighborsClassifier\n",
        "from sklearn.linear_model import LogisticRegression"
      ]
    },
    {
      "cell_type": "code",
      "source": [
        "import json\n",
        "jsonpath=Path('/content/drive/MyDrive/Mini Project/datasetnew.json')\n",
        "with jsonpath.open('r',encoding='utf-8')as dat_f:\n",
        "  dat=json.loads(dat_f.read())\n",
        "  df=pd.json_normalize(dat)\n",
        "  df.to_csv('/content/drive/MyDrive/Mini Project/Dataset.csv',encoding='utf-8',index=False)"
      ],
      "metadata": {
        "id": "FlMoWbYu3tqg"
      },
      "execution_count": null,
      "outputs": []
    },
    {
      "cell_type": "code",
      "source": [
        "from google.colab import drive\n",
        "drive.mount('/content/drive')"
      ],
      "metadata": {
        "id": "5DuR5Upe3wj_",
        "colab": {
          "base_uri": "https://localhost:8080/"
        },
        "outputId": "6a9ccf91-2e4d-4511-8925-a2fc982ac543"
      },
      "execution_count": null,
      "outputs": [
        {
          "output_type": "stream",
          "name": "stdout",
          "text": [
            "Mounted at /content/drive\n"
          ]
        }
      ]
    },
    {
      "cell_type": "code",
      "source": [
        "data=pd.read_csv(\"/content/drive/MyDrive/Mini Project/logdataset1.csv\")\n",
        "data"
      ],
      "metadata": {
        "id": "jSTFToZm4XmC",
        "colab": {
          "base_uri": "https://localhost:8080/",
          "height": 1000
        },
        "outputId": "bd067bb8-7a5a-4656-c14b-00d573afcf93"
      },
      "execution_count": null,
      "outputs": [
        {
          "output_type": "execute_result",
          "data": {
            "text/plain": [
              "     modload_count                                       process_path  \\\n",
              "0                2  c:\\windows\\syswow64\\macromed\\flash\\flashplayer...   \n",
              "1                2  c:\\windows\\syswow64\\macromed\\flash\\flashplayer...   \n",
              "2                2  c:\\windows\\syswow64\\macromed\\flash\\flashplayer...   \n",
              "3                2  c:\\windows\\syswow64\\macromed\\flash\\flashplayer...   \n",
              "4                2  c:\\windows\\syswow64\\macromed\\flash\\flashplayer...   \n",
              "...            ...                                                ...   \n",
              "2367             2  c:\\windows\\syswow64\\macromed\\flash\\flashplayer...   \n",
              "2368             2  c:\\windows\\syswow64\\macromed\\flash\\flashplayer...   \n",
              "2369             2  c:\\windows\\syswow64\\macromed\\flash\\flashplayer...   \n",
              "2370             2  c:\\windows\\syswow64\\macromed\\flash\\flashplayer...   \n",
              "2371             2  c:\\windows\\syswow64\\macromed\\flash\\flashplayer...   \n",
              "\n",
              "                         alert_type  sensor_criticality  \\\n",
              "0     watchlist.hit.ingress.process                 3.0   \n",
              "1     watchlist.hit.ingress.process                 3.0   \n",
              "2     watchlist.hit.ingress.process                 3.0   \n",
              "3     watchlist.hit.ingress.process                 3.0   \n",
              "4     watchlist.hit.ingress.process                 3.0   \n",
              "...                             ...                 ...   \n",
              "2367  watchlist.hit.ingress.process                 3.0   \n",
              "2368  watchlist.hit.ingress.process                 3.0   \n",
              "2369  watchlist.hit.ingress.process                 3.0   \n",
              "2370  watchlist.hit.ingress.process                 3.0   \n",
              "2371  watchlist.hit.ingress.process                 3.0   \n",
              "\n",
              "                    @timestamp  report_score   watchlist_id  sensor_id  \\\n",
              "0     2019-11-29T12:18:17.856Z          40.0  CVE-2016-4171      322.0   \n",
              "1     2019-11-29T12:18:17.856Z          40.0  CVE-2016-4181      322.0   \n",
              "2     2019-11-29T12:18:17.856Z          40.0  CVE-2016-4138      322.0   \n",
              "3     2019-11-29T12:18:17.856Z          40.0  CVE-2016-4128      322.0   \n",
              "4     2019-11-29T12:18:17.856Z          40.0  CVE-2016-4227      322.0   \n",
              "...                        ...           ...            ...        ...   \n",
              "2367  2019-11-29T12:18:17.856Z          40.0  CVE-2016-6924      322.0   \n",
              "2368  2019-11-29T12:18:17.856Z          40.0  CVE-2016-4235      322.0   \n",
              "2369  2019-11-29T12:18:17.855Z          40.0  CVE-2016-4166      322.0   \n",
              "2370  2019-11-29T12:18:17.855Z          40.0  CVE-2016-4174      322.0   \n",
              "2371  2019-11-29T12:18:17.855Z          40.0  CVE-2016-4220      322.0   \n",
              "\n",
              "     feed_name              created_time  ...  interface_ip    segment_id  \\\n",
              "0          nvd  2019-11-29T12:11:06.587Z  ...  172.20.7.254 -1.223531e+09   \n",
              "1          nvd  2019-11-29T12:11:06.589Z  ...  172.20.7.254 -1.223531e+09   \n",
              "2          nvd  2019-11-29T12:11:06.413Z  ...  172.20.7.254 -1.223531e+09   \n",
              "3          nvd  2019-11-29T12:11:06.406Z  ...  172.20.7.254 -1.223531e+09   \n",
              "4          nvd   2019-11-29T12:11:06.41Z  ...  172.20.7.254 -1.223531e+09   \n",
              "...        ...                       ...  ...           ...           ...   \n",
              "2367       nvd  2019-11-29T12:11:06.398Z  ...  172.20.7.254 -1.223531e+09   \n",
              "2368       nvd  2019-11-29T12:11:06.592Z  ...  172.20.7.254 -1.223531e+09   \n",
              "2369       nvd  2019-11-29T12:11:06.595Z  ...  172.20.7.254 -1.223531e+09   \n",
              "2370       nvd   2019-11-29T12:11:06.62Z  ...  172.20.7.254 -1.223531e+09   \n",
              "2371       nvd  2019-11-29T12:11:06.615Z  ...  172.20.7.254 -1.223531e+09   \n",
              "\n",
              "      total_hosts  feed_id      status  os_type @version childproc_count  \\\n",
              "0           198.0     18.0  Unresolved  windows      1.0             2.0   \n",
              "1           198.0     18.0  Unresolved  windows      1.0             2.0   \n",
              "2           198.0     18.0  Unresolved  windows      1.0             2.0   \n",
              "3           198.0     18.0  Unresolved  windows      1.0             2.0   \n",
              "4           198.0     18.0  Unresolved  windows      1.0             2.0   \n",
              "...           ...      ...         ...      ...      ...             ...   \n",
              "2367        198.0     18.0  Unresolved  windows      1.0             2.0   \n",
              "2368        198.0     18.0  Unresolved  windows      1.0             2.0   \n",
              "2369        198.0     18.0  Unresolved  windows      1.0             2.0   \n",
              "2370        198.0     18.0  Unresolved  windows      1.0             2.0   \n",
              "2371        198.0     18.0  Unresolved  windows      1.0             2.0   \n",
              "\n",
              "                                 unique_id  feed_rating  \n",
              "0     c9845596-2a1c-40fa-ba73-1a3cb250e988          3.0  \n",
              "1     a3e78117-f02b-4a58-9194-39b8c153b1fb          3.0  \n",
              "2     cf8a47c0-fe5e-4738-a0c4-841c04bd4e85          3.0  \n",
              "3     9c819b01-6e5c-4985-92a6-132c98cb6f63          3.0  \n",
              "4     7cbfe316-3569-4a6b-8b30-efd474b13cc6          3.0  \n",
              "...                                    ...          ...  \n",
              "2367  7511c8ec-d15e-4856-b2ea-ae52ccf51b39          3.0  \n",
              "2368  0de5284e-30c9-4f12-9816-e64a3271e0af          3.0  \n",
              "2369  f13e5381-0167-4c2e-9d3d-211480c7cd3a          3.0  \n",
              "2370  884fe9a3-b70c-49f4-9299-230b73c63cf9          3.0  \n",
              "2371  1074d663-9705-48e5-9873-ff4df1b2edcf          3.0  \n",
              "\n",
              "[2372 rows x 47 columns]"
            ],
            "text/html": [
              "\n",
              "  <div id=\"df-6bd79569-c5cc-4935-b99e-a55d9ed1220b\">\n",
              "    <div class=\"colab-df-container\">\n",
              "      <div>\n",
              "<style scoped>\n",
              "    .dataframe tbody tr th:only-of-type {\n",
              "        vertical-align: middle;\n",
              "    }\n",
              "\n",
              "    .dataframe tbody tr th {\n",
              "        vertical-align: top;\n",
              "    }\n",
              "\n",
              "    .dataframe thead th {\n",
              "        text-align: right;\n",
              "    }\n",
              "</style>\n",
              "<table border=\"1\" class=\"dataframe\">\n",
              "  <thead>\n",
              "    <tr style=\"text-align: right;\">\n",
              "      <th></th>\n",
              "      <th>modload_count</th>\n",
              "      <th>process_path</th>\n",
              "      <th>alert_type</th>\n",
              "      <th>sensor_criticality</th>\n",
              "      <th>@timestamp</th>\n",
              "      <th>report_score</th>\n",
              "      <th>watchlist_id</th>\n",
              "      <th>sensor_id</th>\n",
              "      <th>feed_name</th>\n",
              "      <th>created_time</th>\n",
              "      <th>...</th>\n",
              "      <th>interface_ip</th>\n",
              "      <th>segment_id</th>\n",
              "      <th>total_hosts</th>\n",
              "      <th>feed_id</th>\n",
              "      <th>status</th>\n",
              "      <th>os_type</th>\n",
              "      <th>@version</th>\n",
              "      <th>childproc_count</th>\n",
              "      <th>unique_id</th>\n",
              "      <th>feed_rating</th>\n",
              "    </tr>\n",
              "  </thead>\n",
              "  <tbody>\n",
              "    <tr>\n",
              "      <th>0</th>\n",
              "      <td>2</td>\n",
              "      <td>c:\\windows\\syswow64\\macromed\\flash\\flashplayer...</td>\n",
              "      <td>watchlist.hit.ingress.process</td>\n",
              "      <td>3.0</td>\n",
              "      <td>2019-11-29T12:18:17.856Z</td>\n",
              "      <td>40.0</td>\n",
              "      <td>CVE-2016-4171</td>\n",
              "      <td>322.0</td>\n",
              "      <td>nvd</td>\n",
              "      <td>2019-11-29T12:11:06.587Z</td>\n",
              "      <td>...</td>\n",
              "      <td>172.20.7.254</td>\n",
              "      <td>-1.223531e+09</td>\n",
              "      <td>198.0</td>\n",
              "      <td>18.0</td>\n",
              "      <td>Unresolved</td>\n",
              "      <td>windows</td>\n",
              "      <td>1.0</td>\n",
              "      <td>2.0</td>\n",
              "      <td>c9845596-2a1c-40fa-ba73-1a3cb250e988</td>\n",
              "      <td>3.0</td>\n",
              "    </tr>\n",
              "    <tr>\n",
              "      <th>1</th>\n",
              "      <td>2</td>\n",
              "      <td>c:\\windows\\syswow64\\macromed\\flash\\flashplayer...</td>\n",
              "      <td>watchlist.hit.ingress.process</td>\n",
              "      <td>3.0</td>\n",
              "      <td>2019-11-29T12:18:17.856Z</td>\n",
              "      <td>40.0</td>\n",
              "      <td>CVE-2016-4181</td>\n",
              "      <td>322.0</td>\n",
              "      <td>nvd</td>\n",
              "      <td>2019-11-29T12:11:06.589Z</td>\n",
              "      <td>...</td>\n",
              "      <td>172.20.7.254</td>\n",
              "      <td>-1.223531e+09</td>\n",
              "      <td>198.0</td>\n",
              "      <td>18.0</td>\n",
              "      <td>Unresolved</td>\n",
              "      <td>windows</td>\n",
              "      <td>1.0</td>\n",
              "      <td>2.0</td>\n",
              "      <td>a3e78117-f02b-4a58-9194-39b8c153b1fb</td>\n",
              "      <td>3.0</td>\n",
              "    </tr>\n",
              "    <tr>\n",
              "      <th>2</th>\n",
              "      <td>2</td>\n",
              "      <td>c:\\windows\\syswow64\\macromed\\flash\\flashplayer...</td>\n",
              "      <td>watchlist.hit.ingress.process</td>\n",
              "      <td>3.0</td>\n",
              "      <td>2019-11-29T12:18:17.856Z</td>\n",
              "      <td>40.0</td>\n",
              "      <td>CVE-2016-4138</td>\n",
              "      <td>322.0</td>\n",
              "      <td>nvd</td>\n",
              "      <td>2019-11-29T12:11:06.413Z</td>\n",
              "      <td>...</td>\n",
              "      <td>172.20.7.254</td>\n",
              "      <td>-1.223531e+09</td>\n",
              "      <td>198.0</td>\n",
              "      <td>18.0</td>\n",
              "      <td>Unresolved</td>\n",
              "      <td>windows</td>\n",
              "      <td>1.0</td>\n",
              "      <td>2.0</td>\n",
              "      <td>cf8a47c0-fe5e-4738-a0c4-841c04bd4e85</td>\n",
              "      <td>3.0</td>\n",
              "    </tr>\n",
              "    <tr>\n",
              "      <th>3</th>\n",
              "      <td>2</td>\n",
              "      <td>c:\\windows\\syswow64\\macromed\\flash\\flashplayer...</td>\n",
              "      <td>watchlist.hit.ingress.process</td>\n",
              "      <td>3.0</td>\n",
              "      <td>2019-11-29T12:18:17.856Z</td>\n",
              "      <td>40.0</td>\n",
              "      <td>CVE-2016-4128</td>\n",
              "      <td>322.0</td>\n",
              "      <td>nvd</td>\n",
              "      <td>2019-11-29T12:11:06.406Z</td>\n",
              "      <td>...</td>\n",
              "      <td>172.20.7.254</td>\n",
              "      <td>-1.223531e+09</td>\n",
              "      <td>198.0</td>\n",
              "      <td>18.0</td>\n",
              "      <td>Unresolved</td>\n",
              "      <td>windows</td>\n",
              "      <td>1.0</td>\n",
              "      <td>2.0</td>\n",
              "      <td>9c819b01-6e5c-4985-92a6-132c98cb6f63</td>\n",
              "      <td>3.0</td>\n",
              "    </tr>\n",
              "    <tr>\n",
              "      <th>4</th>\n",
              "      <td>2</td>\n",
              "      <td>c:\\windows\\syswow64\\macromed\\flash\\flashplayer...</td>\n",
              "      <td>watchlist.hit.ingress.process</td>\n",
              "      <td>3.0</td>\n",
              "      <td>2019-11-29T12:18:17.856Z</td>\n",
              "      <td>40.0</td>\n",
              "      <td>CVE-2016-4227</td>\n",
              "      <td>322.0</td>\n",
              "      <td>nvd</td>\n",
              "      <td>2019-11-29T12:11:06.41Z</td>\n",
              "      <td>...</td>\n",
              "      <td>172.20.7.254</td>\n",
              "      <td>-1.223531e+09</td>\n",
              "      <td>198.0</td>\n",
              "      <td>18.0</td>\n",
              "      <td>Unresolved</td>\n",
              "      <td>windows</td>\n",
              "      <td>1.0</td>\n",
              "      <td>2.0</td>\n",
              "      <td>7cbfe316-3569-4a6b-8b30-efd474b13cc6</td>\n",
              "      <td>3.0</td>\n",
              "    </tr>\n",
              "    <tr>\n",
              "      <th>...</th>\n",
              "      <td>...</td>\n",
              "      <td>...</td>\n",
              "      <td>...</td>\n",
              "      <td>...</td>\n",
              "      <td>...</td>\n",
              "      <td>...</td>\n",
              "      <td>...</td>\n",
              "      <td>...</td>\n",
              "      <td>...</td>\n",
              "      <td>...</td>\n",
              "      <td>...</td>\n",
              "      <td>...</td>\n",
              "      <td>...</td>\n",
              "      <td>...</td>\n",
              "      <td>...</td>\n",
              "      <td>...</td>\n",
              "      <td>...</td>\n",
              "      <td>...</td>\n",
              "      <td>...</td>\n",
              "      <td>...</td>\n",
              "      <td>...</td>\n",
              "    </tr>\n",
              "    <tr>\n",
              "      <th>2367</th>\n",
              "      <td>2</td>\n",
              "      <td>c:\\windows\\syswow64\\macromed\\flash\\flashplayer...</td>\n",
              "      <td>watchlist.hit.ingress.process</td>\n",
              "      <td>3.0</td>\n",
              "      <td>2019-11-29T12:18:17.856Z</td>\n",
              "      <td>40.0</td>\n",
              "      <td>CVE-2016-6924</td>\n",
              "      <td>322.0</td>\n",
              "      <td>nvd</td>\n",
              "      <td>2019-11-29T12:11:06.398Z</td>\n",
              "      <td>...</td>\n",
              "      <td>172.20.7.254</td>\n",
              "      <td>-1.223531e+09</td>\n",
              "      <td>198.0</td>\n",
              "      <td>18.0</td>\n",
              "      <td>Unresolved</td>\n",
              "      <td>windows</td>\n",
              "      <td>1.0</td>\n",
              "      <td>2.0</td>\n",
              "      <td>7511c8ec-d15e-4856-b2ea-ae52ccf51b39</td>\n",
              "      <td>3.0</td>\n",
              "    </tr>\n",
              "    <tr>\n",
              "      <th>2368</th>\n",
              "      <td>2</td>\n",
              "      <td>c:\\windows\\syswow64\\macromed\\flash\\flashplayer...</td>\n",
              "      <td>watchlist.hit.ingress.process</td>\n",
              "      <td>3.0</td>\n",
              "      <td>2019-11-29T12:18:17.856Z</td>\n",
              "      <td>40.0</td>\n",
              "      <td>CVE-2016-4235</td>\n",
              "      <td>322.0</td>\n",
              "      <td>nvd</td>\n",
              "      <td>2019-11-29T12:11:06.592Z</td>\n",
              "      <td>...</td>\n",
              "      <td>172.20.7.254</td>\n",
              "      <td>-1.223531e+09</td>\n",
              "      <td>198.0</td>\n",
              "      <td>18.0</td>\n",
              "      <td>Unresolved</td>\n",
              "      <td>windows</td>\n",
              "      <td>1.0</td>\n",
              "      <td>2.0</td>\n",
              "      <td>0de5284e-30c9-4f12-9816-e64a3271e0af</td>\n",
              "      <td>3.0</td>\n",
              "    </tr>\n",
              "    <tr>\n",
              "      <th>2369</th>\n",
              "      <td>2</td>\n",
              "      <td>c:\\windows\\syswow64\\macromed\\flash\\flashplayer...</td>\n",
              "      <td>watchlist.hit.ingress.process</td>\n",
              "      <td>3.0</td>\n",
              "      <td>2019-11-29T12:18:17.855Z</td>\n",
              "      <td>40.0</td>\n",
              "      <td>CVE-2016-4166</td>\n",
              "      <td>322.0</td>\n",
              "      <td>nvd</td>\n",
              "      <td>2019-11-29T12:11:06.595Z</td>\n",
              "      <td>...</td>\n",
              "      <td>172.20.7.254</td>\n",
              "      <td>-1.223531e+09</td>\n",
              "      <td>198.0</td>\n",
              "      <td>18.0</td>\n",
              "      <td>Unresolved</td>\n",
              "      <td>windows</td>\n",
              "      <td>1.0</td>\n",
              "      <td>2.0</td>\n",
              "      <td>f13e5381-0167-4c2e-9d3d-211480c7cd3a</td>\n",
              "      <td>3.0</td>\n",
              "    </tr>\n",
              "    <tr>\n",
              "      <th>2370</th>\n",
              "      <td>2</td>\n",
              "      <td>c:\\windows\\syswow64\\macromed\\flash\\flashplayer...</td>\n",
              "      <td>watchlist.hit.ingress.process</td>\n",
              "      <td>3.0</td>\n",
              "      <td>2019-11-29T12:18:17.855Z</td>\n",
              "      <td>40.0</td>\n",
              "      <td>CVE-2016-4174</td>\n",
              "      <td>322.0</td>\n",
              "      <td>nvd</td>\n",
              "      <td>2019-11-29T12:11:06.62Z</td>\n",
              "      <td>...</td>\n",
              "      <td>172.20.7.254</td>\n",
              "      <td>-1.223531e+09</td>\n",
              "      <td>198.0</td>\n",
              "      <td>18.0</td>\n",
              "      <td>Unresolved</td>\n",
              "      <td>windows</td>\n",
              "      <td>1.0</td>\n",
              "      <td>2.0</td>\n",
              "      <td>884fe9a3-b70c-49f4-9299-230b73c63cf9</td>\n",
              "      <td>3.0</td>\n",
              "    </tr>\n",
              "    <tr>\n",
              "      <th>2371</th>\n",
              "      <td>2</td>\n",
              "      <td>c:\\windows\\syswow64\\macromed\\flash\\flashplayer...</td>\n",
              "      <td>watchlist.hit.ingress.process</td>\n",
              "      <td>3.0</td>\n",
              "      <td>2019-11-29T12:18:17.855Z</td>\n",
              "      <td>40.0</td>\n",
              "      <td>CVE-2016-4220</td>\n",
              "      <td>322.0</td>\n",
              "      <td>nvd</td>\n",
              "      <td>2019-11-29T12:11:06.615Z</td>\n",
              "      <td>...</td>\n",
              "      <td>172.20.7.254</td>\n",
              "      <td>-1.223531e+09</td>\n",
              "      <td>198.0</td>\n",
              "      <td>18.0</td>\n",
              "      <td>Unresolved</td>\n",
              "      <td>windows</td>\n",
              "      <td>1.0</td>\n",
              "      <td>2.0</td>\n",
              "      <td>1074d663-9705-48e5-9873-ff4df1b2edcf</td>\n",
              "      <td>3.0</td>\n",
              "    </tr>\n",
              "  </tbody>\n",
              "</table>\n",
              "<p>2372 rows × 47 columns</p>\n",
              "</div>\n",
              "      <button class=\"colab-df-convert\" onclick=\"convertToInteractive('df-6bd79569-c5cc-4935-b99e-a55d9ed1220b')\"\n",
              "              title=\"Convert this dataframe to an interactive table.\"\n",
              "              style=\"display:none;\">\n",
              "        \n",
              "  <svg xmlns=\"http://www.w3.org/2000/svg\" height=\"24px\"viewBox=\"0 0 24 24\"\n",
              "       width=\"24px\">\n",
              "    <path d=\"M0 0h24v24H0V0z\" fill=\"none\"/>\n",
              "    <path d=\"M18.56 5.44l.94 2.06.94-2.06 2.06-.94-2.06-.94-.94-2.06-.94 2.06-2.06.94zm-11 1L8.5 8.5l.94-2.06 2.06-.94-2.06-.94L8.5 2.5l-.94 2.06-2.06.94zm10 10l.94 2.06.94-2.06 2.06-.94-2.06-.94-.94-2.06-.94 2.06-2.06.94z\"/><path d=\"M17.41 7.96l-1.37-1.37c-.4-.4-.92-.59-1.43-.59-.52 0-1.04.2-1.43.59L10.3 9.45l-7.72 7.72c-.78.78-.78 2.05 0 2.83L4 21.41c.39.39.9.59 1.41.59.51 0 1.02-.2 1.41-.59l7.78-7.78 2.81-2.81c.8-.78.8-2.07 0-2.86zM5.41 20L4 18.59l7.72-7.72 1.47 1.35L5.41 20z\"/>\n",
              "  </svg>\n",
              "      </button>\n",
              "      \n",
              "  <style>\n",
              "    .colab-df-container {\n",
              "      display:flex;\n",
              "      flex-wrap:wrap;\n",
              "      gap: 12px;\n",
              "    }\n",
              "\n",
              "    .colab-df-convert {\n",
              "      background-color: #E8F0FE;\n",
              "      border: none;\n",
              "      border-radius: 50%;\n",
              "      cursor: pointer;\n",
              "      display: none;\n",
              "      fill: #1967D2;\n",
              "      height: 32px;\n",
              "      padding: 0 0 0 0;\n",
              "      width: 32px;\n",
              "    }\n",
              "\n",
              "    .colab-df-convert:hover {\n",
              "      background-color: #E2EBFA;\n",
              "      box-shadow: 0px 1px 2px rgba(60, 64, 67, 0.3), 0px 1px 3px 1px rgba(60, 64, 67, 0.15);\n",
              "      fill: #174EA6;\n",
              "    }\n",
              "\n",
              "    [theme=dark] .colab-df-convert {\n",
              "      background-color: #3B4455;\n",
              "      fill: #D2E3FC;\n",
              "    }\n",
              "\n",
              "    [theme=dark] .colab-df-convert:hover {\n",
              "      background-color: #434B5C;\n",
              "      box-shadow: 0px 1px 3px 1px rgba(0, 0, 0, 0.15);\n",
              "      filter: drop-shadow(0px 1px 2px rgba(0, 0, 0, 0.3));\n",
              "      fill: #FFFFFF;\n",
              "    }\n",
              "  </style>\n",
              "\n",
              "      <script>\n",
              "        const buttonEl =\n",
              "          document.querySelector('#df-6bd79569-c5cc-4935-b99e-a55d9ed1220b button.colab-df-convert');\n",
              "        buttonEl.style.display =\n",
              "          google.colab.kernel.accessAllowed ? 'block' : 'none';\n",
              "\n",
              "        async function convertToInteractive(key) {\n",
              "          const element = document.querySelector('#df-6bd79569-c5cc-4935-b99e-a55d9ed1220b');\n",
              "          const dataTable =\n",
              "            await google.colab.kernel.invokeFunction('convertToInteractive',\n",
              "                                                     [key], {});\n",
              "          if (!dataTable) return;\n",
              "\n",
              "          const docLinkHtml = 'Like what you see? Visit the ' +\n",
              "            '<a target=\"_blank\" href=https://colab.research.google.com/notebooks/data_table.ipynb>data table notebook</a>'\n",
              "            + ' to learn more about interactive tables.';\n",
              "          element.innerHTML = '';\n",
              "          dataTable['output_type'] = 'display_data';\n",
              "          await google.colab.output.renderOutput(dataTable, element);\n",
              "          const docLink = document.createElement('div');\n",
              "          docLink.innerHTML = docLinkHtml;\n",
              "          element.appendChild(docLink);\n",
              "        }\n",
              "      </script>\n",
              "    </div>\n",
              "  </div>\n",
              "  "
            ]
          },
          "metadata": {},
          "execution_count": 3
        }
      ]
    },
    {
      "cell_type": "code",
      "source": [
        "ds=data[['process_path','alert_type','@timestamp','watchlist_id','tags','report_score','alert_severity']]"
      ],
      "metadata": {
        "id": "iU1qybhj4eFH"
      },
      "execution_count": null,
      "outputs": []
    },
    {
      "cell_type": "code",
      "source": [
        "ds"
      ],
      "metadata": {
        "colab": {
          "base_uri": "https://localhost:8080/",
          "height": 641
        },
        "id": "qzuuY6SnBoVA",
        "outputId": "87278cb9-fc2b-4f88-f23e-18c04fa7797f"
      },
      "execution_count": null,
      "outputs": [
        {
          "output_type": "execute_result",
          "data": {
            "text/plain": [
              "                                           process_path  \\\n",
              "0     c:\\windows\\syswow64\\macromed\\flash\\flashplayer...   \n",
              "1     c:\\windows\\syswow64\\macromed\\flash\\flashplayer...   \n",
              "2     c:\\windows\\syswow64\\macromed\\flash\\flashplayer...   \n",
              "3     c:\\windows\\syswow64\\macromed\\flash\\flashplayer...   \n",
              "4     c:\\windows\\syswow64\\macromed\\flash\\flashplayer...   \n",
              "...                                                 ...   \n",
              "2495  c:\\windows\\syswow64\\macromed\\flash\\flashplayer...   \n",
              "2496  c:\\windows\\syswow64\\macromed\\flash\\flashplayer...   \n",
              "2497  c:\\windows\\syswow64\\macromed\\flash\\flashplayer...   \n",
              "2498  c:\\windows\\syswow64\\macromed\\flash\\flashplayer...   \n",
              "2499  c:\\program files\\dell\\supportassistagent\\bin\\s...   \n",
              "\n",
              "                         alert_type                @timestamp  \\\n",
              "0     watchlist.hit.ingress.process  2019-11-29T12:18:17.856Z   \n",
              "1     watchlist.hit.ingress.process  2019-11-29T12:18:17.856Z   \n",
              "2     watchlist.hit.ingress.process  2019-11-29T12:18:17.856Z   \n",
              "3     watchlist.hit.ingress.process  2019-11-29T12:18:17.856Z   \n",
              "4     watchlist.hit.ingress.process  2019-11-29T12:18:17.856Z   \n",
              "...                             ...                       ...   \n",
              "2495  watchlist.hit.ingress.process  2019-11-27T03:12:01.144Z   \n",
              "2496  watchlist.hit.ingress.process  2019-11-27T03:12:01.143Z   \n",
              "2497  watchlist.hit.ingress.process  2019-11-27T03:12:01.143Z   \n",
              "2498  watchlist.hit.ingress.process  2019-11-27T03:12:01.143Z   \n",
              "2499  watchlist.hit.ingress.process  2019-11-27T19:34:13.902Z   \n",
              "\n",
              "                              watchlist_id             tags  report_score  \\\n",
              "0                            CVE-2016-4171  ['carbonblack']            40   \n",
              "1                            CVE-2016-4181  ['carbonblack']            40   \n",
              "2                            CVE-2016-4138  ['carbonblack']            40   \n",
              "3                            CVE-2016-4128  ['carbonblack']            40   \n",
              "4                            CVE-2016-4227  ['carbonblack']            40   \n",
              "...                                    ...              ...           ...   \n",
              "2495                         CVE-2016-0995  ['carbonblack']            40   \n",
              "2496                         CVE-2016-1031  ['carbonblack']            40   \n",
              "2497                         CVE-2016-4284  ['carbonblack']            40   \n",
              "2498                         CVE-2016-4284  ['carbonblack']            40   \n",
              "2499  8fb984ee-b44c-4a68-992f-4f7aae23ae07  ['carbonblack']           100   \n",
              "\n",
              "      alert_severity  \n",
              "0               27.0  \n",
              "1               27.0  \n",
              "2               27.0  \n",
              "3               27.0  \n",
              "4               27.0  \n",
              "...              ...  \n",
              "2495            27.0  \n",
              "2496            27.0  \n",
              "2497            27.0  \n",
              "2498            27.0  \n",
              "2499            67.5  \n",
              "\n",
              "[2500 rows x 7 columns]"
            ],
            "text/html": [
              "\n",
              "  <div id=\"df-59380a2e-03e8-4d71-bfd9-e6b7876a5b38\">\n",
              "    <div class=\"colab-df-container\">\n",
              "      <div>\n",
              "<style scoped>\n",
              "    .dataframe tbody tr th:only-of-type {\n",
              "        vertical-align: middle;\n",
              "    }\n",
              "\n",
              "    .dataframe tbody tr th {\n",
              "        vertical-align: top;\n",
              "    }\n",
              "\n",
              "    .dataframe thead th {\n",
              "        text-align: right;\n",
              "    }\n",
              "</style>\n",
              "<table border=\"1\" class=\"dataframe\">\n",
              "  <thead>\n",
              "    <tr style=\"text-align: right;\">\n",
              "      <th></th>\n",
              "      <th>process_path</th>\n",
              "      <th>alert_type</th>\n",
              "      <th>@timestamp</th>\n",
              "      <th>watchlist_id</th>\n",
              "      <th>tags</th>\n",
              "      <th>report_score</th>\n",
              "      <th>alert_severity</th>\n",
              "    </tr>\n",
              "  </thead>\n",
              "  <tbody>\n",
              "    <tr>\n",
              "      <th>0</th>\n",
              "      <td>c:\\windows\\syswow64\\macromed\\flash\\flashplayer...</td>\n",
              "      <td>watchlist.hit.ingress.process</td>\n",
              "      <td>2019-11-29T12:18:17.856Z</td>\n",
              "      <td>CVE-2016-4171</td>\n",
              "      <td>['carbonblack']</td>\n",
              "      <td>40</td>\n",
              "      <td>27.0</td>\n",
              "    </tr>\n",
              "    <tr>\n",
              "      <th>1</th>\n",
              "      <td>c:\\windows\\syswow64\\macromed\\flash\\flashplayer...</td>\n",
              "      <td>watchlist.hit.ingress.process</td>\n",
              "      <td>2019-11-29T12:18:17.856Z</td>\n",
              "      <td>CVE-2016-4181</td>\n",
              "      <td>['carbonblack']</td>\n",
              "      <td>40</td>\n",
              "      <td>27.0</td>\n",
              "    </tr>\n",
              "    <tr>\n",
              "      <th>2</th>\n",
              "      <td>c:\\windows\\syswow64\\macromed\\flash\\flashplayer...</td>\n",
              "      <td>watchlist.hit.ingress.process</td>\n",
              "      <td>2019-11-29T12:18:17.856Z</td>\n",
              "      <td>CVE-2016-4138</td>\n",
              "      <td>['carbonblack']</td>\n",
              "      <td>40</td>\n",
              "      <td>27.0</td>\n",
              "    </tr>\n",
              "    <tr>\n",
              "      <th>3</th>\n",
              "      <td>c:\\windows\\syswow64\\macromed\\flash\\flashplayer...</td>\n",
              "      <td>watchlist.hit.ingress.process</td>\n",
              "      <td>2019-11-29T12:18:17.856Z</td>\n",
              "      <td>CVE-2016-4128</td>\n",
              "      <td>['carbonblack']</td>\n",
              "      <td>40</td>\n",
              "      <td>27.0</td>\n",
              "    </tr>\n",
              "    <tr>\n",
              "      <th>4</th>\n",
              "      <td>c:\\windows\\syswow64\\macromed\\flash\\flashplayer...</td>\n",
              "      <td>watchlist.hit.ingress.process</td>\n",
              "      <td>2019-11-29T12:18:17.856Z</td>\n",
              "      <td>CVE-2016-4227</td>\n",
              "      <td>['carbonblack']</td>\n",
              "      <td>40</td>\n",
              "      <td>27.0</td>\n",
              "    </tr>\n",
              "    <tr>\n",
              "      <th>...</th>\n",
              "      <td>...</td>\n",
              "      <td>...</td>\n",
              "      <td>...</td>\n",
              "      <td>...</td>\n",
              "      <td>...</td>\n",
              "      <td>...</td>\n",
              "      <td>...</td>\n",
              "    </tr>\n",
              "    <tr>\n",
              "      <th>2495</th>\n",
              "      <td>c:\\windows\\syswow64\\macromed\\flash\\flashplayer...</td>\n",
              "      <td>watchlist.hit.ingress.process</td>\n",
              "      <td>2019-11-27T03:12:01.144Z</td>\n",
              "      <td>CVE-2016-0995</td>\n",
              "      <td>['carbonblack']</td>\n",
              "      <td>40</td>\n",
              "      <td>27.0</td>\n",
              "    </tr>\n",
              "    <tr>\n",
              "      <th>2496</th>\n",
              "      <td>c:\\windows\\syswow64\\macromed\\flash\\flashplayer...</td>\n",
              "      <td>watchlist.hit.ingress.process</td>\n",
              "      <td>2019-11-27T03:12:01.143Z</td>\n",
              "      <td>CVE-2016-1031</td>\n",
              "      <td>['carbonblack']</td>\n",
              "      <td>40</td>\n",
              "      <td>27.0</td>\n",
              "    </tr>\n",
              "    <tr>\n",
              "      <th>2497</th>\n",
              "      <td>c:\\windows\\syswow64\\macromed\\flash\\flashplayer...</td>\n",
              "      <td>watchlist.hit.ingress.process</td>\n",
              "      <td>2019-11-27T03:12:01.143Z</td>\n",
              "      <td>CVE-2016-4284</td>\n",
              "      <td>['carbonblack']</td>\n",
              "      <td>40</td>\n",
              "      <td>27.0</td>\n",
              "    </tr>\n",
              "    <tr>\n",
              "      <th>2498</th>\n",
              "      <td>c:\\windows\\syswow64\\macromed\\flash\\flashplayer...</td>\n",
              "      <td>watchlist.hit.ingress.process</td>\n",
              "      <td>2019-11-27T03:12:01.143Z</td>\n",
              "      <td>CVE-2016-4284</td>\n",
              "      <td>['carbonblack']</td>\n",
              "      <td>40</td>\n",
              "      <td>27.0</td>\n",
              "    </tr>\n",
              "    <tr>\n",
              "      <th>2499</th>\n",
              "      <td>c:\\program files\\dell\\supportassistagent\\bin\\s...</td>\n",
              "      <td>watchlist.hit.ingress.process</td>\n",
              "      <td>2019-11-27T19:34:13.902Z</td>\n",
              "      <td>8fb984ee-b44c-4a68-992f-4f7aae23ae07</td>\n",
              "      <td>['carbonblack']</td>\n",
              "      <td>100</td>\n",
              "      <td>67.5</td>\n",
              "    </tr>\n",
              "  </tbody>\n",
              "</table>\n",
              "<p>2500 rows × 7 columns</p>\n",
              "</div>\n",
              "      <button class=\"colab-df-convert\" onclick=\"convertToInteractive('df-59380a2e-03e8-4d71-bfd9-e6b7876a5b38')\"\n",
              "              title=\"Convert this dataframe to an interactive table.\"\n",
              "              style=\"display:none;\">\n",
              "        \n",
              "  <svg xmlns=\"http://www.w3.org/2000/svg\" height=\"24px\"viewBox=\"0 0 24 24\"\n",
              "       width=\"24px\">\n",
              "    <path d=\"M0 0h24v24H0V0z\" fill=\"none\"/>\n",
              "    <path d=\"M18.56 5.44l.94 2.06.94-2.06 2.06-.94-2.06-.94-.94-2.06-.94 2.06-2.06.94zm-11 1L8.5 8.5l.94-2.06 2.06-.94-2.06-.94L8.5 2.5l-.94 2.06-2.06.94zm10 10l.94 2.06.94-2.06 2.06-.94-2.06-.94-.94-2.06-.94 2.06-2.06.94z\"/><path d=\"M17.41 7.96l-1.37-1.37c-.4-.4-.92-.59-1.43-.59-.52 0-1.04.2-1.43.59L10.3 9.45l-7.72 7.72c-.78.78-.78 2.05 0 2.83L4 21.41c.39.39.9.59 1.41.59.51 0 1.02-.2 1.41-.59l7.78-7.78 2.81-2.81c.8-.78.8-2.07 0-2.86zM5.41 20L4 18.59l7.72-7.72 1.47 1.35L5.41 20z\"/>\n",
              "  </svg>\n",
              "      </button>\n",
              "      \n",
              "  <style>\n",
              "    .colab-df-container {\n",
              "      display:flex;\n",
              "      flex-wrap:wrap;\n",
              "      gap: 12px;\n",
              "    }\n",
              "\n",
              "    .colab-df-convert {\n",
              "      background-color: #E8F0FE;\n",
              "      border: none;\n",
              "      border-radius: 50%;\n",
              "      cursor: pointer;\n",
              "      display: none;\n",
              "      fill: #1967D2;\n",
              "      height: 32px;\n",
              "      padding: 0 0 0 0;\n",
              "      width: 32px;\n",
              "    }\n",
              "\n",
              "    .colab-df-convert:hover {\n",
              "      background-color: #E2EBFA;\n",
              "      box-shadow: 0px 1px 2px rgba(60, 64, 67, 0.3), 0px 1px 3px 1px rgba(60, 64, 67, 0.15);\n",
              "      fill: #174EA6;\n",
              "    }\n",
              "\n",
              "    [theme=dark] .colab-df-convert {\n",
              "      background-color: #3B4455;\n",
              "      fill: #D2E3FC;\n",
              "    }\n",
              "\n",
              "    [theme=dark] .colab-df-convert:hover {\n",
              "      background-color: #434B5C;\n",
              "      box-shadow: 0px 1px 3px 1px rgba(0, 0, 0, 0.15);\n",
              "      filter: drop-shadow(0px 1px 2px rgba(0, 0, 0, 0.3));\n",
              "      fill: #FFFFFF;\n",
              "    }\n",
              "  </style>\n",
              "\n",
              "      <script>\n",
              "        const buttonEl =\n",
              "          document.querySelector('#df-59380a2e-03e8-4d71-bfd9-e6b7876a5b38 button.colab-df-convert');\n",
              "        buttonEl.style.display =\n",
              "          google.colab.kernel.accessAllowed ? 'block' : 'none';\n",
              "\n",
              "        async function convertToInteractive(key) {\n",
              "          const element = document.querySelector('#df-59380a2e-03e8-4d71-bfd9-e6b7876a5b38');\n",
              "          const dataTable =\n",
              "            await google.colab.kernel.invokeFunction('convertToInteractive',\n",
              "                                                     [key], {});\n",
              "          if (!dataTable) return;\n",
              "\n",
              "          const docLinkHtml = 'Like what you see? Visit the ' +\n",
              "            '<a target=\"_blank\" href=https://colab.research.google.com/notebooks/data_table.ipynb>data table notebook</a>'\n",
              "            + ' to learn more about interactive tables.';\n",
              "          element.innerHTML = '';\n",
              "          dataTable['output_type'] = 'display_data';\n",
              "          await google.colab.output.renderOutput(dataTable, element);\n",
              "          const docLink = document.createElement('div');\n",
              "          docLink.innerHTML = docLinkHtml;\n",
              "          element.appendChild(docLink);\n",
              "        }\n",
              "      </script>\n",
              "    </div>\n",
              "  </div>\n",
              "  "
            ]
          },
          "metadata": {},
          "execution_count": 8
        }
      ]
    },
    {
      "cell_type": "code",
      "source": [
        "ds.dtypes"
      ],
      "metadata": {
        "colab": {
          "base_uri": "https://localhost:8080/"
        },
        "id": "Onc7tAqEBses",
        "outputId": "ca2b5e60-1e84-4d00-e88e-f6ea1c7c6bd4"
      },
      "execution_count": null,
      "outputs": [
        {
          "output_type": "execute_result",
          "data": {
            "text/plain": [
              "process_path       object\n",
              "alert_type         object\n",
              "@timestamp         object\n",
              "watchlist_id       object\n",
              "tags               object\n",
              "report_score        int64\n",
              "alert_severity    float64\n",
              "dtype: object"
            ]
          },
          "metadata": {},
          "execution_count": 9
        }
      ]
    },
    {
      "cell_type": "code",
      "source": [
        "df=ds"
      ],
      "metadata": {
        "id": "tPgI16IfEjUW"
      },
      "execution_count": null,
      "outputs": []
    },
    {
      "cell_type": "code",
      "source": [
        "#Preprocessing\n",
        "#applying the labelencoder for datatype convertion\n",
        "from sklearn.preprocessing  import LabelEncoder\n",
        "label_encoder=LabelEncoder()\n",
        "df['process_path']=label_encoder.fit_transform(df['process_path'].astype(str))\n",
        "df['alert_type']=label_encoder.fit_transform(df['alert_type'].astype(str))\n",
        "df['watchlist_id']=label_encoder.fit_transform(df['watchlist_id'].astype(str))\n",
        "df['tags']=label_encoder.fit_transform(df['tags'].astype(str))\n"
      ],
      "metadata": {
        "colab": {
          "base_uri": "https://localhost:8080/"
        },
        "id": "hKu7KDflCZwV",
        "outputId": "2f5e4f5b-5a13-4ffb-96fc-acc6dca066a6"
      },
      "execution_count": null,
      "outputs": [
        {
          "output_type": "stream",
          "name": "stderr",
          "text": [
            "/usr/local/lib/python3.7/dist-packages/ipykernel_launcher.py:5: SettingWithCopyWarning: \n",
            "A value is trying to be set on a copy of a slice from a DataFrame.\n",
            "Try using .loc[row_indexer,col_indexer] = value instead\n",
            "\n",
            "See the caveats in the documentation: https://pandas.pydata.org/pandas-docs/stable/user_guide/indexing.html#returning-a-view-versus-a-copy\n",
            "  \"\"\"\n",
            "/usr/local/lib/python3.7/dist-packages/ipykernel_launcher.py:6: SettingWithCopyWarning: \n",
            "A value is trying to be set on a copy of a slice from a DataFrame.\n",
            "Try using .loc[row_indexer,col_indexer] = value instead\n",
            "\n",
            "See the caveats in the documentation: https://pandas.pydata.org/pandas-docs/stable/user_guide/indexing.html#returning-a-view-versus-a-copy\n",
            "  \n",
            "/usr/local/lib/python3.7/dist-packages/ipykernel_launcher.py:7: SettingWithCopyWarning: \n",
            "A value is trying to be set on a copy of a slice from a DataFrame.\n",
            "Try using .loc[row_indexer,col_indexer] = value instead\n",
            "\n",
            "See the caveats in the documentation: https://pandas.pydata.org/pandas-docs/stable/user_guide/indexing.html#returning-a-view-versus-a-copy\n",
            "  import sys\n",
            "/usr/local/lib/python3.7/dist-packages/ipykernel_launcher.py:8: SettingWithCopyWarning: \n",
            "A value is trying to be set on a copy of a slice from a DataFrame.\n",
            "Try using .loc[row_indexer,col_indexer] = value instead\n",
            "\n",
            "See the caveats in the documentation: https://pandas.pydata.org/pandas-docs/stable/user_guide/indexing.html#returning-a-view-versus-a-copy\n",
            "  \n"
          ]
        }
      ]
    },
    {
      "cell_type": "code",
      "source": [
        "df.dtypes"
      ],
      "metadata": {
        "colab": {
          "base_uri": "https://localhost:8080/"
        },
        "id": "6sUHnkmWEUC8",
        "outputId": "08ba535c-2681-4a62-8646-fd0a024fa6a4"
      },
      "execution_count": null,
      "outputs": [
        {
          "output_type": "execute_result",
          "data": {
            "text/plain": [
              "process_path        int64\n",
              "alert_type          int64\n",
              "@timestamp         object\n",
              "watchlist_id        int64\n",
              "tags                int64\n",
              "report_score        int64\n",
              "alert_severity    float64\n",
              "dtype: object"
            ]
          },
          "metadata": {},
          "execution_count": 12
        }
      ]
    },
    {
      "cell_type": "code",
      "source": [
        "pd.to_datetime(df['@timestamp'])"
      ],
      "metadata": {
        "colab": {
          "base_uri": "https://localhost:8080/"
        },
        "id": "H4ZpwER8ErkH",
        "outputId": "798f85b7-d4c6-4667-a867-a0a7449e415e"
      },
      "execution_count": null,
      "outputs": [
        {
          "output_type": "execute_result",
          "data": {
            "text/plain": [
              "0      2019-11-29 12:18:17.856000+00:00\n",
              "1      2019-11-29 12:18:17.856000+00:00\n",
              "2      2019-11-29 12:18:17.856000+00:00\n",
              "3      2019-11-29 12:18:17.856000+00:00\n",
              "4      2019-11-29 12:18:17.856000+00:00\n",
              "                     ...               \n",
              "2495   2019-11-27 03:12:01.144000+00:00\n",
              "2496   2019-11-27 03:12:01.143000+00:00\n",
              "2497   2019-11-27 03:12:01.143000+00:00\n",
              "2498   2019-11-27 03:12:01.143000+00:00\n",
              "2499   2019-11-27 19:34:13.902000+00:00\n",
              "Name: @timestamp, Length: 2500, dtype: datetime64[ns, UTC]"
            ]
          },
          "metadata": {},
          "execution_count": 13
        }
      ]
    },
    {
      "cell_type": "code",
      "source": [
        "df['@timestamp']=label_encoder.fit_transform(df['@timestamp'].astype(str))"
      ],
      "metadata": {
        "colab": {
          "base_uri": "https://localhost:8080/"
        },
        "id": "YvkEpXMAHV3e",
        "outputId": "1fd95947-85e6-4eff-fdd2-ada623909264"
      },
      "execution_count": null,
      "outputs": [
        {
          "output_type": "stream",
          "name": "stderr",
          "text": [
            "/usr/local/lib/python3.7/dist-packages/ipykernel_launcher.py:1: SettingWithCopyWarning: \n",
            "A value is trying to be set on a copy of a slice from a DataFrame.\n",
            "Try using .loc[row_indexer,col_indexer] = value instead\n",
            "\n",
            "See the caveats in the documentation: https://pandas.pydata.org/pandas-docs/stable/user_guide/indexing.html#returning-a-view-versus-a-copy\n",
            "  \"\"\"Entry point for launching an IPython kernel.\n"
          ]
        }
      ]
    },
    {
      "cell_type": "code",
      "source": [
        "df"
      ],
      "metadata": {
        "colab": {
          "base_uri": "https://localhost:8080/",
          "height": 424
        },
        "id": "coiTAAZAJLE1",
        "outputId": "8e42262b-b9f8-485d-deb9-0916e30eee29"
      },
      "execution_count": null,
      "outputs": [
        {
          "output_type": "execute_result",
          "data": {
            "text/plain": [
              "      process_path  alert_type  @timestamp  watchlist_id  tags  report_score  \\\n",
              "0                4           0          35            23     0            40   \n",
              "1                4           0          35            25     0            40   \n",
              "2                4           0          35            20     0            40   \n",
              "3                4           0          35            19     0            40   \n",
              "4                4           0          35            28     0            40   \n",
              "...            ...         ...         ...           ...   ...           ...   \n",
              "2495             4           0           1            10     0            40   \n",
              "2496             4           0           0            17     0            40   \n",
              "2497             4           0           0            32     0            40   \n",
              "2498             4           0           0            32     0            40   \n",
              "2499             1           0          22             2     0           100   \n",
              "\n",
              "      alert_severity  \n",
              "0               27.0  \n",
              "1               27.0  \n",
              "2               27.0  \n",
              "3               27.0  \n",
              "4               27.0  \n",
              "...              ...  \n",
              "2495            27.0  \n",
              "2496            27.0  \n",
              "2497            27.0  \n",
              "2498            27.0  \n",
              "2499            67.5  \n",
              "\n",
              "[2500 rows x 7 columns]"
            ],
            "text/html": [
              "\n",
              "  <div id=\"df-a809f881-a7f4-4b4e-9417-619a385b6fdd\">\n",
              "    <div class=\"colab-df-container\">\n",
              "      <div>\n",
              "<style scoped>\n",
              "    .dataframe tbody tr th:only-of-type {\n",
              "        vertical-align: middle;\n",
              "    }\n",
              "\n",
              "    .dataframe tbody tr th {\n",
              "        vertical-align: top;\n",
              "    }\n",
              "\n",
              "    .dataframe thead th {\n",
              "        text-align: right;\n",
              "    }\n",
              "</style>\n",
              "<table border=\"1\" class=\"dataframe\">\n",
              "  <thead>\n",
              "    <tr style=\"text-align: right;\">\n",
              "      <th></th>\n",
              "      <th>process_path</th>\n",
              "      <th>alert_type</th>\n",
              "      <th>@timestamp</th>\n",
              "      <th>watchlist_id</th>\n",
              "      <th>tags</th>\n",
              "      <th>report_score</th>\n",
              "      <th>alert_severity</th>\n",
              "    </tr>\n",
              "  </thead>\n",
              "  <tbody>\n",
              "    <tr>\n",
              "      <th>0</th>\n",
              "      <td>4</td>\n",
              "      <td>0</td>\n",
              "      <td>35</td>\n",
              "      <td>23</td>\n",
              "      <td>0</td>\n",
              "      <td>40</td>\n",
              "      <td>27.0</td>\n",
              "    </tr>\n",
              "    <tr>\n",
              "      <th>1</th>\n",
              "      <td>4</td>\n",
              "      <td>0</td>\n",
              "      <td>35</td>\n",
              "      <td>25</td>\n",
              "      <td>0</td>\n",
              "      <td>40</td>\n",
              "      <td>27.0</td>\n",
              "    </tr>\n",
              "    <tr>\n",
              "      <th>2</th>\n",
              "      <td>4</td>\n",
              "      <td>0</td>\n",
              "      <td>35</td>\n",
              "      <td>20</td>\n",
              "      <td>0</td>\n",
              "      <td>40</td>\n",
              "      <td>27.0</td>\n",
              "    </tr>\n",
              "    <tr>\n",
              "      <th>3</th>\n",
              "      <td>4</td>\n",
              "      <td>0</td>\n",
              "      <td>35</td>\n",
              "      <td>19</td>\n",
              "      <td>0</td>\n",
              "      <td>40</td>\n",
              "      <td>27.0</td>\n",
              "    </tr>\n",
              "    <tr>\n",
              "      <th>4</th>\n",
              "      <td>4</td>\n",
              "      <td>0</td>\n",
              "      <td>35</td>\n",
              "      <td>28</td>\n",
              "      <td>0</td>\n",
              "      <td>40</td>\n",
              "      <td>27.0</td>\n",
              "    </tr>\n",
              "    <tr>\n",
              "      <th>...</th>\n",
              "      <td>...</td>\n",
              "      <td>...</td>\n",
              "      <td>...</td>\n",
              "      <td>...</td>\n",
              "      <td>...</td>\n",
              "      <td>...</td>\n",
              "      <td>...</td>\n",
              "    </tr>\n",
              "    <tr>\n",
              "      <th>2495</th>\n",
              "      <td>4</td>\n",
              "      <td>0</td>\n",
              "      <td>1</td>\n",
              "      <td>10</td>\n",
              "      <td>0</td>\n",
              "      <td>40</td>\n",
              "      <td>27.0</td>\n",
              "    </tr>\n",
              "    <tr>\n",
              "      <th>2496</th>\n",
              "      <td>4</td>\n",
              "      <td>0</td>\n",
              "      <td>0</td>\n",
              "      <td>17</td>\n",
              "      <td>0</td>\n",
              "      <td>40</td>\n",
              "      <td>27.0</td>\n",
              "    </tr>\n",
              "    <tr>\n",
              "      <th>2497</th>\n",
              "      <td>4</td>\n",
              "      <td>0</td>\n",
              "      <td>0</td>\n",
              "      <td>32</td>\n",
              "      <td>0</td>\n",
              "      <td>40</td>\n",
              "      <td>27.0</td>\n",
              "    </tr>\n",
              "    <tr>\n",
              "      <th>2498</th>\n",
              "      <td>4</td>\n",
              "      <td>0</td>\n",
              "      <td>0</td>\n",
              "      <td>32</td>\n",
              "      <td>0</td>\n",
              "      <td>40</td>\n",
              "      <td>27.0</td>\n",
              "    </tr>\n",
              "    <tr>\n",
              "      <th>2499</th>\n",
              "      <td>1</td>\n",
              "      <td>0</td>\n",
              "      <td>22</td>\n",
              "      <td>2</td>\n",
              "      <td>0</td>\n",
              "      <td>100</td>\n",
              "      <td>67.5</td>\n",
              "    </tr>\n",
              "  </tbody>\n",
              "</table>\n",
              "<p>2500 rows × 7 columns</p>\n",
              "</div>\n",
              "      <button class=\"colab-df-convert\" onclick=\"convertToInteractive('df-a809f881-a7f4-4b4e-9417-619a385b6fdd')\"\n",
              "              title=\"Convert this dataframe to an interactive table.\"\n",
              "              style=\"display:none;\">\n",
              "        \n",
              "  <svg xmlns=\"http://www.w3.org/2000/svg\" height=\"24px\"viewBox=\"0 0 24 24\"\n",
              "       width=\"24px\">\n",
              "    <path d=\"M0 0h24v24H0V0z\" fill=\"none\"/>\n",
              "    <path d=\"M18.56 5.44l.94 2.06.94-2.06 2.06-.94-2.06-.94-.94-2.06-.94 2.06-2.06.94zm-11 1L8.5 8.5l.94-2.06 2.06-.94-2.06-.94L8.5 2.5l-.94 2.06-2.06.94zm10 10l.94 2.06.94-2.06 2.06-.94-2.06-.94-.94-2.06-.94 2.06-2.06.94z\"/><path d=\"M17.41 7.96l-1.37-1.37c-.4-.4-.92-.59-1.43-.59-.52 0-1.04.2-1.43.59L10.3 9.45l-7.72 7.72c-.78.78-.78 2.05 0 2.83L4 21.41c.39.39.9.59 1.41.59.51 0 1.02-.2 1.41-.59l7.78-7.78 2.81-2.81c.8-.78.8-2.07 0-2.86zM5.41 20L4 18.59l7.72-7.72 1.47 1.35L5.41 20z\"/>\n",
              "  </svg>\n",
              "      </button>\n",
              "      \n",
              "  <style>\n",
              "    .colab-df-container {\n",
              "      display:flex;\n",
              "      flex-wrap:wrap;\n",
              "      gap: 12px;\n",
              "    }\n",
              "\n",
              "    .colab-df-convert {\n",
              "      background-color: #E8F0FE;\n",
              "      border: none;\n",
              "      border-radius: 50%;\n",
              "      cursor: pointer;\n",
              "      display: none;\n",
              "      fill: #1967D2;\n",
              "      height: 32px;\n",
              "      padding: 0 0 0 0;\n",
              "      width: 32px;\n",
              "    }\n",
              "\n",
              "    .colab-df-convert:hover {\n",
              "      background-color: #E2EBFA;\n",
              "      box-shadow: 0px 1px 2px rgba(60, 64, 67, 0.3), 0px 1px 3px 1px rgba(60, 64, 67, 0.15);\n",
              "      fill: #174EA6;\n",
              "    }\n",
              "\n",
              "    [theme=dark] .colab-df-convert {\n",
              "      background-color: #3B4455;\n",
              "      fill: #D2E3FC;\n",
              "    }\n",
              "\n",
              "    [theme=dark] .colab-df-convert:hover {\n",
              "      background-color: #434B5C;\n",
              "      box-shadow: 0px 1px 3px 1px rgba(0, 0, 0, 0.15);\n",
              "      filter: drop-shadow(0px 1px 2px rgba(0, 0, 0, 0.3));\n",
              "      fill: #FFFFFF;\n",
              "    }\n",
              "  </style>\n",
              "\n",
              "      <script>\n",
              "        const buttonEl =\n",
              "          document.querySelector('#df-a809f881-a7f4-4b4e-9417-619a385b6fdd button.colab-df-convert');\n",
              "        buttonEl.style.display =\n",
              "          google.colab.kernel.accessAllowed ? 'block' : 'none';\n",
              "\n",
              "        async function convertToInteractive(key) {\n",
              "          const element = document.querySelector('#df-a809f881-a7f4-4b4e-9417-619a385b6fdd');\n",
              "          const dataTable =\n",
              "            await google.colab.kernel.invokeFunction('convertToInteractive',\n",
              "                                                     [key], {});\n",
              "          if (!dataTable) return;\n",
              "\n",
              "          const docLinkHtml = 'Like what you see? Visit the ' +\n",
              "            '<a target=\"_blank\" href=https://colab.research.google.com/notebooks/data_table.ipynb>data table notebook</a>'\n",
              "            + ' to learn more about interactive tables.';\n",
              "          element.innerHTML = '';\n",
              "          dataTable['output_type'] = 'display_data';\n",
              "          await google.colab.output.renderOutput(dataTable, element);\n",
              "          const docLink = document.createElement('div');\n",
              "          docLink.innerHTML = docLinkHtml;\n",
              "          element.appendChild(docLink);\n",
              "        }\n",
              "      </script>\n",
              "    </div>\n",
              "  </div>\n",
              "  "
            ]
          },
          "metadata": {},
          "execution_count": 15
        }
      ]
    },
    {
      "cell_type": "code",
      "source": [
        "df.dtypes"
      ],
      "metadata": {
        "colab": {
          "base_uri": "https://localhost:8080/"
        },
        "id": "JnH39uDGJTc3",
        "outputId": "7e6ec333-56d3-446a-e8b3-27940f73ab1d"
      },
      "execution_count": null,
      "outputs": [
        {
          "output_type": "execute_result",
          "data": {
            "text/plain": [
              "process_path        int64\n",
              "alert_type          int64\n",
              "@timestamp          int64\n",
              "watchlist_id        int64\n",
              "tags                int64\n",
              "report_score        int64\n",
              "alert_severity    float64\n",
              "dtype: object"
            ]
          },
          "metadata": {},
          "execution_count": 16
        }
      ]
    },
    {
      "cell_type": "code",
      "source": [
        "df.loc[(df['report_score'] >=10) & (df['report_score'] <= 39), 'class'] = \"LowRisk\"  \n",
        "df.loc[(df['report_score'] >=40) & (df['report_score'] <= 69), 'class'] = \"MediumRisk\" \n",
        "df.loc[(df['report_score'] >=70) & (df['report_score'] <= 89), 'class'] = \"HighRisk\" \n",
        "df.loc[(df['report_score'] >=90) & (df['report_score'] <= 100), 'class'] = \"Critical\" "
      ],
      "metadata": {
        "colab": {
          "base_uri": "https://localhost:8080/"
        },
        "id": "dWB1jfJmS-OL",
        "outputId": "e62e4619-e531-49c8-821d-727da9050bd8"
      },
      "execution_count": null,
      "outputs": [
        {
          "output_type": "stream",
          "name": "stderr",
          "text": [
            "/usr/local/lib/python3.7/dist-packages/pandas/core/indexing.py:1684: SettingWithCopyWarning: \n",
            "A value is trying to be set on a copy of a slice from a DataFrame.\n",
            "Try using .loc[row_indexer,col_indexer] = value instead\n",
            "\n",
            "See the caveats in the documentation: https://pandas.pydata.org/pandas-docs/stable/user_guide/indexing.html#returning-a-view-versus-a-copy\n",
            "  self.obj[key] = infer_fill_value(value)\n",
            "/usr/local/lib/python3.7/dist-packages/pandas/core/indexing.py:1817: SettingWithCopyWarning: \n",
            "A value is trying to be set on a copy of a slice from a DataFrame.\n",
            "Try using .loc[row_indexer,col_indexer] = value instead\n",
            "\n",
            "See the caveats in the documentation: https://pandas.pydata.org/pandas-docs/stable/user_guide/indexing.html#returning-a-view-versus-a-copy\n",
            "  self._setitem_single_column(loc, value, pi)\n"
          ]
        }
      ]
    },
    {
      "cell_type": "code",
      "source": [
        "def cdc(report_score):\n",
        "    if report_score=='LowRisk':\n",
        "        return 0\n",
        "    elif report_score == 'MediumRisk':\n",
        "        return 1\n",
        "    elif report_score =='HighRisk':\n",
        "        return 2\n",
        "    elif report_score=='Critical':\n",
        "        return 3"
      ],
      "metadata": {
        "id": "yWIa8BbQTo1w"
      },
      "execution_count": null,
      "outputs": []
    },
    {
      "cell_type": "code",
      "source": [
        "df['class'] = df['class'].apply(cdc)\n",
        "df"
      ],
      "metadata": {
        "colab": {
          "base_uri": "https://localhost:8080/",
          "height": 528
        },
        "id": "X__VdfByTuZC",
        "outputId": "c0b97fa8-5696-44c4-bb93-fa022c4482d2"
      },
      "execution_count": null,
      "outputs": [
        {
          "output_type": "stream",
          "name": "stderr",
          "text": [
            "/usr/local/lib/python3.7/dist-packages/ipykernel_launcher.py:1: SettingWithCopyWarning: \n",
            "A value is trying to be set on a copy of a slice from a DataFrame.\n",
            "Try using .loc[row_indexer,col_indexer] = value instead\n",
            "\n",
            "See the caveats in the documentation: https://pandas.pydata.org/pandas-docs/stable/user_guide/indexing.html#returning-a-view-versus-a-copy\n",
            "  \"\"\"Entry point for launching an IPython kernel.\n"
          ]
        },
        {
          "output_type": "execute_result",
          "data": {
            "text/plain": [
              "      process_path  alert_type  @timestamp  watchlist_id  tags  report_score  \\\n",
              "0                4           0          35            23     0            40   \n",
              "1                4           0          35            25     0            40   \n",
              "2                4           0          35            20     0            40   \n",
              "3                4           0          35            19     0            40   \n",
              "4                4           0          35            28     0            40   \n",
              "...            ...         ...         ...           ...   ...           ...   \n",
              "2495             4           0           1            10     0            40   \n",
              "2496             4           0           0            17     0            40   \n",
              "2497             4           0           0            32     0            40   \n",
              "2498             4           0           0            32     0            40   \n",
              "2499             1           0          22             2     0           100   \n",
              "\n",
              "      alert_severity  class  \n",
              "0               27.0      1  \n",
              "1               27.0      1  \n",
              "2               27.0      1  \n",
              "3               27.0      1  \n",
              "4               27.0      1  \n",
              "...              ...    ...  \n",
              "2495            27.0      1  \n",
              "2496            27.0      1  \n",
              "2497            27.0      1  \n",
              "2498            27.0      1  \n",
              "2499            67.5      3  \n",
              "\n",
              "[2500 rows x 8 columns]"
            ],
            "text/html": [
              "\n",
              "  <div id=\"df-9a9e9aa4-3db5-41be-ad0f-57fe393d6ccd\">\n",
              "    <div class=\"colab-df-container\">\n",
              "      <div>\n",
              "<style scoped>\n",
              "    .dataframe tbody tr th:only-of-type {\n",
              "        vertical-align: middle;\n",
              "    }\n",
              "\n",
              "    .dataframe tbody tr th {\n",
              "        vertical-align: top;\n",
              "    }\n",
              "\n",
              "    .dataframe thead th {\n",
              "        text-align: right;\n",
              "    }\n",
              "</style>\n",
              "<table border=\"1\" class=\"dataframe\">\n",
              "  <thead>\n",
              "    <tr style=\"text-align: right;\">\n",
              "      <th></th>\n",
              "      <th>process_path</th>\n",
              "      <th>alert_type</th>\n",
              "      <th>@timestamp</th>\n",
              "      <th>watchlist_id</th>\n",
              "      <th>tags</th>\n",
              "      <th>report_score</th>\n",
              "      <th>alert_severity</th>\n",
              "      <th>class</th>\n",
              "    </tr>\n",
              "  </thead>\n",
              "  <tbody>\n",
              "    <tr>\n",
              "      <th>0</th>\n",
              "      <td>4</td>\n",
              "      <td>0</td>\n",
              "      <td>35</td>\n",
              "      <td>23</td>\n",
              "      <td>0</td>\n",
              "      <td>40</td>\n",
              "      <td>27.0</td>\n",
              "      <td>1</td>\n",
              "    </tr>\n",
              "    <tr>\n",
              "      <th>1</th>\n",
              "      <td>4</td>\n",
              "      <td>0</td>\n",
              "      <td>35</td>\n",
              "      <td>25</td>\n",
              "      <td>0</td>\n",
              "      <td>40</td>\n",
              "      <td>27.0</td>\n",
              "      <td>1</td>\n",
              "    </tr>\n",
              "    <tr>\n",
              "      <th>2</th>\n",
              "      <td>4</td>\n",
              "      <td>0</td>\n",
              "      <td>35</td>\n",
              "      <td>20</td>\n",
              "      <td>0</td>\n",
              "      <td>40</td>\n",
              "      <td>27.0</td>\n",
              "      <td>1</td>\n",
              "    </tr>\n",
              "    <tr>\n",
              "      <th>3</th>\n",
              "      <td>4</td>\n",
              "      <td>0</td>\n",
              "      <td>35</td>\n",
              "      <td>19</td>\n",
              "      <td>0</td>\n",
              "      <td>40</td>\n",
              "      <td>27.0</td>\n",
              "      <td>1</td>\n",
              "    </tr>\n",
              "    <tr>\n",
              "      <th>4</th>\n",
              "      <td>4</td>\n",
              "      <td>0</td>\n",
              "      <td>35</td>\n",
              "      <td>28</td>\n",
              "      <td>0</td>\n",
              "      <td>40</td>\n",
              "      <td>27.0</td>\n",
              "      <td>1</td>\n",
              "    </tr>\n",
              "    <tr>\n",
              "      <th>...</th>\n",
              "      <td>...</td>\n",
              "      <td>...</td>\n",
              "      <td>...</td>\n",
              "      <td>...</td>\n",
              "      <td>...</td>\n",
              "      <td>...</td>\n",
              "      <td>...</td>\n",
              "      <td>...</td>\n",
              "    </tr>\n",
              "    <tr>\n",
              "      <th>2495</th>\n",
              "      <td>4</td>\n",
              "      <td>0</td>\n",
              "      <td>1</td>\n",
              "      <td>10</td>\n",
              "      <td>0</td>\n",
              "      <td>40</td>\n",
              "      <td>27.0</td>\n",
              "      <td>1</td>\n",
              "    </tr>\n",
              "    <tr>\n",
              "      <th>2496</th>\n",
              "      <td>4</td>\n",
              "      <td>0</td>\n",
              "      <td>0</td>\n",
              "      <td>17</td>\n",
              "      <td>0</td>\n",
              "      <td>40</td>\n",
              "      <td>27.0</td>\n",
              "      <td>1</td>\n",
              "    </tr>\n",
              "    <tr>\n",
              "      <th>2497</th>\n",
              "      <td>4</td>\n",
              "      <td>0</td>\n",
              "      <td>0</td>\n",
              "      <td>32</td>\n",
              "      <td>0</td>\n",
              "      <td>40</td>\n",
              "      <td>27.0</td>\n",
              "      <td>1</td>\n",
              "    </tr>\n",
              "    <tr>\n",
              "      <th>2498</th>\n",
              "      <td>4</td>\n",
              "      <td>0</td>\n",
              "      <td>0</td>\n",
              "      <td>32</td>\n",
              "      <td>0</td>\n",
              "      <td>40</td>\n",
              "      <td>27.0</td>\n",
              "      <td>1</td>\n",
              "    </tr>\n",
              "    <tr>\n",
              "      <th>2499</th>\n",
              "      <td>1</td>\n",
              "      <td>0</td>\n",
              "      <td>22</td>\n",
              "      <td>2</td>\n",
              "      <td>0</td>\n",
              "      <td>100</td>\n",
              "      <td>67.5</td>\n",
              "      <td>3</td>\n",
              "    </tr>\n",
              "  </tbody>\n",
              "</table>\n",
              "<p>2500 rows × 8 columns</p>\n",
              "</div>\n",
              "      <button class=\"colab-df-convert\" onclick=\"convertToInteractive('df-9a9e9aa4-3db5-41be-ad0f-57fe393d6ccd')\"\n",
              "              title=\"Convert this dataframe to an interactive table.\"\n",
              "              style=\"display:none;\">\n",
              "        \n",
              "  <svg xmlns=\"http://www.w3.org/2000/svg\" height=\"24px\"viewBox=\"0 0 24 24\"\n",
              "       width=\"24px\">\n",
              "    <path d=\"M0 0h24v24H0V0z\" fill=\"none\"/>\n",
              "    <path d=\"M18.56 5.44l.94 2.06.94-2.06 2.06-.94-2.06-.94-.94-2.06-.94 2.06-2.06.94zm-11 1L8.5 8.5l.94-2.06 2.06-.94-2.06-.94L8.5 2.5l-.94 2.06-2.06.94zm10 10l.94 2.06.94-2.06 2.06-.94-2.06-.94-.94-2.06-.94 2.06-2.06.94z\"/><path d=\"M17.41 7.96l-1.37-1.37c-.4-.4-.92-.59-1.43-.59-.52 0-1.04.2-1.43.59L10.3 9.45l-7.72 7.72c-.78.78-.78 2.05 0 2.83L4 21.41c.39.39.9.59 1.41.59.51 0 1.02-.2 1.41-.59l7.78-7.78 2.81-2.81c.8-.78.8-2.07 0-2.86zM5.41 20L4 18.59l7.72-7.72 1.47 1.35L5.41 20z\"/>\n",
              "  </svg>\n",
              "      </button>\n",
              "      \n",
              "  <style>\n",
              "    .colab-df-container {\n",
              "      display:flex;\n",
              "      flex-wrap:wrap;\n",
              "      gap: 12px;\n",
              "    }\n",
              "\n",
              "    .colab-df-convert {\n",
              "      background-color: #E8F0FE;\n",
              "      border: none;\n",
              "      border-radius: 50%;\n",
              "      cursor: pointer;\n",
              "      display: none;\n",
              "      fill: #1967D2;\n",
              "      height: 32px;\n",
              "      padding: 0 0 0 0;\n",
              "      width: 32px;\n",
              "    }\n",
              "\n",
              "    .colab-df-convert:hover {\n",
              "      background-color: #E2EBFA;\n",
              "      box-shadow: 0px 1px 2px rgba(60, 64, 67, 0.3), 0px 1px 3px 1px rgba(60, 64, 67, 0.15);\n",
              "      fill: #174EA6;\n",
              "    }\n",
              "\n",
              "    [theme=dark] .colab-df-convert {\n",
              "      background-color: #3B4455;\n",
              "      fill: #D2E3FC;\n",
              "    }\n",
              "\n",
              "    [theme=dark] .colab-df-convert:hover {\n",
              "      background-color: #434B5C;\n",
              "      box-shadow: 0px 1px 3px 1px rgba(0, 0, 0, 0.15);\n",
              "      filter: drop-shadow(0px 1px 2px rgba(0, 0, 0, 0.3));\n",
              "      fill: #FFFFFF;\n",
              "    }\n",
              "  </style>\n",
              "\n",
              "      <script>\n",
              "        const buttonEl =\n",
              "          document.querySelector('#df-9a9e9aa4-3db5-41be-ad0f-57fe393d6ccd button.colab-df-convert');\n",
              "        buttonEl.style.display =\n",
              "          google.colab.kernel.accessAllowed ? 'block' : 'none';\n",
              "\n",
              "        async function convertToInteractive(key) {\n",
              "          const element = document.querySelector('#df-9a9e9aa4-3db5-41be-ad0f-57fe393d6ccd');\n",
              "          const dataTable =\n",
              "            await google.colab.kernel.invokeFunction('convertToInteractive',\n",
              "                                                     [key], {});\n",
              "          if (!dataTable) return;\n",
              "\n",
              "          const docLinkHtml = 'Like what you see? Visit the ' +\n",
              "            '<a target=\"_blank\" href=https://colab.research.google.com/notebooks/data_table.ipynb>data table notebook</a>'\n",
              "            + ' to learn more about interactive tables.';\n",
              "          element.innerHTML = '';\n",
              "          dataTable['output_type'] = 'display_data';\n",
              "          await google.colab.output.renderOutput(dataTable, element);\n",
              "          const docLink = document.createElement('div');\n",
              "          docLink.innerHTML = docLinkHtml;\n",
              "          element.appendChild(docLink);\n",
              "        }\n",
              "      </script>\n",
              "    </div>\n",
              "  </div>\n",
              "  "
            ]
          },
          "metadata": {},
          "execution_count": 19
        }
      ]
    },
    {
      "cell_type": "code",
      "source": [
        "df.dtypes"
      ],
      "metadata": {
        "colab": {
          "base_uri": "https://localhost:8080/"
        },
        "id": "nE2ZdNrBIves",
        "outputId": "abf5780d-9e2c-474a-87c7-494b8703f3a1"
      },
      "execution_count": null,
      "outputs": [
        {
          "output_type": "execute_result",
          "data": {
            "text/plain": [
              "process_path        int64\n",
              "alert_type          int64\n",
              "@timestamp          int64\n",
              "watchlist_id        int64\n",
              "tags                int64\n",
              "report_score        int64\n",
              "alert_severity    float64\n",
              "class               int64\n",
              "dtype: object"
            ]
          },
          "metadata": {},
          "execution_count": 20
        }
      ]
    },
    {
      "cell_type": "code",
      "source": [
        "x=df.drop([\"class\",\"report_score\"],axis=1)\n",
        "y=df[\"class\"]"
      ],
      "metadata": {
        "id": "0QRitHNPTwnz"
      },
      "execution_count": null,
      "outputs": []
    },
    {
      "cell_type": "code",
      "source": [
        "from sklearn.preprocessing import StandardScaler\n",
        "sc=StandardScaler()\n",
        "sc.fit(df)\n",
        "x_df=sc.transform(df)\n",
        "\n",
        "\n"
      ],
      "metadata": {
        "id": "YsSrScY8T7NS"
      },
      "execution_count": null,
      "outputs": []
    },
    {
      "cell_type": "code",
      "source": [
        "from sklearn.model_selection import train_test_split\n",
        "\n",
        "x_train,x_test,y_train,y_test=train_test_split(x_df,y,test_size=0.2,random_state=42)\n",
        "#X_train, X_test, y_train, y_test = train_test_split(x, y, test_size=0.2, random_state=42)\n",
        "x_train\n",
        "x_test"
      ],
      "metadata": {
        "colab": {
          "base_uri": "https://localhost:8080/"
        },
        "id": "HB2mjf9LUYte",
        "outputId": "d491e2d1-79d2-4cca-c128-96277e64ed80"
      },
      "execution_count": null,
      "outputs": [
        {
          "output_type": "execute_result",
          "data": {
            "text/plain": [
              "array([[ 0.18203151,  0.        , -0.84333347, ..., -0.31163403,\n",
              "        -0.11318074, -0.09188347],\n",
              "       [ 0.18203151,  0.        , -0.12302815, ..., -0.31163403,\n",
              "        -0.11318074, -0.09188347],\n",
              "       [ 0.18203151,  0.        , -0.12302815, ..., -0.31163403,\n",
              "        -0.11318074, -0.09188347],\n",
              "       ...,\n",
              "       [ 0.18203151,  0.        , -0.12302815, ..., -0.31163403,\n",
              "        -0.11318074, -0.09188347],\n",
              "       [ 0.18203151,  0.        ,  0.95742983, ..., -0.31163403,\n",
              "        -0.11318074, -0.09188347],\n",
              "       [ 0.18203151,  0.        ,  0.59727717, ..., -0.31163403,\n",
              "        -0.11318074, -0.09188347]])"
            ]
          },
          "metadata": {},
          "execution_count": 23
        }
      ]
    },
    {
      "cell_type": "code",
      "source": [
        "\n",
        "#Applying SVM\n",
        "from sklearn.svm import SVC\n",
        "sv = SVC(kernel = 'poly',degree=4)\n",
        "sv.fit(x_train,y_train)\n",
        "y_predsvm=sv.predict(x_train)\n"
      ],
      "metadata": {
        "id": "OuV4xVC2Ub7i"
      },
      "execution_count": null,
      "outputs": []
    },
    {
      "cell_type": "code",
      "source": [
        "\n",
        "sv.score(x_test,y_test)"
      ],
      "metadata": {
        "colab": {
          "base_uri": "https://localhost:8080/"
        },
        "id": "iXDEmrlJUf9k",
        "outputId": "e1e59172-500e-49ed-fd82-e003b8d1e207"
      },
      "execution_count": null,
      "outputs": [
        {
          "output_type": "execute_result",
          "data": {
            "text/plain": [
              "0.998"
            ]
          },
          "metadata": {},
          "execution_count": 25
        }
      ]
    },
    {
      "cell_type": "code",
      "source": [
        "#Applying KNN\n",
        "knn_clf=KNeighborsClassifier()\n",
        "knn_clf.fit(x_train,y_train)\n",
        "ypred_knn=knn_clf.predict(x_test)"
      ],
      "metadata": {
        "id": "5QleZ4ERVSJs"
      },
      "execution_count": null,
      "outputs": []
    },
    {
      "cell_type": "code",
      "source": [
        "knn_clf.score(x_test,y_test)"
      ],
      "metadata": {
        "colab": {
          "base_uri": "https://localhost:8080/"
        },
        "id": "9ckr7CHiJ29N",
        "outputId": "c463300f-a110-4167-be01-457ce8f5a1a9"
      },
      "execution_count": null,
      "outputs": [
        {
          "output_type": "execute_result",
          "data": {
            "text/plain": [
              "0.998"
            ]
          },
          "metadata": {},
          "execution_count": 27
        }
      ]
    },
    {
      "cell_type": "code",
      "source": [
        "#Applying Random Forest\n",
        "from sklearn.ensemble import RandomForestClassifier\n",
        "rf=RandomForestClassifier()\n",
        "rf.fit(x_train,y_train)\n",
        "y_predrf=rf.predict(x_test)\n",
        "\n"
      ],
      "metadata": {
        "id": "jGBGDysoJ5wN"
      },
      "execution_count": null,
      "outputs": []
    },
    {
      "cell_type": "code",
      "source": [
        "rf.score(x_test,y_test)"
      ],
      "metadata": {
        "colab": {
          "base_uri": "https://localhost:8080/"
        },
        "id": "LppCw8ztJ9pl",
        "outputId": "3d937fad-db84-49b2-da04-403cfa05691a"
      },
      "execution_count": null,
      "outputs": [
        {
          "output_type": "execute_result",
          "data": {
            "text/plain": [
              "1.0"
            ]
          },
          "metadata": {},
          "execution_count": 29
        }
      ]
    },
    {
      "cell_type": "code",
      "source": [
        "#Applying Naive Bayes\n",
        "from sklearn.naive_bayes import GaussianNB\n",
        "gnb = GaussianNB()\n",
        "gnb.fit(x_train, y_train)\n",
        "gnb_predictions = gnb.predict(x_test)"
      ],
      "metadata": {
        "id": "tB0NlWXaKA3w"
      },
      "execution_count": null,
      "outputs": []
    },
    {
      "cell_type": "code",
      "source": [
        "gnb.score(x_test,y_test)"
      ],
      "metadata": {
        "colab": {
          "base_uri": "https://localhost:8080/"
        },
        "id": "AO34BX5CKJhu",
        "outputId": "9aefabde-475d-431d-faa8-4ebc07babc4c"
      },
      "execution_count": null,
      "outputs": [
        {
          "output_type": "execute_result",
          "data": {
            "text/plain": [
              "1.0"
            ]
          },
          "metadata": {},
          "execution_count": 31
        }
      ]
    },
    {
      "cell_type": "code",
      "source": [
        "#Applying logeistic regression\n",
        "from sklearn.datasets import make_classification\n",
        "from sklearn.linear_model import LogisticRegression\n",
        "lr = LogisticRegression(multi_class='multinomial', solver='lbfgs')\n",
        "lr.fit(x_train,y_train)\n",
        "y_predlr=lr.predict(x_test)\n",
        "\n"
      ],
      "metadata": {
        "id": "frygzko3KMCz"
      },
      "execution_count": null,
      "outputs": []
    },
    {
      "cell_type": "code",
      "source": [
        "lr.score(x_test,y_test)"
      ],
      "metadata": {
        "colab": {
          "base_uri": "https://localhost:8080/"
        },
        "id": "rJgmU4XiMlPl",
        "outputId": "4818551e-fc03-4178-ecc4-a6d0d4466d5e"
      },
      "execution_count": null,
      "outputs": [
        {
          "output_type": "execute_result",
          "data": {
            "text/plain": [
              "0.998"
            ]
          },
          "metadata": {},
          "execution_count": 33
        }
      ]
    },
    {
      "cell_type": "code",
      "source": [
        "#Model Evaluation of Random Forest\n",
        "y_pred4=rf.predict(x_test)\n",
        "confusion3=confusion_matrix(y_test,y_pred4)\n",
        "plt.figure(figsize = (10,7))\n",
        "sns.heatmap(confusion3, annot=True,fmt='g',cmap='Blues')\n",
        "plt.ylabel(\"actual\")\n",
        "plt.xlabel('predicted');"
      ],
      "metadata": {
        "colab": {
          "base_uri": "https://localhost:8080/",
          "height": 442
        },
        "id": "jaxAaDhGMock",
        "outputId": "2fda885e-3aa7-4565-b735-8d5cf86291cc"
      },
      "execution_count": null,
      "outputs": [
        {
          "output_type": "display_data",
          "data": {
            "text/plain": [
              "<Figure size 720x504 with 2 Axes>"
            ],
            "image/png": "[encoded data removed]"
          },
          "metadata": {
            "needs_background": "light"
          }
        }
      ]
    },
    {
      "cell_type": "code",
      "source": [
        "print(\"Classification report of Random Forest \\n\")\n",
        "print(classification_report(y_test,y_pred4))"
      ],
      "metadata": {
        "colab": {
          "base_uri": "https://localhost:8080/"
        },
        "id": "QCmAq8dzNDea",
        "outputId": "03e4dbde-d383-45bd-f366-1d2f14e54198"
      },
      "execution_count": null,
      "outputs": [
        {
          "output_type": "stream",
          "name": "stdout",
          "text": [
            "Classification report of Random Forest \n",
            "\n",
            "              precision    recall  f1-score   support\n",
            "\n",
            "           0       1.00      1.00      1.00        30\n",
            "           1       1.00      1.00      1.00       416\n",
            "           2       1.00      1.00      1.00        54\n",
            "\n",
            "    accuracy                           1.00       500\n",
            "   macro avg       1.00      1.00      1.00       500\n",
            "weighted avg       1.00      1.00      1.00       500\n",
            "\n"
          ]
        }
      ]
    },
    {
      "cell_type": "code",
      "source": [
        "df[\"class\"].value_counts()"
      ],
      "metadata": {
        "colab": {
          "base_uri": "https://localhost:8080/"
        },
        "id": "qUfSffjuNURU",
        "outputId": "476dfd1b-b138-43ac-d138-53769c5562ba"
      },
      "execution_count": null,
      "outputs": [
        {
          "output_type": "execute_result",
          "data": {
            "text/plain": [
              "1    2145\n",
              "2     214\n",
              "0     136\n",
              "3       5\n",
              "Name: class, dtype: int64"
            ]
          },
          "metadata": {},
          "execution_count": 36
        }
      ]
    },
    {
      "cell_type": "code",
      "source": [
        "from imblearn.over_sampling import SMOTE\n",
        "smote=SMOTE(k_neighbors=2)\n",
        "x_train_os,y_train_os=smote.fit_resample(x_train,y_train)"
      ],
      "metadata": {
        "id": "gFjKGX6KMT8v"
      },
      "execution_count": null,
      "outputs": []
    },
    {
      "cell_type": "code",
      "source": [
        "rfc=RandomForestClassifier()\n",
        "rfc.fit(x_train_os,y_train_os)\n",
        "y_predrfc=rfc.predict(x_test)\n"
      ],
      "metadata": {
        "id": "MB0eU90MOGLa"
      },
      "execution_count": null,
      "outputs": []
    },
    {
      "cell_type": "code",
      "source": [
        "rfc.score(x_test,y_test)"
      ],
      "metadata": {
        "colab": {
          "base_uri": "https://localhost:8080/"
        },
        "id": "NA4g_RTQOAee",
        "outputId": "6f9cd4ac-d85a-4e52-8440-416cfb308f97"
      },
      "execution_count": null,
      "outputs": [
        {
          "output_type": "execute_result",
          "data": {
            "text/plain": [
              "1.0"
            ]
          },
          "metadata": {},
          "execution_count": 46
        }
      ]
    },
    {
      "cell_type": "code",
      "source": [
        "y_predt=rfc.predict(x_test)\n",
        "confusion3=confusion_matrix(y_test,y_predt)\n",
        "plt.figure(figsize = (10,7))\n",
        "sns.heatmap(confusion3, annot=True,fmt='g',cmap='Blues')\n",
        "plt.ylabel(\"actual\")\n",
        "plt.xlabel('predicted');"
      ],
      "metadata": {
        "colab": {
          "base_uri": "https://localhost:8080/",
          "height": 442
        },
        "id": "VdstCnqxOpFn",
        "outputId": "23faf934-94fc-4ffb-cfcc-0e4f98a50871"
      },
      "execution_count": null,
      "outputs": [
        {
          "output_type": "display_data",
          "data": {
            "text/plain": [
              "<Figure size 720x504 with 2 Axes>"
            ],
            "image/png": "[encoded data removed]"
          },
          "metadata": {
            "needs_background": "light"
          }
        }
      ]
    },
    {
      "cell_type": "code",
      "source": [
        "low=df[df[\"class\"]==0]\n",
        "medium=df[df[\"class\"]==1]\n",
        "avg=df[df[\"class\"]==2]\n",
        "high=df[df[\"class\"]==3]"
      ],
      "metadata": {
        "id": "M4esNXCaNes6"
      },
      "execution_count": null,
      "outputs": []
    },
    {
      "cell_type": "code",
      "source": [
        "n=len(medium)"
      ],
      "metadata": {
        "id": "L-zvcrtkNlcI"
      },
      "execution_count": null,
      "outputs": []
    },
    {
      "cell_type": "code",
      "source": [
        "low_over = low.sample(n, replace=True)\n",
        "avg_over = avg.sample(n, replace=True)\n",
        "high_over = high.sample(n, replace=True)"
      ],
      "metadata": {
        "id": "GAtFlOsCNn6c"
      },
      "execution_count": null,
      "outputs": []
    },
    {
      "cell_type": "code",
      "source": [
        "low_over.shape\n",
        "avg_over.shape\n",
        "high_over.shape"
      ],
      "metadata": {
        "colab": {
          "base_uri": "https://localhost:8080/"
        },
        "id": "IZP4cOMVNptZ",
        "outputId": "383ef7ea-9f16-4614-8a7f-05176783d378"
      },
      "execution_count": null,
      "outputs": [
        {
          "output_type": "execute_result",
          "data": {
            "text/plain": [
              "(2145, 8)"
            ]
          },
          "metadata": {},
          "execution_count": 247
        }
      ]
    },
    {
      "cell_type": "code",
      "source": [
        "data_over = pd.concat([low_over,medium,avg_over,high_over], axis=0)"
      ],
      "metadata": {
        "id": "g47Bj9JPNrod"
      },
      "execution_count": null,
      "outputs": []
    },
    {
      "cell_type": "code",
      "source": [
        "data_over[\"class\"].value_counts()"
      ],
      "metadata": {
        "colab": {
          "base_uri": "https://localhost:8080/"
        },
        "id": "I-TYY2JWNuaB",
        "outputId": "7863ac1d-922d-46f7-d78e-bc00241ad309"
      },
      "execution_count": null,
      "outputs": [
        {
          "output_type": "execute_result",
          "data": {
            "text/plain": [
              "0    2145\n",
              "1    2145\n",
              "2    2145\n",
              "3    2145\n",
              "Name: class, dtype: int64"
            ]
          },
          "metadata": {},
          "execution_count": 249
        }
      ]
    },
    {
      "cell_type": "code",
      "source": [
        "data_over"
      ],
      "metadata": {
        "colab": {
          "base_uri": "https://localhost:8080/",
          "height": 424
        },
        "id": "4x-qyZULNwmA",
        "outputId": "ac622bd2-170a-401a-8c60-70e119df92bc"
      },
      "execution_count": null,
      "outputs": [
        {
          "output_type": "execute_result",
          "data": {
            "text/plain": [
              "      process_path  alert_type  @timestamp  watchlist_id  tags  report_score  \\\n",
              "1022             4           0          28            26     0            15   \n",
              "1660             4           0          27            21     0            28   \n",
              "50               4           0          27            21     0            28   \n",
              "1396             4           0          27            21     0            28   \n",
              "746              4           0          27            21     0            28   \n",
              "...            ...         ...         ...           ...   ...           ...   \n",
              "2493             1           0          21             2     0           100   \n",
              "2499             1           0          22             2     0           100   \n",
              "1877             4           0          26            32     0            96   \n",
              "902              4           0          32             8     0            99   \n",
              "902              4           0          32             8     0            99   \n",
              "\n",
              "      alert_severity  class  \n",
              "1022            27.0      0  \n",
              "1660            18.9      0  \n",
              "50              18.9      0  \n",
              "1396            18.9      0  \n",
              "746             18.9      0  \n",
              "...              ...    ...  \n",
              "2493            67.5      3  \n",
              "2499            67.5      3  \n",
              "1877            27.0      3  \n",
              "902             27.0      3  \n",
              "902             27.0      3  \n",
              "\n",
              "[8580 rows x 8 columns]"
            ],
            "text/html": [
              "\n",
              "  <div id=\"df-c812c4a0-91ae-42db-a808-5b19c9cd5d73\">\n",
              "    <div class=\"colab-df-container\">\n",
              "      <div>\n",
              "<style scoped>\n",
              "    .dataframe tbody tr th:only-of-type {\n",
              "        vertical-align: middle;\n",
              "    }\n",
              "\n",
              "    .dataframe tbody tr th {\n",
              "        vertical-align: top;\n",
              "    }\n",
              "\n",
              "    .dataframe thead th {\n",
              "        text-align: right;\n",
              "    }\n",
              "</style>\n",
              "<table border=\"1\" class=\"dataframe\">\n",
              "  <thead>\n",
              "    <tr style=\"text-align: right;\">\n",
              "      <th></th>\n",
              "      <th>process_path</th>\n",
              "      <th>alert_type</th>\n",
              "      <th>@timestamp</th>\n",
              "      <th>watchlist_id</th>\n",
              "      <th>tags</th>\n",
              "      <th>report_score</th>\n",
              "      <th>alert_severity</th>\n",
              "      <th>class</th>\n",
              "    </tr>\n",
              "  </thead>\n",
              "  <tbody>\n",
              "    <tr>\n",
              "      <th>1022</th>\n",
              "      <td>4</td>\n",
              "      <td>0</td>\n",
              "      <td>28</td>\n",
              "      <td>26</td>\n",
              "      <td>0</td>\n",
              "      <td>15</td>\n",
              "      <td>27.0</td>\n",
              "      <td>0</td>\n",
              "    </tr>\n",
              "    <tr>\n",
              "      <th>1660</th>\n",
              "      <td>4</td>\n",
              "      <td>0</td>\n",
              "      <td>27</td>\n",
              "      <td>21</td>\n",
              "      <td>0</td>\n",
              "      <td>28</td>\n",
              "      <td>18.9</td>\n",
              "      <td>0</td>\n",
              "    </tr>\n",
              "    <tr>\n",
              "      <th>50</th>\n",
              "      <td>4</td>\n",
              "      <td>0</td>\n",
              "      <td>27</td>\n",
              "      <td>21</td>\n",
              "      <td>0</td>\n",
              "      <td>28</td>\n",
              "      <td>18.9</td>\n",
              "      <td>0</td>\n",
              "    </tr>\n",
              "    <tr>\n",
              "      <th>1396</th>\n",
              "      <td>4</td>\n",
              "      <td>0</td>\n",
              "      <td>27</td>\n",
              "      <td>21</td>\n",
              "      <td>0</td>\n",
              "      <td>28</td>\n",
              "      <td>18.9</td>\n",
              "      <td>0</td>\n",
              "    </tr>\n",
              "    <tr>\n",
              "      <th>746</th>\n",
              "      <td>4</td>\n",
              "      <td>0</td>\n",
              "      <td>27</td>\n",
              "      <td>21</td>\n",
              "      <td>0</td>\n",
              "      <td>28</td>\n",
              "      <td>18.9</td>\n",
              "      <td>0</td>\n",
              "    </tr>\n",
              "    <tr>\n",
              "      <th>...</th>\n",
              "      <td>...</td>\n",
              "      <td>...</td>\n",
              "      <td>...</td>\n",
              "      <td>...</td>\n",
              "      <td>...</td>\n",
              "      <td>...</td>\n",
              "      <td>...</td>\n",
              "      <td>...</td>\n",
              "    </tr>\n",
              "    <tr>\n",
              "      <th>2493</th>\n",
              "      <td>1</td>\n",
              "      <td>0</td>\n",
              "      <td>21</td>\n",
              "      <td>2</td>\n",
              "      <td>0</td>\n",
              "      <td>100</td>\n",
              "      <td>67.5</td>\n",
              "      <td>3</td>\n",
              "    </tr>\n",
              "    <tr>\n",
              "      <th>2499</th>\n",
              "      <td>1</td>\n",
              "      <td>0</td>\n",
              "      <td>22</td>\n",
              "      <td>2</td>\n",
              "      <td>0</td>\n",
              "      <td>100</td>\n",
              "      <td>67.5</td>\n",
              "      <td>3</td>\n",
              "    </tr>\n",
              "    <tr>\n",
              "      <th>1877</th>\n",
              "      <td>4</td>\n",
              "      <td>0</td>\n",
              "      <td>26</td>\n",
              "      <td>32</td>\n",
              "      <td>0</td>\n",
              "      <td>96</td>\n",
              "      <td>27.0</td>\n",
              "      <td>3</td>\n",
              "    </tr>\n",
              "    <tr>\n",
              "      <th>902</th>\n",
              "      <td>4</td>\n",
              "      <td>0</td>\n",
              "      <td>32</td>\n",
              "      <td>8</td>\n",
              "      <td>0</td>\n",
              "      <td>99</td>\n",
              "      <td>27.0</td>\n",
              "      <td>3</td>\n",
              "    </tr>\n",
              "    <tr>\n",
              "      <th>902</th>\n",
              "      <td>4</td>\n",
              "      <td>0</td>\n",
              "      <td>32</td>\n",
              "      <td>8</td>\n",
              "      <td>0</td>\n",
              "      <td>99</td>\n",
              "      <td>27.0</td>\n",
              "      <td>3</td>\n",
              "    </tr>\n",
              "  </tbody>\n",
              "</table>\n",
              "<p>8580 rows × 8 columns</p>\n",
              "</div>\n",
              "      <button class=\"colab-df-convert\" onclick=\"convertToInteractive('df-c812c4a0-91ae-42db-a808-5b19c9cd5d73')\"\n",
              "              title=\"Convert this dataframe to an interactive table.\"\n",
              "              style=\"display:none;\">\n",
              "        \n",
              "  <svg xmlns=\"http://www.w3.org/2000/svg\" height=\"24px\"viewBox=\"0 0 24 24\"\n",
              "       width=\"24px\">\n",
              "    <path d=\"M0 0h24v24H0V0z\" fill=\"none\"/>\n",
              "    <path d=\"M18.56 5.44l.94 2.06.94-2.06 2.06-.94-2.06-.94-.94-2.06-.94 2.06-2.06.94zm-11 1L8.5 8.5l.94-2.06 2.06-.94-2.06-.94L8.5 2.5l-.94 2.06-2.06.94zm10 10l.94 2.06.94-2.06 2.06-.94-2.06-.94-.94-2.06-.94 2.06-2.06.94z\"/><path d=\"M17.41 7.96l-1.37-1.37c-.4-.4-.92-.59-1.43-.59-.52 0-1.04.2-1.43.59L10.3 9.45l-7.72 7.72c-.78.78-.78 2.05 0 2.83L4 21.41c.39.39.9.59 1.41.59.51 0 1.02-.2 1.41-.59l7.78-7.78 2.81-2.81c.8-.78.8-2.07 0-2.86zM5.41 20L4 18.59l7.72-7.72 1.47 1.35L5.41 20z\"/>\n",
              "  </svg>\n",
              "      </button>\n",
              "      \n",
              "  <style>\n",
              "    .colab-df-container {\n",
              "      display:flex;\n",
              "      flex-wrap:wrap;\n",
              "      gap: 12px;\n",
              "    }\n",
              "\n",
              "    .colab-df-convert {\n",
              "      background-color: #E8F0FE;\n",
              "      border: none;\n",
              "      border-radius: 50%;\n",
              "      cursor: pointer;\n",
              "      display: none;\n",
              "      fill: #1967D2;\n",
              "      height: 32px;\n",
              "      padding: 0 0 0 0;\n",
              "      width: 32px;\n",
              "    }\n",
              "\n",
              "    .colab-df-convert:hover {\n",
              "      background-color: #E2EBFA;\n",
              "      box-shadow: 0px 1px 2px rgba(60, 64, 67, 0.3), 0px 1px 3px 1px rgba(60, 64, 67, 0.15);\n",
              "      fill: #174EA6;\n",
              "    }\n",
              "\n",
              "    [theme=dark] .colab-df-convert {\n",
              "      background-color: #3B4455;\n",
              "      fill: #D2E3FC;\n",
              "    }\n",
              "\n",
              "    [theme=dark] .colab-df-convert:hover {\n",
              "      background-color: #434B5C;\n",
              "      box-shadow: 0px 1px 3px 1px rgba(0, 0, 0, 0.15);\n",
              "      filter: drop-shadow(0px 1px 2px rgba(0, 0, 0, 0.3));\n",
              "      fill: #FFFFFF;\n",
              "    }\n",
              "  </style>\n",
              "\n",
              "      <script>\n",
              "        const buttonEl =\n",
              "          document.querySelector('#df-c812c4a0-91ae-42db-a808-5b19c9cd5d73 button.colab-df-convert');\n",
              "        buttonEl.style.display =\n",
              "          google.colab.kernel.accessAllowed ? 'block' : 'none';\n",
              "\n",
              "        async function convertToInteractive(key) {\n",
              "          const element = document.querySelector('#df-c812c4a0-91ae-42db-a808-5b19c9cd5d73');\n",
              "          const dataTable =\n",
              "            await google.colab.kernel.invokeFunction('convertToInteractive',\n",
              "                                                     [key], {});\n",
              "          if (!dataTable) return;\n",
              "\n",
              "          const docLinkHtml = 'Like what you see? Visit the ' +\n",
              "            '<a target=\"_blank\" href=https://colab.research.google.com/notebooks/data_table.ipynb>data table notebook</a>'\n",
              "            + ' to learn more about interactive tables.';\n",
              "          element.innerHTML = '';\n",
              "          dataTable['output_type'] = 'display_data';\n",
              "          await google.colab.output.renderOutput(dataTable, element);\n",
              "          const docLink = document.createElement('div');\n",
              "          docLink.innerHTML = docLinkHtml;\n",
              "          element.appendChild(docLink);\n",
              "        }\n",
              "      </script>\n",
              "    </div>\n",
              "  </div>\n",
              "  "
            ]
          },
          "metadata": {},
          "execution_count": 250
        }
      ]
    },
    {
      "cell_type": "code",
      "source": [
        "data_over=data_over.sample(frac=1)"
      ],
      "metadata": {
        "id": "wqBaGrx1Nz37"
      },
      "execution_count": null,
      "outputs": []
    },
    {
      "cell_type": "code",
      "source": [
        "x=data_over.drop([\"class\",\"report_score\"],axis=1)\n",
        "y=data_over[\"class\"]"
      ],
      "metadata": {
        "id": "EojiYti5N3BL"
      },
      "execution_count": null,
      "outputs": []
    },
    {
      "cell_type": "code",
      "source": [
        "x.reset_index(inplace=True, drop=True)\n",
        "y.reset_index(inplace=True, drop=True)\n",
        "data_over.reset_index(inplace=True, drop=True)"
      ],
      "metadata": {
        "id": "gDJEWs-PN5Ff"
      },
      "execution_count": null,
      "outputs": []
    },
    {
      "cell_type": "code",
      "source": [
        "data_over"
      ],
      "metadata": {
        "colab": {
          "base_uri": "https://localhost:8080/",
          "height": 424
        },
        "id": "944hrbo1N7aZ",
        "outputId": "83d99b20-ba98-432a-b3f7-f897c5604173"
      },
      "execution_count": null,
      "outputs": [
        {
          "output_type": "execute_result",
          "data": {
            "text/plain": [
              "      process_path  alert_type  @timestamp  watchlist_id  tags  report_score  \\\n",
              "0                2           0          33            39     0            85   \n",
              "1                4           0          28            27     0            88   \n",
              "2                1           0          20             2     0            95   \n",
              "3                4           0          28            33     0            40   \n",
              "4                1           0          21             2     0           100   \n",
              "...            ...         ...         ...           ...   ...           ...   \n",
              "8575             4           0          34            27     0            40   \n",
              "8576             2           0          33            39     0            85   \n",
              "8577             4           0          32             8     0            99   \n",
              "8578             2           0          33            39     0            85   \n",
              "8579             2           0          33            39     0            85   \n",
              "\n",
              "      alert_severity  class  \n",
              "0             57.375      2  \n",
              "1             27.000      2  \n",
              "2             67.500      3  \n",
              "3             27.000      1  \n",
              "4             67.500      3  \n",
              "...              ...    ...  \n",
              "8575          27.000      1  \n",
              "8576          57.375      2  \n",
              "8577          27.000      3  \n",
              "8578          57.375      2  \n",
              "8579          57.375      2  \n",
              "\n",
              "[8580 rows x 8 columns]"
            ],
            "text/html": [
              "\n",
              "  <div id=\"df-8c55f704-d2c0-4203-ae93-662ec3f4aafe\">\n",
              "    <div class=\"colab-df-container\">\n",
              "      <div>\n",
              "<style scoped>\n",
              "    .dataframe tbody tr th:only-of-type {\n",
              "        vertical-align: middle;\n",
              "    }\n",
              "\n",
              "    .dataframe tbody tr th {\n",
              "        vertical-align: top;\n",
              "    }\n",
              "\n",
              "    .dataframe thead th {\n",
              "        text-align: right;\n",
              "    }\n",
              "</style>\n",
              "<table border=\"1\" class=\"dataframe\">\n",
              "  <thead>\n",
              "    <tr style=\"text-align: right;\">\n",
              "      <th></th>\n",
              "      <th>process_path</th>\n",
              "      <th>alert_type</th>\n",
              "      <th>@timestamp</th>\n",
              "      <th>watchlist_id</th>\n",
              "      <th>tags</th>\n",
              "      <th>report_score</th>\n",
              "      <th>alert_severity</th>\n",
              "      <th>class</th>\n",
              "    </tr>\n",
              "  </thead>\n",
              "  <tbody>\n",
              "    <tr>\n",
              "      <th>0</th>\n",
              "      <td>2</td>\n",
              "      <td>0</td>\n",
              "      <td>33</td>\n",
              "      <td>39</td>\n",
              "      <td>0</td>\n",
              "      <td>85</td>\n",
              "      <td>57.375</td>\n",
              "      <td>2</td>\n",
              "    </tr>\n",
              "    <tr>\n",
              "      <th>1</th>\n",
              "      <td>4</td>\n",
              "      <td>0</td>\n",
              "      <td>28</td>\n",
              "      <td>27</td>\n",
              "      <td>0</td>\n",
              "      <td>88</td>\n",
              "      <td>27.000</td>\n",
              "      <td>2</td>\n",
              "    </tr>\n",
              "    <tr>\n",
              "      <th>2</th>\n",
              "      <td>1</td>\n",
              "      <td>0</td>\n",
              "      <td>20</td>\n",
              "      <td>2</td>\n",
              "      <td>0</td>\n",
              "      <td>95</td>\n",
              "      <td>67.500</td>\n",
              "      <td>3</td>\n",
              "    </tr>\n",
              "    <tr>\n",
              "      <th>3</th>\n",
              "      <td>4</td>\n",
              "      <td>0</td>\n",
              "      <td>28</td>\n",
              "      <td>33</td>\n",
              "      <td>0</td>\n",
              "      <td>40</td>\n",
              "      <td>27.000</td>\n",
              "      <td>1</td>\n",
              "    </tr>\n",
              "    <tr>\n",
              "      <th>4</th>\n",
              "      <td>1</td>\n",
              "      <td>0</td>\n",
              "      <td>21</td>\n",
              "      <td>2</td>\n",
              "      <td>0</td>\n",
              "      <td>100</td>\n",
              "      <td>67.500</td>\n",
              "      <td>3</td>\n",
              "    </tr>\n",
              "    <tr>\n",
              "      <th>...</th>\n",
              "      <td>...</td>\n",
              "      <td>...</td>\n",
              "      <td>...</td>\n",
              "      <td>...</td>\n",
              "      <td>...</td>\n",
              "      <td>...</td>\n",
              "      <td>...</td>\n",
              "      <td>...</td>\n",
              "    </tr>\n",
              "    <tr>\n",
              "      <th>8575</th>\n",
              "      <td>4</td>\n",
              "      <td>0</td>\n",
              "      <td>34</td>\n",
              "      <td>27</td>\n",
              "      <td>0</td>\n",
              "      <td>40</td>\n",
              "      <td>27.000</td>\n",
              "      <td>1</td>\n",
              "    </tr>\n",
              "    <tr>\n",
              "      <th>8576</th>\n",
              "      <td>2</td>\n",
              "      <td>0</td>\n",
              "      <td>33</td>\n",
              "      <td>39</td>\n",
              "      <td>0</td>\n",
              "      <td>85</td>\n",
              "      <td>57.375</td>\n",
              "      <td>2</td>\n",
              "    </tr>\n",
              "    <tr>\n",
              "      <th>8577</th>\n",
              "      <td>4</td>\n",
              "      <td>0</td>\n",
              "      <td>32</td>\n",
              "      <td>8</td>\n",
              "      <td>0</td>\n",
              "      <td>99</td>\n",
              "      <td>27.000</td>\n",
              "      <td>3</td>\n",
              "    </tr>\n",
              "    <tr>\n",
              "      <th>8578</th>\n",
              "      <td>2</td>\n",
              "      <td>0</td>\n",
              "      <td>33</td>\n",
              "      <td>39</td>\n",
              "      <td>0</td>\n",
              "      <td>85</td>\n",
              "      <td>57.375</td>\n",
              "      <td>2</td>\n",
              "    </tr>\n",
              "    <tr>\n",
              "      <th>8579</th>\n",
              "      <td>2</td>\n",
              "      <td>0</td>\n",
              "      <td>33</td>\n",
              "      <td>39</td>\n",
              "      <td>0</td>\n",
              "      <td>85</td>\n",
              "      <td>57.375</td>\n",
              "      <td>2</td>\n",
              "    </tr>\n",
              "  </tbody>\n",
              "</table>\n",
              "<p>8580 rows × 8 columns</p>\n",
              "</div>\n",
              "      <button class=\"colab-df-convert\" onclick=\"convertToInteractive('df-8c55f704-d2c0-4203-ae93-662ec3f4aafe')\"\n",
              "              title=\"Convert this dataframe to an interactive table.\"\n",
              "              style=\"display:none;\">\n",
              "        \n",
              "  <svg xmlns=\"http://www.w3.org/2000/svg\" height=\"24px\"viewBox=\"0 0 24 24\"\n",
              "       width=\"24px\">\n",
              "    <path d=\"M0 0h24v24H0V0z\" fill=\"none\"/>\n",
              "    <path d=\"M18.56 5.44l.94 2.06.94-2.06 2.06-.94-2.06-.94-.94-2.06-.94 2.06-2.06.94zm-11 1L8.5 8.5l.94-2.06 2.06-.94-2.06-.94L8.5 2.5l-.94 2.06-2.06.94zm10 10l.94 2.06.94-2.06 2.06-.94-2.06-.94-.94-2.06-.94 2.06-2.06.94z\"/><path d=\"M17.41 7.96l-1.37-1.37c-.4-.4-.92-.59-1.43-.59-.52 0-1.04.2-1.43.59L10.3 9.45l-7.72 7.72c-.78.78-.78 2.05 0 2.83L4 21.41c.39.39.9.59 1.41.59.51 0 1.02-.2 1.41-.59l7.78-7.78 2.81-2.81c.8-.78.8-2.07 0-2.86zM5.41 20L4 18.59l7.72-7.72 1.47 1.35L5.41 20z\"/>\n",
              "  </svg>\n",
              "      </button>\n",
              "      \n",
              "  <style>\n",
              "    .colab-df-container {\n",
              "      display:flex;\n",
              "      flex-wrap:wrap;\n",
              "      gap: 12px;\n",
              "    }\n",
              "\n",
              "    .colab-df-convert {\n",
              "      background-color: #E8F0FE;\n",
              "      border: none;\n",
              "      border-radius: 50%;\n",
              "      cursor: pointer;\n",
              "      display: none;\n",
              "      fill: #1967D2;\n",
              "      height: 32px;\n",
              "      padding: 0 0 0 0;\n",
              "      width: 32px;\n",
              "    }\n",
              "\n",
              "    .colab-df-convert:hover {\n",
              "      background-color: #E2EBFA;\n",
              "      box-shadow: 0px 1px 2px rgba(60, 64, 67, 0.3), 0px 1px 3px 1px rgba(60, 64, 67, 0.15);\n",
              "      fill: #174EA6;\n",
              "    }\n",
              "\n",
              "    [theme=dark] .colab-df-convert {\n",
              "      background-color: #3B4455;\n",
              "      fill: #D2E3FC;\n",
              "    }\n",
              "\n",
              "    [theme=dark] .colab-df-convert:hover {\n",
              "      background-color: #434B5C;\n",
              "      box-shadow: 0px 1px 3px 1px rgba(0, 0, 0, 0.15);\n",
              "      filter: drop-shadow(0px 1px 2px rgba(0, 0, 0, 0.3));\n",
              "      fill: #FFFFFF;\n",
              "    }\n",
              "  </style>\n",
              "\n",
              "      <script>\n",
              "        const buttonEl =\n",
              "          document.querySelector('#df-8c55f704-d2c0-4203-ae93-662ec3f4aafe button.colab-df-convert');\n",
              "        buttonEl.style.display =\n",
              "          google.colab.kernel.accessAllowed ? 'block' : 'none';\n",
              "\n",
              "        async function convertToInteractive(key) {\n",
              "          const element = document.querySelector('#df-8c55f704-d2c0-4203-ae93-662ec3f4aafe');\n",
              "          const dataTable =\n",
              "            await google.colab.kernel.invokeFunction('convertToInteractive',\n",
              "                                                     [key], {});\n",
              "          if (!dataTable) return;\n",
              "\n",
              "          const docLinkHtml = 'Like what you see? Visit the ' +\n",
              "            '<a target=\"_blank\" href=https://colab.research.google.com/notebooks/data_table.ipynb>data table notebook</a>'\n",
              "            + ' to learn more about interactive tables.';\n",
              "          element.innerHTML = '';\n",
              "          dataTable['output_type'] = 'display_data';\n",
              "          await google.colab.output.renderOutput(dataTable, element);\n",
              "          const docLink = document.createElement('div');\n",
              "          docLink.innerHTML = docLinkHtml;\n",
              "          element.appendChild(docLink);\n",
              "        }\n",
              "      </script>\n",
              "    </div>\n",
              "  </div>\n",
              "  "
            ]
          },
          "metadata": {},
          "execution_count": 239
        }
      ]
    },
    {
      "cell_type": "code",
      "source": [
        "\n",
        "sc=StandardScaler()\n",
        "sc.fit(data_over/)\n",
        "x_std=sc.transform(data_over)\n"
      ],
      "metadata": {
        "id": "89jREzWhN9nl",
        "colab": {
          "base_uri": "https://localhost:8080/",
          "height": 130
        },
        "outputId": "e8e14577-84f5-4b73-95bc-b39a4f7b4476"
      },
      "execution_count": null,
      "outputs": [
        {
          "output_type": "error",
          "ename": "SyntaxError",
          "evalue": "ignored",
          "traceback": [
            "\u001b[0;36m  File \u001b[0;32m\"<ipython-input-242-4e0d6e435a18>\"\u001b[0;36m, line \u001b[0;32m2\u001b[0m\n\u001b[0;31m    sc.fit(data_over/)\u001b[0m\n\u001b[0m                     ^\u001b[0m\n\u001b[0;31mSyntaxError\u001b[0m\u001b[0;31m:\u001b[0m invalid syntax\n"
          ]
        }
      ]
    },
    {
      "cell_type": "code",
      "source": [
        "from sklearn.model_selection import train_test_split\n",
        "\n",
        "x_train,x_test,y_train,y_test=train_test_split(x_df,y,test_size=0.2,random_state=42)\n",
        "#X_train, X_test, y_train, y_test = train_test_split(x, y, test_size=0.2, random_state=42)\n",
        "x_train\n",
        "x_test"
      ],
      "metadata": {
        "colab": {
          "base_uri": "https://localhost:8080/",
          "height": 380
        },
        "id": "NLBPsRkxODYj",
        "outputId": "b9a4870b-1328-4a20-9837-6780489e15d6"
      },
      "execution_count": null,
      "outputs": [
        {
          "output_type": "error",
          "ename": "ValueError",
          "evalue": "ignored",
          "traceback": [
            "\u001b[0;31m---------------------------------------------------------------------------\u001b[0m",
            "\u001b[0;31mValueError\u001b[0m                                Traceback (most recent call last)",
            "\u001b[0;32m<ipython-input-241-a612f170b3fe>\u001b[0m in \u001b[0;36m<module>\u001b[0;34m\u001b[0m\n\u001b[1;32m      1\u001b[0m \u001b[0;32mfrom\u001b[0m \u001b[0msklearn\u001b[0m\u001b[0;34m.\u001b[0m\u001b[0mmodel_selection\u001b[0m \u001b[0;32mimport\u001b[0m \u001b[0mtrain_test_split\u001b[0m\u001b[0;34m\u001b[0m\u001b[0;34m\u001b[0m\u001b[0m\n\u001b[1;32m      2\u001b[0m \u001b[0;34m\u001b[0m\u001b[0m\n\u001b[0;32m----> 3\u001b[0;31m \u001b[0mx_train\u001b[0m\u001b[0;34m,\u001b[0m\u001b[0mx_test\u001b[0m\u001b[0;34m,\u001b[0m\u001b[0my_train\u001b[0m\u001b[0;34m,\u001b[0m\u001b[0my_test\u001b[0m\u001b[0;34m=\u001b[0m\u001b[0mtrain_test_split\u001b[0m\u001b[0;34m(\u001b[0m\u001b[0mx_df\u001b[0m\u001b[0;34m,\u001b[0m\u001b[0my\u001b[0m\u001b[0;34m,\u001b[0m\u001b[0mtest_size\u001b[0m\u001b[0;34m=\u001b[0m\u001b[0;36m0.2\u001b[0m\u001b[0;34m,\u001b[0m\u001b[0mrandom_state\u001b[0m\u001b[0;34m=\u001b[0m\u001b[0;36m42\u001b[0m\u001b[0;34m)\u001b[0m\u001b[0;34m\u001b[0m\u001b[0;34m\u001b[0m\u001b[0m\n\u001b[0m\u001b[1;32m      4\u001b[0m \u001b[0;31m#X_train, X_test, y_train, y_test = train_test_split(x, y, test_size=0.2, random_state=42)\u001b[0m\u001b[0;34m\u001b[0m\u001b[0;34m\u001b[0m\u001b[0;34m\u001b[0m\u001b[0m\n\u001b[1;32m      5\u001b[0m \u001b[0mx_train\u001b[0m\u001b[0;34m\u001b[0m\u001b[0;34m\u001b[0m\u001b[0m\n",
            "\u001b[0;32m/usr/local/lib/python3.7/dist-packages/sklearn/model_selection/_split.py\u001b[0m in \u001b[0;36mtrain_test_split\u001b[0;34m(test_size, train_size, random_state, shuffle, stratify, *arrays)\u001b[0m\n\u001b[1;32m   2415\u001b[0m         \u001b[0;32mraise\u001b[0m \u001b[0mValueError\u001b[0m\u001b[0;34m(\u001b[0m\u001b[0;34m\"At least one array required as input\"\u001b[0m\u001b[0;34m)\u001b[0m\u001b[0;34m\u001b[0m\u001b[0;34m\u001b[0m\u001b[0m\n\u001b[1;32m   2416\u001b[0m \u001b[0;34m\u001b[0m\u001b[0m\n\u001b[0;32m-> 2417\u001b[0;31m     \u001b[0marrays\u001b[0m \u001b[0;34m=\u001b[0m \u001b[0mindexable\u001b[0m\u001b[0;34m(\u001b[0m\u001b[0;34m*\u001b[0m\u001b[0marrays\u001b[0m\u001b[0;34m)\u001b[0m\u001b[0;34m\u001b[0m\u001b[0;34m\u001b[0m\u001b[0m\n\u001b[0m\u001b[1;32m   2418\u001b[0m \u001b[0;34m\u001b[0m\u001b[0m\n\u001b[1;32m   2419\u001b[0m     \u001b[0mn_samples\u001b[0m \u001b[0;34m=\u001b[0m \u001b[0m_num_samples\u001b[0m\u001b[0;34m(\u001b[0m\u001b[0marrays\u001b[0m\u001b[0;34m[\u001b[0m\u001b[0;36m0\u001b[0m\u001b[0;34m]\u001b[0m\u001b[0;34m)\u001b[0m\u001b[0;34m\u001b[0m\u001b[0;34m\u001b[0m\u001b[0m\n",
            "\u001b[0;32m/usr/local/lib/python3.7/dist-packages/sklearn/utils/validation.py\u001b[0m in \u001b[0;36mindexable\u001b[0;34m(*iterables)\u001b[0m\n\u001b[1;32m    376\u001b[0m \u001b[0;34m\u001b[0m\u001b[0m\n\u001b[1;32m    377\u001b[0m     \u001b[0mresult\u001b[0m \u001b[0;34m=\u001b[0m \u001b[0;34m[\u001b[0m\u001b[0m_make_indexable\u001b[0m\u001b[0;34m(\u001b[0m\u001b[0mX\u001b[0m\u001b[0;34m)\u001b[0m \u001b[0;32mfor\u001b[0m \u001b[0mX\u001b[0m \u001b[0;32min\u001b[0m \u001b[0miterables\u001b[0m\u001b[0;34m]\u001b[0m\u001b[0;34m\u001b[0m\u001b[0;34m\u001b[0m\u001b[0m\n\u001b[0;32m--> 378\u001b[0;31m     \u001b[0mcheck_consistent_length\u001b[0m\u001b[0;34m(\u001b[0m\u001b[0;34m*\u001b[0m\u001b[0mresult\u001b[0m\u001b[0;34m)\u001b[0m\u001b[0;34m\u001b[0m\u001b[0;34m\u001b[0m\u001b[0m\n\u001b[0m\u001b[1;32m    379\u001b[0m     \u001b[0;32mreturn\u001b[0m \u001b[0mresult\u001b[0m\u001b[0;34m\u001b[0m\u001b[0;34m\u001b[0m\u001b[0m\n\u001b[1;32m    380\u001b[0m \u001b[0;34m\u001b[0m\u001b[0m\n",
            "\u001b[0;32m/usr/local/lib/python3.7/dist-packages/sklearn/utils/validation.py\u001b[0m in \u001b[0;36mcheck_consistent_length\u001b[0;34m(*arrays)\u001b[0m\n\u001b[1;32m    332\u001b[0m         raise ValueError(\n\u001b[1;32m    333\u001b[0m             \u001b[0;34m\"Found input variables with inconsistent numbers of samples: %r\"\u001b[0m\u001b[0;34m\u001b[0m\u001b[0;34m\u001b[0m\u001b[0m\n\u001b[0;32m--> 334\u001b[0;31m             \u001b[0;34m%\u001b[0m \u001b[0;34m[\u001b[0m\u001b[0mint\u001b[0m\u001b[0;34m(\u001b[0m\u001b[0ml\u001b[0m\u001b[0;34m)\u001b[0m \u001b[0;32mfor\u001b[0m \u001b[0ml\u001b[0m \u001b[0;32min\u001b[0m \u001b[0mlengths\u001b[0m\u001b[0;34m]\u001b[0m\u001b[0;34m\u001b[0m\u001b[0;34m\u001b[0m\u001b[0m\n\u001b[0m\u001b[1;32m    335\u001b[0m         )\n\u001b[1;32m    336\u001b[0m \u001b[0;34m\u001b[0m\u001b[0m\n",
            "\u001b[0;31mValueError\u001b[0m: Found input variables with inconsistent numbers of samples: [2500, 8580]"
          ]
        }
      ]
    },
    {
      "cell_type": "code",
      "source": [
        "#Applying Naive Bayes\n",
        "from sklearn.naive_bayes import MultinomialNB\n",
        "clf=MultinomialNB()\n",
        "clf.fit(x_train,y_train)\n",
        "y_prednb=clf.predict(x_test)\n",
        "clf.score(x_test,y_test)"
      ],
      "metadata": {
        "colab": {
          "base_uri": "https://localhost:8080/"
        },
        "id": "ng9TFlCDOGTJ",
        "outputId": "a60de43b-ff08-4c1f-9488-381358413080"
      },
      "execution_count": null,
      "outputs": [
        {
          "output_type": "execute_result",
          "data": {
            "text/plain": [
              "0.2338568935427574"
            ]
          },
          "metadata": {},
          "execution_count": 122
        }
      ]
    },
    {
      "cell_type": "code",
      "source": [
        "#Applying SVM\n",
        "from sklearn.svm import SVC\n",
        "sv = SVC(kernel = 'poly',degree=3, gamma='auto')\n",
        "sv.fit(x_train,y_train)\n",
        "y_predsvm=sv.predict(x_train)\n",
        "sv.score(x_test,y_test)"
      ],
      "metadata": {
        "colab": {
          "base_uri": "https://localhost:8080/"
        },
        "id": "YIdlOvf7ON5F",
        "outputId": "e3d2594e-8d87-4f62-ed9b-bb8b8c471e80"
      },
      "execution_count": null,
      "outputs": [
        {
          "output_type": "execute_result",
          "data": {
            "text/plain": [
              "0.22745782431646305"
            ]
          },
          "metadata": {},
          "execution_count": 121
        }
      ]
    },
    {
      "cell_type": "code",
      "source": [
        "#Applying KNN\n",
        "knn_clf=KNeighborsClassifier()\n",
        "knn_clf.fit(x_train,y_train)\n",
        "ypred_knn=knn_clf.predict(x_test)\n",
        "knn_clf.score(x_test,y_test)"
      ],
      "metadata": {
        "colab": {
          "base_uri": "https://localhost:8080/"
        },
        "id": "fPHdN8I4OTLE",
        "outputId": "069a2c7c-dc99-4dab-a6d0-f716ec6f0493"
      },
      "execution_count": null,
      "outputs": [
        {
          "output_type": "execute_result",
          "data": {
            "text/plain": [
              "0.24607329842931938"
            ]
          },
          "metadata": {},
          "execution_count": 123
        }
      ]
    },
    {
      "cell_type": "code",
      "source": [
        "#Applying Random Forest\n",
        "from sklearn.ensemble import RandomForestClassifier\n",
        "rf=RandomForestClassifier()\n",
        "rf.fit(x_train,y_train)\n",
        "y_predrf=rf.predict(x_test)\n",
        "rf.score(x_test,y_test)\n"
      ],
      "metadata": {
        "colab": {
          "base_uri": "https://localhost:8080/"
        },
        "id": "tLrKqrLpOWvr",
        "outputId": "a74b76f7-2ce9-42a1-9e9a-148cdf8b7f7c"
      },
      "execution_count": null,
      "outputs": [
        {
          "output_type": "execute_result",
          "data": {
            "text/plain": [
              "0.2315299592786504"
            ]
          },
          "metadata": {},
          "execution_count": 124
        }
      ]
    },
    {
      "cell_type": "code",
      "source": [
        "#Applying logeistic regression\n",
        "from sklearn.datasets import make_classification\n",
        "from sklearn.linear_model import LogisticRegression\n",
        "lr = LogisticRegression(multi_class='multinomial', solver='lbfgs')\n",
        "lr.fit(x_train,y_train)\n",
        "y_predlr=lr.predict(x_test)\n",
        "lr.score(x_test,y_test)\n"
      ],
      "metadata": {
        "colab": {
          "base_uri": "https://localhost:8080/"
        },
        "id": "eUAeL0HXOZxi",
        "outputId": "a3f59b29-72a4-4574-88f8-1274abc46149"
      },
      "execution_count": null,
      "outputs": [
        {
          "output_type": "execute_result",
          "data": {
            "text/plain": [
              "0.2344386271087842"
            ]
          },
          "metadata": {},
          "execution_count": 125
        }
      ]
    },
    {
      "cell_type": "code",
      "source": [
        "#Applying DecisionTreeClassifier\n",
        "from sklearn.tree import DecisionTreeClassifier\n",
        "dt= DecisionTreeClassifier()\n",
        "dt.fit(x_train,y_train)\n",
        "y_predlr=dt.predict(x_test)\n",
        "dt.score(x_test,y_test)\n",
        "\n"
      ],
      "metadata": {
        "colab": {
          "base_uri": "https://localhost:8080/"
        },
        "id": "vfl91ZDoOxHC",
        "outputId": "23a8518b-0d7c-4209-8284-4289d14d5c0f"
      },
      "execution_count": null,
      "outputs": [
        {
          "output_type": "execute_result",
          "data": {
            "text/plain": [
              "0.23502036067481094"
            ]
          },
          "metadata": {},
          "execution_count": 126
        }
      ]
    },
    {
      "cell_type": "code",
      "source": [
        "#Model Evaluation of Random Forest\n",
        "y_pred4=rf.predict(x_test)\n",
        "confusion3=confusion_matrix(y_test,y_pred4)\n",
        "plt.figure(figsize = (10,7))\n",
        "sns.heatmap(confusion3, annot=True,fmt='g',cmap='Blues')\n",
        "plt.ylabel(\"actual\")\n",
        "plt.xlabel('predicted');"
      ],
      "metadata": {
        "colab": {
          "base_uri": "https://localhost:8080/",
          "height": 443
        },
        "id": "s_Tz9MqbTOXL",
        "outputId": "1813905e-fbb5-4a14-ab23-a39e142f3899"
      },
      "execution_count": null,
      "outputs": [
        {
          "output_type": "display_data",
          "data": {
            "text/plain": [
              "<Figure size 720x504 with 2 Axes>"
            ],
            "image/png": "[encoded data removed]"
          },
          "metadata": {
            "needs_background": "light"
          }
        }
      ]
    },
    {
      "cell_type": "code",
      "source": [
        "\n",
        "print(\"Classification report of Random Forest \\n\")\n",
        "print(classification_report(y_test,y_pred4))"
      ],
      "metadata": {
        "colab": {
          "base_uri": "https://localhost:8080/"
        },
        "id": "xLp5eg9STYmi",
        "outputId": "ddf98c13-5e68-4cf7-9344-73da37d5be5b"
      },
      "execution_count": null,
      "outputs": [
        {
          "output_type": "stream",
          "name": "stdout",
          "text": [
            "Classification report of Random Forest \n",
            "\n",
            "              precision    recall  f1-score   support\n",
            "\n",
            "           0       0.92      0.79      0.85       434\n",
            "           1       0.73      0.84      0.78       432\n",
            "           2       0.90      0.82      0.85       433\n",
            "           3       0.93      1.00      0.97       420\n",
            "\n",
            "    accuracy                           0.86      1719\n",
            "   macro avg       0.87      0.86      0.86      1719\n",
            "weighted avg       0.87      0.86      0.86      1719\n",
            "\n"
          ]
        }
      ]
    },
    {
      "cell_type": "code",
      "source": [
        "#for decision tree\n",
        "y_pred5=dt.predict(x_test)\n",
        "confusion3=confusion_matrix(y_test,y_pred5)\n",
        "plt.figure(figsize = (10,7))\n",
        "sns.heatmap(confusion3, annot=True,fmt='g',cmap='Blues')\n",
        "plt.ylabel(\"actual\")\n",
        "plt.xlabel('predicted');"
      ],
      "metadata": {
        "colab": {
          "base_uri": "https://localhost:8080/",
          "height": 442
        },
        "id": "CnGtcUwFjc87",
        "outputId": "c75fa84f-984b-48e9-d5dd-0ca8bf7d8f1a"
      },
      "execution_count": null,
      "outputs": [
        {
          "output_type": "display_data",
          "data": {
            "text/plain": [
              "<Figure size 720x504 with 2 Axes>"
            ],
            "image/png": "[encoded data removed]"
          },
          "metadata": {
            "needs_background": "light"
          }
        }
      ]
    },
    {
      "cell_type": "code",
      "source": [
        "print(\"Classification report of Decision tree \\n\")\n",
        "print(classification_report(y_test,y_pred5))"
      ],
      "metadata": {
        "colab": {
          "base_uri": "https://localhost:8080/"
        },
        "id": "0in2vu1Gjqd5",
        "outputId": "35ebb2e4-b034-46bb-b47e-8a86a3f05c06"
      },
      "execution_count": null,
      "outputs": [
        {
          "output_type": "stream",
          "name": "stdout",
          "text": [
            "Classification report of Decision tree \n",
            "\n",
            "              precision    recall  f1-score   support\n",
            "\n",
            "           0       0.96      0.76      0.85       418\n",
            "           1       0.71      0.90      0.79       453\n",
            "           2       0.91      0.77      0.84       401\n",
            "           3       0.93      1.00      0.97       447\n",
            "\n",
            "    accuracy                           0.86      1719\n",
            "   macro avg       0.88      0.86      0.86      1719\n",
            "weighted avg       0.88      0.86      0.86      1719\n",
            "\n"
          ]
        }
      ]
    },
    {
      "cell_type": "code",
      "source": [
        "import pickle"
      ],
      "metadata": {
        "id": "9mPEu6fyTcJM"
      },
      "execution_count": null,
      "outputs": []
    },
    {
      "cell_type": "code",
      "source": [
        "\n",
        "# save the model to disk\n",
        "filename = 'picklemodel.sav'\n",
        "pickle.dump(rf, open(filename, 'wb'))"
      ],
      "metadata": {
        "id": "wBh0oT1aVupE"
      },
      "execution_count": null,
      "outputs": []
    },
    {
      "cell_type": "code",
      "source": [
        "# load the model from disk\n",
        "loaded_model = pickle.load(open(filename, 'rb'))\n",
        "result = loaded_model.score(x_test, y_test)\n",
        "print(result)"
      ],
      "metadata": {
        "colab": {
          "base_uri": "https://localhost:8080/"
        },
        "id": "EfVuLpxEWqcz",
        "outputId": "42767fff-6bc4-4ae3-95e8-1b29750a79bc"
      },
      "execution_count": null,
      "outputs": [
        {
          "output_type": "stream",
          "name": "stdout",
          "text": [
            "0.8609656777196044\n"
          ]
        }
      ]
    },
    {
      "cell_type": "code",
      "source": [],
      "metadata": {
        "id": "5kzwItjXW0NG"
      },
      "execution_count": null,
      "outputs": []
    }
  ]
}