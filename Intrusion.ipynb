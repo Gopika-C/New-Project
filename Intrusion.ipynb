{
  "nbformat": 4,
  "nbformat_minor": 0,
  "metadata": {
    "colab": {
      "provenance": [],
      "authorship_tag": "ABX9TyOkub7lTNZILvgk9JidytSz",
      "include_colab_link": true
    },
    "kernelspec": {
      "name": "python3",
      "display_name": "Python 3"
    },
    "language_info": {
      "name": "python"
    }
  },
  "cells": [
    {
      "cell_type": "markdown",
      "metadata": {
        "id": "view-in-github",
        "colab_type": "text"
      },
      "source": [
        "<a href=\"https://colab.research.google.com/github/Gopika-C/New-Project/blob/main/Intrusion.ipynb\" target=\"_parent\"><img src=\"https://colab.research.google.com/assets/colab-badge.svg\" alt=\"Open In Colab\"/></a>"
      ]
    },
    {
      "cell_type": "code",
      "execution_count": null,
      "metadata": {
        "id": "6Oh9utTu3nO2"
      },
      "outputs": [],
      "source": [
        "#importing required packages for this module\n",
        "import pandas as pd\n",
        "import numpy as np\n",
        "import random\n",
        "from sklearn import preprocessing\n",
        "from pathlib import Path\n",
        "import matplotlib.pyplot as plt\n",
        "import seaborn as sns\n",
        "from sklearn.metrics import confusion_matrix,classification_report\n",
        "from sklearn.neighbors import KNeighborsClassifier\n",
        "from sklearn.linear_model import LogisticRegression"
      ]
    },
    {
      "cell_type": "code",
      "source": [
        "import json\n",
        "jsonpath=Path('/content/drive/MyDrive/Mini Project/datasetnew.json')\n",
        "with jsonpath.open('r',encoding='utf-8')as dat_f:\n",
        "  dat=json.loads(dat_f.read())\n",
        "  df=pd.json_normalize(dat)\n",
        "  df.to_csv('/content/drive/MyDrive/Mini Project/Dataset.csv',encoding='utf-8',index=False)"
      ],
      "metadata": {
        "id": "FlMoWbYu3tqg",
        "colab": {
          "base_uri": "https://localhost:8080/",
          "height": 380
        },
        "outputId": "40710b38-fe50-44e6-c9f3-c984f60e2f73"
      },
      "execution_count": null,
      "outputs": [
        {
          "output_type": "error",
          "ename": "FileNotFoundError",
          "evalue": "ignored",
          "traceback": [
            "\u001b[0;31m---------------------------------------------------------------------------\u001b[0m",
            "\u001b[0;31mFileNotFoundError\u001b[0m                         Traceback (most recent call last)",
            "\u001b[0;32m<ipython-input-2-cfcbbae158bd>\u001b[0m in \u001b[0;36m<module>\u001b[0;34m\u001b[0m\n\u001b[1;32m      1\u001b[0m \u001b[0;32mimport\u001b[0m \u001b[0mjson\u001b[0m\u001b[0;34m\u001b[0m\u001b[0;34m\u001b[0m\u001b[0m\n\u001b[1;32m      2\u001b[0m \u001b[0mjsonpath\u001b[0m\u001b[0;34m=\u001b[0m\u001b[0mPath\u001b[0m\u001b[0;34m(\u001b[0m\u001b[0;34m'/content/drive/MyDrive/Mini Project/datasetnew.json'\u001b[0m\u001b[0;34m)\u001b[0m\u001b[0;34m\u001b[0m\u001b[0;34m\u001b[0m\u001b[0m\n\u001b[0;32m----> 3\u001b[0;31m \u001b[0;32mwith\u001b[0m \u001b[0mjsonpath\u001b[0m\u001b[0;34m.\u001b[0m\u001b[0mopen\u001b[0m\u001b[0;34m(\u001b[0m\u001b[0;34m'r'\u001b[0m\u001b[0;34m,\u001b[0m\u001b[0mencoding\u001b[0m\u001b[0;34m=\u001b[0m\u001b[0;34m'utf-8'\u001b[0m\u001b[0;34m)\u001b[0m\u001b[0;32mas\u001b[0m \u001b[0mdat_f\u001b[0m\u001b[0;34m:\u001b[0m\u001b[0;34m\u001b[0m\u001b[0;34m\u001b[0m\u001b[0m\n\u001b[0m\u001b[1;32m      4\u001b[0m   \u001b[0mdat\u001b[0m\u001b[0;34m=\u001b[0m\u001b[0mjson\u001b[0m\u001b[0;34m.\u001b[0m\u001b[0mloads\u001b[0m\u001b[0;34m(\u001b[0m\u001b[0mdat_f\u001b[0m\u001b[0;34m.\u001b[0m\u001b[0mread\u001b[0m\u001b[0;34m(\u001b[0m\u001b[0;34m)\u001b[0m\u001b[0;34m)\u001b[0m\u001b[0;34m\u001b[0m\u001b[0;34m\u001b[0m\u001b[0m\n\u001b[1;32m      5\u001b[0m   \u001b[0mdf\u001b[0m\u001b[0;34m=\u001b[0m\u001b[0mpd\u001b[0m\u001b[0;34m.\u001b[0m\u001b[0mjson_normalize\u001b[0m\u001b[0;34m(\u001b[0m\u001b[0mdat\u001b[0m\u001b[0;34m)\u001b[0m\u001b[0;34m\u001b[0m\u001b[0;34m\u001b[0m\u001b[0m\n",
            "\u001b[0;32m/usr/lib/python3.7/pathlib.py\u001b[0m in \u001b[0;36mopen\u001b[0;34m(self, mode, buffering, encoding, errors, newline)\u001b[0m\n\u001b[1;32m   1206\u001b[0m             \u001b[0mself\u001b[0m\u001b[0;34m.\u001b[0m\u001b[0m_raise_closed\u001b[0m\u001b[0;34m(\u001b[0m\u001b[0;34m)\u001b[0m\u001b[0;34m\u001b[0m\u001b[0;34m\u001b[0m\u001b[0m\n\u001b[1;32m   1207\u001b[0m         return io.open(self, mode, buffering, encoding, errors, newline,\n\u001b[0;32m-> 1208\u001b[0;31m                        opener=self._opener)\n\u001b[0m\u001b[1;32m   1209\u001b[0m \u001b[0;34m\u001b[0m\u001b[0m\n\u001b[1;32m   1210\u001b[0m     \u001b[0;32mdef\u001b[0m \u001b[0mread_bytes\u001b[0m\u001b[0;34m(\u001b[0m\u001b[0mself\u001b[0m\u001b[0;34m)\u001b[0m\u001b[0;34m:\u001b[0m\u001b[0;34m\u001b[0m\u001b[0;34m\u001b[0m\u001b[0m\n",
            "\u001b[0;32m/usr/lib/python3.7/pathlib.py\u001b[0m in \u001b[0;36m_opener\u001b[0;34m(self, name, flags, mode)\u001b[0m\n\u001b[1;32m   1061\u001b[0m     \u001b[0;32mdef\u001b[0m \u001b[0m_opener\u001b[0m\u001b[0;34m(\u001b[0m\u001b[0mself\u001b[0m\u001b[0;34m,\u001b[0m \u001b[0mname\u001b[0m\u001b[0;34m,\u001b[0m \u001b[0mflags\u001b[0m\u001b[0;34m,\u001b[0m \u001b[0mmode\u001b[0m\u001b[0;34m=\u001b[0m\u001b[0;36m0o666\u001b[0m\u001b[0;34m)\u001b[0m\u001b[0;34m:\u001b[0m\u001b[0;34m\u001b[0m\u001b[0;34m\u001b[0m\u001b[0m\n\u001b[1;32m   1062\u001b[0m         \u001b[0;31m# A stub for the opener argument to built-in open()\u001b[0m\u001b[0;34m\u001b[0m\u001b[0;34m\u001b[0m\u001b[0;34m\u001b[0m\u001b[0m\n\u001b[0;32m-> 1063\u001b[0;31m         \u001b[0;32mreturn\u001b[0m \u001b[0mself\u001b[0m\u001b[0;34m.\u001b[0m\u001b[0m_accessor\u001b[0m\u001b[0;34m.\u001b[0m\u001b[0mopen\u001b[0m\u001b[0;34m(\u001b[0m\u001b[0mself\u001b[0m\u001b[0;34m,\u001b[0m \u001b[0mflags\u001b[0m\u001b[0;34m,\u001b[0m \u001b[0mmode\u001b[0m\u001b[0;34m)\u001b[0m\u001b[0;34m\u001b[0m\u001b[0;34m\u001b[0m\u001b[0m\n\u001b[0m\u001b[1;32m   1064\u001b[0m \u001b[0;34m\u001b[0m\u001b[0m\n\u001b[1;32m   1065\u001b[0m     \u001b[0;32mdef\u001b[0m \u001b[0m_raw_open\u001b[0m\u001b[0;34m(\u001b[0m\u001b[0mself\u001b[0m\u001b[0;34m,\u001b[0m \u001b[0mflags\u001b[0m\u001b[0;34m,\u001b[0m \u001b[0mmode\u001b[0m\u001b[0;34m=\u001b[0m\u001b[0;36m0o777\u001b[0m\u001b[0;34m)\u001b[0m\u001b[0;34m:\u001b[0m\u001b[0;34m\u001b[0m\u001b[0;34m\u001b[0m\u001b[0m\n",
            "\u001b[0;31mFileNotFoundError\u001b[0m: [Errno 2] No such file or directory: '/content/drive/MyDrive/Mini Project/datasetnew.json'"
          ]
        }
      ]
    },
    {
      "cell_type": "code",
      "source": [
        "from google.colab import drive\n",
        "drive.mount('/content/drive')"
      ],
      "metadata": {
        "id": "5DuR5Upe3wj_",
        "colab": {
          "base_uri": "https://localhost:8080/",
          "height": 328
        },
        "outputId": "1dd4b122-dd7c-4d61-a45f-44f7646a9cf7"
      },
      "execution_count": null,
      "outputs": [
        {
          "output_type": "error",
          "ename": "MessageError",
          "evalue": "ignored",
          "traceback": [
            "\u001b[0;31m---------------------------------------------------------------------------\u001b[0m",
            "\u001b[0;31mMessageError\u001b[0m                              Traceback (most recent call last)",
            "\u001b[0;32m<ipython-input-3-d5df0069828e>\u001b[0m in \u001b[0;36m<module>\u001b[0;34m\u001b[0m\n\u001b[1;32m      1\u001b[0m \u001b[0;32mfrom\u001b[0m \u001b[0mgoogle\u001b[0m\u001b[0;34m.\u001b[0m\u001b[0mcolab\u001b[0m \u001b[0;32mimport\u001b[0m \u001b[0mdrive\u001b[0m\u001b[0;34m\u001b[0m\u001b[0;34m\u001b[0m\u001b[0m\n\u001b[0;32m----> 2\u001b[0;31m \u001b[0mdrive\u001b[0m\u001b[0;34m.\u001b[0m\u001b[0mmount\u001b[0m\u001b[0;34m(\u001b[0m\u001b[0;34m'/content/drive'\u001b[0m\u001b[0;34m)\u001b[0m\u001b[0;34m\u001b[0m\u001b[0;34m\u001b[0m\u001b[0m\n\u001b[0m",
            "\u001b[0;32m/usr/local/lib/python3.7/dist-packages/google/colab/drive.py\u001b[0m in \u001b[0;36mmount\u001b[0;34m(mountpoint, force_remount, timeout_ms, readonly)\u001b[0m\n\u001b[1;32m    104\u001b[0m       \u001b[0mtimeout_ms\u001b[0m\u001b[0;34m=\u001b[0m\u001b[0mtimeout_ms\u001b[0m\u001b[0;34m,\u001b[0m\u001b[0;34m\u001b[0m\u001b[0;34m\u001b[0m\u001b[0m\n\u001b[1;32m    105\u001b[0m       \u001b[0mephemeral\u001b[0m\u001b[0;34m=\u001b[0m\u001b[0;32mTrue\u001b[0m\u001b[0;34m,\u001b[0m\u001b[0;34m\u001b[0m\u001b[0;34m\u001b[0m\u001b[0m\n\u001b[0;32m--> 106\u001b[0;31m       readonly=readonly)\n\u001b[0m\u001b[1;32m    107\u001b[0m \u001b[0;34m\u001b[0m\u001b[0m\n\u001b[1;32m    108\u001b[0m \u001b[0;34m\u001b[0m\u001b[0m\n",
            "\u001b[0;32m/usr/local/lib/python3.7/dist-packages/google/colab/drive.py\u001b[0m in \u001b[0;36m_mount\u001b[0;34m(mountpoint, force_remount, timeout_ms, ephemeral, readonly)\u001b[0m\n\u001b[1;32m    123\u001b[0m   \u001b[0;32mif\u001b[0m \u001b[0mephemeral\u001b[0m\u001b[0;34m:\u001b[0m\u001b[0;34m\u001b[0m\u001b[0;34m\u001b[0m\u001b[0m\n\u001b[1;32m    124\u001b[0m     _message.blocking_request(\n\u001b[0;32m--> 125\u001b[0;31m         'request_auth', request={'authType': 'dfs_ephemeral'}, timeout_sec=None)\n\u001b[0m\u001b[1;32m    126\u001b[0m \u001b[0;34m\u001b[0m\u001b[0m\n\u001b[1;32m    127\u001b[0m   \u001b[0mmountpoint\u001b[0m \u001b[0;34m=\u001b[0m \u001b[0m_os\u001b[0m\u001b[0;34m.\u001b[0m\u001b[0mpath\u001b[0m\u001b[0;34m.\u001b[0m\u001b[0mexpanduser\u001b[0m\u001b[0;34m(\u001b[0m\u001b[0mmountpoint\u001b[0m\u001b[0;34m)\u001b[0m\u001b[0;34m\u001b[0m\u001b[0;34m\u001b[0m\u001b[0m\n",
            "\u001b[0;32m/usr/local/lib/python3.7/dist-packages/google/colab/_message.py\u001b[0m in \u001b[0;36mblocking_request\u001b[0;34m(request_type, request, timeout_sec, parent)\u001b[0m\n\u001b[1;32m    169\u001b[0m   request_id = send_request(\n\u001b[1;32m    170\u001b[0m       request_type, request, parent=parent, expect_reply=True)\n\u001b[0;32m--> 171\u001b[0;31m   \u001b[0;32mreturn\u001b[0m \u001b[0mread_reply_from_input\u001b[0m\u001b[0;34m(\u001b[0m\u001b[0mrequest_id\u001b[0m\u001b[0;34m,\u001b[0m \u001b[0mtimeout_sec\u001b[0m\u001b[0;34m)\u001b[0m\u001b[0;34m\u001b[0m\u001b[0;34m\u001b[0m\u001b[0m\n\u001b[0m",
            "\u001b[0;32m/usr/local/lib/python3.7/dist-packages/google/colab/_message.py\u001b[0m in \u001b[0;36mread_reply_from_input\u001b[0;34m(message_id, timeout_sec)\u001b[0m\n\u001b[1;32m    100\u001b[0m         reply.get('colab_msg_id') == message_id):\n\u001b[1;32m    101\u001b[0m       \u001b[0;32mif\u001b[0m \u001b[0;34m'error'\u001b[0m \u001b[0;32min\u001b[0m \u001b[0mreply\u001b[0m\u001b[0;34m:\u001b[0m\u001b[0;34m\u001b[0m\u001b[0;34m\u001b[0m\u001b[0m\n\u001b[0;32m--> 102\u001b[0;31m         \u001b[0;32mraise\u001b[0m \u001b[0mMessageError\u001b[0m\u001b[0;34m(\u001b[0m\u001b[0mreply\u001b[0m\u001b[0;34m[\u001b[0m\u001b[0;34m'error'\u001b[0m\u001b[0;34m]\u001b[0m\u001b[0;34m)\u001b[0m\u001b[0;34m\u001b[0m\u001b[0;34m\u001b[0m\u001b[0m\n\u001b[0m\u001b[1;32m    103\u001b[0m       \u001b[0;32mreturn\u001b[0m \u001b[0mreply\u001b[0m\u001b[0;34m.\u001b[0m\u001b[0mget\u001b[0m\u001b[0;34m(\u001b[0m\u001b[0;34m'data'\u001b[0m\u001b[0;34m,\u001b[0m \u001b[0;32mNone\u001b[0m\u001b[0;34m)\u001b[0m\u001b[0;34m\u001b[0m\u001b[0;34m\u001b[0m\u001b[0m\n\u001b[1;32m    104\u001b[0m \u001b[0;34m\u001b[0m\u001b[0m\n",
            "\u001b[0;31mMessageError\u001b[0m: Error: credential propagation was unsuccessful"
          ]
        }
      ]
    },
    {
      "cell_type": "code",
      "source": [
        "data=pd.read_csv(\"/content/drive/MyDrive/Mini Project/logdataset.csv\")\n",
        "data"
      ],
      "metadata": {
        "id": "jSTFToZm4XmC",
        "colab": {
          "base_uri": "https://localhost:8080/",
          "height": 1000
        },
        "outputId": "ccc6b71c-6f91-4403-e50a-7b8d49a6d1d3"
      },
      "execution_count": null,
      "outputs": [
        {
          "output_type": "execute_result",
          "data": {
            "text/plain": [
              "     modload_count                                       process_path  \\\n",
              "0                2  c:\\windows\\syswow64\\macromed\\flash\\flashplayer...   \n",
              "1                2  c:\\windows\\syswow64\\macromed\\flash\\flashplayer...   \n",
              "2                2  c:\\windows\\syswow64\\macromed\\flash\\flashplayer...   \n",
              "3                2  c:\\windows\\syswow64\\macromed\\flash\\flashplayer...   \n",
              "4                2  c:\\windows\\syswow64\\macromed\\flash\\flashplayer...   \n",
              "...            ...                                                ...   \n",
              "2495             1  c:\\windows\\syswow64\\macromed\\flash\\flashplayer...   \n",
              "2496             1  c:\\windows\\syswow64\\macromed\\flash\\flashplayer...   \n",
              "2497             1  c:\\windows\\syswow64\\macromed\\flash\\flashplayer...   \n",
              "2498             1  c:\\windows\\syswow64\\macromed\\flash\\flashplayer...   \n",
              "2499             1  c:\\windows\\syswow64\\macromed\\flash\\flashplayer...   \n",
              "\n",
              "                         alert_type  sensor_criticality  \\\n",
              "0     watchlist.hit.ingress.process                   3   \n",
              "1     watchlist.hit.ingress.process                   3   \n",
              "2     watchlist.hit.ingress.process                   3   \n",
              "3     watchlist.hit.ingress.process                   3   \n",
              "4     watchlist.hit.ingress.process                   3   \n",
              "...                             ...                 ...   \n",
              "2495  watchlist.hit.ingress.process                   3   \n",
              "2496  watchlist.hit.ingress.process                   3   \n",
              "2497  watchlist.hit.ingress.process                   3   \n",
              "2498  watchlist.hit.ingress.process                   3   \n",
              "2499  watchlist.hit.ingress.process                   3   \n",
              "\n",
              "                    @timestamp  report_score   watchlist_id  sensor_id  \\\n",
              "0     2019-11-29T12:18:17.856Z            40  CVE-2016-4171        322   \n",
              "1     2019-11-29T12:18:17.856Z            40  CVE-2016-4181        322   \n",
              "2     2019-11-29T12:18:17.856Z            40  CVE-2016-4138        322   \n",
              "3     2019-11-29T12:18:17.856Z            40  CVE-2016-4128        322   \n",
              "4     2019-11-29T12:18:17.856Z            40  CVE-2016-4227        322   \n",
              "...                        ...           ...            ...        ...   \n",
              "2495  2019-11-27T03:12:01.144Z            40  CVE-2016-0995        237   \n",
              "2496  2019-11-27T03:12:01.143Z            40  CVE-2016-1031        237   \n",
              "2497  2019-11-27T03:12:01.143Z            40  CVE-2016-4284        237   \n",
              "2498  2019-11-27T03:12:01.143Z            40  CVE-2016-4284        237   \n",
              "2499  2019-11-27T03:12:01.143Z            40  CVE-2016-1031        237   \n",
              "\n",
              "     feed_name              created_time  ...    interface_ip    segment_id  \\\n",
              "0          nvd  2019-11-29T12:11:06.587Z  ...    172.20.7.254 -1.223531e+09   \n",
              "1          nvd  2019-11-29T12:11:06.589Z  ...    172.20.7.254 -1.223531e+09   \n",
              "2          nvd  2019-11-29T12:11:06.413Z  ...    172.20.7.254 -1.223531e+09   \n",
              "3          nvd  2019-11-29T12:11:06.406Z  ...    172.20.7.254 -1.223531e+09   \n",
              "4          nvd   2019-11-29T12:11:06.41Z  ...    172.20.7.254 -1.223531e+09   \n",
              "...        ...                       ...  ...             ...           ...   \n",
              "2495       nvd  2019-11-27T03:09:30.037Z  ...  192.168.168.20 -1.428828e+09   \n",
              "2496       nvd  2019-11-27T03:09:30.207Z  ...  192.168.168.20 -1.428828e+09   \n",
              "2497       nvd  2019-11-27T03:09:30.212Z  ...  192.168.168.20 -1.428828e+09   \n",
              "2498       nvd  2019-11-27T03:09:30.212Z  ...  192.168.168.20 -1.428828e+09   \n",
              "2499       nvd  2019-11-27T03:09:30.207Z  ...  192.168.168.20 -1.428828e+09   \n",
              "\n",
              "      total_hosts  feed_id      status  os_type @version childproc_count  \\\n",
              "0             198       18  Unresolved  windows        1               2   \n",
              "1             198       18  Unresolved  windows        1               2   \n",
              "2             198       18  Unresolved  windows        1               2   \n",
              "3             198       18  Unresolved  windows        1               2   \n",
              "4             198       18  Unresolved  windows        1               2   \n",
              "...           ...      ...         ...      ...      ...             ...   \n",
              "2495          271       18  Unresolved  windows        1               2   \n",
              "2496          271       18  Unresolved  windows        1               2   \n",
              "2497          271       18  Unresolved  windows        1               2   \n",
              "2498          271       18  Unresolved  windows        1               2   \n",
              "2499          271       18  Unresolved  windows        1               2   \n",
              "\n",
              "                                 unique_id  feed_rating  \n",
              "0     c9845596-2a1c-40fa-ba73-1a3cb250e988            3  \n",
              "1     a3e78117-f02b-4a58-9194-39b8c153b1fb            3  \n",
              "2     cf8a47c0-fe5e-4738-a0c4-841c04bd4e85            3  \n",
              "3     9c819b01-6e5c-4985-92a6-132c98cb6f63            3  \n",
              "4     7cbfe316-3569-4a6b-8b30-efd474b13cc6            3  \n",
              "...                                    ...          ...  \n",
              "2495  d1634d4f-c262-4484-9a10-3939743a8ca5            3  \n",
              "2496  9ab8684a-bec1-4dd4-8688-e698f107d038            3  \n",
              "2497  85110b00-ce52-4cfd-9b38-1ff1ea9452ed            3  \n",
              "2498  85110b00-ce52-4cfd-9b38-1ff1ea9452ed            3  \n",
              "2499  9ab8684a-bec1-4dd4-8688-e698f107d038            3  \n",
              "\n",
              "[2500 rows x 47 columns]"
            ],
            "text/html": [
              "\n",
              "  <div id=\"df-923bcf97-53f6-4133-8488-43a087660018\">\n",
              "    <div class=\"colab-df-container\">\n",
              "      <div>\n",
              "<style scoped>\n",
              "    .dataframe tbody tr th:only-of-type {\n",
              "        vertical-align: middle;\n",
              "    }\n",
              "\n",
              "    .dataframe tbody tr th {\n",
              "        vertical-align: top;\n",
              "    }\n",
              "\n",
              "    .dataframe thead th {\n",
              "        text-align: right;\n",
              "    }\n",
              "</style>\n",
              "<table border=\"1\" class=\"dataframe\">\n",
              "  <thead>\n",
              "    <tr style=\"text-align: right;\">\n",
              "      <th></th>\n",
              "      <th>modload_count</th>\n",
              "      <th>process_path</th>\n",
              "      <th>alert_type</th>\n",
              "      <th>sensor_criticality</th>\n",
              "      <th>@timestamp</th>\n",
              "      <th>report_score</th>\n",
              "      <th>watchlist_id</th>\n",
              "      <th>sensor_id</th>\n",
              "      <th>feed_name</th>\n",
              "      <th>created_time</th>\n",
              "      <th>...</th>\n",
              "      <th>interface_ip</th>\n",
              "      <th>segment_id</th>\n",
              "      <th>total_hosts</th>\n",
              "      <th>feed_id</th>\n",
              "      <th>status</th>\n",
              "      <th>os_type</th>\n",
              "      <th>@version</th>\n",
              "      <th>childproc_count</th>\n",
              "      <th>unique_id</th>\n",
              "      <th>feed_rating</th>\n",
              "    </tr>\n",
              "  </thead>\n",
              "  <tbody>\n",
              "    <tr>\n",
              "      <th>0</th>\n",
              "      <td>2</td>\n",
              "      <td>c:\\windows\\syswow64\\macromed\\flash\\flashplayer...</td>\n",
              "      <td>watchlist.hit.ingress.process</td>\n",
              "      <td>3</td>\n",
              "      <td>2019-11-29T12:18:17.856Z</td>\n",
              "      <td>40</td>\n",
              "      <td>CVE-2016-4171</td>\n",
              "      <td>322</td>\n",
              "      <td>nvd</td>\n",
              "      <td>2019-11-29T12:11:06.587Z</td>\n",
              "      <td>...</td>\n",
              "      <td>172.20.7.254</td>\n",
              "      <td>-1.223531e+09</td>\n",
              "      <td>198</td>\n",
              "      <td>18</td>\n",
              "      <td>Unresolved</td>\n",
              "      <td>windows</td>\n",
              "      <td>1</td>\n",
              "      <td>2</td>\n",
              "      <td>c9845596-2a1c-40fa-ba73-1a3cb250e988</td>\n",
              "      <td>3</td>\n",
              "    </tr>\n",
              "    <tr>\n",
              "      <th>1</th>\n",
              "      <td>2</td>\n",
              "      <td>c:\\windows\\syswow64\\macromed\\flash\\flashplayer...</td>\n",
              "      <td>watchlist.hit.ingress.process</td>\n",
              "      <td>3</td>\n",
              "      <td>2019-11-29T12:18:17.856Z</td>\n",
              "      <td>40</td>\n",
              "      <td>CVE-2016-4181</td>\n",
              "      <td>322</td>\n",
              "      <td>nvd</td>\n",
              "      <td>2019-11-29T12:11:06.589Z</td>\n",
              "      <td>...</td>\n",
              "      <td>172.20.7.254</td>\n",
              "      <td>-1.223531e+09</td>\n",
              "      <td>198</td>\n",
              "      <td>18</td>\n",
              "      <td>Unresolved</td>\n",
              "      <td>windows</td>\n",
              "      <td>1</td>\n",
              "      <td>2</td>\n",
              "      <td>a3e78117-f02b-4a58-9194-39b8c153b1fb</td>\n",
              "      <td>3</td>\n",
              "    </tr>\n",
              "    <tr>\n",
              "      <th>2</th>\n",
              "      <td>2</td>\n",
              "      <td>c:\\windows\\syswow64\\macromed\\flash\\flashplayer...</td>\n",
              "      <td>watchlist.hit.ingress.process</td>\n",
              "      <td>3</td>\n",
              "      <td>2019-11-29T12:18:17.856Z</td>\n",
              "      <td>40</td>\n",
              "      <td>CVE-2016-4138</td>\n",
              "      <td>322</td>\n",
              "      <td>nvd</td>\n",
              "      <td>2019-11-29T12:11:06.413Z</td>\n",
              "      <td>...</td>\n",
              "      <td>172.20.7.254</td>\n",
              "      <td>-1.223531e+09</td>\n",
              "      <td>198</td>\n",
              "      <td>18</td>\n",
              "      <td>Unresolved</td>\n",
              "      <td>windows</td>\n",
              "      <td>1</td>\n",
              "      <td>2</td>\n",
              "      <td>cf8a47c0-fe5e-4738-a0c4-841c04bd4e85</td>\n",
              "      <td>3</td>\n",
              "    </tr>\n",
              "    <tr>\n",
              "      <th>3</th>\n",
              "      <td>2</td>\n",
              "      <td>c:\\windows\\syswow64\\macromed\\flash\\flashplayer...</td>\n",
              "      <td>watchlist.hit.ingress.process</td>\n",
              "      <td>3</td>\n",
              "      <td>2019-11-29T12:18:17.856Z</td>\n",
              "      <td>40</td>\n",
              "      <td>CVE-2016-4128</td>\n",
              "      <td>322</td>\n",
              "      <td>nvd</td>\n",
              "      <td>2019-11-29T12:11:06.406Z</td>\n",
              "      <td>...</td>\n",
              "      <td>172.20.7.254</td>\n",
              "      <td>-1.223531e+09</td>\n",
              "      <td>198</td>\n",
              "      <td>18</td>\n",
              "      <td>Unresolved</td>\n",
              "      <td>windows</td>\n",
              "      <td>1</td>\n",
              "      <td>2</td>\n",
              "      <td>9c819b01-6e5c-4985-92a6-132c98cb6f63</td>\n",
              "      <td>3</td>\n",
              "    </tr>\n",
              "    <tr>\n",
              "      <th>4</th>\n",
              "      <td>2</td>\n",
              "      <td>c:\\windows\\syswow64\\macromed\\flash\\flashplayer...</td>\n",
              "      <td>watchlist.hit.ingress.process</td>\n",
              "      <td>3</td>\n",
              "      <td>2019-11-29T12:18:17.856Z</td>\n",
              "      <td>40</td>\n",
              "      <td>CVE-2016-4227</td>\n",
              "      <td>322</td>\n",
              "      <td>nvd</td>\n",
              "      <td>2019-11-29T12:11:06.41Z</td>\n",
              "      <td>...</td>\n",
              "      <td>172.20.7.254</td>\n",
              "      <td>-1.223531e+09</td>\n",
              "      <td>198</td>\n",
              "      <td>18</td>\n",
              "      <td>Unresolved</td>\n",
              "      <td>windows</td>\n",
              "      <td>1</td>\n",
              "      <td>2</td>\n",
              "      <td>7cbfe316-3569-4a6b-8b30-efd474b13cc6</td>\n",
              "      <td>3</td>\n",
              "    </tr>\n",
              "    <tr>\n",
              "      <th>...</th>\n",
              "      <td>...</td>\n",
              "      <td>...</td>\n",
              "      <td>...</td>\n",
              "      <td>...</td>\n",
              "      <td>...</td>\n",
              "      <td>...</td>\n",
              "      <td>...</td>\n",
              "      <td>...</td>\n",
              "      <td>...</td>\n",
              "      <td>...</td>\n",
              "      <td>...</td>\n",
              "      <td>...</td>\n",
              "      <td>...</td>\n",
              "      <td>...</td>\n",
              "      <td>...</td>\n",
              "      <td>...</td>\n",
              "      <td>...</td>\n",
              "      <td>...</td>\n",
              "      <td>...</td>\n",
              "      <td>...</td>\n",
              "      <td>...</td>\n",
              "    </tr>\n",
              "    <tr>\n",
              "      <th>2495</th>\n",
              "      <td>1</td>\n",
              "      <td>c:\\windows\\syswow64\\macromed\\flash\\flashplayer...</td>\n",
              "      <td>watchlist.hit.ingress.process</td>\n",
              "      <td>3</td>\n",
              "      <td>2019-11-27T03:12:01.144Z</td>\n",
              "      <td>40</td>\n",
              "      <td>CVE-2016-0995</td>\n",
              "      <td>237</td>\n",
              "      <td>nvd</td>\n",
              "      <td>2019-11-27T03:09:30.037Z</td>\n",
              "      <td>...</td>\n",
              "      <td>192.168.168.20</td>\n",
              "      <td>-1.428828e+09</td>\n",
              "      <td>271</td>\n",
              "      <td>18</td>\n",
              "      <td>Unresolved</td>\n",
              "      <td>windows</td>\n",
              "      <td>1</td>\n",
              "      <td>2</td>\n",
              "      <td>d1634d4f-c262-4484-9a10-3939743a8ca5</td>\n",
              "      <td>3</td>\n",
              "    </tr>\n",
              "    <tr>\n",
              "      <th>2496</th>\n",
              "      <td>1</td>\n",
              "      <td>c:\\windows\\syswow64\\macromed\\flash\\flashplayer...</td>\n",
              "      <td>watchlist.hit.ingress.process</td>\n",
              "      <td>3</td>\n",
              "      <td>2019-11-27T03:12:01.143Z</td>\n",
              "      <td>40</td>\n",
              "      <td>CVE-2016-1031</td>\n",
              "      <td>237</td>\n",
              "      <td>nvd</td>\n",
              "      <td>2019-11-27T03:09:30.207Z</td>\n",
              "      <td>...</td>\n",
              "      <td>192.168.168.20</td>\n",
              "      <td>-1.428828e+09</td>\n",
              "      <td>271</td>\n",
              "      <td>18</td>\n",
              "      <td>Unresolved</td>\n",
              "      <td>windows</td>\n",
              "      <td>1</td>\n",
              "      <td>2</td>\n",
              "      <td>9ab8684a-bec1-4dd4-8688-e698f107d038</td>\n",
              "      <td>3</td>\n",
              "    </tr>\n",
              "    <tr>\n",
              "      <th>2497</th>\n",
              "      <td>1</td>\n",
              "      <td>c:\\windows\\syswow64\\macromed\\flash\\flashplayer...</td>\n",
              "      <td>watchlist.hit.ingress.process</td>\n",
              "      <td>3</td>\n",
              "      <td>2019-11-27T03:12:01.143Z</td>\n",
              "      <td>40</td>\n",
              "      <td>CVE-2016-4284</td>\n",
              "      <td>237</td>\n",
              "      <td>nvd</td>\n",
              "      <td>2019-11-27T03:09:30.212Z</td>\n",
              "      <td>...</td>\n",
              "      <td>192.168.168.20</td>\n",
              "      <td>-1.428828e+09</td>\n",
              "      <td>271</td>\n",
              "      <td>18</td>\n",
              "      <td>Unresolved</td>\n",
              "      <td>windows</td>\n",
              "      <td>1</td>\n",
              "      <td>2</td>\n",
              "      <td>85110b00-ce52-4cfd-9b38-1ff1ea9452ed</td>\n",
              "      <td>3</td>\n",
              "    </tr>\n",
              "    <tr>\n",
              "      <th>2498</th>\n",
              "      <td>1</td>\n",
              "      <td>c:\\windows\\syswow64\\macromed\\flash\\flashplayer...</td>\n",
              "      <td>watchlist.hit.ingress.process</td>\n",
              "      <td>3</td>\n",
              "      <td>2019-11-27T03:12:01.143Z</td>\n",
              "      <td>40</td>\n",
              "      <td>CVE-2016-4284</td>\n",
              "      <td>237</td>\n",
              "      <td>nvd</td>\n",
              "      <td>2019-11-27T03:09:30.212Z</td>\n",
              "      <td>...</td>\n",
              "      <td>192.168.168.20</td>\n",
              "      <td>-1.428828e+09</td>\n",
              "      <td>271</td>\n",
              "      <td>18</td>\n",
              "      <td>Unresolved</td>\n",
              "      <td>windows</td>\n",
              "      <td>1</td>\n",
              "      <td>2</td>\n",
              "      <td>85110b00-ce52-4cfd-9b38-1ff1ea9452ed</td>\n",
              "      <td>3</td>\n",
              "    </tr>\n",
              "    <tr>\n",
              "      <th>2499</th>\n",
              "      <td>1</td>\n",
              "      <td>c:\\windows\\syswow64\\macromed\\flash\\flashplayer...</td>\n",
              "      <td>watchlist.hit.ingress.process</td>\n",
              "      <td>3</td>\n",
              "      <td>2019-11-27T03:12:01.143Z</td>\n",
              "      <td>40</td>\n",
              "      <td>CVE-2016-1031</td>\n",
              "      <td>237</td>\n",
              "      <td>nvd</td>\n",
              "      <td>2019-11-27T03:09:30.207Z</td>\n",
              "      <td>...</td>\n",
              "      <td>192.168.168.20</td>\n",
              "      <td>-1.428828e+09</td>\n",
              "      <td>271</td>\n",
              "      <td>18</td>\n",
              "      <td>Unresolved</td>\n",
              "      <td>windows</td>\n",
              "      <td>1</td>\n",
              "      <td>2</td>\n",
              "      <td>9ab8684a-bec1-4dd4-8688-e698f107d038</td>\n",
              "      <td>3</td>\n",
              "    </tr>\n",
              "  </tbody>\n",
              "</table>\n",
              "<p>2500 rows × 47 columns</p>\n",
              "</div>\n",
              "      <button class=\"colab-df-convert\" onclick=\"convertToInteractive('df-923bcf97-53f6-4133-8488-43a087660018')\"\n",
              "              title=\"Convert this dataframe to an interactive table.\"\n",
              "              style=\"display:none;\">\n",
              "        \n",
              "  <svg xmlns=\"http://www.w3.org/2000/svg\" height=\"24px\"viewBox=\"0 0 24 24\"\n",
              "       width=\"24px\">\n",
              "    <path d=\"M0 0h24v24H0V0z\" fill=\"none\"/>\n",
              "    <path d=\"M18.56 5.44l.94 2.06.94-2.06 2.06-.94-2.06-.94-.94-2.06-.94 2.06-2.06.94zm-11 1L8.5 8.5l.94-2.06 2.06-.94-2.06-.94L8.5 2.5l-.94 2.06-2.06.94zm10 10l.94 2.06.94-2.06 2.06-.94-2.06-.94-.94-2.06-.94 2.06-2.06.94z\"/><path d=\"M17.41 7.96l-1.37-1.37c-.4-.4-.92-.59-1.43-.59-.52 0-1.04.2-1.43.59L10.3 9.45l-7.72 7.72c-.78.78-.78 2.05 0 2.83L4 21.41c.39.39.9.59 1.41.59.51 0 1.02-.2 1.41-.59l7.78-7.78 2.81-2.81c.8-.78.8-2.07 0-2.86zM5.41 20L4 18.59l7.72-7.72 1.47 1.35L5.41 20z\"/>\n",
              "  </svg>\n",
              "      </button>\n",
              "      \n",
              "  <style>\n",
              "    .colab-df-container {\n",
              "      display:flex;\n",
              "      flex-wrap:wrap;\n",
              "      gap: 12px;\n",
              "    }\n",
              "\n",
              "    .colab-df-convert {\n",
              "      background-color: #E8F0FE;\n",
              "      border: none;\n",
              "      border-radius: 50%;\n",
              "      cursor: pointer;\n",
              "      display: none;\n",
              "      fill: #1967D2;\n",
              "      height: 32px;\n",
              "      padding: 0 0 0 0;\n",
              "      width: 32px;\n",
              "    }\n",
              "\n",
              "    .colab-df-convert:hover {\n",
              "      background-color: #E2EBFA;\n",
              "      box-shadow: 0px 1px 2px rgba(60, 64, 67, 0.3), 0px 1px 3px 1px rgba(60, 64, 67, 0.15);\n",
              "      fill: #174EA6;\n",
              "    }\n",
              "\n",
              "    [theme=dark] .colab-df-convert {\n",
              "      background-color: #3B4455;\n",
              "      fill: #D2E3FC;\n",
              "    }\n",
              "\n",
              "    [theme=dark] .colab-df-convert:hover {\n",
              "      background-color: #434B5C;\n",
              "      box-shadow: 0px 1px 3px 1px rgba(0, 0, 0, 0.15);\n",
              "      filter: drop-shadow(0px 1px 2px rgba(0, 0, 0, 0.3));\n",
              "      fill: #FFFFFF;\n",
              "    }\n",
              "  </style>\n",
              "\n",
              "      <script>\n",
              "        const buttonEl =\n",
              "          document.querySelector('#df-923bcf97-53f6-4133-8488-43a087660018 button.colab-df-convert');\n",
              "        buttonEl.style.display =\n",
              "          google.colab.kernel.accessAllowed ? 'block' : 'none';\n",
              "\n",
              "        async function convertToInteractive(key) {\n",
              "          const element = document.querySelector('#df-923bcf97-53f6-4133-8488-43a087660018');\n",
              "          const dataTable =\n",
              "            await google.colab.kernel.invokeFunction('convertToInteractive',\n",
              "                                                     [key], {});\n",
              "          if (!dataTable) return;\n",
              "\n",
              "          const docLinkHtml = 'Like what you see? Visit the ' +\n",
              "            '<a target=\"_blank\" href=https://colab.research.google.com/notebooks/data_table.ipynb>data table notebook</a>'\n",
              "            + ' to learn more about interactive tables.';\n",
              "          element.innerHTML = '';\n",
              "          dataTable['output_type'] = 'display_data';\n",
              "          await google.colab.output.renderOutput(dataTable, element);\n",
              "          const docLink = document.createElement('div');\n",
              "          docLink.innerHTML = docLinkHtml;\n",
              "          element.appendChild(docLink);\n",
              "        }\n",
              "      </script>\n",
              "    </div>\n",
              "  </div>\n",
              "  "
            ]
          },
          "metadata": {},
          "execution_count": 7
        }
      ]
    },
    {
      "cell_type": "code",
      "source": [
        "ds=data[['process_path','alert_type','@timestamp','watchlist_id','tags','report_score','alert_severity']]"
      ],
      "metadata": {
        "id": "iU1qybhj4eFH"
      },
      "execution_count": null,
      "outputs": []
    },
    {
      "cell_type": "code",
      "source": [
        "ds"
      ],
      "metadata": {
        "colab": {
          "base_uri": "https://localhost:8080/",
          "height": 424
        },
        "id": "qzuuY6SnBoVA",
        "outputId": "7a4edf3c-5275-4320-bb51-1d05c34a6eb0"
      },
      "execution_count": null,
      "outputs": [
        {
          "output_type": "execute_result",
          "data": {
            "text/plain": [
              "                                           process_path  \\\n",
              "0     c:\\windows\\syswow64\\macromed\\flash\\flashplayer...   \n",
              "1     c:\\windows\\syswow64\\macromed\\flash\\flashplayer...   \n",
              "2     c:\\windows\\syswow64\\macromed\\flash\\flashplayer...   \n",
              "3     c:\\windows\\syswow64\\macromed\\flash\\flashplayer...   \n",
              "4     c:\\windows\\syswow64\\macromed\\flash\\flashplayer...   \n",
              "...                                                 ...   \n",
              "2495  c:\\windows\\syswow64\\macromed\\flash\\flashplayer...   \n",
              "2496  c:\\windows\\syswow64\\macromed\\flash\\flashplayer...   \n",
              "2497  c:\\windows\\syswow64\\macromed\\flash\\flashplayer...   \n",
              "2498  c:\\windows\\syswow64\\macromed\\flash\\flashplayer...   \n",
              "2499  c:\\windows\\syswow64\\macromed\\flash\\flashplayer...   \n",
              "\n",
              "                         alert_type                @timestamp   watchlist_id  \\\n",
              "0     watchlist.hit.ingress.process  2019-11-29T12:18:17.856Z  CVE-2016-4171   \n",
              "1     watchlist.hit.ingress.process  2019-11-29T12:18:17.856Z  CVE-2016-4181   \n",
              "2     watchlist.hit.ingress.process  2019-11-29T12:18:17.856Z  CVE-2016-4138   \n",
              "3     watchlist.hit.ingress.process  2019-11-29T12:18:17.856Z  CVE-2016-4128   \n",
              "4     watchlist.hit.ingress.process  2019-11-29T12:18:17.856Z  CVE-2016-4227   \n",
              "...                             ...                       ...            ...   \n",
              "2495  watchlist.hit.ingress.process  2019-11-27T03:12:01.144Z  CVE-2016-0995   \n",
              "2496  watchlist.hit.ingress.process  2019-11-27T03:12:01.143Z  CVE-2016-1031   \n",
              "2497  watchlist.hit.ingress.process  2019-11-27T03:12:01.143Z  CVE-2016-4284   \n",
              "2498  watchlist.hit.ingress.process  2019-11-27T03:12:01.143Z  CVE-2016-4284   \n",
              "2499  watchlist.hit.ingress.process  2019-11-27T03:12:01.143Z  CVE-2016-1031   \n",
              "\n",
              "                 tags  report_score  alert_severity  \n",
              "0     ['carbonblack']            40            27.0  \n",
              "1     ['carbonblack']            40            27.0  \n",
              "2     ['carbonblack']            40            27.0  \n",
              "3     ['carbonblack']            40            27.0  \n",
              "4     ['carbonblack']            40            27.0  \n",
              "...               ...           ...             ...  \n",
              "2495  ['carbonblack']            40            27.0  \n",
              "2496  ['carbonblack']            40            27.0  \n",
              "2497  ['carbonblack']            40            27.0  \n",
              "2498  ['carbonblack']            40            27.0  \n",
              "2499  ['carbonblack']            40            27.0  \n",
              "\n",
              "[2500 rows x 7 columns]"
            ],
            "text/html": [
              "\n",
              "  <div id=\"df-5d1730ea-a8b0-4c86-8dc5-f18ede6b7d07\">\n",
              "    <div class=\"colab-df-container\">\n",
              "      <div>\n",
              "<style scoped>\n",
              "    .dataframe tbody tr th:only-of-type {\n",
              "        vertical-align: middle;\n",
              "    }\n",
              "\n",
              "    .dataframe tbody tr th {\n",
              "        vertical-align: top;\n",
              "    }\n",
              "\n",
              "    .dataframe thead th {\n",
              "        text-align: right;\n",
              "    }\n",
              "</style>\n",
              "<table border=\"1\" class=\"dataframe\">\n",
              "  <thead>\n",
              "    <tr style=\"text-align: right;\">\n",
              "      <th></th>\n",
              "      <th>process_path</th>\n",
              "      <th>alert_type</th>\n",
              "      <th>@timestamp</th>\n",
              "      <th>watchlist_id</th>\n",
              "      <th>tags</th>\n",
              "      <th>report_score</th>\n",
              "      <th>alert_severity</th>\n",
              "    </tr>\n",
              "  </thead>\n",
              "  <tbody>\n",
              "    <tr>\n",
              "      <th>0</th>\n",
              "      <td>c:\\windows\\syswow64\\macromed\\flash\\flashplayer...</td>\n",
              "      <td>watchlist.hit.ingress.process</td>\n",
              "      <td>2019-11-29T12:18:17.856Z</td>\n",
              "      <td>CVE-2016-4171</td>\n",
              "      <td>['carbonblack']</td>\n",
              "      <td>40</td>\n",
              "      <td>27.0</td>\n",
              "    </tr>\n",
              "    <tr>\n",
              "      <th>1</th>\n",
              "      <td>c:\\windows\\syswow64\\macromed\\flash\\flashplayer...</td>\n",
              "      <td>watchlist.hit.ingress.process</td>\n",
              "      <td>2019-11-29T12:18:17.856Z</td>\n",
              "      <td>CVE-2016-4181</td>\n",
              "      <td>['carbonblack']</td>\n",
              "      <td>40</td>\n",
              "      <td>27.0</td>\n",
              "    </tr>\n",
              "    <tr>\n",
              "      <th>2</th>\n",
              "      <td>c:\\windows\\syswow64\\macromed\\flash\\flashplayer...</td>\n",
              "      <td>watchlist.hit.ingress.process</td>\n",
              "      <td>2019-11-29T12:18:17.856Z</td>\n",
              "      <td>CVE-2016-4138</td>\n",
              "      <td>['carbonblack']</td>\n",
              "      <td>40</td>\n",
              "      <td>27.0</td>\n",
              "    </tr>\n",
              "    <tr>\n",
              "      <th>3</th>\n",
              "      <td>c:\\windows\\syswow64\\macromed\\flash\\flashplayer...</td>\n",
              "      <td>watchlist.hit.ingress.process</td>\n",
              "      <td>2019-11-29T12:18:17.856Z</td>\n",
              "      <td>CVE-2016-4128</td>\n",
              "      <td>['carbonblack']</td>\n",
              "      <td>40</td>\n",
              "      <td>27.0</td>\n",
              "    </tr>\n",
              "    <tr>\n",
              "      <th>4</th>\n",
              "      <td>c:\\windows\\syswow64\\macromed\\flash\\flashplayer...</td>\n",
              "      <td>watchlist.hit.ingress.process</td>\n",
              "      <td>2019-11-29T12:18:17.856Z</td>\n",
              "      <td>CVE-2016-4227</td>\n",
              "      <td>['carbonblack']</td>\n",
              "      <td>40</td>\n",
              "      <td>27.0</td>\n",
              "    </tr>\n",
              "    <tr>\n",
              "      <th>...</th>\n",
              "      <td>...</td>\n",
              "      <td>...</td>\n",
              "      <td>...</td>\n",
              "      <td>...</td>\n",
              "      <td>...</td>\n",
              "      <td>...</td>\n",
              "      <td>...</td>\n",
              "    </tr>\n",
              "    <tr>\n",
              "      <th>2495</th>\n",
              "      <td>c:\\windows\\syswow64\\macromed\\flash\\flashplayer...</td>\n",
              "      <td>watchlist.hit.ingress.process</td>\n",
              "      <td>2019-11-27T03:12:01.144Z</td>\n",
              "      <td>CVE-2016-0995</td>\n",
              "      <td>['carbonblack']</td>\n",
              "      <td>40</td>\n",
              "      <td>27.0</td>\n",
              "    </tr>\n",
              "    <tr>\n",
              "      <th>2496</th>\n",
              "      <td>c:\\windows\\syswow64\\macromed\\flash\\flashplayer...</td>\n",
              "      <td>watchlist.hit.ingress.process</td>\n",
              "      <td>2019-11-27T03:12:01.143Z</td>\n",
              "      <td>CVE-2016-1031</td>\n",
              "      <td>['carbonblack']</td>\n",
              "      <td>40</td>\n",
              "      <td>27.0</td>\n",
              "    </tr>\n",
              "    <tr>\n",
              "      <th>2497</th>\n",
              "      <td>c:\\windows\\syswow64\\macromed\\flash\\flashplayer...</td>\n",
              "      <td>watchlist.hit.ingress.process</td>\n",
              "      <td>2019-11-27T03:12:01.143Z</td>\n",
              "      <td>CVE-2016-4284</td>\n",
              "      <td>['carbonblack']</td>\n",
              "      <td>40</td>\n",
              "      <td>27.0</td>\n",
              "    </tr>\n",
              "    <tr>\n",
              "      <th>2498</th>\n",
              "      <td>c:\\windows\\syswow64\\macromed\\flash\\flashplayer...</td>\n",
              "      <td>watchlist.hit.ingress.process</td>\n",
              "      <td>2019-11-27T03:12:01.143Z</td>\n",
              "      <td>CVE-2016-4284</td>\n",
              "      <td>['carbonblack']</td>\n",
              "      <td>40</td>\n",
              "      <td>27.0</td>\n",
              "    </tr>\n",
              "    <tr>\n",
              "      <th>2499</th>\n",
              "      <td>c:\\windows\\syswow64\\macromed\\flash\\flashplayer...</td>\n",
              "      <td>watchlist.hit.ingress.process</td>\n",
              "      <td>2019-11-27T03:12:01.143Z</td>\n",
              "      <td>CVE-2016-1031</td>\n",
              "      <td>['carbonblack']</td>\n",
              "      <td>40</td>\n",
              "      <td>27.0</td>\n",
              "    </tr>\n",
              "  </tbody>\n",
              "</table>\n",
              "<p>2500 rows × 7 columns</p>\n",
              "</div>\n",
              "      <button class=\"colab-df-convert\" onclick=\"convertToInteractive('df-5d1730ea-a8b0-4c86-8dc5-f18ede6b7d07')\"\n",
              "              title=\"Convert this dataframe to an interactive table.\"\n",
              "              style=\"display:none;\">\n",
              "        \n",
              "  <svg xmlns=\"http://www.w3.org/2000/svg\" height=\"24px\"viewBox=\"0 0 24 24\"\n",
              "       width=\"24px\">\n",
              "    <path d=\"M0 0h24v24H0V0z\" fill=\"none\"/>\n",
              "    <path d=\"M18.56 5.44l.94 2.06.94-2.06 2.06-.94-2.06-.94-.94-2.06-.94 2.06-2.06.94zm-11 1L8.5 8.5l.94-2.06 2.06-.94-2.06-.94L8.5 2.5l-.94 2.06-2.06.94zm10 10l.94 2.06.94-2.06 2.06-.94-2.06-.94-.94-2.06-.94 2.06-2.06.94z\"/><path d=\"M17.41 7.96l-1.37-1.37c-.4-.4-.92-.59-1.43-.59-.52 0-1.04.2-1.43.59L10.3 9.45l-7.72 7.72c-.78.78-.78 2.05 0 2.83L4 21.41c.39.39.9.59 1.41.59.51 0 1.02-.2 1.41-.59l7.78-7.78 2.81-2.81c.8-.78.8-2.07 0-2.86zM5.41 20L4 18.59l7.72-7.72 1.47 1.35L5.41 20z\"/>\n",
              "  </svg>\n",
              "      </button>\n",
              "      \n",
              "  <style>\n",
              "    .colab-df-container {\n",
              "      display:flex;\n",
              "      flex-wrap:wrap;\n",
              "      gap: 12px;\n",
              "    }\n",
              "\n",
              "    .colab-df-convert {\n",
              "      background-color: #E8F0FE;\n",
              "      border: none;\n",
              "      border-radius: 50%;\n",
              "      cursor: pointer;\n",
              "      display: none;\n",
              "      fill: #1967D2;\n",
              "      height: 32px;\n",
              "      padding: 0 0 0 0;\n",
              "      width: 32px;\n",
              "    }\n",
              "\n",
              "    .colab-df-convert:hover {\n",
              "      background-color: #E2EBFA;\n",
              "      box-shadow: 0px 1px 2px rgba(60, 64, 67, 0.3), 0px 1px 3px 1px rgba(60, 64, 67, 0.15);\n",
              "      fill: #174EA6;\n",
              "    }\n",
              "\n",
              "    [theme=dark] .colab-df-convert {\n",
              "      background-color: #3B4455;\n",
              "      fill: #D2E3FC;\n",
              "    }\n",
              "\n",
              "    [theme=dark] .colab-df-convert:hover {\n",
              "      background-color: #434B5C;\n",
              "      box-shadow: 0px 1px 3px 1px rgba(0, 0, 0, 0.15);\n",
              "      filter: drop-shadow(0px 1px 2px rgba(0, 0, 0, 0.3));\n",
              "      fill: #FFFFFF;\n",
              "    }\n",
              "  </style>\n",
              "\n",
              "      <script>\n",
              "        const buttonEl =\n",
              "          document.querySelector('#df-5d1730ea-a8b0-4c86-8dc5-f18ede6b7d07 button.colab-df-convert');\n",
              "        buttonEl.style.display =\n",
              "          google.colab.kernel.accessAllowed ? 'block' : 'none';\n",
              "\n",
              "        async function convertToInteractive(key) {\n",
              "          const element = document.querySelector('#df-5d1730ea-a8b0-4c86-8dc5-f18ede6b7d07');\n",
              "          const dataTable =\n",
              "            await google.colab.kernel.invokeFunction('convertToInteractive',\n",
              "                                                     [key], {});\n",
              "          if (!dataTable) return;\n",
              "\n",
              "          const docLinkHtml = 'Like what you see? Visit the ' +\n",
              "            '<a target=\"_blank\" href=https://colab.research.google.com/notebooks/data_table.ipynb>data table notebook</a>'\n",
              "            + ' to learn more about interactive tables.';\n",
              "          element.innerHTML = '';\n",
              "          dataTable['output_type'] = 'display_data';\n",
              "          await google.colab.output.renderOutput(dataTable, element);\n",
              "          const docLink = document.createElement('div');\n",
              "          docLink.innerHTML = docLinkHtml;\n",
              "          element.appendChild(docLink);\n",
              "        }\n",
              "      </script>\n",
              "    </div>\n",
              "  </div>\n",
              "  "
            ]
          },
          "metadata": {},
          "execution_count": 9
        }
      ]
    },
    {
      "cell_type": "code",
      "source": [
        "inp=ds.drop([\"report_score\"])\n",
        "inp"
      ],
      "metadata": {
        "colab": {
          "base_uri": "https://localhost:8080/",
          "height": 183
        },
        "id": "9Fz716YYrc2S",
        "outputId": "0aac5b37-866c-4505-b21f-0e013b1838bb"
      },
      "execution_count": null,
      "outputs": [
        {
          "output_type": "error",
          "ename": "NameError",
          "evalue": "ignored",
          "traceback": [
            "\u001b[0;31m---------------------------------------------------------------------------\u001b[0m",
            "\u001b[0;31mNameError\u001b[0m                                 Traceback (most recent call last)",
            "\u001b[0;32m<ipython-input-1-a04b610f2e91>\u001b[0m in \u001b[0;36m<module>\u001b[0;34m\u001b[0m\n\u001b[0;32m----> 1\u001b[0;31m \u001b[0minp\u001b[0m\u001b[0;34m=\u001b[0m\u001b[0mds\u001b[0m\u001b[0;34m.\u001b[0m\u001b[0mdrop\u001b[0m\u001b[0;34m(\u001b[0m\u001b[0;34m[\u001b[0m\u001b[0;34m\"report_score\"\u001b[0m\u001b[0;34m]\u001b[0m\u001b[0;34m)\u001b[0m\u001b[0;34m\u001b[0m\u001b[0;34m\u001b[0m\u001b[0m\n\u001b[0m\u001b[1;32m      2\u001b[0m \u001b[0minp\u001b[0m\u001b[0;34m\u001b[0m\u001b[0;34m\u001b[0m\u001b[0m\n",
            "\u001b[0;31mNameError\u001b[0m: name 'ds' is not defined"
          ]
        }
      ]
    },
    {
      "cell_type": "code",
      "source": [
        "ds.dtypes"
      ],
      "metadata": {
        "colab": {
          "base_uri": "https://localhost:8080/"
        },
        "id": "Onc7tAqEBses",
        "outputId": "f3d10e71-6312-49ec-9d95-31f000e85a7d"
      },
      "execution_count": null,
      "outputs": [
        {
          "output_type": "execute_result",
          "data": {
            "text/plain": [
              "process_path       object\n",
              "alert_type         object\n",
              "@timestamp         object\n",
              "watchlist_id       object\n",
              "tags               object\n",
              "report_score        int64\n",
              "alert_severity    float64\n",
              "dtype: object"
            ]
          },
          "metadata": {},
          "execution_count": 10
        }
      ]
    },
    {
      "cell_type": "code",
      "source": [
        "df=ds"
      ],
      "metadata": {
        "id": "tPgI16IfEjUW"
      },
      "execution_count": null,
      "outputs": []
    },
    {
      "cell_type": "code",
      "source": [
        "#Preprocessing\n",
        "#applying the labelencoder for datatype convertion\n",
        "from sklearn.preprocessing  import LabelEncoder\n",
        "label_encoder=LabelEncoder()\n",
        "df['process_path']=label_encoder.fit_transform(df['process_path'].astype(str))\n",
        "df['alert_type']=label_encoder.fit_transform(df['alert_type'].astype(str))\n",
        "df['watchlist_id']=label_encoder.fit_transform(df['watchlist_id'].astype(str))\n",
        "df['tags']=label_encoder.fit_transform(df['tags'].astype(str))\n"
      ],
      "metadata": {
        "colab": {
          "base_uri": "https://localhost:8080/"
        },
        "id": "hKu7KDflCZwV",
        "outputId": "ae949f76-d940-4944-fac9-aefd1a23f642"
      },
      "execution_count": null,
      "outputs": [
        {
          "output_type": "stream",
          "name": "stderr",
          "text": [
            "/usr/local/lib/python3.7/dist-packages/ipykernel_launcher.py:5: SettingWithCopyWarning: \n",
            "A value is trying to be set on a copy of a slice from a DataFrame.\n",
            "Try using .loc[row_indexer,col_indexer] = value instead\n",
            "\n",
            "See the caveats in the documentation: https://pandas.pydata.org/pandas-docs/stable/user_guide/indexing.html#returning-a-view-versus-a-copy\n",
            "  \"\"\"\n",
            "/usr/local/lib/python3.7/dist-packages/ipykernel_launcher.py:6: SettingWithCopyWarning: \n",
            "A value is trying to be set on a copy of a slice from a DataFrame.\n",
            "Try using .loc[row_indexer,col_indexer] = value instead\n",
            "\n",
            "See the caveats in the documentation: https://pandas.pydata.org/pandas-docs/stable/user_guide/indexing.html#returning-a-view-versus-a-copy\n",
            "  \n",
            "/usr/local/lib/python3.7/dist-packages/ipykernel_launcher.py:7: SettingWithCopyWarning: \n",
            "A value is trying to be set on a copy of a slice from a DataFrame.\n",
            "Try using .loc[row_indexer,col_indexer] = value instead\n",
            "\n",
            "See the caveats in the documentation: https://pandas.pydata.org/pandas-docs/stable/user_guide/indexing.html#returning-a-view-versus-a-copy\n",
            "  import sys\n",
            "/usr/local/lib/python3.7/dist-packages/ipykernel_launcher.py:8: SettingWithCopyWarning: \n",
            "A value is trying to be set on a copy of a slice from a DataFrame.\n",
            "Try using .loc[row_indexer,col_indexer] = value instead\n",
            "\n",
            "See the caveats in the documentation: https://pandas.pydata.org/pandas-docs/stable/user_guide/indexing.html#returning-a-view-versus-a-copy\n",
            "  \n"
          ]
        }
      ]
    },
    {
      "cell_type": "code",
      "source": [
        "df.dtypes"
      ],
      "metadata": {
        "colab": {
          "base_uri": "https://localhost:8080/"
        },
        "id": "6sUHnkmWEUC8",
        "outputId": "0aab26c8-d8a0-4283-a16b-8632d85ec130"
      },
      "execution_count": null,
      "outputs": [
        {
          "output_type": "execute_result",
          "data": {
            "text/plain": [
              "process_path        int64\n",
              "alert_type          int64\n",
              "@timestamp         object\n",
              "watchlist_id        int64\n",
              "tags                int64\n",
              "report_score        int64\n",
              "alert_severity    float64\n",
              "dtype: object"
            ]
          },
          "metadata": {},
          "execution_count": 13
        }
      ]
    },
    {
      "cell_type": "code",
      "source": [
        "pd.to_datetime(df['@timestamp'])"
      ],
      "metadata": {
        "colab": {
          "base_uri": "https://localhost:8080/"
        },
        "id": "H4ZpwER8ErkH",
        "outputId": "dd11b07b-23c6-4e72-d74f-6575e307bff6"
      },
      "execution_count": null,
      "outputs": [
        {
          "output_type": "execute_result",
          "data": {
            "text/plain": [
              "0      2019-11-29 12:18:17.856000+00:00\n",
              "1      2019-11-29 12:18:17.856000+00:00\n",
              "2      2019-11-29 12:18:17.856000+00:00\n",
              "3      2019-11-29 12:18:17.856000+00:00\n",
              "4      2019-11-29 12:18:17.856000+00:00\n",
              "                     ...               \n",
              "2495   2019-11-27 03:12:01.144000+00:00\n",
              "2496   2019-11-27 03:12:01.143000+00:00\n",
              "2497   2019-11-27 03:12:01.143000+00:00\n",
              "2498   2019-11-27 03:12:01.143000+00:00\n",
              "2499   2019-11-27 03:12:01.143000+00:00\n",
              "Name: @timestamp, Length: 2500, dtype: datetime64[ns, UTC]"
            ]
          },
          "metadata": {},
          "execution_count": 14
        }
      ]
    },
    {
      "cell_type": "code",
      "source": [
        "df['@timestamp']=label_encoder.fit_transform(df['@timestamp'].astype(str))"
      ],
      "metadata": {
        "colab": {
          "base_uri": "https://localhost:8080/"
        },
        "id": "YvkEpXMAHV3e",
        "outputId": "00cd4aa4-c8ab-4c59-a483-23307700fc44"
      },
      "execution_count": null,
      "outputs": [
        {
          "output_type": "stream",
          "name": "stderr",
          "text": [
            "/usr/local/lib/python3.7/dist-packages/ipykernel_launcher.py:1: SettingWithCopyWarning: \n",
            "A value is trying to be set on a copy of a slice from a DataFrame.\n",
            "Try using .loc[row_indexer,col_indexer] = value instead\n",
            "\n",
            "See the caveats in the documentation: https://pandas.pydata.org/pandas-docs/stable/user_guide/indexing.html#returning-a-view-versus-a-copy\n",
            "  \"\"\"Entry point for launching an IPython kernel.\n"
          ]
        }
      ]
    },
    {
      "cell_type": "code",
      "source": [
        "df"
      ],
      "metadata": {
        "colab": {
          "base_uri": "https://localhost:8080/",
          "height": 424
        },
        "id": "coiTAAZAJLE1",
        "outputId": "d84c272e-16c2-4d22-8b46-4dfec9b4c747"
      },
      "execution_count": null,
      "outputs": [
        {
          "output_type": "execute_result",
          "data": {
            "text/plain": [
              "      process_path  alert_type  @timestamp  watchlist_id  tags  report_score  \\\n",
              "0                3           0          32            22     0            40   \n",
              "1                3           0          32            24     0            40   \n",
              "2                3           0          32            19     0            40   \n",
              "3                3           0          32            18     0            40   \n",
              "4                3           0          32            27     0            40   \n",
              "...            ...         ...         ...           ...   ...           ...   \n",
              "2495             3           0           1             9     0            40   \n",
              "2496             3           0           0            16     0            40   \n",
              "2497             3           0           0            31     0            40   \n",
              "2498             3           0           0            31     0            40   \n",
              "2499             3           0           0            16     0            40   \n",
              "\n",
              "      alert_severity  \n",
              "0               27.0  \n",
              "1               27.0  \n",
              "2               27.0  \n",
              "3               27.0  \n",
              "4               27.0  \n",
              "...              ...  \n",
              "2495            27.0  \n",
              "2496            27.0  \n",
              "2497            27.0  \n",
              "2498            27.0  \n",
              "2499            27.0  \n",
              "\n",
              "[2500 rows x 7 columns]"
            ],
            "text/html": [
              "\n",
              "  <div id=\"df-b3ac7cd0-f1c1-496a-81f8-9ec109a035f3\">\n",
              "    <div class=\"colab-df-container\">\n",
              "      <div>\n",
              "<style scoped>\n",
              "    .dataframe tbody tr th:only-of-type {\n",
              "        vertical-align: middle;\n",
              "    }\n",
              "\n",
              "    .dataframe tbody tr th {\n",
              "        vertical-align: top;\n",
              "    }\n",
              "\n",
              "    .dataframe thead th {\n",
              "        text-align: right;\n",
              "    }\n",
              "</style>\n",
              "<table border=\"1\" class=\"dataframe\">\n",
              "  <thead>\n",
              "    <tr style=\"text-align: right;\">\n",
              "      <th></th>\n",
              "      <th>process_path</th>\n",
              "      <th>alert_type</th>\n",
              "      <th>@timestamp</th>\n",
              "      <th>watchlist_id</th>\n",
              "      <th>tags</th>\n",
              "      <th>report_score</th>\n",
              "      <th>alert_severity</th>\n",
              "    </tr>\n",
              "  </thead>\n",
              "  <tbody>\n",
              "    <tr>\n",
              "      <th>0</th>\n",
              "      <td>3</td>\n",
              "      <td>0</td>\n",
              "      <td>32</td>\n",
              "      <td>22</td>\n",
              "      <td>0</td>\n",
              "      <td>40</td>\n",
              "      <td>27.0</td>\n",
              "    </tr>\n",
              "    <tr>\n",
              "      <th>1</th>\n",
              "      <td>3</td>\n",
              "      <td>0</td>\n",
              "      <td>32</td>\n",
              "      <td>24</td>\n",
              "      <td>0</td>\n",
              "      <td>40</td>\n",
              "      <td>27.0</td>\n",
              "    </tr>\n",
              "    <tr>\n",
              "      <th>2</th>\n",
              "      <td>3</td>\n",
              "      <td>0</td>\n",
              "      <td>32</td>\n",
              "      <td>19</td>\n",
              "      <td>0</td>\n",
              "      <td>40</td>\n",
              "      <td>27.0</td>\n",
              "    </tr>\n",
              "    <tr>\n",
              "      <th>3</th>\n",
              "      <td>3</td>\n",
              "      <td>0</td>\n",
              "      <td>32</td>\n",
              "      <td>18</td>\n",
              "      <td>0</td>\n",
              "      <td>40</td>\n",
              "      <td>27.0</td>\n",
              "    </tr>\n",
              "    <tr>\n",
              "      <th>4</th>\n",
              "      <td>3</td>\n",
              "      <td>0</td>\n",
              "      <td>32</td>\n",
              "      <td>27</td>\n",
              "      <td>0</td>\n",
              "      <td>40</td>\n",
              "      <td>27.0</td>\n",
              "    </tr>\n",
              "    <tr>\n",
              "      <th>...</th>\n",
              "      <td>...</td>\n",
              "      <td>...</td>\n",
              "      <td>...</td>\n",
              "      <td>...</td>\n",
              "      <td>...</td>\n",
              "      <td>...</td>\n",
              "      <td>...</td>\n",
              "    </tr>\n",
              "    <tr>\n",
              "      <th>2495</th>\n",
              "      <td>3</td>\n",
              "      <td>0</td>\n",
              "      <td>1</td>\n",
              "      <td>9</td>\n",
              "      <td>0</td>\n",
              "      <td>40</td>\n",
              "      <td>27.0</td>\n",
              "    </tr>\n",
              "    <tr>\n",
              "      <th>2496</th>\n",
              "      <td>3</td>\n",
              "      <td>0</td>\n",
              "      <td>0</td>\n",
              "      <td>16</td>\n",
              "      <td>0</td>\n",
              "      <td>40</td>\n",
              "      <td>27.0</td>\n",
              "    </tr>\n",
              "    <tr>\n",
              "      <th>2497</th>\n",
              "      <td>3</td>\n",
              "      <td>0</td>\n",
              "      <td>0</td>\n",
              "      <td>31</td>\n",
              "      <td>0</td>\n",
              "      <td>40</td>\n",
              "      <td>27.0</td>\n",
              "    </tr>\n",
              "    <tr>\n",
              "      <th>2498</th>\n",
              "      <td>3</td>\n",
              "      <td>0</td>\n",
              "      <td>0</td>\n",
              "      <td>31</td>\n",
              "      <td>0</td>\n",
              "      <td>40</td>\n",
              "      <td>27.0</td>\n",
              "    </tr>\n",
              "    <tr>\n",
              "      <th>2499</th>\n",
              "      <td>3</td>\n",
              "      <td>0</td>\n",
              "      <td>0</td>\n",
              "      <td>16</td>\n",
              "      <td>0</td>\n",
              "      <td>40</td>\n",
              "      <td>27.0</td>\n",
              "    </tr>\n",
              "  </tbody>\n",
              "</table>\n",
              "<p>2500 rows × 7 columns</p>\n",
              "</div>\n",
              "      <button class=\"colab-df-convert\" onclick=\"convertToInteractive('df-b3ac7cd0-f1c1-496a-81f8-9ec109a035f3')\"\n",
              "              title=\"Convert this dataframe to an interactive table.\"\n",
              "              style=\"display:none;\">\n",
              "        \n",
              "  <svg xmlns=\"http://www.w3.org/2000/svg\" height=\"24px\"viewBox=\"0 0 24 24\"\n",
              "       width=\"24px\">\n",
              "    <path d=\"M0 0h24v24H0V0z\" fill=\"none\"/>\n",
              "    <path d=\"M18.56 5.44l.94 2.06.94-2.06 2.06-.94-2.06-.94-.94-2.06-.94 2.06-2.06.94zm-11 1L8.5 8.5l.94-2.06 2.06-.94-2.06-.94L8.5 2.5l-.94 2.06-2.06.94zm10 10l.94 2.06.94-2.06 2.06-.94-2.06-.94-.94-2.06-.94 2.06-2.06.94z\"/><path d=\"M17.41 7.96l-1.37-1.37c-.4-.4-.92-.59-1.43-.59-.52 0-1.04.2-1.43.59L10.3 9.45l-7.72 7.72c-.78.78-.78 2.05 0 2.83L4 21.41c.39.39.9.59 1.41.59.51 0 1.02-.2 1.41-.59l7.78-7.78 2.81-2.81c.8-.78.8-2.07 0-2.86zM5.41 20L4 18.59l7.72-7.72 1.47 1.35L5.41 20z\"/>\n",
              "  </svg>\n",
              "      </button>\n",
              "      \n",
              "  <style>\n",
              "    .colab-df-container {\n",
              "      display:flex;\n",
              "      flex-wrap:wrap;\n",
              "      gap: 12px;\n",
              "    }\n",
              "\n",
              "    .colab-df-convert {\n",
              "      background-color: #E8F0FE;\n",
              "      border: none;\n",
              "      border-radius: 50%;\n",
              "      cursor: pointer;\n",
              "      display: none;\n",
              "      fill: #1967D2;\n",
              "      height: 32px;\n",
              "      padding: 0 0 0 0;\n",
              "      width: 32px;\n",
              "    }\n",
              "\n",
              "    .colab-df-convert:hover {\n",
              "      background-color: #E2EBFA;\n",
              "      box-shadow: 0px 1px 2px rgba(60, 64, 67, 0.3), 0px 1px 3px 1px rgba(60, 64, 67, 0.15);\n",
              "      fill: #174EA6;\n",
              "    }\n",
              "\n",
              "    [theme=dark] .colab-df-convert {\n",
              "      background-color: #3B4455;\n",
              "      fill: #D2E3FC;\n",
              "    }\n",
              "\n",
              "    [theme=dark] .colab-df-convert:hover {\n",
              "      background-color: #434B5C;\n",
              "      box-shadow: 0px 1px 3px 1px rgba(0, 0, 0, 0.15);\n",
              "      filter: drop-shadow(0px 1px 2px rgba(0, 0, 0, 0.3));\n",
              "      fill: #FFFFFF;\n",
              "    }\n",
              "  </style>\n",
              "\n",
              "      <script>\n",
              "        const buttonEl =\n",
              "          document.querySelector('#df-b3ac7cd0-f1c1-496a-81f8-9ec109a035f3 button.colab-df-convert');\n",
              "        buttonEl.style.display =\n",
              "          google.colab.kernel.accessAllowed ? 'block' : 'none';\n",
              "\n",
              "        async function convertToInteractive(key) {\n",
              "          const element = document.querySelector('#df-b3ac7cd0-f1c1-496a-81f8-9ec109a035f3');\n",
              "          const dataTable =\n",
              "            await google.colab.kernel.invokeFunction('convertToInteractive',\n",
              "                                                     [key], {});\n",
              "          if (!dataTable) return;\n",
              "\n",
              "          const docLinkHtml = 'Like what you see? Visit the ' +\n",
              "            '<a target=\"_blank\" href=https://colab.research.google.com/notebooks/data_table.ipynb>data table notebook</a>'\n",
              "            + ' to learn more about interactive tables.';\n",
              "          element.innerHTML = '';\n",
              "          dataTable['output_type'] = 'display_data';\n",
              "          await google.colab.output.renderOutput(dataTable, element);\n",
              "          const docLink = document.createElement('div');\n",
              "          docLink.innerHTML = docLinkHtml;\n",
              "          element.appendChild(docLink);\n",
              "        }\n",
              "      </script>\n",
              "    </div>\n",
              "  </div>\n",
              "  "
            ]
          },
          "metadata": {},
          "execution_count": 16
        }
      ]
    },
    {
      "cell_type": "code",
      "source": [
        "df.dtypes"
      ],
      "metadata": {
        "colab": {
          "base_uri": "https://localhost:8080/"
        },
        "id": "JnH39uDGJTc3",
        "outputId": "35b02c1c-3db4-44ef-baff-8638cf68f1d3"
      },
      "execution_count": null,
      "outputs": [
        {
          "output_type": "execute_result",
          "data": {
            "text/plain": [
              "process_path        int64\n",
              "alert_type          int64\n",
              "@timestamp          int64\n",
              "watchlist_id        int64\n",
              "tags                int64\n",
              "report_score        int64\n",
              "alert_severity    float64\n",
              "dtype: object"
            ]
          },
          "metadata": {},
          "execution_count": 17
        }
      ]
    },
    {
      "cell_type": "code",
      "source": [
        "df.loc[(df['report_score'] >=10) & (df['report_score'] <= 39), 'class'] = \"LowRisk\"  \n",
        "df.loc[(df['report_score'] >=40) & (df['report_score'] <= 69), 'class'] = \"MediumRisk\" \n",
        "df.loc[(df['report_score'] >=70) & (df['report_score'] <= 89), 'class'] = \"HighRisk\" \n",
        "df.loc[(df['report_score'] >=90) & (df['report_score'] <= 100), 'class'] = \"Critical\" "
      ],
      "metadata": {
        "colab": {
          "base_uri": "https://localhost:8080/"
        },
        "id": "dWB1jfJmS-OL",
        "outputId": "1ff6d681-322b-448c-a455-6796c78405b0"
      },
      "execution_count": null,
      "outputs": [
        {
          "output_type": "stream",
          "name": "stderr",
          "text": [
            "/usr/local/lib/python3.7/dist-packages/pandas/core/indexing.py:1684: SettingWithCopyWarning: \n",
            "A value is trying to be set on a copy of a slice from a DataFrame.\n",
            "Try using .loc[row_indexer,col_indexer] = value instead\n",
            "\n",
            "See the caveats in the documentation: https://pandas.pydata.org/pandas-docs/stable/user_guide/indexing.html#returning-a-view-versus-a-copy\n",
            "  self.obj[key] = infer_fill_value(value)\n",
            "/usr/local/lib/python3.7/dist-packages/pandas/core/indexing.py:1817: SettingWithCopyWarning: \n",
            "A value is trying to be set on a copy of a slice from a DataFrame.\n",
            "Try using .loc[row_indexer,col_indexer] = value instead\n",
            "\n",
            "See the caveats in the documentation: https://pandas.pydata.org/pandas-docs/stable/user_guide/indexing.html#returning-a-view-versus-a-copy\n",
            "  self._setitem_single_column(loc, value, pi)\n"
          ]
        }
      ]
    },
    {
      "cell_type": "code",
      "source": [
        "def cdc(report_score):\n",
        "    if report_score=='LowRisk':\n",
        "        return 0\n",
        "    elif report_score == 'MediumRisk':\n",
        "        return 1\n",
        "    elif report_score =='HighRisk':\n",
        "        return 2\n",
        "    elif report_score=='Critical':\n",
        "        return 3"
      ],
      "metadata": {
        "id": "yWIa8BbQTo1w"
      },
      "execution_count": null,
      "outputs": []
    },
    {
      "cell_type": "code",
      "source": [
        "df['class'] = df['class'].apply(cdc)\n",
        "df"
      ],
      "metadata": {
        "colab": {
          "base_uri": "https://localhost:8080/",
          "height": 528
        },
        "id": "X__VdfByTuZC",
        "outputId": "a1306620-b6ee-4ab5-dd99-ac228b9c0306"
      },
      "execution_count": null,
      "outputs": [
        {
          "output_type": "stream",
          "name": "stderr",
          "text": [
            "/usr/local/lib/python3.7/dist-packages/ipykernel_launcher.py:1: SettingWithCopyWarning: \n",
            "A value is trying to be set on a copy of a slice from a DataFrame.\n",
            "Try using .loc[row_indexer,col_indexer] = value instead\n",
            "\n",
            "See the caveats in the documentation: https://pandas.pydata.org/pandas-docs/stable/user_guide/indexing.html#returning-a-view-versus-a-copy\n",
            "  \"\"\"Entry point for launching an IPython kernel.\n"
          ]
        },
        {
          "output_type": "execute_result",
          "data": {
            "text/plain": [
              "      process_path  alert_type  @timestamp  watchlist_id  tags  report_score  \\\n",
              "0                3           0          32            22     0            40   \n",
              "1                3           0          32            24     0            40   \n",
              "2                3           0          32            19     0            40   \n",
              "3                3           0          32            18     0            40   \n",
              "4                3           0          32            27     0            40   \n",
              "...            ...         ...         ...           ...   ...           ...   \n",
              "2495             3           0           1             9     0            40   \n",
              "2496             3           0           0            16     0            40   \n",
              "2497             3           0           0            31     0            40   \n",
              "2498             3           0           0            31     0            40   \n",
              "2499             3           0           0            16     0            40   \n",
              "\n",
              "      alert_severity  class  \n",
              "0               27.0      1  \n",
              "1               27.0      1  \n",
              "2               27.0      1  \n",
              "3               27.0      1  \n",
              "4               27.0      1  \n",
              "...              ...    ...  \n",
              "2495            27.0      1  \n",
              "2496            27.0      1  \n",
              "2497            27.0      1  \n",
              "2498            27.0      1  \n",
              "2499            27.0      1  \n",
              "\n",
              "[2500 rows x 8 columns]"
            ],
            "text/html": [
              "\n",
              "  <div id=\"df-a5553b6f-10a3-4a3c-b80c-77a67064a48e\">\n",
              "    <div class=\"colab-df-container\">\n",
              "      <div>\n",
              "<style scoped>\n",
              "    .dataframe tbody tr th:only-of-type {\n",
              "        vertical-align: middle;\n",
              "    }\n",
              "\n",
              "    .dataframe tbody tr th {\n",
              "        vertical-align: top;\n",
              "    }\n",
              "\n",
              "    .dataframe thead th {\n",
              "        text-align: right;\n",
              "    }\n",
              "</style>\n",
              "<table border=\"1\" class=\"dataframe\">\n",
              "  <thead>\n",
              "    <tr style=\"text-align: right;\">\n",
              "      <th></th>\n",
              "      <th>process_path</th>\n",
              "      <th>alert_type</th>\n",
              "      <th>@timestamp</th>\n",
              "      <th>watchlist_id</th>\n",
              "      <th>tags</th>\n",
              "      <th>report_score</th>\n",
              "      <th>alert_severity</th>\n",
              "      <th>class</th>\n",
              "    </tr>\n",
              "  </thead>\n",
              "  <tbody>\n",
              "    <tr>\n",
              "      <th>0</th>\n",
              "      <td>3</td>\n",
              "      <td>0</td>\n",
              "      <td>32</td>\n",
              "      <td>22</td>\n",
              "      <td>0</td>\n",
              "      <td>40</td>\n",
              "      <td>27.0</td>\n",
              "      <td>1</td>\n",
              "    </tr>\n",
              "    <tr>\n",
              "      <th>1</th>\n",
              "      <td>3</td>\n",
              "      <td>0</td>\n",
              "      <td>32</td>\n",
              "      <td>24</td>\n",
              "      <td>0</td>\n",
              "      <td>40</td>\n",
              "      <td>27.0</td>\n",
              "      <td>1</td>\n",
              "    </tr>\n",
              "    <tr>\n",
              "      <th>2</th>\n",
              "      <td>3</td>\n",
              "      <td>0</td>\n",
              "      <td>32</td>\n",
              "      <td>19</td>\n",
              "      <td>0</td>\n",
              "      <td>40</td>\n",
              "      <td>27.0</td>\n",
              "      <td>1</td>\n",
              "    </tr>\n",
              "    <tr>\n",
              "      <th>3</th>\n",
              "      <td>3</td>\n",
              "      <td>0</td>\n",
              "      <td>32</td>\n",
              "      <td>18</td>\n",
              "      <td>0</td>\n",
              "      <td>40</td>\n",
              "      <td>27.0</td>\n",
              "      <td>1</td>\n",
              "    </tr>\n",
              "    <tr>\n",
              "      <th>4</th>\n",
              "      <td>3</td>\n",
              "      <td>0</td>\n",
              "      <td>32</td>\n",
              "      <td>27</td>\n",
              "      <td>0</td>\n",
              "      <td>40</td>\n",
              "      <td>27.0</td>\n",
              "      <td>1</td>\n",
              "    </tr>\n",
              "    <tr>\n",
              "      <th>...</th>\n",
              "      <td>...</td>\n",
              "      <td>...</td>\n",
              "      <td>...</td>\n",
              "      <td>...</td>\n",
              "      <td>...</td>\n",
              "      <td>...</td>\n",
              "      <td>...</td>\n",
              "      <td>...</td>\n",
              "    </tr>\n",
              "    <tr>\n",
              "      <th>2495</th>\n",
              "      <td>3</td>\n",
              "      <td>0</td>\n",
              "      <td>1</td>\n",
              "      <td>9</td>\n",
              "      <td>0</td>\n",
              "      <td>40</td>\n",
              "      <td>27.0</td>\n",
              "      <td>1</td>\n",
              "    </tr>\n",
              "    <tr>\n",
              "      <th>2496</th>\n",
              "      <td>3</td>\n",
              "      <td>0</td>\n",
              "      <td>0</td>\n",
              "      <td>16</td>\n",
              "      <td>0</td>\n",
              "      <td>40</td>\n",
              "      <td>27.0</td>\n",
              "      <td>1</td>\n",
              "    </tr>\n",
              "    <tr>\n",
              "      <th>2497</th>\n",
              "      <td>3</td>\n",
              "      <td>0</td>\n",
              "      <td>0</td>\n",
              "      <td>31</td>\n",
              "      <td>0</td>\n",
              "      <td>40</td>\n",
              "      <td>27.0</td>\n",
              "      <td>1</td>\n",
              "    </tr>\n",
              "    <tr>\n",
              "      <th>2498</th>\n",
              "      <td>3</td>\n",
              "      <td>0</td>\n",
              "      <td>0</td>\n",
              "      <td>31</td>\n",
              "      <td>0</td>\n",
              "      <td>40</td>\n",
              "      <td>27.0</td>\n",
              "      <td>1</td>\n",
              "    </tr>\n",
              "    <tr>\n",
              "      <th>2499</th>\n",
              "      <td>3</td>\n",
              "      <td>0</td>\n",
              "      <td>0</td>\n",
              "      <td>16</td>\n",
              "      <td>0</td>\n",
              "      <td>40</td>\n",
              "      <td>27.0</td>\n",
              "      <td>1</td>\n",
              "    </tr>\n",
              "  </tbody>\n",
              "</table>\n",
              "<p>2500 rows × 8 columns</p>\n",
              "</div>\n",
              "      <button class=\"colab-df-convert\" onclick=\"convertToInteractive('df-a5553b6f-10a3-4a3c-b80c-77a67064a48e')\"\n",
              "              title=\"Convert this dataframe to an interactive table.\"\n",
              "              style=\"display:none;\">\n",
              "        \n",
              "  <svg xmlns=\"http://www.w3.org/2000/svg\" height=\"24px\"viewBox=\"0 0 24 24\"\n",
              "       width=\"24px\">\n",
              "    <path d=\"M0 0h24v24H0V0z\" fill=\"none\"/>\n",
              "    <path d=\"M18.56 5.44l.94 2.06.94-2.06 2.06-.94-2.06-.94-.94-2.06-.94 2.06-2.06.94zm-11 1L8.5 8.5l.94-2.06 2.06-.94-2.06-.94L8.5 2.5l-.94 2.06-2.06.94zm10 10l.94 2.06.94-2.06 2.06-.94-2.06-.94-.94-2.06-.94 2.06-2.06.94z\"/><path d=\"M17.41 7.96l-1.37-1.37c-.4-.4-.92-.59-1.43-.59-.52 0-1.04.2-1.43.59L10.3 9.45l-7.72 7.72c-.78.78-.78 2.05 0 2.83L4 21.41c.39.39.9.59 1.41.59.51 0 1.02-.2 1.41-.59l7.78-7.78 2.81-2.81c.8-.78.8-2.07 0-2.86zM5.41 20L4 18.59l7.72-7.72 1.47 1.35L5.41 20z\"/>\n",
              "  </svg>\n",
              "      </button>\n",
              "      \n",
              "  <style>\n",
              "    .colab-df-container {\n",
              "      display:flex;\n",
              "      flex-wrap:wrap;\n",
              "      gap: 12px;\n",
              "    }\n",
              "\n",
              "    .colab-df-convert {\n",
              "      background-color: #E8F0FE;\n",
              "      border: none;\n",
              "      border-radius: 50%;\n",
              "      cursor: pointer;\n",
              "      display: none;\n",
              "      fill: #1967D2;\n",
              "      height: 32px;\n",
              "      padding: 0 0 0 0;\n",
              "      width: 32px;\n",
              "    }\n",
              "\n",
              "    .colab-df-convert:hover {\n",
              "      background-color: #E2EBFA;\n",
              "      box-shadow: 0px 1px 2px rgba(60, 64, 67, 0.3), 0px 1px 3px 1px rgba(60, 64, 67, 0.15);\n",
              "      fill: #174EA6;\n",
              "    }\n",
              "\n",
              "    [theme=dark] .colab-df-convert {\n",
              "      background-color: #3B4455;\n",
              "      fill: #D2E3FC;\n",
              "    }\n",
              "\n",
              "    [theme=dark] .colab-df-convert:hover {\n",
              "      background-color: #434B5C;\n",
              "      box-shadow: 0px 1px 3px 1px rgba(0, 0, 0, 0.15);\n",
              "      filter: drop-shadow(0px 1px 2px rgba(0, 0, 0, 0.3));\n",
              "      fill: #FFFFFF;\n",
              "    }\n",
              "  </style>\n",
              "\n",
              "      <script>\n",
              "        const buttonEl =\n",
              "          document.querySelector('#df-a5553b6f-10a3-4a3c-b80c-77a67064a48e button.colab-df-convert');\n",
              "        buttonEl.style.display =\n",
              "          google.colab.kernel.accessAllowed ? 'block' : 'none';\n",
              "\n",
              "        async function convertToInteractive(key) {\n",
              "          const element = document.querySelector('#df-a5553b6f-10a3-4a3c-b80c-77a67064a48e');\n",
              "          const dataTable =\n",
              "            await google.colab.kernel.invokeFunction('convertToInteractive',\n",
              "                                                     [key], {});\n",
              "          if (!dataTable) return;\n",
              "\n",
              "          const docLinkHtml = 'Like what you see? Visit the ' +\n",
              "            '<a target=\"_blank\" href=https://colab.research.google.com/notebooks/data_table.ipynb>data table notebook</a>'\n",
              "            + ' to learn more about interactive tables.';\n",
              "          element.innerHTML = '';\n",
              "          dataTable['output_type'] = 'display_data';\n",
              "          await google.colab.output.renderOutput(dataTable, element);\n",
              "          const docLink = document.createElement('div');\n",
              "          docLink.innerHTML = docLinkHtml;\n",
              "          element.appendChild(docLink);\n",
              "        }\n",
              "      </script>\n",
              "    </div>\n",
              "  </div>\n",
              "  "
            ]
          },
          "metadata": {},
          "execution_count": 20
        }
      ]
    },
    {
      "cell_type": "code",
      "source": [
        "df.dtypes"
      ],
      "metadata": {
        "colab": {
          "base_uri": "https://localhost:8080/"
        },
        "id": "nE2ZdNrBIves",
        "outputId": "889fea1c-a3f5-43a7-f63a-e3ee219ff382"
      },
      "execution_count": null,
      "outputs": [
        {
          "output_type": "execute_result",
          "data": {
            "text/plain": [
              "process_path        int64\n",
              "alert_type          int64\n",
              "@timestamp          int64\n",
              "watchlist_id        int64\n",
              "tags                int64\n",
              "report_score        int64\n",
              "alert_severity    float64\n",
              "class               int64\n",
              "dtype: object"
            ]
          },
          "metadata": {},
          "execution_count": 21
        }
      ]
    },
    {
      "cell_type": "code",
      "source": [
        "x=df.drop([\"class\",\"report_score\"],axis=1)\n",
        "y=df[\"class\"]"
      ],
      "metadata": {
        "id": "0QRitHNPTwnz"
      },
      "execution_count": null,
      "outputs": []
    },
    {
      "cell_type": "code",
      "source": [
        "from sklearn.preprocessing import MinMaxScaler\n",
        "scaler = MinMaxScaler()\n",
        "x_df = scaler.fit_transform(x)\n"
      ],
      "metadata": {
        "id": "YsSrScY8T7NS"
      },
      "execution_count": null,
      "outputs": []
    },
    {
      "cell_type": "code",
      "source": [
        "from sklearn.model_selection import train_test_split\n",
        "\n",
        "x_train,x_test,y_train,y_test=train_test_split(x_df,y,test_size=0.2,random_state=42)\n",
        "#X_train, X_test, y_train, y_test = train_test_split(x, y, test_size=0.2, random_state=42)\n",
        "x_train\n",
        "x_test"
      ],
      "metadata": {
        "colab": {
          "base_uri": "https://localhost:8080/"
        },
        "id": "HB2mjf9LUYte",
        "outputId": "9fbecb3e-354c-431f-d1ca-cc93482f5be8"
      },
      "execution_count": null,
      "outputs": [
        {
          "output_type": "execute_result",
          "data": {
            "text/plain": [
              "array([[1.        , 0.        , 0.65625   , 0.71052632, 0.        ,\n",
              "        0.4       ],\n",
              "       [1.        , 0.        , 0.78125   , 0.84210526, 0.        ,\n",
              "        0.4       ],\n",
              "       [1.        , 0.        , 0.78125   , 0.60526316, 0.        ,\n",
              "        0.4       ],\n",
              "       ...,\n",
              "       [1.        , 0.        , 0.78125   , 0.81578947, 0.        ,\n",
              "        0.4       ],\n",
              "       [1.        , 0.        , 0.96875   , 0.78947368, 0.        ,\n",
              "        0.4       ],\n",
              "       [1.        , 0.        , 0.90625   , 0.23684211, 0.        ,\n",
              "        0.4       ]])"
            ]
          },
          "metadata": {},
          "execution_count": 24
        }
      ]
    },
    {
      "cell_type": "code",
      "source": [
        "\n",
        "#Applying SVM\n",
        "from sklearn.svm import SVC\n",
        "sv = SVC(kernel = 'linear')\n",
        "sv.fit(x_train,y_train)\n",
        "y_predsvm=sv.predict(x_train)\n"
      ],
      "metadata": {
        "id": "OuV4xVC2Ub7i"
      },
      "execution_count": null,
      "outputs": []
    },
    {
      "cell_type": "code",
      "source": [
        "\n",
        "sv.score(x_test,y_test)"
      ],
      "metadata": {
        "colab": {
          "base_uri": "https://localhost:8080/"
        },
        "id": "iXDEmrlJUf9k",
        "outputId": "3d06ce4f-e685-45a2-9375-bf40b6c64d4e"
      },
      "execution_count": null,
      "outputs": [
        {
          "output_type": "execute_result",
          "data": {
            "text/plain": [
              "0.898"
            ]
          },
          "metadata": {},
          "execution_count": 26
        }
      ]
    },
    {
      "cell_type": "code",
      "source": [
        "#Applying KNN\n",
        "knn_clf=KNeighborsClassifier()\n",
        "knn_clf.fit(x_train,y_train)\n",
        "ypred_knn=knn_clf.predict(x_test)"
      ],
      "metadata": {
        "id": "5QleZ4ERVSJs"
      },
      "execution_count": null,
      "outputs": []
    },
    {
      "cell_type": "code",
      "source": [
        "knn_clf.score(x_test,y_test)"
      ],
      "metadata": {
        "colab": {
          "base_uri": "https://localhost:8080/"
        },
        "id": "9ckr7CHiJ29N",
        "outputId": "4cceb5c9-ecae-43af-dc56-4a921dfead3d"
      },
      "execution_count": null,
      "outputs": [
        {
          "output_type": "execute_result",
          "data": {
            "text/plain": [
              "0.896"
            ]
          },
          "metadata": {},
          "execution_count": 28
        }
      ]
    },
    {
      "cell_type": "code",
      "source": [
        "#Applying Random Forest\n",
        "from sklearn.ensemble import RandomForestClassifier\n",
        "rf=RandomForestClassifier()\n",
        "rf.fit(x_train,y_train)\n",
        "y_predrf=rf.predict(x_test)\n",
        "\n"
      ],
      "metadata": {
        "id": "jGBGDysoJ5wN"
      },
      "execution_count": null,
      "outputs": []
    },
    {
      "cell_type": "code",
      "source": [
        "rf.score(x_test,y_test)"
      ],
      "metadata": {
        "colab": {
          "base_uri": "https://localhost:8080/"
        },
        "id": "LppCw8ztJ9pl",
        "outputId": "34cca171-080e-45bb-f833-46684d39db68"
      },
      "execution_count": null,
      "outputs": [
        {
          "output_type": "execute_result",
          "data": {
            "text/plain": [
              "0.906"
            ]
          },
          "metadata": {},
          "execution_count": 30
        }
      ]
    },
    {
      "cell_type": "code",
      "source": [
        "#Applying Naive Bayes\n",
        "from sklearn.naive_bayes import MultinomialNB\n",
        "clf=MultinomialNB()\n",
        "clf.fit(x_train,y_train)\n",
        "y_prednb=clf.predict(x_test)"
      ],
      "metadata": {
        "id": "tB0NlWXaKA3w"
      },
      "execution_count": null,
      "outputs": []
    },
    {
      "cell_type": "code",
      "source": [
        "clf.score(x_test,y_test)"
      ],
      "metadata": {
        "colab": {
          "base_uri": "https://localhost:8080/"
        },
        "id": "AO34BX5CKJhu",
        "outputId": "2864afa2-081f-42c1-dcd3-7a3383042290"
      },
      "execution_count": null,
      "outputs": [
        {
          "output_type": "execute_result",
          "data": {
            "text/plain": [
              "0.832"
            ]
          },
          "metadata": {},
          "execution_count": 32
        }
      ]
    },
    {
      "cell_type": "code",
      "source": [
        "#Applying logeistic regression\n",
        "from sklearn.datasets import make_classification\n",
        "from sklearn.linear_model import LogisticRegression\n",
        "lr = LogisticRegression(multi_class='multinomial', solver='lbfgs')\n",
        "lr.fit(x_train,y_train)\n",
        "y_predlr=lr.predict(x_test)\n",
        "\n"
      ],
      "metadata": {
        "id": "frygzko3KMCz"
      },
      "execution_count": null,
      "outputs": []
    },
    {
      "cell_type": "code",
      "source": [
        "lr.score(x_test,y_test)"
      ],
      "metadata": {
        "colab": {
          "base_uri": "https://localhost:8080/"
        },
        "id": "rJgmU4XiMlPl",
        "outputId": "ad28ba27-db53-4a7d-8a00-cb66ef3fd2a6"
      },
      "execution_count": null,
      "outputs": [
        {
          "output_type": "execute_result",
          "data": {
            "text/plain": [
              "0.862"
            ]
          },
          "metadata": {},
          "execution_count": 34
        }
      ]
    },
    {
      "cell_type": "code",
      "source": [
        "#Model Evaluation of Random Forest\n",
        "y_pred4=rf.predict(x_test)\n",
        "confusion3=confusion_matrix(y_test,y_pred4)\n",
        "plt.figure(figsize = (10,7))\n",
        "sns.heatmap(confusion3, annot=True,fmt='g',cmap='Blues')\n",
        "plt.ylabel(\"actual\")\n",
        "plt.xlabel('predicted');"
      ],
      "metadata": {
        "colab": {
          "base_uri": "https://localhost:8080/",
          "height": 442
        },
        "id": "jaxAaDhGMock",
        "outputId": "c81b0fe5-981a-4752-ccad-94c5ddb19e70"
      },
      "execution_count": null,
      "outputs": [
        {
          "output_type": "display_data",
          "data": {
            "text/plain": [
              "<Figure size 720x504 with 2 Axes>"
            ],
            "image/png": "[encoded data removed]"
          },
          "metadata": {
            "needs_background": "light"
          }
        }
      ]
    },
    {
      "cell_type": "code",
      "source": [
        "print(\"Classification report of Random Forest \\n\")\n",
        "print(classification_report(y_test,y_pred4))"
      ],
      "metadata": {
        "colab": {
          "base_uri": "https://localhost:8080/"
        },
        "id": "QCmAq8dzNDea",
        "outputId": "8032a527-0764-4524-b332-ae4fb281cfaa"
      },
      "execution_count": null,
      "outputs": [
        {
          "output_type": "stream",
          "name": "stdout",
          "text": [
            "Classification report of Random Forest \n",
            "\n",
            "              precision    recall  f1-score   support\n",
            "\n",
            "           0       0.88      0.70      0.78        30\n",
            "           1       0.92      0.98      0.95       416\n",
            "           2       0.74      0.43      0.54        54\n",
            "\n",
            "    accuracy                           0.91       500\n",
            "   macro avg       0.85      0.70      0.76       500\n",
            "weighted avg       0.90      0.91      0.90       500\n",
            "\n"
          ]
        }
      ]
    },
    {
      "cell_type": "code",
      "source": [
        "df[\"class\"].value_counts()"
      ],
      "metadata": {
        "colab": {
          "base_uri": "https://localhost:8080/"
        },
        "id": "qUfSffjuNURU",
        "outputId": "f085d4ad-7344-4cad-98e9-de64da513cfe"
      },
      "execution_count": null,
      "outputs": [
        {
          "output_type": "execute_result",
          "data": {
            "text/plain": [
              "1    2148\n",
              "2     214\n",
              "0     136\n",
              "3       2\n",
              "Name: class, dtype: int64"
            ]
          },
          "metadata": {},
          "execution_count": 37
        }
      ]
    },
    {
      "cell_type": "code",
      "source": [
        "low=df[df[\"class\"]==0]\n",
        "medium=df[df[\"class\"]==1]\n",
        "avg=df[df[\"class\"]==2]\n",
        "high=df[df[\"class\"]==3]"
      ],
      "metadata": {
        "id": "M4esNXCaNes6"
      },
      "execution_count": null,
      "outputs": []
    },
    {
      "cell_type": "code",
      "source": [
        "n=len(medium)"
      ],
      "metadata": {
        "id": "L-zvcrtkNlcI"
      },
      "execution_count": null,
      "outputs": []
    },
    {
      "cell_type": "code",
      "source": [
        "low_over = low.sample(n, replace=True)\n",
        "avg_over = avg.sample(n, replace=True)\n",
        "high_over = high.sample(n, replace=True)"
      ],
      "metadata": {
        "id": "GAtFlOsCNn6c"
      },
      "execution_count": null,
      "outputs": []
    },
    {
      "cell_type": "code",
      "source": [
        "low_over.shape\n",
        "avg_over.shape\n",
        "high_over.shape"
      ],
      "metadata": {
        "colab": {
          "base_uri": "https://localhost:8080/"
        },
        "id": "IZP4cOMVNptZ",
        "outputId": "840a0879-604a-4505-84d8-6cceb1febcf2"
      },
      "execution_count": null,
      "outputs": [
        {
          "output_type": "execute_result",
          "data": {
            "text/plain": [
              "(2148, 8)"
            ]
          },
          "metadata": {},
          "execution_count": 41
        }
      ]
    },
    {
      "cell_type": "code",
      "source": [
        "data_over = pd.concat([low_over,medium,avg_over,high_over], axis=0)"
      ],
      "metadata": {
        "id": "g47Bj9JPNrod"
      },
      "execution_count": null,
      "outputs": []
    },
    {
      "cell_type": "code",
      "source": [
        "data_over[\"class\"].value_counts()"
      ],
      "metadata": {
        "colab": {
          "base_uri": "https://localhost:8080/"
        },
        "id": "I-TYY2JWNuaB",
        "outputId": "17430518-e85a-4360-b773-ab1a7e309101"
      },
      "execution_count": null,
      "outputs": [
        {
          "output_type": "execute_result",
          "data": {
            "text/plain": [
              "0    2148\n",
              "1    2148\n",
              "2    2148\n",
              "3    2148\n",
              "Name: class, dtype: int64"
            ]
          },
          "metadata": {},
          "execution_count": 43
        }
      ]
    },
    {
      "cell_type": "code",
      "source": [
        "data_over"
      ],
      "metadata": {
        "colab": {
          "base_uri": "https://localhost:8080/",
          "height": 424
        },
        "id": "4x-qyZULNwmA",
        "outputId": "7d0a001b-7c1a-4b7e-e498-a6e4b0b41f7c"
      },
      "execution_count": null,
      "outputs": [
        {
          "output_type": "execute_result",
          "data": {
            "text/plain": [
              "      process_path  alert_type  @timestamp  watchlist_id  tags  report_score  \\\n",
              "480              3           0          27            20     0            28   \n",
              "815              3           0          28            17     0            28   \n",
              "2316             3           0          24            20     0            28   \n",
              "2298             3           0          24            20     0            28   \n",
              "615              3           0          24            20     0            28   \n",
              "...            ...         ...         ...           ...   ...           ...   \n",
              "1877             3           0          23            31     0            96   \n",
              "1877             3           0          23            31     0            96   \n",
              "1877             3           0          23            31     0            96   \n",
              "902              3           0          29             7     0            99   \n",
              "902              3           0          29             7     0            99   \n",
              "\n",
              "      alert_severity  class  \n",
              "480             18.9      0  \n",
              "815             18.9      0  \n",
              "2316            18.9      0  \n",
              "2298            18.9      0  \n",
              "615             18.9      0  \n",
              "...              ...    ...  \n",
              "1877            27.0      3  \n",
              "1877            27.0      3  \n",
              "1877            27.0      3  \n",
              "902             27.0      3  \n",
              "902             27.0      3  \n",
              "\n",
              "[8592 rows x 8 columns]"
            ],
            "text/html": [
              "\n",
              "  <div id=\"df-94b32d14-498d-4fb9-97a7-b60b728b6f8e\">\n",
              "    <div class=\"colab-df-container\">\n",
              "      <div>\n",
              "<style scoped>\n",
              "    .dataframe tbody tr th:only-of-type {\n",
              "        vertical-align: middle;\n",
              "    }\n",
              "\n",
              "    .dataframe tbody tr th {\n",
              "        vertical-align: top;\n",
              "    }\n",
              "\n",
              "    .dataframe thead th {\n",
              "        text-align: right;\n",
              "    }\n",
              "</style>\n",
              "<table border=\"1\" class=\"dataframe\">\n",
              "  <thead>\n",
              "    <tr style=\"text-align: right;\">\n",
              "      <th></th>\n",
              "      <th>process_path</th>\n",
              "      <th>alert_type</th>\n",
              "      <th>@timestamp</th>\n",
              "      <th>watchlist_id</th>\n",
              "      <th>tags</th>\n",
              "      <th>report_score</th>\n",
              "      <th>alert_severity</th>\n",
              "      <th>class</th>\n",
              "    </tr>\n",
              "  </thead>\n",
              "  <tbody>\n",
              "    <tr>\n",
              "      <th>480</th>\n",
              "      <td>3</td>\n",
              "      <td>0</td>\n",
              "      <td>27</td>\n",
              "      <td>20</td>\n",
              "      <td>0</td>\n",
              "      <td>28</td>\n",
              "      <td>18.9</td>\n",
              "      <td>0</td>\n",
              "    </tr>\n",
              "    <tr>\n",
              "      <th>815</th>\n",
              "      <td>3</td>\n",
              "      <td>0</td>\n",
              "      <td>28</td>\n",
              "      <td>17</td>\n",
              "      <td>0</td>\n",
              "      <td>28</td>\n",
              "      <td>18.9</td>\n",
              "      <td>0</td>\n",
              "    </tr>\n",
              "    <tr>\n",
              "      <th>2316</th>\n",
              "      <td>3</td>\n",
              "      <td>0</td>\n",
              "      <td>24</td>\n",
              "      <td>20</td>\n",
              "      <td>0</td>\n",
              "      <td>28</td>\n",
              "      <td>18.9</td>\n",
              "      <td>0</td>\n",
              "    </tr>\n",
              "    <tr>\n",
              "      <th>2298</th>\n",
              "      <td>3</td>\n",
              "      <td>0</td>\n",
              "      <td>24</td>\n",
              "      <td>20</td>\n",
              "      <td>0</td>\n",
              "      <td>28</td>\n",
              "      <td>18.9</td>\n",
              "      <td>0</td>\n",
              "    </tr>\n",
              "    <tr>\n",
              "      <th>615</th>\n",
              "      <td>3</td>\n",
              "      <td>0</td>\n",
              "      <td>24</td>\n",
              "      <td>20</td>\n",
              "      <td>0</td>\n",
              "      <td>28</td>\n",
              "      <td>18.9</td>\n",
              "      <td>0</td>\n",
              "    </tr>\n",
              "    <tr>\n",
              "      <th>...</th>\n",
              "      <td>...</td>\n",
              "      <td>...</td>\n",
              "      <td>...</td>\n",
              "      <td>...</td>\n",
              "      <td>...</td>\n",
              "      <td>...</td>\n",
              "      <td>...</td>\n",
              "      <td>...</td>\n",
              "    </tr>\n",
              "    <tr>\n",
              "      <th>1877</th>\n",
              "      <td>3</td>\n",
              "      <td>0</td>\n",
              "      <td>23</td>\n",
              "      <td>31</td>\n",
              "      <td>0</td>\n",
              "      <td>96</td>\n",
              "      <td>27.0</td>\n",
              "      <td>3</td>\n",
              "    </tr>\n",
              "    <tr>\n",
              "      <th>1877</th>\n",
              "      <td>3</td>\n",
              "      <td>0</td>\n",
              "      <td>23</td>\n",
              "      <td>31</td>\n",
              "      <td>0</td>\n",
              "      <td>96</td>\n",
              "      <td>27.0</td>\n",
              "      <td>3</td>\n",
              "    </tr>\n",
              "    <tr>\n",
              "      <th>1877</th>\n",
              "      <td>3</td>\n",
              "      <td>0</td>\n",
              "      <td>23</td>\n",
              "      <td>31</td>\n",
              "      <td>0</td>\n",
              "      <td>96</td>\n",
              "      <td>27.0</td>\n",
              "      <td>3</td>\n",
              "    </tr>\n",
              "    <tr>\n",
              "      <th>902</th>\n",
              "      <td>3</td>\n",
              "      <td>0</td>\n",
              "      <td>29</td>\n",
              "      <td>7</td>\n",
              "      <td>0</td>\n",
              "      <td>99</td>\n",
              "      <td>27.0</td>\n",
              "      <td>3</td>\n",
              "    </tr>\n",
              "    <tr>\n",
              "      <th>902</th>\n",
              "      <td>3</td>\n",
              "      <td>0</td>\n",
              "      <td>29</td>\n",
              "      <td>7</td>\n",
              "      <td>0</td>\n",
              "      <td>99</td>\n",
              "      <td>27.0</td>\n",
              "      <td>3</td>\n",
              "    </tr>\n",
              "  </tbody>\n",
              "</table>\n",
              "<p>8592 rows × 8 columns</p>\n",
              "</div>\n",
              "      <button class=\"colab-df-convert\" onclick=\"convertToInteractive('df-94b32d14-498d-4fb9-97a7-b60b728b6f8e')\"\n",
              "              title=\"Convert this dataframe to an interactive table.\"\n",
              "              style=\"display:none;\">\n",
              "        \n",
              "  <svg xmlns=\"http://www.w3.org/2000/svg\" height=\"24px\"viewBox=\"0 0 24 24\"\n",
              "       width=\"24px\">\n",
              "    <path d=\"M0 0h24v24H0V0z\" fill=\"none\"/>\n",
              "    <path d=\"M18.56 5.44l.94 2.06.94-2.06 2.06-.94-2.06-.94-.94-2.06-.94 2.06-2.06.94zm-11 1L8.5 8.5l.94-2.06 2.06-.94-2.06-.94L8.5 2.5l-.94 2.06-2.06.94zm10 10l.94 2.06.94-2.06 2.06-.94-2.06-.94-.94-2.06-.94 2.06-2.06.94z\"/><path d=\"M17.41 7.96l-1.37-1.37c-.4-.4-.92-.59-1.43-.59-.52 0-1.04.2-1.43.59L10.3 9.45l-7.72 7.72c-.78.78-.78 2.05 0 2.83L4 21.41c.39.39.9.59 1.41.59.51 0 1.02-.2 1.41-.59l7.78-7.78 2.81-2.81c.8-.78.8-2.07 0-2.86zM5.41 20L4 18.59l7.72-7.72 1.47 1.35L5.41 20z\"/>\n",
              "  </svg>\n",
              "      </button>\n",
              "      \n",
              "  <style>\n",
              "    .colab-df-container {\n",
              "      display:flex;\n",
              "      flex-wrap:wrap;\n",
              "      gap: 12px;\n",
              "    }\n",
              "\n",
              "    .colab-df-convert {\n",
              "      background-color: #E8F0FE;\n",
              "      border: none;\n",
              "      border-radius: 50%;\n",
              "      cursor: pointer;\n",
              "      display: none;\n",
              "      fill: #1967D2;\n",
              "      height: 32px;\n",
              "      padding: 0 0 0 0;\n",
              "      width: 32px;\n",
              "    }\n",
              "\n",
              "    .colab-df-convert:hover {\n",
              "      background-color: #E2EBFA;\n",
              "      box-shadow: 0px 1px 2px rgba(60, 64, 67, 0.3), 0px 1px 3px 1px rgba(60, 64, 67, 0.15);\n",
              "      fill: #174EA6;\n",
              "    }\n",
              "\n",
              "    [theme=dark] .colab-df-convert {\n",
              "      background-color: #3B4455;\n",
              "      fill: #D2E3FC;\n",
              "    }\n",
              "\n",
              "    [theme=dark] .colab-df-convert:hover {\n",
              "      background-color: #434B5C;\n",
              "      box-shadow: 0px 1px 3px 1px rgba(0, 0, 0, 0.15);\n",
              "      filter: drop-shadow(0px 1px 2px rgba(0, 0, 0, 0.3));\n",
              "      fill: #FFFFFF;\n",
              "    }\n",
              "  </style>\n",
              "\n",
              "      <script>\n",
              "        const buttonEl =\n",
              "          document.querySelector('#df-94b32d14-498d-4fb9-97a7-b60b728b6f8e button.colab-df-convert');\n",
              "        buttonEl.style.display =\n",
              "          google.colab.kernel.accessAllowed ? 'block' : 'none';\n",
              "\n",
              "        async function convertToInteractive(key) {\n",
              "          const element = document.querySelector('#df-94b32d14-498d-4fb9-97a7-b60b728b6f8e');\n",
              "          const dataTable =\n",
              "            await google.colab.kernel.invokeFunction('convertToInteractive',\n",
              "                                                     [key], {});\n",
              "          if (!dataTable) return;\n",
              "\n",
              "          const docLinkHtml = 'Like what you see? Visit the ' +\n",
              "            '<a target=\"_blank\" href=https://colab.research.google.com/notebooks/data_table.ipynb>data table notebook</a>'\n",
              "            + ' to learn more about interactive tables.';\n",
              "          element.innerHTML = '';\n",
              "          dataTable['output_type'] = 'display_data';\n",
              "          await google.colab.output.renderOutput(dataTable, element);\n",
              "          const docLink = document.createElement('div');\n",
              "          docLink.innerHTML = docLinkHtml;\n",
              "          element.appendChild(docLink);\n",
              "        }\n",
              "      </script>\n",
              "    </div>\n",
              "  </div>\n",
              "  "
            ]
          },
          "metadata": {},
          "execution_count": 44
        }
      ]
    },
    {
      "cell_type": "code",
      "source": [
        "data_over=data_over.sample(frac=1)"
      ],
      "metadata": {
        "id": "wqBaGrx1Nz37"
      },
      "execution_count": null,
      "outputs": []
    },
    {
      "cell_type": "code",
      "source": [
        "x=data_over.drop([\"class\",\"report_score\"],axis=1)\n",
        "y=data_over[\"class\"]"
      ],
      "metadata": {
        "id": "EojiYti5N3BL"
      },
      "execution_count": null,
      "outputs": []
    },
    {
      "cell_type": "code",
      "source": [
        "x.reset_index(inplace=True, drop=True)\n",
        "y.reset_index(inplace=True, drop=True)"
      ],
      "metadata": {
        "id": "gDJEWs-PN5Ff"
      },
      "execution_count": null,
      "outputs": []
    },
    {
      "cell_type": "code",
      "source": [
        "y"
      ],
      "metadata": {
        "colab": {
          "base_uri": "https://localhost:8080/"
        },
        "id": "944hrbo1N7aZ",
        "outputId": "bcaadd45-a073-449a-b639-934d9adc8495"
      },
      "execution_count": null,
      "outputs": [
        {
          "output_type": "execute_result",
          "data": {
            "text/plain": [
              "0       0\n",
              "1       1\n",
              "2       3\n",
              "3       0\n",
              "4       1\n",
              "       ..\n",
              "8587    2\n",
              "8588    0\n",
              "8589    0\n",
              "8590    3\n",
              "8591    3\n",
              "Name: class, Length: 8592, dtype: int64"
            ]
          },
          "metadata": {},
          "execution_count": 48
        }
      ]
    },
    {
      "cell_type": "code",
      "source": [
        "from sklearn.preprocessing import MinMaxScaler\n",
        "scaler = MinMaxScaler()\n",
        "x_df = scaler.fit_transform(x)"
      ],
      "metadata": {
        "id": "89jREzWhN9nl"
      },
      "execution_count": null,
      "outputs": []
    },
    {
      "cell_type": "code",
      "source": [
        "from sklearn.model_selection import train_test_split\n",
        "\n",
        "x_train,x_test,y_train,y_test=train_test_split(x_df,y,test_size=0.2,random_state=42)\n",
        "#X_train, X_test, y_train, y_test = train_test_split(x, y, test_size=0.2, random_state=42)\n",
        "x_train\n",
        "x_test"
      ],
      "metadata": {
        "colab": {
          "base_uri": "https://localhost:8080/"
        },
        "id": "NLBPsRkxODYj",
        "outputId": "28068bd3-d5b5-48a6-8e21-c8a6898120c9"
      },
      "execution_count": null,
      "outputs": [
        {
          "output_type": "execute_result",
          "data": {
            "text/plain": [
              "array([[0.33333333, 0.        , 0.4375    , 1.        , 0.        ,\n",
              "        1.        ],\n",
              "       [1.        , 0.        , 0.78125   , 0.68421053, 0.        ,\n",
              "        0.4       ],\n",
              "       [1.        , 0.        , 0.78125   , 0.84210526, 0.        ,\n",
              "        0.4       ],\n",
              "       ...,\n",
              "       [1.        , 0.        , 0.1875    , 0.44736842, 0.        ,\n",
              "        0.24      ],\n",
              "       [1.        , 0.        , 0.75      , 0.18421053, 0.        ,\n",
              "        0.4       ],\n",
              "       [1.        , 0.        , 0.71875   , 0.81578947, 0.        ,\n",
              "        0.4       ]])"
            ]
          },
          "metadata": {},
          "execution_count": 50
        }
      ]
    },
    {
      "cell_type": "code",
      "source": [
        "#Applying Naive Bayes\n",
        "from sklearn.naive_bayes import MultinomialNB\n",
        "clf=MultinomialNB()\n",
        "clf.fit(x_train,y_train)\n",
        "y_prednb=clf.predict(x_test)\n",
        "clf.score(x_test,y_test)"
      ],
      "metadata": {
        "colab": {
          "base_uri": "https://localhost:8080/"
        },
        "id": "ng9TFlCDOGTJ",
        "outputId": "ab02e64a-a3ff-441a-8906-e190801b8410"
      },
      "execution_count": null,
      "outputs": [
        {
          "output_type": "execute_result",
          "data": {
            "text/plain": [
              "0.42292030250145435"
            ]
          },
          "metadata": {},
          "execution_count": 51
        }
      ]
    },
    {
      "cell_type": "code",
      "source": [
        "#Applying SVM\n",
        "from sklearn.svm import SVC\n",
        "sv = SVC(kernel = 'poly',degree=3, gamma='auto')\n",
        "sv.fit(x_train,y_train)\n",
        "y_predsvm=sv.predict(x_train)\n",
        "sv.score(x_test,y_test)"
      ],
      "metadata": {
        "colab": {
          "base_uri": "https://localhost:8080/"
        },
        "id": "YIdlOvf7ON5F",
        "outputId": "76affc6e-e318-430a-a6fc-c72250891482"
      },
      "execution_count": null,
      "outputs": [
        {
          "output_type": "execute_result",
          "data": {
            "text/plain": [
              "0.595695171611402"
            ]
          },
          "metadata": {},
          "execution_count": 63
        }
      ]
    },
    {
      "cell_type": "code",
      "source": [
        "#Applying KNN\n",
        "knn_clf=KNeighborsClassifier()\n",
        "knn_clf.fit(x_train,y_train)\n",
        "ypred_knn=knn_clf.predict(x_test)\n",
        "knn_clf.score(x_test,y_test)"
      ],
      "metadata": {
        "colab": {
          "base_uri": "https://localhost:8080/"
        },
        "id": "fPHdN8I4OTLE",
        "outputId": "013fe5dd-7991-4b81-ea5e-7e99ba896658"
      },
      "execution_count": null,
      "outputs": [
        {
          "output_type": "execute_result",
          "data": {
            "text/plain": [
              "0.8394415357766143"
            ]
          },
          "metadata": {},
          "execution_count": 53
        }
      ]
    },
    {
      "cell_type": "code",
      "source": [
        "#Applying Random Forest\n",
        "from sklearn.ensemble import RandomForestClassifier\n",
        "rf=RandomForestClassifier()\n",
        "rf.fit(x_train,y_train)\n",
        "y_predrf=rf.predict(x_test)\n",
        "rf.score(x_test,y_test)\n"
      ],
      "metadata": {
        "colab": {
          "base_uri": "https://localhost:8080/"
        },
        "id": "tLrKqrLpOWvr",
        "outputId": "58786f49-ffbc-4ce1-bbb6-5273307d07c0"
      },
      "execution_count": null,
      "outputs": [
        {
          "output_type": "execute_result",
          "data": {
            "text/plain": [
              "0.8609656777196044"
            ]
          },
          "metadata": {},
          "execution_count": 54
        }
      ]
    },
    {
      "cell_type": "code",
      "source": [
        "#Applying logeistic regression\n",
        "from sklearn.datasets import make_classification\n",
        "from sklearn.linear_model import LogisticRegression\n",
        "lr = LogisticRegression(multi_class='multinomial', solver='lbfgs')\n",
        "lr.fit(x_train,y_train)\n",
        "y_predlr=lr.predict(x_test)\n",
        "lr.score(x_test,y_test)\n"
      ],
      "metadata": {
        "colab": {
          "base_uri": "https://localhost:8080/"
        },
        "id": "eUAeL0HXOZxi",
        "outputId": "fdc1e863-ac59-4148-a741-57026a9f37d4"
      },
      "execution_count": null,
      "outputs": [
        {
          "output_type": "stream",
          "name": "stderr",
          "text": [
            "/usr/local/lib/python3.7/dist-packages/sklearn/linear_model/_logistic.py:818: ConvergenceWarning: lbfgs failed to converge (status=1):\n",
            "STOP: TOTAL NO. of ITERATIONS REACHED LIMIT.\n",
            "\n",
            "Increase the number of iterations (max_iter) or scale the data as shown in:\n",
            "    https://scikit-learn.org/stable/modules/preprocessing.html\n",
            "Please also refer to the documentation for alternative solver options:\n",
            "    https://scikit-learn.org/stable/modules/linear_model.html#logistic-regression\n",
            "  extra_warning_msg=_LOGISTIC_SOLVER_CONVERGENCE_MSG,\n"
          ]
        },
        {
          "output_type": "execute_result",
          "data": {
            "text/plain": [
              "0.5357766143106457"
            ]
          },
          "metadata": {},
          "execution_count": 55
        }
      ]
    },
    {
      "cell_type": "code",
      "source": [
        "#Applying DecisionTreeClassifier\n",
        "from sklearn.tree import DecisionTreeClassifier\n",
        "dt= DecisionTreeClassifier()\n",
        "dt.fit(x_train,y_train)\n",
        "y_predlr=dt.predict(x_test)\n",
        "dt.score(x_test,y_test)\n",
        "\n"
      ],
      "metadata": {
        "colab": {
          "base_uri": "https://localhost:8080/"
        },
        "id": "vfl91ZDoOxHC",
        "outputId": "f5b1bbff-a8cf-4e8f-fd14-6568ef1d13aa"
      },
      "execution_count": null,
      "outputs": [
        {
          "output_type": "execute_result",
          "data": {
            "text/plain": [
              "0.8615474112856312"
            ]
          },
          "metadata": {},
          "execution_count": 56
        }
      ]
    },
    {
      "cell_type": "code",
      "source": [
        "#Model Evaluation of Random Forest\n",
        "y_pred4=rf.predict(x_test)\n",
        "confusion3=confusion_matrix(y_test,y_pred4)\n",
        "plt.figure(figsize = (10,7))\n",
        "sns.heatmap(confusion3, annot=True,fmt='g',cmap='Blues')\n",
        "plt.ylabel(\"actual\")\n",
        "plt.xlabel('predicted');"
      ],
      "metadata": {
        "colab": {
          "base_uri": "https://localhost:8080/",
          "height": 442
        },
        "id": "s_Tz9MqbTOXL",
        "outputId": "b8a0aa99-8acc-468b-ec40-b60e5ac851a4"
      },
      "execution_count": null,
      "outputs": [
        {
          "output_type": "display_data",
          "data": {
            "text/plain": [
              "<Figure size 720x504 with 2 Axes>"
            ],
            "image/png": "[encoded data removed]"
          },
          "metadata": {
            "needs_background": "light"
          }
        }
      ]
    },
    {
      "cell_type": "code",
      "source": [
        "print(\"Classification report of Random Forest \\n\")\n",
        "print(classification_report(y_test,y_pred4))"
      ],
      "metadata": {
        "colab": {
          "base_uri": "https://localhost:8080/"
        },
        "id": "xLp5eg9STYmi",
        "outputId": "ddf98c13-5e68-4cf7-9344-73da37d5be5b"
      },
      "execution_count": null,
      "outputs": [
        {
          "output_type": "stream",
          "name": "stdout",
          "text": [
            "Classification report of Random Forest \n",
            "\n",
            "              precision    recall  f1-score   support\n",
            "\n",
            "           0       0.92      0.79      0.85       434\n",
            "           1       0.73      0.84      0.78       432\n",
            "           2       0.90      0.82      0.85       433\n",
            "           3       0.93      1.00      0.97       420\n",
            "\n",
            "    accuracy                           0.86      1719\n",
            "   macro avg       0.87      0.86      0.86      1719\n",
            "weighted avg       0.87      0.86      0.86      1719\n",
            "\n"
          ]
        }
      ]
    },
    {
      "cell_type": "code",
      "source": [
        "#for decision tree\n",
        "y_pred5=dt.predict(x_test)\n",
        "confusion3=confusion_matrix(y_test,y_pred5)\n",
        "plt.figure(figsize = (10,7))\n",
        "sns.heatmap(confusion3, annot=True,fmt='g',cmap='Blues')\n",
        "plt.ylabel(\"actual\")\n",
        "plt.xlabel('predicted');"
      ],
      "metadata": {
        "colab": {
          "base_uri": "https://localhost:8080/",
          "height": 442
        },
        "id": "CnGtcUwFjc87",
        "outputId": "c75fa84f-984b-48e9-d5dd-0ca8bf7d8f1a"
      },
      "execution_count": null,
      "outputs": [
        {
          "output_type": "display_data",
          "data": {
            "text/plain": [
              "<Figure size 720x504 with 2 Axes>"
            ],
            "image/png": "[encoded data removed]"
          },
          "metadata": {
            "needs_background": "light"
          }
        }
      ]
    },
    {
      "cell_type": "code",
      "source": [
        "print(\"Classification report of Decision tree \\n\")\n",
        "print(classification_report(y_test,y_pred5))"
      ],
      "metadata": {
        "colab": {
          "base_uri": "https://localhost:8080/"
        },
        "id": "0in2vu1Gjqd5",
        "outputId": "35ebb2e4-b034-46bb-b47e-8a86a3f05c06"
      },
      "execution_count": null,
      "outputs": [
        {
          "output_type": "stream",
          "name": "stdout",
          "text": [
            "Classification report of Decision tree \n",
            "\n",
            "              precision    recall  f1-score   support\n",
            "\n",
            "           0       0.96      0.76      0.85       418\n",
            "           1       0.71      0.90      0.79       453\n",
            "           2       0.91      0.77      0.84       401\n",
            "           3       0.93      1.00      0.97       447\n",
            "\n",
            "    accuracy                           0.86      1719\n",
            "   macro avg       0.88      0.86      0.86      1719\n",
            "weighted avg       0.88      0.86      0.86      1719\n",
            "\n"
          ]
        }
      ]
    },
    {
      "cell_type": "code",
      "source": [
        "import pickle"
      ],
      "metadata": {
        "id": "9mPEu6fyTcJM"
      },
      "execution_count": null,
      "outputs": []
    },
    {
      "cell_type": "code",
      "source": [
        "\n",
        "# save the model to disk\n",
        "filename = 'picklemodel.sav'\n",
        "pickle.dump(rf, open(filename, 'wb'))"
      ],
      "metadata": {
        "id": "wBh0oT1aVupE"
      },
      "execution_count": null,
      "outputs": []
    },
    {
      "cell_type": "code",
      "source": [
        "# load the model from disk\n",
        "loaded_model = pickle.load(open(filename, 'rb'))\n",
        "result = loaded_model.score(x_test, y_test)\n",
        "print(result)"
      ],
      "metadata": {
        "colab": {
          "base_uri": "https://localhost:8080/"
        },
        "id": "EfVuLpxEWqcz",
        "outputId": "42767fff-6bc4-4ae3-95e8-1b29750a79bc"
      },
      "execution_count": null,
      "outputs": [
        {
          "output_type": "stream",
          "name": "stdout",
          "text": [
            "0.8609656777196044\n"
          ]
        }
      ]
    },
    {
      "cell_type": "code",
      "source": [],
      "metadata": {
        "id": "5kzwItjXW0NG"
      },
      "execution_count": null,
      "outputs": []
    }
  ]
}