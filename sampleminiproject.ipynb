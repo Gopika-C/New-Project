{
  "nbformat": 4,
  "nbformat_minor": 0,
  "metadata": {
    "colab": {
      "provenance": [],
      "mount_file_id": "14CEYmqIG91puv4YhmkvKe_w3ujjXtllU",
      "authorship_tag": "ABX9TyOIMzszB7O8VWiyDHNBzgcm",
      "include_colab_link": true
    },
    "kernelspec": {
      "name": "python3",
      "display_name": "Python 3"
    },
    "language_info": {
      "name": "python"
    }
  },
  "cells": [
    {
      "cell_type": "markdown",
      "metadata": {
        "id": "view-in-github",
        "colab_type": "text"
      },
      "source": [
        "<a href=\"https://colab.research.google.com/github/Gopika-C/New-Project/blob/main/sampleminiproject.ipynb\" target=\"_parent\"><img src=\"https://colab.research.google.com/assets/colab-badge.svg\" alt=\"Open In Colab\"/></a>"
      ]
    },
    {
      "cell_type": "code",
      "execution_count": null,
      "metadata": {
        "id": "hZgUBMenYios"
      },
      "outputs": [],
      "source": [
        "import pandas as pd\n",
        "import numpy as np\n",
        "import random\n",
        "import seaborn as sns\n",
        "#from sklearn.cluster import KMeans\n",
        "from sklearn.cluster import KMeans\n",
        "from matplotlib import pyplot as plt\n",
        "from sklearn import preprocessing"
      ]
    },
    {
      "cell_type": "code",
      "source": [],
      "metadata": {
        "id": "qrBdUfCn9dLQ"
      },
      "execution_count": null,
      "outputs": []
    },
    {
      "cell_type": "code",
      "source": [
        "from google.colab import drive\n",
        "drive.mount('/content/drive')"
      ],
      "metadata": {
        "colab": {
          "base_uri": "https://localhost:8080/"
        },
        "id": "zaI4VHKUTf2p",
        "outputId": "137ce3b5-3293-40b5-d094-27aaa8fcb2a3"
      },
      "execution_count": null,
      "outputs": [
        {
          "output_type": "stream",
          "name": "stdout",
          "text": [
            "Mounted at /content/drive\n"
          ]
        }
      ]
    },
    {
      "cell_type": "code",
      "source": [
        "pwd\n"
      ],
      "metadata": {
        "colab": {
          "base_uri": "https://localhost:8080/",
          "height": 35
        },
        "id": "DdzLMGN5ePJt",
        "outputId": "149837ec-43c1-471f-e3bf-ba4614c4a604"
      },
      "execution_count": null,
      "outputs": [
        {
          "output_type": "execute_result",
          "data": {
            "text/plain": [
              "'/content'"
            ],
            "application/vnd.google.colaboratory.intrinsic+json": {
              "type": "string"
            }
          },
          "metadata": {},
          "execution_count": 6
        }
      ]
    },
    {
      "cell_type": "code",
      "source": [
        "ds=pd.read_csv(r'/content/drive/MyDrive/Mini Project/dataset.csv')"
      ],
      "metadata": {
        "id": "KCYFaeexfImd"
      },
      "execution_count": null,
      "outputs": []
    },
    {
      "cell_type": "code",
      "source": [
        "sd=pd.read_csv(r'/content/drive/MyDrive/Mini Project/Data (2).csv')"
      ],
      "metadata": {
        "id": "AgJZIw3gadwm"
      },
      "execution_count": null,
      "outputs": []
    },
    {
      "cell_type": "code",
      "source": [
        "sd.dtypes\n"
      ],
      "metadata": {
        "colab": {
          "base_uri": "https://localhost:8080/"
        },
        "id": "4PJKjwt0apXv",
        "outputId": "5cd30afa-d00d-421b-804d-3e5c52de4aff"
      },
      "execution_count": null,
      "outputs": [
        {
          "output_type": "execute_result",
          "data": {
            "text/plain": [
              "timestamp                                int64\n",
              "title                                   object\n",
              "severity                                 int64\n",
              "tags/0                                  object\n",
              "tags/1                                  object\n",
              "data/0/Host                             object\n",
              "data/0/Subject Username                 object\n",
              "data/0/Target Username                  object\n",
              "data/0/Logon Type                      float64\n",
              "data/0/Subject Workstation              object\n",
              "data/0/Subject User SID                 object\n",
              "data/0/Target User SID                  object\n",
              "data/0/Target Domain Name               object\n",
              "watchlist                                int64\n",
              "category                                object\n",
              "assigned_to                              int64\n",
              "alertId                                  int64\n",
              "state                                   object\n",
              "@timestamp                              object\n",
              "data/0/id                               object\n",
              "data/0/index                            object\n",
              "data/0/@timestamp                       object\n",
              "data/0/cdconw.hostname                  object\n",
              "data/0/event_id                        float64\n",
              "data/0/event_data.LogonID              float64\n",
              "data/0/event_data.LogonId              float64\n",
              "data/0/event_data.LogonType            float64\n",
              "data/0/event_data.SubjectUserName       object\n",
              "data/0/event_data.TargetUserName        object\n",
              "data/0/computer_name                    object\n",
              "data/0/event_data.AccountDomain        float64\n",
              "data/0/event_data.AccountName          float64\n",
              "data/0/event_data.SID                  float64\n",
              "data/0/cdconw.name                      object\n",
              "data/0/event_data.ProcessName           object\n",
              "data/0/event_data.SubjectDomainName     object\n",
              "data/0/task                             object\n",
              "dtype: object"
            ]
          },
          "metadata": {},
          "execution_count": 24
        }
      ]
    },
    {
      "cell_type": "code",
      "source": [
        "ds.head()"
      ],
      "metadata": {
        "colab": {
          "base_uri": "https://localhost:8080/",
          "height": 577
        },
        "id": "4yCPYA9KfnTS",
        "outputId": "ed06500f-e620-4908-d5da-4576e65eafba"
      },
      "execution_count": null,
      "outputs": [
        {
          "output_type": "execute_result",
          "data": {
            "text/plain": [
              "   modload_count                                       process_path  \\\n",
              "0              2  c:\\windows\\syswow64\\macromed\\flash\\flashplayer...   \n",
              "1              2  c:\\windows\\syswow64\\macromed\\flash\\flashplayer...   \n",
              "2              2  c:\\windows\\syswow64\\macromed\\flash\\flashplayer...   \n",
              "3              2  c:\\windows\\syswow64\\macromed\\flash\\flashplayer...   \n",
              "4              2  c:\\windows\\syswow64\\macromed\\flash\\flashplayer...   \n",
              "\n",
              "                      alert_type sensor_criticality                @timestamp  \\\n",
              "0  watchlist.hit.ingress.process                  3  2019-11-29T12:18:17.856Z   \n",
              "1  watchlist.hit.ingress.process                  3  2019-11-29T12:18:17.856Z   \n",
              "2  watchlist.hit.ingress.process                  3  2019-11-29T12:18:17.856Z   \n",
              "3  watchlist.hit.ingress.process                  3  2019-11-29T12:18:17.856Z   \n",
              "4  watchlist.hit.ingress.process                  3  2019-11-29T12:18:17.856Z   \n",
              "\n",
              "  report_score   watchlist_id sensor_id feed_name              created_time  \\\n",
              "0           40  CVE-2016-4171       322       nvd  2019-11-29T12:11:06.587Z   \n",
              "1           40  CVE-2016-4181       322       nvd  2019-11-29T12:11:06.589Z   \n",
              "2           40  CVE-2016-4138       322       nvd  2019-11-29T12:11:06.413Z   \n",
              "3           40  CVE-2016-4128       322       nvd  2019-11-29T12:11:06.406Z   \n",
              "4           40  CVE-2016-4227       322       nvd   2019-11-29T12:11:06.41Z   \n",
              "\n",
              "   ... total_hosts feed_id      status  os_type @version childproc_count  \\\n",
              "0  ...         198      18  Unresolved  windows        1               2   \n",
              "1  ...         198      18  Unresolved  windows        1               2   \n",
              "2  ...         198      18  Unresolved  windows        1               2   \n",
              "3  ...         198      18  Unresolved  windows        1               2   \n",
              "4  ...         198      18  Unresolved  windows        1               2   \n",
              "\n",
              "                              unique_id feed_rating Unnamed: 47 Unnamed: 48  \n",
              "0  c9845596-2a1c-40fa-ba73-1a3cb250e988           3         NaN         NaN  \n",
              "1  a3e78117-f02b-4a58-9194-39b8c153b1fb           3         NaN         NaN  \n",
              "2  cf8a47c0-fe5e-4738-a0c4-841c04bd4e85           3         NaN         NaN  \n",
              "3  9c819b01-6e5c-4985-92a6-132c98cb6f63           3         NaN         NaN  \n",
              "4  7cbfe316-3569-4a6b-8b30-efd474b13cc6           3         NaN         NaN  \n",
              "\n",
              "[5 rows x 49 columns]"
            ],
            "text/html": [
              "\n",
              "  <div id=\"df-29e47ee6-0fa9-4900-845d-9fa239e827a8\">\n",
              "    <div class=\"colab-df-container\">\n",
              "      <div>\n",
              "<style scoped>\n",
              "    .dataframe tbody tr th:only-of-type {\n",
              "        vertical-align: middle;\n",
              "    }\n",
              "\n",
              "    .dataframe tbody tr th {\n",
              "        vertical-align: top;\n",
              "    }\n",
              "\n",
              "    .dataframe thead th {\n",
              "        text-align: right;\n",
              "    }\n",
              "</style>\n",
              "<table border=\"1\" class=\"dataframe\">\n",
              "  <thead>\n",
              "    <tr style=\"text-align: right;\">\n",
              "      <th></th>\n",
              "      <th>modload_count</th>\n",
              "      <th>process_path</th>\n",
              "      <th>alert_type</th>\n",
              "      <th>sensor_criticality</th>\n",
              "      <th>@timestamp</th>\n",
              "      <th>report_score</th>\n",
              "      <th>watchlist_id</th>\n",
              "      <th>sensor_id</th>\n",
              "      <th>feed_name</th>\n",
              "      <th>created_time</th>\n",
              "      <th>...</th>\n",
              "      <th>total_hosts</th>\n",
              "      <th>feed_id</th>\n",
              "      <th>status</th>\n",
              "      <th>os_type</th>\n",
              "      <th>@version</th>\n",
              "      <th>childproc_count</th>\n",
              "      <th>unique_id</th>\n",
              "      <th>feed_rating</th>\n",
              "      <th>Unnamed: 47</th>\n",
              "      <th>Unnamed: 48</th>\n",
              "    </tr>\n",
              "  </thead>\n",
              "  <tbody>\n",
              "    <tr>\n",
              "      <th>0</th>\n",
              "      <td>2</td>\n",
              "      <td>c:\\windows\\syswow64\\macromed\\flash\\flashplayer...</td>\n",
              "      <td>watchlist.hit.ingress.process</td>\n",
              "      <td>3</td>\n",
              "      <td>2019-11-29T12:18:17.856Z</td>\n",
              "      <td>40</td>\n",
              "      <td>CVE-2016-4171</td>\n",
              "      <td>322</td>\n",
              "      <td>nvd</td>\n",
              "      <td>2019-11-29T12:11:06.587Z</td>\n",
              "      <td>...</td>\n",
              "      <td>198</td>\n",
              "      <td>18</td>\n",
              "      <td>Unresolved</td>\n",
              "      <td>windows</td>\n",
              "      <td>1</td>\n",
              "      <td>2</td>\n",
              "      <td>c9845596-2a1c-40fa-ba73-1a3cb250e988</td>\n",
              "      <td>3</td>\n",
              "      <td>NaN</td>\n",
              "      <td>NaN</td>\n",
              "    </tr>\n",
              "    <tr>\n",
              "      <th>1</th>\n",
              "      <td>2</td>\n",
              "      <td>c:\\windows\\syswow64\\macromed\\flash\\flashplayer...</td>\n",
              "      <td>watchlist.hit.ingress.process</td>\n",
              "      <td>3</td>\n",
              "      <td>2019-11-29T12:18:17.856Z</td>\n",
              "      <td>40</td>\n",
              "      <td>CVE-2016-4181</td>\n",
              "      <td>322</td>\n",
              "      <td>nvd</td>\n",
              "      <td>2019-11-29T12:11:06.589Z</td>\n",
              "      <td>...</td>\n",
              "      <td>198</td>\n",
              "      <td>18</td>\n",
              "      <td>Unresolved</td>\n",
              "      <td>windows</td>\n",
              "      <td>1</td>\n",
              "      <td>2</td>\n",
              "      <td>a3e78117-f02b-4a58-9194-39b8c153b1fb</td>\n",
              "      <td>3</td>\n",
              "      <td>NaN</td>\n",
              "      <td>NaN</td>\n",
              "    </tr>\n",
              "    <tr>\n",
              "      <th>2</th>\n",
              "      <td>2</td>\n",
              "      <td>c:\\windows\\syswow64\\macromed\\flash\\flashplayer...</td>\n",
              "      <td>watchlist.hit.ingress.process</td>\n",
              "      <td>3</td>\n",
              "      <td>2019-11-29T12:18:17.856Z</td>\n",
              "      <td>40</td>\n",
              "      <td>CVE-2016-4138</td>\n",
              "      <td>322</td>\n",
              "      <td>nvd</td>\n",
              "      <td>2019-11-29T12:11:06.413Z</td>\n",
              "      <td>...</td>\n",
              "      <td>198</td>\n",
              "      <td>18</td>\n",
              "      <td>Unresolved</td>\n",
              "      <td>windows</td>\n",
              "      <td>1</td>\n",
              "      <td>2</td>\n",
              "      <td>cf8a47c0-fe5e-4738-a0c4-841c04bd4e85</td>\n",
              "      <td>3</td>\n",
              "      <td>NaN</td>\n",
              "      <td>NaN</td>\n",
              "    </tr>\n",
              "    <tr>\n",
              "      <th>3</th>\n",
              "      <td>2</td>\n",
              "      <td>c:\\windows\\syswow64\\macromed\\flash\\flashplayer...</td>\n",
              "      <td>watchlist.hit.ingress.process</td>\n",
              "      <td>3</td>\n",
              "      <td>2019-11-29T12:18:17.856Z</td>\n",
              "      <td>40</td>\n",
              "      <td>CVE-2016-4128</td>\n",
              "      <td>322</td>\n",
              "      <td>nvd</td>\n",
              "      <td>2019-11-29T12:11:06.406Z</td>\n",
              "      <td>...</td>\n",
              "      <td>198</td>\n",
              "      <td>18</td>\n",
              "      <td>Unresolved</td>\n",
              "      <td>windows</td>\n",
              "      <td>1</td>\n",
              "      <td>2</td>\n",
              "      <td>9c819b01-6e5c-4985-92a6-132c98cb6f63</td>\n",
              "      <td>3</td>\n",
              "      <td>NaN</td>\n",
              "      <td>NaN</td>\n",
              "    </tr>\n",
              "    <tr>\n",
              "      <th>4</th>\n",
              "      <td>2</td>\n",
              "      <td>c:\\windows\\syswow64\\macromed\\flash\\flashplayer...</td>\n",
              "      <td>watchlist.hit.ingress.process</td>\n",
              "      <td>3</td>\n",
              "      <td>2019-11-29T12:18:17.856Z</td>\n",
              "      <td>40</td>\n",
              "      <td>CVE-2016-4227</td>\n",
              "      <td>322</td>\n",
              "      <td>nvd</td>\n",
              "      <td>2019-11-29T12:11:06.41Z</td>\n",
              "      <td>...</td>\n",
              "      <td>198</td>\n",
              "      <td>18</td>\n",
              "      <td>Unresolved</td>\n",
              "      <td>windows</td>\n",
              "      <td>1</td>\n",
              "      <td>2</td>\n",
              "      <td>7cbfe316-3569-4a6b-8b30-efd474b13cc6</td>\n",
              "      <td>3</td>\n",
              "      <td>NaN</td>\n",
              "      <td>NaN</td>\n",
              "    </tr>\n",
              "  </tbody>\n",
              "</table>\n",
              "<p>5 rows × 49 columns</p>\n",
              "</div>\n",
              "      <button class=\"colab-df-convert\" onclick=\"convertToInteractive('df-29e47ee6-0fa9-4900-845d-9fa239e827a8')\"\n",
              "              title=\"Convert this dataframe to an interactive table.\"\n",
              "              style=\"display:none;\">\n",
              "        \n",
              "  <svg xmlns=\"http://www.w3.org/2000/svg\" height=\"24px\"viewBox=\"0 0 24 24\"\n",
              "       width=\"24px\">\n",
              "    <path d=\"M0 0h24v24H0V0z\" fill=\"none\"/>\n",
              "    <path d=\"M18.56 5.44l.94 2.06.94-2.06 2.06-.94-2.06-.94-.94-2.06-.94 2.06-2.06.94zm-11 1L8.5 8.5l.94-2.06 2.06-.94-2.06-.94L8.5 2.5l-.94 2.06-2.06.94zm10 10l.94 2.06.94-2.06 2.06-.94-2.06-.94-.94-2.06-.94 2.06-2.06.94z\"/><path d=\"M17.41 7.96l-1.37-1.37c-.4-.4-.92-.59-1.43-.59-.52 0-1.04.2-1.43.59L10.3 9.45l-7.72 7.72c-.78.78-.78 2.05 0 2.83L4 21.41c.39.39.9.59 1.41.59.51 0 1.02-.2 1.41-.59l7.78-7.78 2.81-2.81c.8-.78.8-2.07 0-2.86zM5.41 20L4 18.59l7.72-7.72 1.47 1.35L5.41 20z\"/>\n",
              "  </svg>\n",
              "      </button>\n",
              "      \n",
              "  <style>\n",
              "    .colab-df-container {\n",
              "      display:flex;\n",
              "      flex-wrap:wrap;\n",
              "      gap: 12px;\n",
              "    }\n",
              "\n",
              "    .colab-df-convert {\n",
              "      background-color: #E8F0FE;\n",
              "      border: none;\n",
              "      border-radius: 50%;\n",
              "      cursor: pointer;\n",
              "      display: none;\n",
              "      fill: #1967D2;\n",
              "      height: 32px;\n",
              "      padding: 0 0 0 0;\n",
              "      width: 32px;\n",
              "    }\n",
              "\n",
              "    .colab-df-convert:hover {\n",
              "      background-color: #E2EBFA;\n",
              "      box-shadow: 0px 1px 2px rgba(60, 64, 67, 0.3), 0px 1px 3px 1px rgba(60, 64, 67, 0.15);\n",
              "      fill: #174EA6;\n",
              "    }\n",
              "\n",
              "    [theme=dark] .colab-df-convert {\n",
              "      background-color: #3B4455;\n",
              "      fill: #D2E3FC;\n",
              "    }\n",
              "\n",
              "    [theme=dark] .colab-df-convert:hover {\n",
              "      background-color: #434B5C;\n",
              "      box-shadow: 0px 1px 3px 1px rgba(0, 0, 0, 0.15);\n",
              "      filter: drop-shadow(0px 1px 2px rgba(0, 0, 0, 0.3));\n",
              "      fill: #FFFFFF;\n",
              "    }\n",
              "  </style>\n",
              "\n",
              "      <script>\n",
              "        const buttonEl =\n",
              "          document.querySelector('#df-29e47ee6-0fa9-4900-845d-9fa239e827a8 button.colab-df-convert');\n",
              "        buttonEl.style.display =\n",
              "          google.colab.kernel.accessAllowed ? 'block' : 'none';\n",
              "\n",
              "        async function convertToInteractive(key) {\n",
              "          const element = document.querySelector('#df-29e47ee6-0fa9-4900-845d-9fa239e827a8');\n",
              "          const dataTable =\n",
              "            await google.colab.kernel.invokeFunction('convertToInteractive',\n",
              "                                                     [key], {});\n",
              "          if (!dataTable) return;\n",
              "\n",
              "          const docLinkHtml = 'Like what you see? Visit the ' +\n",
              "            '<a target=\"_blank\" href=https://colab.research.google.com/notebooks/data_table.ipynb>data table notebook</a>'\n",
              "            + ' to learn more about interactive tables.';\n",
              "          element.innerHTML = '';\n",
              "          dataTable['output_type'] = 'display_data';\n",
              "          await google.colab.output.renderOutput(dataTable, element);\n",
              "          const docLink = document.createElement('div');\n",
              "          docLink.innerHTML = docLinkHtml;\n",
              "          element.appendChild(docLink);\n",
              "        }\n",
              "      </script>\n",
              "    </div>\n",
              "  </div>\n",
              "  "
            ]
          },
          "metadata": {},
          "execution_count": 7
        }
      ]
    },
    {
      "cell_type": "code",
      "source": [
        "print(ds)"
      ],
      "metadata": {
        "colab": {
          "base_uri": "https://localhost:8080/"
        },
        "id": "WwBEwRRCgDZh",
        "outputId": "eff0f973-b707-432f-9cd2-1512392ee573"
      },
      "execution_count": null,
      "outputs": [
        {
          "output_type": "stream",
          "name": "stdout",
          "text": [
            "      modload_count                                       process_path  \\\n",
            "0                 2  c:\\windows\\syswow64\\macromed\\flash\\flashplayer...   \n",
            "1                 2  c:\\windows\\syswow64\\macromed\\flash\\flashplayer...   \n",
            "2                 2  c:\\windows\\syswow64\\macromed\\flash\\flashplayer...   \n",
            "3                 2  c:\\windows\\syswow64\\macromed\\flash\\flashplayer...   \n",
            "4                 2  c:\\windows\\syswow64\\macromed\\flash\\flashplayer...   \n",
            "...             ...                                                ...   \n",
            "2495              1  c:\\windows\\syswow64\\macromed\\flash\\flashplayer...   \n",
            "2496              1  c:\\windows\\syswow64\\macromed\\flash\\flashplayer...   \n",
            "2497             45  c:\\program files\\malwarebytes\\anti-malware\\mba...   \n",
            "2498              1  c:\\windows\\syswow64\\macromed\\flash\\flashplayer...   \n",
            "2499              1  c:\\windows\\syswow64\\macromed\\flash\\flashplayer...   \n",
            "\n",
            "                         alert_type sensor_criticality  \\\n",
            "0     watchlist.hit.ingress.process                  3   \n",
            "1     watchlist.hit.ingress.process                  3   \n",
            "2     watchlist.hit.ingress.process                  3   \n",
            "3     watchlist.hit.ingress.process                  3   \n",
            "4     watchlist.hit.ingress.process                  3   \n",
            "...                             ...                ...   \n",
            "2495  watchlist.hit.ingress.process                  3   \n",
            "2496  watchlist.hit.ingress.process                  3   \n",
            "2497  watchlist.hit.ingress.process                  3   \n",
            "2498  watchlist.hit.ingress.process                  3   \n",
            "2499  watchlist.hit.ingress.process                  3   \n",
            "\n",
            "                    @timestamp report_score  \\\n",
            "0     2019-11-29T12:18:17.856Z           40   \n",
            "1     2019-11-29T12:18:17.856Z           40   \n",
            "2     2019-11-29T12:18:17.856Z           40   \n",
            "3     2019-11-29T12:18:17.856Z           40   \n",
            "4     2019-11-29T12:18:17.856Z           40   \n",
            "...                        ...          ...   \n",
            "2495  2019-11-27T03:12:01.144Z           40   \n",
            "2496  2019-11-27T03:12:01.144Z           40   \n",
            "2497  2019-11-27T03:12:01.143Z           80   \n",
            "2498  2019-11-27T03:12:01.143Z           40   \n",
            "2499  2019-11-27T03:12:01.143Z           40   \n",
            "\n",
            "                              watchlist_id sensor_id        feed_name  \\\n",
            "0                            CVE-2016-4171       322              nvd   \n",
            "1                            CVE-2016-4181       322              nvd   \n",
            "2                            CVE-2016-4138       322              nvd   \n",
            "3                            CVE-2016-4128       322              nvd   \n",
            "4                            CVE-2016-4227       322              nvd   \n",
            "...                                    ...       ...              ...   \n",
            "2495                         CVE-2016-0972       237              nvd   \n",
            "2496                         CVE-2016-0995       237              nvd   \n",
            "2497  41c6ada7-e38a-420b-9767-4d7f3bee947a       282  bit9earlyaccess   \n",
            "2498                         CVE-2016-1031       237              nvd   \n",
            "2499                         CVE-2016-4284       237              nvd   \n",
            "\n",
            "                  created_time  ... total_hosts feed_id      status  os_type  \\\n",
            "0     2019-11-29T12:11:06.587Z  ...         198      18  Unresolved  windows   \n",
            "1     2019-11-29T12:11:06.589Z  ...         198      18  Unresolved  windows   \n",
            "2     2019-11-29T12:11:06.413Z  ...         198      18  Unresolved  windows   \n",
            "3     2019-11-29T12:11:06.406Z  ...         198      18  Unresolved  windows   \n",
            "4      2019-11-29T12:11:06.41Z  ...         198      18  Unresolved  windows   \n",
            "...                        ...  ...         ...     ...         ...      ...   \n",
            "2495  2019-11-27T03:09:30.035Z  ...         271      18  Unresolved  windows   \n",
            "2496  2019-11-27T03:09:30.037Z  ...         271      18  Unresolved  windows   \n",
            "2497  2019-11-27T03:10:17.393Z  ...         271      22  Unresolved  windows   \n",
            "2498  2019-11-27T03:09:30.207Z  ...         271      18  Unresolved  windows   \n",
            "2499  2019-11-27T03:09:30.212Z  ...         271      18  Unresolved  windows   \n",
            "\n",
            "     @version childproc_count                             unique_id  \\\n",
            "0           1               2  c9845596-2a1c-40fa-ba73-1a3cb250e988   \n",
            "1           1               2  a3e78117-f02b-4a58-9194-39b8c153b1fb   \n",
            "2           1               2  cf8a47c0-fe5e-4738-a0c4-841c04bd4e85   \n",
            "3           1               2  9c819b01-6e5c-4985-92a6-132c98cb6f63   \n",
            "4           1               2  7cbfe316-3569-4a6b-8b30-efd474b13cc6   \n",
            "...       ...             ...                                   ...   \n",
            "2495        1               2  426e26f7-e782-4012-a3b1-511503f40cb5   \n",
            "2496        1               2  d1634d4f-c262-4484-9a10-3939743a8ca5   \n",
            "2497        1             114  afa1c823-b34a-4a75-b66e-b370a701bae1   \n",
            "2498        1               2  9ab8684a-bec1-4dd4-8688-e698f107d038   \n",
            "2499        1               2  85110b00-ce52-4cfd-9b38-1ff1ea9452ed   \n",
            "\n",
            "     feed_rating Unnamed: 47 Unnamed: 48  \n",
            "0              3         NaN         NaN  \n",
            "1              3         NaN         NaN  \n",
            "2              3         NaN         NaN  \n",
            "3              3         NaN         NaN  \n",
            "4              3         NaN         NaN  \n",
            "...          ...         ...         ...  \n",
            "2495           3         NaN         NaN  \n",
            "2496           3         NaN         NaN  \n",
            "2497           3         NaN         NaN  \n",
            "2498           3         NaN         NaN  \n",
            "2499           3         NaN         NaN  \n",
            "\n",
            "[2500 rows x 49 columns]\n"
          ]
        }
      ]
    },
    {
      "cell_type": "code",
      "source": [
        "ds.describe()"
      ],
      "metadata": {
        "colab": {
          "base_uri": "https://localhost:8080/",
          "height": 300
        },
        "id": "VnwS-wSYn-nm",
        "outputId": "d37df5dc-8040-475b-96e9-126a9c78ad79"
      },
      "execution_count": null,
      "outputs": [
        {
          "output_type": "execute_result",
          "data": {
            "text/plain": [
              "       modload_count  Unnamed: 48\n",
              "count     2500.00000          9.0\n",
              "mean         7.68920          3.0\n",
              "std         25.38073          0.0\n",
              "min          0.00000          3.0\n",
              "25%          2.00000          3.0\n",
              "50%          2.00000          3.0\n",
              "75%          2.00000          3.0\n",
              "max        278.00000          3.0"
            ],
            "text/html": [
              "\n",
              "  <div id=\"df-3ab6b802-5cf1-46f4-901f-fe87a45397ad\">\n",
              "    <div class=\"colab-df-container\">\n",
              "      <div>\n",
              "<style scoped>\n",
              "    .dataframe tbody tr th:only-of-type {\n",
              "        vertical-align: middle;\n",
              "    }\n",
              "\n",
              "    .dataframe tbody tr th {\n",
              "        vertical-align: top;\n",
              "    }\n",
              "\n",
              "    .dataframe thead th {\n",
              "        text-align: right;\n",
              "    }\n",
              "</style>\n",
              "<table border=\"1\" class=\"dataframe\">\n",
              "  <thead>\n",
              "    <tr style=\"text-align: right;\">\n",
              "      <th></th>\n",
              "      <th>modload_count</th>\n",
              "      <th>Unnamed: 48</th>\n",
              "    </tr>\n",
              "  </thead>\n",
              "  <tbody>\n",
              "    <tr>\n",
              "      <th>count</th>\n",
              "      <td>2500.00000</td>\n",
              "      <td>9.0</td>\n",
              "    </tr>\n",
              "    <tr>\n",
              "      <th>mean</th>\n",
              "      <td>7.68920</td>\n",
              "      <td>3.0</td>\n",
              "    </tr>\n",
              "    <tr>\n",
              "      <th>std</th>\n",
              "      <td>25.38073</td>\n",
              "      <td>0.0</td>\n",
              "    </tr>\n",
              "    <tr>\n",
              "      <th>min</th>\n",
              "      <td>0.00000</td>\n",
              "      <td>3.0</td>\n",
              "    </tr>\n",
              "    <tr>\n",
              "      <th>25%</th>\n",
              "      <td>2.00000</td>\n",
              "      <td>3.0</td>\n",
              "    </tr>\n",
              "    <tr>\n",
              "      <th>50%</th>\n",
              "      <td>2.00000</td>\n",
              "      <td>3.0</td>\n",
              "    </tr>\n",
              "    <tr>\n",
              "      <th>75%</th>\n",
              "      <td>2.00000</td>\n",
              "      <td>3.0</td>\n",
              "    </tr>\n",
              "    <tr>\n",
              "      <th>max</th>\n",
              "      <td>278.00000</td>\n",
              "      <td>3.0</td>\n",
              "    </tr>\n",
              "  </tbody>\n",
              "</table>\n",
              "</div>\n",
              "      <button class=\"colab-df-convert\" onclick=\"convertToInteractive('df-3ab6b802-5cf1-46f4-901f-fe87a45397ad')\"\n",
              "              title=\"Convert this dataframe to an interactive table.\"\n",
              "              style=\"display:none;\">\n",
              "        \n",
              "  <svg xmlns=\"http://www.w3.org/2000/svg\" height=\"24px\"viewBox=\"0 0 24 24\"\n",
              "       width=\"24px\">\n",
              "    <path d=\"M0 0h24v24H0V0z\" fill=\"none\"/>\n",
              "    <path d=\"M18.56 5.44l.94 2.06.94-2.06 2.06-.94-2.06-.94-.94-2.06-.94 2.06-2.06.94zm-11 1L8.5 8.5l.94-2.06 2.06-.94-2.06-.94L8.5 2.5l-.94 2.06-2.06.94zm10 10l.94 2.06.94-2.06 2.06-.94-2.06-.94-.94-2.06-.94 2.06-2.06.94z\"/><path d=\"M17.41 7.96l-1.37-1.37c-.4-.4-.92-.59-1.43-.59-.52 0-1.04.2-1.43.59L10.3 9.45l-7.72 7.72c-.78.78-.78 2.05 0 2.83L4 21.41c.39.39.9.59 1.41.59.51 0 1.02-.2 1.41-.59l7.78-7.78 2.81-2.81c.8-.78.8-2.07 0-2.86zM5.41 20L4 18.59l7.72-7.72 1.47 1.35L5.41 20z\"/>\n",
              "  </svg>\n",
              "      </button>\n",
              "      \n",
              "  <style>\n",
              "    .colab-df-container {\n",
              "      display:flex;\n",
              "      flex-wrap:wrap;\n",
              "      gap: 12px;\n",
              "    }\n",
              "\n",
              "    .colab-df-convert {\n",
              "      background-color: #E8F0FE;\n",
              "      border: none;\n",
              "      border-radius: 50%;\n",
              "      cursor: pointer;\n",
              "      display: none;\n",
              "      fill: #1967D2;\n",
              "      height: 32px;\n",
              "      padding: 0 0 0 0;\n",
              "      width: 32px;\n",
              "    }\n",
              "\n",
              "    .colab-df-convert:hover {\n",
              "      background-color: #E2EBFA;\n",
              "      box-shadow: 0px 1px 2px rgba(60, 64, 67, 0.3), 0px 1px 3px 1px rgba(60, 64, 67, 0.15);\n",
              "      fill: #174EA6;\n",
              "    }\n",
              "\n",
              "    [theme=dark] .colab-df-convert {\n",
              "      background-color: #3B4455;\n",
              "      fill: #D2E3FC;\n",
              "    }\n",
              "\n",
              "    [theme=dark] .colab-df-convert:hover {\n",
              "      background-color: #434B5C;\n",
              "      box-shadow: 0px 1px 3px 1px rgba(0, 0, 0, 0.15);\n",
              "      filter: drop-shadow(0px 1px 2px rgba(0, 0, 0, 0.3));\n",
              "      fill: #FFFFFF;\n",
              "    }\n",
              "  </style>\n",
              "\n",
              "      <script>\n",
              "        const buttonEl =\n",
              "          document.querySelector('#df-3ab6b802-5cf1-46f4-901f-fe87a45397ad button.colab-df-convert');\n",
              "        buttonEl.style.display =\n",
              "          google.colab.kernel.accessAllowed ? 'block' : 'none';\n",
              "\n",
              "        async function convertToInteractive(key) {\n",
              "          const element = document.querySelector('#df-3ab6b802-5cf1-46f4-901f-fe87a45397ad');\n",
              "          const dataTable =\n",
              "            await google.colab.kernel.invokeFunction('convertToInteractive',\n",
              "                                                     [key], {});\n",
              "          if (!dataTable) return;\n",
              "\n",
              "          const docLinkHtml = 'Like what you see? Visit the ' +\n",
              "            '<a target=\"_blank\" href=https://colab.research.google.com/notebooks/data_table.ipynb>data table notebook</a>'\n",
              "            + ' to learn more about interactive tables.';\n",
              "          element.innerHTML = '';\n",
              "          dataTable['output_type'] = 'display_data';\n",
              "          await google.colab.output.renderOutput(dataTable, element);\n",
              "          const docLink = document.createElement('div');\n",
              "          docLink.innerHTML = docLinkHtml;\n",
              "          element.appendChild(docLink);\n",
              "        }\n",
              "      </script>\n",
              "    </div>\n",
              "  </div>\n",
              "  "
            ]
          },
          "metadata": {},
          "execution_count": 15
        }
      ]
    },
    {
      "cell_type": "code",
      "source": [
        "ds.keys()"
      ],
      "metadata": {
        "colab": {
          "base_uri": "https://localhost:8080/"
        },
        "id": "Xi6FYG9SoqQQ",
        "outputId": "66ac5813-4a44-4668-9b4b-934c5012d8e6"
      },
      "execution_count": null,
      "outputs": [
        {
          "output_type": "execute_result",
          "data": {
            "text/plain": [
              "Index(['modload_count', 'process_path', 'alert_type', 'sensor_criticality',\n",
              "       '@timestamp', 'report_score', 'watchlist_id', 'sensor_id', 'feed_name',\n",
              "       'created_time', 'report_ignored', 'message', 'crossproc_count',\n",
              "       'ioc_confidence', 'ioc_type', 'alert_severity', 'watchlist_name',\n",
              "       'group', 'hostname', 'filemod_count', 'comms_ip', 'regmod_count',\n",
              "       'sha256', 'username', 'observed_hosts', 'ioc_value', 'description',\n",
              "       'tags', 'process_name', 'process_unique_id', 'host', 'process_id',\n",
              "       'link', '_version_', 'path', 'netconn_count', 'md5', 'interface_ip',\n",
              "       'segment_id', 'total_hosts', 'feed_id', 'status', 'os_type', '@version',\n",
              "       'childproc_count', 'unique_id', 'feed_rating', 'Unnamed: 47',\n",
              "       'Unnamed: 48'],\n",
              "      dtype='object')"
            ]
          },
          "metadata": {},
          "execution_count": 16
        }
      ]
    },
    {
      "cell_type": "code",
      "source": [
        "ds.shape"
      ],
      "metadata": {
        "colab": {
          "base_uri": "https://localhost:8080/"
        },
        "id": "O1JtY_hKpHTx",
        "outputId": "d1ba067c-20ca-48b3-808d-7c96d22699f4"
      },
      "execution_count": null,
      "outputs": [
        {
          "output_type": "execute_result",
          "data": {
            "text/plain": [
              "(2500, 49)"
            ]
          },
          "metadata": {},
          "execution_count": 17
        }
      ]
    },
    {
      "cell_type": "code",
      "source": [
        "ds.dtypes"
      ],
      "metadata": {
        "id": "xw1066xgs6i5",
        "colab": {
          "base_uri": "https://localhost:8080/"
        },
        "outputId": "8a541af6-e2e8-4569-fdf8-d6206807249f"
      },
      "execution_count": null,
      "outputs": [
        {
          "output_type": "execute_result",
          "data": {
            "text/plain": [
              "modload_count           int64\n",
              "process_path           object\n",
              "alert_type             object\n",
              "sensor_criticality     object\n",
              "@timestamp             object\n",
              "report_score           object\n",
              "watchlist_id           object\n",
              "sensor_id              object\n",
              "feed_name              object\n",
              "created_time           object\n",
              "report_ignored         object\n",
              "message                object\n",
              "crossproc_count        object\n",
              "ioc_confidence         object\n",
              "ioc_type               object\n",
              "alert_severity         object\n",
              "watchlist_name         object\n",
              "group                  object\n",
              "hostname               object\n",
              "filemod_count          object\n",
              "comms_ip               object\n",
              "regmod_count           object\n",
              "sha256                 object\n",
              "username               object\n",
              "observed_hosts         object\n",
              "ioc_value              object\n",
              "description            object\n",
              "tags                   object\n",
              "process_name           object\n",
              "process_unique_id      object\n",
              "host                   object\n",
              "process_id             object\n",
              "link                   object\n",
              "_version_              object\n",
              "path                   object\n",
              "netconn_count          object\n",
              "md5                    object\n",
              "interface_ip           object\n",
              "segment_id             object\n",
              "total_hosts            object\n",
              "feed_id                object\n",
              "status                 object\n",
              "os_type                object\n",
              "@version               object\n",
              "childproc_count        object\n",
              "unique_id              object\n",
              "feed_rating            object\n",
              "Unnamed: 47            object\n",
              "Unnamed: 48           float64\n",
              "dtype: object"
            ]
          },
          "metadata": {},
          "execution_count": 18
        }
      ]
    },
    {
      "cell_type": "code",
      "source": [
        "new_dataset=ds[['modload_count','process_path','sensor_criticality','alert_type','@timestamp','watchlist_id','tags','report_score','alert_severity']]"
      ],
      "metadata": {
        "id": "a88lH56wj7A8"
      },
      "execution_count": null,
      "outputs": []
    },
    {
      "cell_type": "code",
      "source": [
        "new_dataset"
      ],
      "metadata": {
        "colab": {
          "base_uri": "https://localhost:8080/",
          "height": 696
        },
        "id": "UuYpdUM1Eylf",
        "outputId": "fbd5895c-c529-48e7-ea9d-3f828615938b"
      },
      "execution_count": null,
      "outputs": [
        {
          "output_type": "execute_result",
          "data": {
            "text/plain": [
              "      modload_count                                       process_path  \\\n",
              "0                 2  c:\\windows\\syswow64\\macromed\\flash\\flashplayer...   \n",
              "1                 2  c:\\windows\\syswow64\\macromed\\flash\\flashplayer...   \n",
              "2                 2  c:\\windows\\syswow64\\macromed\\flash\\flashplayer...   \n",
              "3                 2  c:\\windows\\syswow64\\macromed\\flash\\flashplayer...   \n",
              "4                 2  c:\\windows\\syswow64\\macromed\\flash\\flashplayer...   \n",
              "...             ...                                                ...   \n",
              "2495              1  c:\\windows\\syswow64\\macromed\\flash\\flashplayer...   \n",
              "2496              1  c:\\windows\\syswow64\\macromed\\flash\\flashplayer...   \n",
              "2497             45  c:\\program files\\malwarebytes\\anti-malware\\mba...   \n",
              "2498              1  c:\\windows\\syswow64\\macromed\\flash\\flashplayer...   \n",
              "2499              1  c:\\windows\\syswow64\\macromed\\flash\\flashplayer...   \n",
              "\n",
              "     sensor_criticality                     alert_type  \\\n",
              "0                     3  watchlist.hit.ingress.process   \n",
              "1                     3  watchlist.hit.ingress.process   \n",
              "2                     3  watchlist.hit.ingress.process   \n",
              "3                     3  watchlist.hit.ingress.process   \n",
              "4                     3  watchlist.hit.ingress.process   \n",
              "...                 ...                            ...   \n",
              "2495                  3  watchlist.hit.ingress.process   \n",
              "2496                  3  watchlist.hit.ingress.process   \n",
              "2497                  3  watchlist.hit.ingress.process   \n",
              "2498                  3  watchlist.hit.ingress.process   \n",
              "2499                  3  watchlist.hit.ingress.process   \n",
              "\n",
              "                    @timestamp                          watchlist_id  \\\n",
              "0     2019-11-29T12:18:17.856Z                         CVE-2016-4171   \n",
              "1     2019-11-29T12:18:17.856Z                         CVE-2016-4181   \n",
              "2     2019-11-29T12:18:17.856Z                         CVE-2016-4138   \n",
              "3     2019-11-29T12:18:17.856Z                         CVE-2016-4128   \n",
              "4     2019-11-29T12:18:17.856Z                         CVE-2016-4227   \n",
              "...                        ...                                   ...   \n",
              "2495  2019-11-27T03:12:01.144Z                         CVE-2016-0972   \n",
              "2496  2019-11-27T03:12:01.144Z                         CVE-2016-0995   \n",
              "2497  2019-11-27T03:12:01.143Z  41c6ada7-e38a-420b-9767-4d7f3bee947a   \n",
              "2498  2019-11-27T03:12:01.143Z                         CVE-2016-1031   \n",
              "2499  2019-11-27T03:12:01.143Z                         CVE-2016-4284   \n",
              "\n",
              "                 tags report_score alert_severity  \n",
              "0     ['carbonblack']           40             27  \n",
              "1     ['carbonblack']           40             27  \n",
              "2     ['carbonblack']           40             27  \n",
              "3     ['carbonblack']           40             27  \n",
              "4     ['carbonblack']           40             27  \n",
              "...               ...          ...            ...  \n",
              "2495  ['carbonblack']           40             27  \n",
              "2496  ['carbonblack']           40             27  \n",
              "2497  ['carbonblack']           80             54  \n",
              "2498  ['carbonblack']           40             27  \n",
              "2499  ['carbonblack']           40             27  \n",
              "\n",
              "[2500 rows x 9 columns]"
            ],
            "text/html": [
              "\n",
              "  <div id=\"df-b420d4ea-d889-4ee0-b7a1-1ad95a7c809d\">\n",
              "    <div class=\"colab-df-container\">\n",
              "      <div>\n",
              "<style scoped>\n",
              "    .dataframe tbody tr th:only-of-type {\n",
              "        vertical-align: middle;\n",
              "    }\n",
              "\n",
              "    .dataframe tbody tr th {\n",
              "        vertical-align: top;\n",
              "    }\n",
              "\n",
              "    .dataframe thead th {\n",
              "        text-align: right;\n",
              "    }\n",
              "</style>\n",
              "<table border=\"1\" class=\"dataframe\">\n",
              "  <thead>\n",
              "    <tr style=\"text-align: right;\">\n",
              "      <th></th>\n",
              "      <th>modload_count</th>\n",
              "      <th>process_path</th>\n",
              "      <th>sensor_criticality</th>\n",
              "      <th>alert_type</th>\n",
              "      <th>@timestamp</th>\n",
              "      <th>watchlist_id</th>\n",
              "      <th>tags</th>\n",
              "      <th>report_score</th>\n",
              "      <th>alert_severity</th>\n",
              "    </tr>\n",
              "  </thead>\n",
              "  <tbody>\n",
              "    <tr>\n",
              "      <th>0</th>\n",
              "      <td>2</td>\n",
              "      <td>c:\\windows\\syswow64\\macromed\\flash\\flashplayer...</td>\n",
              "      <td>3</td>\n",
              "      <td>watchlist.hit.ingress.process</td>\n",
              "      <td>2019-11-29T12:18:17.856Z</td>\n",
              "      <td>CVE-2016-4171</td>\n",
              "      <td>['carbonblack']</td>\n",
              "      <td>40</td>\n",
              "      <td>27</td>\n",
              "    </tr>\n",
              "    <tr>\n",
              "      <th>1</th>\n",
              "      <td>2</td>\n",
              "      <td>c:\\windows\\syswow64\\macromed\\flash\\flashplayer...</td>\n",
              "      <td>3</td>\n",
              "      <td>watchlist.hit.ingress.process</td>\n",
              "      <td>2019-11-29T12:18:17.856Z</td>\n",
              "      <td>CVE-2016-4181</td>\n",
              "      <td>['carbonblack']</td>\n",
              "      <td>40</td>\n",
              "      <td>27</td>\n",
              "    </tr>\n",
              "    <tr>\n",
              "      <th>2</th>\n",
              "      <td>2</td>\n",
              "      <td>c:\\windows\\syswow64\\macromed\\flash\\flashplayer...</td>\n",
              "      <td>3</td>\n",
              "      <td>watchlist.hit.ingress.process</td>\n",
              "      <td>2019-11-29T12:18:17.856Z</td>\n",
              "      <td>CVE-2016-4138</td>\n",
              "      <td>['carbonblack']</td>\n",
              "      <td>40</td>\n",
              "      <td>27</td>\n",
              "    </tr>\n",
              "    <tr>\n",
              "      <th>3</th>\n",
              "      <td>2</td>\n",
              "      <td>c:\\windows\\syswow64\\macromed\\flash\\flashplayer...</td>\n",
              "      <td>3</td>\n",
              "      <td>watchlist.hit.ingress.process</td>\n",
              "      <td>2019-11-29T12:18:17.856Z</td>\n",
              "      <td>CVE-2016-4128</td>\n",
              "      <td>['carbonblack']</td>\n",
              "      <td>40</td>\n",
              "      <td>27</td>\n",
              "    </tr>\n",
              "    <tr>\n",
              "      <th>4</th>\n",
              "      <td>2</td>\n",
              "      <td>c:\\windows\\syswow64\\macromed\\flash\\flashplayer...</td>\n",
              "      <td>3</td>\n",
              "      <td>watchlist.hit.ingress.process</td>\n",
              "      <td>2019-11-29T12:18:17.856Z</td>\n",
              "      <td>CVE-2016-4227</td>\n",
              "      <td>['carbonblack']</td>\n",
              "      <td>40</td>\n",
              "      <td>27</td>\n",
              "    </tr>\n",
              "    <tr>\n",
              "      <th>...</th>\n",
              "      <td>...</td>\n",
              "      <td>...</td>\n",
              "      <td>...</td>\n",
              "      <td>...</td>\n",
              "      <td>...</td>\n",
              "      <td>...</td>\n",
              "      <td>...</td>\n",
              "      <td>...</td>\n",
              "      <td>...</td>\n",
              "    </tr>\n",
              "    <tr>\n",
              "      <th>2495</th>\n",
              "      <td>1</td>\n",
              "      <td>c:\\windows\\syswow64\\macromed\\flash\\flashplayer...</td>\n",
              "      <td>3</td>\n",
              "      <td>watchlist.hit.ingress.process</td>\n",
              "      <td>2019-11-27T03:12:01.144Z</td>\n",
              "      <td>CVE-2016-0972</td>\n",
              "      <td>['carbonblack']</td>\n",
              "      <td>40</td>\n",
              "      <td>27</td>\n",
              "    </tr>\n",
              "    <tr>\n",
              "      <th>2496</th>\n",
              "      <td>1</td>\n",
              "      <td>c:\\windows\\syswow64\\macromed\\flash\\flashplayer...</td>\n",
              "      <td>3</td>\n",
              "      <td>watchlist.hit.ingress.process</td>\n",
              "      <td>2019-11-27T03:12:01.144Z</td>\n",
              "      <td>CVE-2016-0995</td>\n",
              "      <td>['carbonblack']</td>\n",
              "      <td>40</td>\n",
              "      <td>27</td>\n",
              "    </tr>\n",
              "    <tr>\n",
              "      <th>2497</th>\n",
              "      <td>45</td>\n",
              "      <td>c:\\program files\\malwarebytes\\anti-malware\\mba...</td>\n",
              "      <td>3</td>\n",
              "      <td>watchlist.hit.ingress.process</td>\n",
              "      <td>2019-11-27T03:12:01.143Z</td>\n",
              "      <td>41c6ada7-e38a-420b-9767-4d7f3bee947a</td>\n",
              "      <td>['carbonblack']</td>\n",
              "      <td>80</td>\n",
              "      <td>54</td>\n",
              "    </tr>\n",
              "    <tr>\n",
              "      <th>2498</th>\n",
              "      <td>1</td>\n",
              "      <td>c:\\windows\\syswow64\\macromed\\flash\\flashplayer...</td>\n",
              "      <td>3</td>\n",
              "      <td>watchlist.hit.ingress.process</td>\n",
              "      <td>2019-11-27T03:12:01.143Z</td>\n",
              "      <td>CVE-2016-1031</td>\n",
              "      <td>['carbonblack']</td>\n",
              "      <td>40</td>\n",
              "      <td>27</td>\n",
              "    </tr>\n",
              "    <tr>\n",
              "      <th>2499</th>\n",
              "      <td>1</td>\n",
              "      <td>c:\\windows\\syswow64\\macromed\\flash\\flashplayer...</td>\n",
              "      <td>3</td>\n",
              "      <td>watchlist.hit.ingress.process</td>\n",
              "      <td>2019-11-27T03:12:01.143Z</td>\n",
              "      <td>CVE-2016-4284</td>\n",
              "      <td>['carbonblack']</td>\n",
              "      <td>40</td>\n",
              "      <td>27</td>\n",
              "    </tr>\n",
              "  </tbody>\n",
              "</table>\n",
              "<p>2500 rows × 9 columns</p>\n",
              "</div>\n",
              "      <button class=\"colab-df-convert\" onclick=\"convertToInteractive('df-b420d4ea-d889-4ee0-b7a1-1ad95a7c809d')\"\n",
              "              title=\"Convert this dataframe to an interactive table.\"\n",
              "              style=\"display:none;\">\n",
              "        \n",
              "  <svg xmlns=\"http://www.w3.org/2000/svg\" height=\"24px\"viewBox=\"0 0 24 24\"\n",
              "       width=\"24px\">\n",
              "    <path d=\"M0 0h24v24H0V0z\" fill=\"none\"/>\n",
              "    <path d=\"M18.56 5.44l.94 2.06.94-2.06 2.06-.94-2.06-.94-.94-2.06-.94 2.06-2.06.94zm-11 1L8.5 8.5l.94-2.06 2.06-.94-2.06-.94L8.5 2.5l-.94 2.06-2.06.94zm10 10l.94 2.06.94-2.06 2.06-.94-2.06-.94-.94-2.06-.94 2.06-2.06.94z\"/><path d=\"M17.41 7.96l-1.37-1.37c-.4-.4-.92-.59-1.43-.59-.52 0-1.04.2-1.43.59L10.3 9.45l-7.72 7.72c-.78.78-.78 2.05 0 2.83L4 21.41c.39.39.9.59 1.41.59.51 0 1.02-.2 1.41-.59l7.78-7.78 2.81-2.81c.8-.78.8-2.07 0-2.86zM5.41 20L4 18.59l7.72-7.72 1.47 1.35L5.41 20z\"/>\n",
              "  </svg>\n",
              "      </button>\n",
              "      \n",
              "  <style>\n",
              "    .colab-df-container {\n",
              "      display:flex;\n",
              "      flex-wrap:wrap;\n",
              "      gap: 12px;\n",
              "    }\n",
              "\n",
              "    .colab-df-convert {\n",
              "      background-color: #E8F0FE;\n",
              "      border: none;\n",
              "      border-radius: 50%;\n",
              "      cursor: pointer;\n",
              "      display: none;\n",
              "      fill: #1967D2;\n",
              "      height: 32px;\n",
              "      padding: 0 0 0 0;\n",
              "      width: 32px;\n",
              "    }\n",
              "\n",
              "    .colab-df-convert:hover {\n",
              "      background-color: #E2EBFA;\n",
              "      box-shadow: 0px 1px 2px rgba(60, 64, 67, 0.3), 0px 1px 3px 1px rgba(60, 64, 67, 0.15);\n",
              "      fill: #174EA6;\n",
              "    }\n",
              "\n",
              "    [theme=dark] .colab-df-convert {\n",
              "      background-color: #3B4455;\n",
              "      fill: #D2E3FC;\n",
              "    }\n",
              "\n",
              "    [theme=dark] .colab-df-convert:hover {\n",
              "      background-color: #434B5C;\n",
              "      box-shadow: 0px 1px 3px 1px rgba(0, 0, 0, 0.15);\n",
              "      filter: drop-shadow(0px 1px 2px rgba(0, 0, 0, 0.3));\n",
              "      fill: #FFFFFF;\n",
              "    }\n",
              "  </style>\n",
              "\n",
              "      <script>\n",
              "        const buttonEl =\n",
              "          document.querySelector('#df-b420d4ea-d889-4ee0-b7a1-1ad95a7c809d button.colab-df-convert');\n",
              "        buttonEl.style.display =\n",
              "          google.colab.kernel.accessAllowed ? 'block' : 'none';\n",
              "\n",
              "        async function convertToInteractive(key) {\n",
              "          const element = document.querySelector('#df-b420d4ea-d889-4ee0-b7a1-1ad95a7c809d');\n",
              "          const dataTable =\n",
              "            await google.colab.kernel.invokeFunction('convertToInteractive',\n",
              "                                                     [key], {});\n",
              "          if (!dataTable) return;\n",
              "\n",
              "          const docLinkHtml = 'Like what you see? Visit the ' +\n",
              "            '<a target=\"_blank\" href=https://colab.research.google.com/notebooks/data_table.ipynb>data table notebook</a>'\n",
              "            + ' to learn more about interactive tables.';\n",
              "          element.innerHTML = '';\n",
              "          dataTable['output_type'] = 'display_data';\n",
              "          await google.colab.output.renderOutput(dataTable, element);\n",
              "          const docLink = document.createElement('div');\n",
              "          docLink.innerHTML = docLinkHtml;\n",
              "          element.appendChild(docLink);\n",
              "        }\n",
              "      </script>\n",
              "    </div>\n",
              "  </div>\n",
              "  "
            ]
          },
          "metadata": {},
          "execution_count": 35
        }
      ]
    },
    {
      "cell_type": "code",
      "source": [
        "new_dataset.dtypes"
      ],
      "metadata": {
        "colab": {
          "base_uri": "https://localhost:8080/"
        },
        "id": "wmw-aIK5FUgm",
        "outputId": "e6f9bb79-b3ff-416e-8e37-9d4535bd52bc"
      },
      "execution_count": null,
      "outputs": [
        {
          "output_type": "execute_result",
          "data": {
            "text/plain": [
              "modload_count          int64\n",
              "process_path          object\n",
              "sensor_criticality    object\n",
              "alert_type            object\n",
              "@timestamp            object\n",
              "watchlist_id          object\n",
              "tags                  object\n",
              "report_score          object\n",
              "alert_severity        object\n",
              "dtype: object"
            ]
          },
          "metadata": {},
          "execution_count": 10
        }
      ]
    },
    {
      "cell_type": "code",
      "source": [
        "\n",
        "from sklearn.preprocessing  import LabelEncoder\n",
        "from sklearn.preprocessing import OneHotEncoder\n",
        "label_encoder=LabelEncoder()\n",
        "new_dataset['process_path']=label_encoder.fit_transform(new_dataset['process_path'].astype(str))\n",
        "new_dataset['sensor_criticality']=label_encoder.fit_transform(new_dataset['sensor_criticality'].astype(str))\n",
        "new_dataset['alert_type']=label_encoder.fit_transform(new_dataset['alert_type'].astype(str))\n",
        "new_dataset['@timestamp']=label_encoder.fit_transform(new_dataset['@timestamp'].astype(str))\n",
        "new_dataset['watchlist_id']=label_encoder.fit_transform(new_dataset['watchlist_id'].astype(str))\n",
        "new_dataset['tags']=label_encoder.fit_transform(new_dataset['tags'].astype(str))\n",
        "new_dataset['report_score']=label_encoder.fit_transform(new_dataset['report_score'].astype(str))\n",
        "new_dataset['alert_severity']=label_encoder.fit_transform(new_dataset['alert_severity'].astype(str))\n"
      ],
      "metadata": {
        "colab": {
          "base_uri": "https://localhost:8080/",
          "height": 235
        },
        "id": "VOsyV1bWU-ja",
        "outputId": "5652eb59-f414-4d2c-c4f6-4d684d35ede6"
      },
      "execution_count": null,
      "outputs": [
        {
          "output_type": "error",
          "ename": "NameError",
          "evalue": "ignored",
          "traceback": [
            "\u001b[0;31m---------------------------------------------------------------------------\u001b[0m",
            "\u001b[0;31mNameError\u001b[0m                                 Traceback (most recent call last)",
            "\u001b[0;32m<ipython-input-2-9f0546111f65>\u001b[0m in \u001b[0;36m<module>\u001b[0;34m\u001b[0m\n\u001b[1;32m      2\u001b[0m \u001b[0;32mfrom\u001b[0m \u001b[0msklearn\u001b[0m\u001b[0;34m.\u001b[0m\u001b[0mpreprocessing\u001b[0m \u001b[0;32mimport\u001b[0m \u001b[0mOneHotEncoder\u001b[0m\u001b[0;34m\u001b[0m\u001b[0;34m\u001b[0m\u001b[0m\n\u001b[1;32m      3\u001b[0m \u001b[0mlabel_encoder\u001b[0m\u001b[0;34m=\u001b[0m\u001b[0mLabelEncoder\u001b[0m\u001b[0;34m(\u001b[0m\u001b[0;34m)\u001b[0m\u001b[0;34m\u001b[0m\u001b[0;34m\u001b[0m\u001b[0m\n\u001b[0;32m----> 4\u001b[0;31m \u001b[0mnew_dataset\u001b[0m\u001b[0;34m[\u001b[0m\u001b[0;34m'process_path'\u001b[0m\u001b[0;34m]\u001b[0m\u001b[0;34m=\u001b[0m\u001b[0mlabel_encoder\u001b[0m\u001b[0;34m.\u001b[0m\u001b[0mfit_transform\u001b[0m\u001b[0;34m(\u001b[0m\u001b[0mnew_dataset\u001b[0m\u001b[0;34m[\u001b[0m\u001b[0;34m'process_path'\u001b[0m\u001b[0;34m]\u001b[0m\u001b[0;34m.\u001b[0m\u001b[0mastype\u001b[0m\u001b[0;34m(\u001b[0m\u001b[0mstr\u001b[0m\u001b[0;34m)\u001b[0m\u001b[0;34m)\u001b[0m\u001b[0;34m\u001b[0m\u001b[0;34m\u001b[0m\u001b[0m\n\u001b[0m\u001b[1;32m      5\u001b[0m \u001b[0mnew_dataset\u001b[0m\u001b[0;34m[\u001b[0m\u001b[0;34m'sensor_criticality'\u001b[0m\u001b[0;34m]\u001b[0m\u001b[0;34m=\u001b[0m\u001b[0mlabel_encoder\u001b[0m\u001b[0;34m.\u001b[0m\u001b[0mfit_transform\u001b[0m\u001b[0;34m(\u001b[0m\u001b[0mnew_dataset\u001b[0m\u001b[0;34m[\u001b[0m\u001b[0;34m'sensor_criticality'\u001b[0m\u001b[0;34m]\u001b[0m\u001b[0;34m.\u001b[0m\u001b[0mastype\u001b[0m\u001b[0;34m(\u001b[0m\u001b[0mstr\u001b[0m\u001b[0;34m)\u001b[0m\u001b[0;34m)\u001b[0m\u001b[0;34m\u001b[0m\u001b[0;34m\u001b[0m\u001b[0m\n\u001b[1;32m      6\u001b[0m \u001b[0mnew_dataset\u001b[0m\u001b[0;34m[\u001b[0m\u001b[0;34m'alert_type'\u001b[0m\u001b[0;34m]\u001b[0m\u001b[0;34m=\u001b[0m\u001b[0mlabel_encoder\u001b[0m\u001b[0;34m.\u001b[0m\u001b[0mfit_transform\u001b[0m\u001b[0;34m(\u001b[0m\u001b[0mnew_dataset\u001b[0m\u001b[0;34m[\u001b[0m\u001b[0;34m'alert_type'\u001b[0m\u001b[0;34m]\u001b[0m\u001b[0;34m.\u001b[0m\u001b[0mastype\u001b[0m\u001b[0;34m(\u001b[0m\u001b[0mstr\u001b[0m\u001b[0;34m)\u001b[0m\u001b[0;34m)\u001b[0m\u001b[0;34m\u001b[0m\u001b[0;34m\u001b[0m\u001b[0m\n",
            "\u001b[0;31mNameError\u001b[0m: name 'new_dataset' is not defined"
          ]
        }
      ]
    },
    {
      "cell_type": "code",
      "source": [],
      "metadata": {
        "id": "27aDr0YccrTk"
      },
      "execution_count": null,
      "outputs": []
    },
    {
      "cell_type": "code",
      "source": [
        "new_dataset.dtypes"
      ],
      "metadata": {
        "colab": {
          "base_uri": "https://localhost:8080/"
        },
        "id": "G60z1IRLXBQn",
        "outputId": "d68a2d81-f743-497a-e439-b3ce1351211e"
      },
      "execution_count": null,
      "outputs": [
        {
          "output_type": "execute_result",
          "data": {
            "text/plain": [
              "modload_count         int64\n",
              "process_path          int64\n",
              "sensor_criticality    int64\n",
              "alert_type            int64\n",
              "@timestamp            int64\n",
              "watchlist_id          int64\n",
              "tags                  int64\n",
              "report_score          int64\n",
              "alert_severity        int64\n",
              "dtype: object"
            ]
          },
          "metadata": {},
          "execution_count": 13
        }
      ]
    },
    {
      "cell_type": "code",
      "source": [
        "new_dataset.loc[(new_dataset['alert_severity'] >=10) & (new_dataset['alert_severity'] < 30), 'class'] = \"LowRisk\" "
      ],
      "metadata": {
        "colab": {
          "base_uri": "https://localhost:8080/"
        },
        "id": "uyv8M1cAXNmw",
        "outputId": "53895330-a022-4ddc-ed44-c2b210c7bc1b"
      },
      "execution_count": null,
      "outputs": [
        {
          "output_type": "stream",
          "name": "stderr",
          "text": [
            "/usr/local/lib/python3.7/dist-packages/pandas/core/indexing.py:1684: SettingWithCopyWarning: \n",
            "A value is trying to be set on a copy of a slice from a DataFrame.\n",
            "Try using .loc[row_indexer,col_indexer] = value instead\n",
            "\n",
            "See the caveats in the documentation: https://pandas.pydata.org/pandas-docs/stable/user_guide/indexing.html#returning-a-view-versus-a-copy\n",
            "  self.obj[key] = infer_fill_value(value)\n",
            "/usr/local/lib/python3.7/dist-packages/pandas/core/indexing.py:1817: SettingWithCopyWarning: \n",
            "A value is trying to be set on a copy of a slice from a DataFrame.\n",
            "Try using .loc[row_indexer,col_indexer] = value instead\n",
            "\n",
            "See the caveats in the documentation: https://pandas.pydata.org/pandas-docs/stable/user_guide/indexing.html#returning-a-view-versus-a-copy\n",
            "  self._setitem_single_column(loc, value, pi)\n"
          ]
        }
      ]
    },
    {
      "cell_type": "code",
      "source": [
        "new_dataset.loc[(new_dataset['alert_severity'] >=30) & (new_dataset['alert_severity'] < 55), 'class'] = \"MediumRisk\" "
      ],
      "metadata": {
        "colab": {
          "base_uri": "https://localhost:8080/"
        },
        "id": "ycrCVvjBXen2",
        "outputId": "513f6cf7-131e-4c00-bb30-00def81a9ff2"
      },
      "execution_count": null,
      "outputs": [
        {
          "output_type": "stream",
          "name": "stderr",
          "text": [
            "/usr/local/lib/python3.7/dist-packages/pandas/core/indexing.py:1817: SettingWithCopyWarning: \n",
            "A value is trying to be set on a copy of a slice from a DataFrame.\n",
            "Try using .loc[row_indexer,col_indexer] = value instead\n",
            "\n",
            "See the caveats in the documentation: https://pandas.pydata.org/pandas-docs/stable/user_guide/indexing.html#returning-a-view-versus-a-copy\n",
            "  self._setitem_single_column(loc, value, pi)\n"
          ]
        }
      ]
    },
    {
      "cell_type": "code",
      "source": [
        "new_dataset.loc[(new_dataset['alert_severity'] >=55) & (new_dataset['alert_severity'] < 75), 'class'] = \"AverageRisk\" "
      ],
      "metadata": {
        "colab": {
          "base_uri": "https://localhost:8080/"
        },
        "id": "S63pITeSXuWe",
        "outputId": "7e54df9f-b1ab-44d1-e851-bd0196f112d5"
      },
      "execution_count": null,
      "outputs": [
        {
          "output_type": "stream",
          "name": "stderr",
          "text": [
            "/usr/local/lib/python3.7/dist-packages/pandas/core/indexing.py:1817: SettingWithCopyWarning: \n",
            "A value is trying to be set on a copy of a slice from a DataFrame.\n",
            "Try using .loc[row_indexer,col_indexer] = value instead\n",
            "\n",
            "See the caveats in the documentation: https://pandas.pydata.org/pandas-docs/stable/user_guide/indexing.html#returning-a-view-versus-a-copy\n",
            "  self._setitem_single_column(loc, value, pi)\n"
          ]
        }
      ]
    },
    {
      "cell_type": "code",
      "source": [
        "new_dataset.loc[(new_dataset['alert_severity'] >=75) & (new_dataset['alert_severity'] < 100), 'class'] = \"HighRisk\" "
      ],
      "metadata": {
        "id": "ERDA441RXxTx"
      },
      "execution_count": null,
      "outputs": []
    },
    {
      "cell_type": "code",
      "source": [
        "new_dataset"
      ],
      "metadata": {
        "colab": {
          "base_uri": "https://localhost:8080/",
          "height": 488
        },
        "id": "8BP33d0TYBi2",
        "outputId": "63c3b030-8ab7-40e8-ea9b-997b46241cb6"
      },
      "execution_count": null,
      "outputs": [
        {
          "output_type": "execute_result",
          "data": {
            "text/plain": [
              "      modload_count  process_path  sensor_criticality  alert_type  @timestamp  \\\n",
              "0                 2            27                  62           1         398   \n",
              "1                 2            27                  62           1         398   \n",
              "2                 2            27                  62           1         398   \n",
              "3                 2            27                  62           1         398   \n",
              "4                 2            27                  62           1         398   \n",
              "...             ...           ...                 ...         ...         ...   \n",
              "2495              1            27                  62           1           1   \n",
              "2496              1            27                  62           1           1   \n",
              "2497             45             7                  62           1           0   \n",
              "2498              1            27                  62           1           0   \n",
              "2499              1            27                  62           1           0   \n",
              "\n",
              "      watchlist_id  tags  report_score  alert_severity class  \n",
              "0               87    77            20               4   NaN  \n",
              "1               89    77            20               4   NaN  \n",
              "2               84    77            20               4   NaN  \n",
              "3               83    77            20               4   NaN  \n",
              "4               92    77            20               4   NaN  \n",
              "...            ...   ...           ...             ...   ...  \n",
              "2495            72    77            20               4   NaN  \n",
              "2496            74    77            20               4   NaN  \n",
              "2497            17    77            26               9   NaN  \n",
              "2498            81    77            20               4   NaN  \n",
              "2499            96    77            20               4   NaN  \n",
              "\n",
              "[2500 rows x 10 columns]"
            ],
            "text/html": [
              "\n",
              "  <div id=\"df-720e3157-abc8-41fe-8a52-fb90c864d53a\">\n",
              "    <div class=\"colab-df-container\">\n",
              "      <div>\n",
              "<style scoped>\n",
              "    .dataframe tbody tr th:only-of-type {\n",
              "        vertical-align: middle;\n",
              "    }\n",
              "\n",
              "    .dataframe tbody tr th {\n",
              "        vertical-align: top;\n",
              "    }\n",
              "\n",
              "    .dataframe thead th {\n",
              "        text-align: right;\n",
              "    }\n",
              "</style>\n",
              "<table border=\"1\" class=\"dataframe\">\n",
              "  <thead>\n",
              "    <tr style=\"text-align: right;\">\n",
              "      <th></th>\n",
              "      <th>modload_count</th>\n",
              "      <th>process_path</th>\n",
              "      <th>sensor_criticality</th>\n",
              "      <th>alert_type</th>\n",
              "      <th>@timestamp</th>\n",
              "      <th>watchlist_id</th>\n",
              "      <th>tags</th>\n",
              "      <th>report_score</th>\n",
              "      <th>alert_severity</th>\n",
              "      <th>class</th>\n",
              "    </tr>\n",
              "  </thead>\n",
              "  <tbody>\n",
              "    <tr>\n",
              "      <th>0</th>\n",
              "      <td>2</td>\n",
              "      <td>27</td>\n",
              "      <td>62</td>\n",
              "      <td>1</td>\n",
              "      <td>398</td>\n",
              "      <td>87</td>\n",
              "      <td>77</td>\n",
              "      <td>20</td>\n",
              "      <td>4</td>\n",
              "      <td>NaN</td>\n",
              "    </tr>\n",
              "    <tr>\n",
              "      <th>1</th>\n",
              "      <td>2</td>\n",
              "      <td>27</td>\n",
              "      <td>62</td>\n",
              "      <td>1</td>\n",
              "      <td>398</td>\n",
              "      <td>89</td>\n",
              "      <td>77</td>\n",
              "      <td>20</td>\n",
              "      <td>4</td>\n",
              "      <td>NaN</td>\n",
              "    </tr>\n",
              "    <tr>\n",
              "      <th>2</th>\n",
              "      <td>2</td>\n",
              "      <td>27</td>\n",
              "      <td>62</td>\n",
              "      <td>1</td>\n",
              "      <td>398</td>\n",
              "      <td>84</td>\n",
              "      <td>77</td>\n",
              "      <td>20</td>\n",
              "      <td>4</td>\n",
              "      <td>NaN</td>\n",
              "    </tr>\n",
              "    <tr>\n",
              "      <th>3</th>\n",
              "      <td>2</td>\n",
              "      <td>27</td>\n",
              "      <td>62</td>\n",
              "      <td>1</td>\n",
              "      <td>398</td>\n",
              "      <td>83</td>\n",
              "      <td>77</td>\n",
              "      <td>20</td>\n",
              "      <td>4</td>\n",
              "      <td>NaN</td>\n",
              "    </tr>\n",
              "    <tr>\n",
              "      <th>4</th>\n",
              "      <td>2</td>\n",
              "      <td>27</td>\n",
              "      <td>62</td>\n",
              "      <td>1</td>\n",
              "      <td>398</td>\n",
              "      <td>92</td>\n",
              "      <td>77</td>\n",
              "      <td>20</td>\n",
              "      <td>4</td>\n",
              "      <td>NaN</td>\n",
              "    </tr>\n",
              "    <tr>\n",
              "      <th>...</th>\n",
              "      <td>...</td>\n",
              "      <td>...</td>\n",
              "      <td>...</td>\n",
              "      <td>...</td>\n",
              "      <td>...</td>\n",
              "      <td>...</td>\n",
              "      <td>...</td>\n",
              "      <td>...</td>\n",
              "      <td>...</td>\n",
              "      <td>...</td>\n",
              "    </tr>\n",
              "    <tr>\n",
              "      <th>2495</th>\n",
              "      <td>1</td>\n",
              "      <td>27</td>\n",
              "      <td>62</td>\n",
              "      <td>1</td>\n",
              "      <td>1</td>\n",
              "      <td>72</td>\n",
              "      <td>77</td>\n",
              "      <td>20</td>\n",
              "      <td>4</td>\n",
              "      <td>NaN</td>\n",
              "    </tr>\n",
              "    <tr>\n",
              "      <th>2496</th>\n",
              "      <td>1</td>\n",
              "      <td>27</td>\n",
              "      <td>62</td>\n",
              "      <td>1</td>\n",
              "      <td>1</td>\n",
              "      <td>74</td>\n",
              "      <td>77</td>\n",
              "      <td>20</td>\n",
              "      <td>4</td>\n",
              "      <td>NaN</td>\n",
              "    </tr>\n",
              "    <tr>\n",
              "      <th>2497</th>\n",
              "      <td>45</td>\n",
              "      <td>7</td>\n",
              "      <td>62</td>\n",
              "      <td>1</td>\n",
              "      <td>0</td>\n",
              "      <td>17</td>\n",
              "      <td>77</td>\n",
              "      <td>26</td>\n",
              "      <td>9</td>\n",
              "      <td>NaN</td>\n",
              "    </tr>\n",
              "    <tr>\n",
              "      <th>2498</th>\n",
              "      <td>1</td>\n",
              "      <td>27</td>\n",
              "      <td>62</td>\n",
              "      <td>1</td>\n",
              "      <td>0</td>\n",
              "      <td>81</td>\n",
              "      <td>77</td>\n",
              "      <td>20</td>\n",
              "      <td>4</td>\n",
              "      <td>NaN</td>\n",
              "    </tr>\n",
              "    <tr>\n",
              "      <th>2499</th>\n",
              "      <td>1</td>\n",
              "      <td>27</td>\n",
              "      <td>62</td>\n",
              "      <td>1</td>\n",
              "      <td>0</td>\n",
              "      <td>96</td>\n",
              "      <td>77</td>\n",
              "      <td>20</td>\n",
              "      <td>4</td>\n",
              "      <td>NaN</td>\n",
              "    </tr>\n",
              "  </tbody>\n",
              "</table>\n",
              "<p>2500 rows × 10 columns</p>\n",
              "</div>\n",
              "      <button class=\"colab-df-convert\" onclick=\"convertToInteractive('df-720e3157-abc8-41fe-8a52-fb90c864d53a')\"\n",
              "              title=\"Convert this dataframe to an interactive table.\"\n",
              "              style=\"display:none;\">\n",
              "        \n",
              "  <svg xmlns=\"http://www.w3.org/2000/svg\" height=\"24px\"viewBox=\"0 0 24 24\"\n",
              "       width=\"24px\">\n",
              "    <path d=\"M0 0h24v24H0V0z\" fill=\"none\"/>\n",
              "    <path d=\"M18.56 5.44l.94 2.06.94-2.06 2.06-.94-2.06-.94-.94-2.06-.94 2.06-2.06.94zm-11 1L8.5 8.5l.94-2.06 2.06-.94-2.06-.94L8.5 2.5l-.94 2.06-2.06.94zm10 10l.94 2.06.94-2.06 2.06-.94-2.06-.94-.94-2.06-.94 2.06-2.06.94z\"/><path d=\"M17.41 7.96l-1.37-1.37c-.4-.4-.92-.59-1.43-.59-.52 0-1.04.2-1.43.59L10.3 9.45l-7.72 7.72c-.78.78-.78 2.05 0 2.83L4 21.41c.39.39.9.59 1.41.59.51 0 1.02-.2 1.41-.59l7.78-7.78 2.81-2.81c.8-.78.8-2.07 0-2.86zM5.41 20L4 18.59l7.72-7.72 1.47 1.35L5.41 20z\"/>\n",
              "  </svg>\n",
              "      </button>\n",
              "      \n",
              "  <style>\n",
              "    .colab-df-container {\n",
              "      display:flex;\n",
              "      flex-wrap:wrap;\n",
              "      gap: 12px;\n",
              "    }\n",
              "\n",
              "    .colab-df-convert {\n",
              "      background-color: #E8F0FE;\n",
              "      border: none;\n",
              "      border-radius: 50%;\n",
              "      cursor: pointer;\n",
              "      display: none;\n",
              "      fill: #1967D2;\n",
              "      height: 32px;\n",
              "      padding: 0 0 0 0;\n",
              "      width: 32px;\n",
              "    }\n",
              "\n",
              "    .colab-df-convert:hover {\n",
              "      background-color: #E2EBFA;\n",
              "      box-shadow: 0px 1px 2px rgba(60, 64, 67, 0.3), 0px 1px 3px 1px rgba(60, 64, 67, 0.15);\n",
              "      fill: #174EA6;\n",
              "    }\n",
              "\n",
              "    [theme=dark] .colab-df-convert {\n",
              "      background-color: #3B4455;\n",
              "      fill: #D2E3FC;\n",
              "    }\n",
              "\n",
              "    [theme=dark] .colab-df-convert:hover {\n",
              "      background-color: #434B5C;\n",
              "      box-shadow: 0px 1px 3px 1px rgba(0, 0, 0, 0.15);\n",
              "      filter: drop-shadow(0px 1px 2px rgba(0, 0, 0, 0.3));\n",
              "      fill: #FFFFFF;\n",
              "    }\n",
              "  </style>\n",
              "\n",
              "      <script>\n",
              "        const buttonEl =\n",
              "          document.querySelector('#df-720e3157-abc8-41fe-8a52-fb90c864d53a button.colab-df-convert');\n",
              "        buttonEl.style.display =\n",
              "          google.colab.kernel.accessAllowed ? 'block' : 'none';\n",
              "\n",
              "        async function convertToInteractive(key) {\n",
              "          const element = document.querySelector('#df-720e3157-abc8-41fe-8a52-fb90c864d53a');\n",
              "          const dataTable =\n",
              "            await google.colab.kernel.invokeFunction('convertToInteractive',\n",
              "                                                     [key], {});\n",
              "          if (!dataTable) return;\n",
              "\n",
              "          const docLinkHtml = 'Like what you see? Visit the ' +\n",
              "            '<a target=\"_blank\" href=https://colab.research.google.com/notebooks/data_table.ipynb>data table notebook</a>'\n",
              "            + ' to learn more about interactive tables.';\n",
              "          element.innerHTML = '';\n",
              "          dataTable['output_type'] = 'display_data';\n",
              "          await google.colab.output.renderOutput(dataTable, element);\n",
              "          const docLink = document.createElement('div');\n",
              "          docLink.innerHTML = docLinkHtml;\n",
              "          element.appendChild(docLink);\n",
              "        }\n",
              "      </script>\n",
              "    </div>\n",
              "  </div>\n",
              "  "
            ]
          },
          "metadata": {},
          "execution_count": 20
        }
      ]
    },
    {
      "cell_type": "code",
      "source": [
        "new_dataset['class']=label_encoder.fit_transform(new_dataset['class'].astype(str))"
      ],
      "metadata": {
        "colab": {
          "base_uri": "https://localhost:8080/",
          "height": 165
        },
        "id": "4o1f4XwSctYA",
        "outputId": "3eb0643d-9535-420f-f43c-8c9e8fc8034a"
      },
      "execution_count": null,
      "outputs": [
        {
          "output_type": "error",
          "ename": "NameError",
          "evalue": "ignored",
          "traceback": [
            "\u001b[0;31m---------------------------------------------------------------------------\u001b[0m",
            "\u001b[0;31mNameError\u001b[0m                                 Traceback (most recent call last)",
            "\u001b[0;32m<ipython-input-1-18b600a2139e>\u001b[0m in \u001b[0;36m<module>\u001b[0;34m\u001b[0m\n\u001b[0;32m----> 1\u001b[0;31m \u001b[0mnew_dataset\u001b[0m\u001b[0;34m[\u001b[0m\u001b[0;34m'class'\u001b[0m\u001b[0;34m]\u001b[0m\u001b[0;34m=\u001b[0m\u001b[0mlabel_encoder\u001b[0m\u001b[0;34m.\u001b[0m\u001b[0mfit_transform\u001b[0m\u001b[0;34m(\u001b[0m\u001b[0mnew_dataset\u001b[0m\u001b[0;34m[\u001b[0m\u001b[0;34m'class'\u001b[0m\u001b[0;34m]\u001b[0m\u001b[0;34m.\u001b[0m\u001b[0mastype\u001b[0m\u001b[0;34m(\u001b[0m\u001b[0mstr\u001b[0m\u001b[0;34m)\u001b[0m\u001b[0;34m)\u001b[0m\u001b[0;34m\u001b[0m\u001b[0;34m\u001b[0m\u001b[0m\n\u001b[0m",
            "\u001b[0;31mNameError\u001b[0m: name 'label_encoder' is not defined"
          ]
        }
      ]
    },
    {
      "cell_type": "code",
      "source": [
        "import matplotlib.pyplot as plt\n",
        "new_dataset.hist(bins=50,figsize=(20,15),color='r')\n",
        "plt.show()"
      ],
      "metadata": {
        "colab": {
          "base_uri": "https://localhost:8080/",
          "height": 879
        },
        "id": "p_I_56I2gx36",
        "outputId": "8b9f9c84-f556-424b-f37d-3a0264fecc8b"
      },
      "execution_count": null,
      "outputs": [
        {
          "output_type": "display_data",
          "data": {
            "text/plain": [
              "<Figure size 1440x1080 with 1 Axes>"
            ],
            "image/png": "[encoded data removed]"
          },
          "metadata": {
            "needs_background": "light"
          }
        }
      ]
    },
    {
      "cell_type": "code",
      "source": [],
      "metadata": {
        "id": "9pd1zPH5XLpe"
      },
      "execution_count": null,
      "outputs": []
    },
    {
      "cell_type": "code",
      "source": [
        "from sklearn.model_selection import train_test_split\n",
        "x=new_dataset.iloc[:,:-1].values\n",
        "y=new_dataset.iloc[:,1].values\n",
        "x_train,x_test,y_train,y_test=train_test_split(x,y,test_size=0.2,random_state=0)\n",
        "#X_train, X_test, y_train, y_test = train_test_split(X, y, test_size=0.2, random_state=42)\n",
        "print(x_train)\n",
        "print(x_test)"
      ],
      "metadata": {
        "colab": {
          "base_uri": "https://localhost:8080/"
        },
        "id": "ZRdTplRnhldA",
        "outputId": "f4ff1609-b59c-46c6-a75b-964bdfdf599d"
      },
      "execution_count": null,
      "outputs": [
        {
          "output_type": "stream",
          "name": "stdout",
          "text": [
            "[[2\n",
            "  'c:\\\\windows\\\\syswow64\\\\macromed\\\\flash\\\\flashplayerupdateservice.exe'\n",
            "  '3' ... 'CVE-2016-0995' \"['carbonblack']\" '40']\n",
            " [1\n",
            "  'c:\\\\windows\\\\syswow64\\\\macromed\\\\flash\\\\flashplayerupdateservice.exe'\n",
            "  '3' ... 'CVE-2016-4181' \"['carbonblack']\" '40']\n",
            " [2\n",
            "  'c:\\\\windows\\\\syswow64\\\\macromed\\\\flash\\\\flashplayerupdateservice.exe'\n",
            "  '3' ... 'CVE-2016-4227' \"['carbonblack']\" '40']\n",
            " ...\n",
            " [2\n",
            "  'c:\\\\windows\\\\syswow64\\\\macromed\\\\flash\\\\flashplayerupdateservice.exe'\n",
            "  '3' ... 'CVE-2016-4171' \"['carbonblack']\" '40']\n",
            " [2\n",
            "  'c:\\\\windows\\\\syswow64\\\\macromed\\\\flash\\\\flashplayerupdateservice.exe'\n",
            "  '3' ... 'CVE-2016-4138' \"['carbonblack']\" '40']\n",
            " [2\n",
            "  'c:\\\\windows\\\\syswow64\\\\macromed\\\\flash\\\\flashplayerupdateservice.exe'\n",
            "  '3' ... 'CVE-2016-4174' \"['carbonblack']\" '40']]\n",
            "[[2\n",
            "  'c:\\\\windows\\\\syswow64\\\\macromed\\\\flash\\\\flashplayerupdateservice.exe'\n",
            "  '3' ... 'CVE-2016-4115' \"['carbonblack']\" '28']\n",
            " [2\n",
            "  'c:\\\\windows\\\\syswow64\\\\macromed\\\\flash\\\\flashplayerupdateservice.exe'\n",
            "  '3' ... 'CVE-2015-7654' \"['carbonblack']\" '36']\n",
            " [1\n",
            "  'c:\\\\windows\\\\syswow64\\\\macromed\\\\flash\\\\flashplayerupdateservice.exe'\n",
            "  '3' ... 'CVE-2015-8434' \"['carbonblack']\" '40']\n",
            " ...\n",
            " [2\n",
            "  'c:\\\\windows\\\\syswow64\\\\macromed\\\\flash\\\\flashplayerupdateservice.exe'\n",
            "  '3' ... 'CVE-2016-4166' \"['carbonblack']\" '40']\n",
            " [17\n",
            "  'c:\\\\windows\\\\syswow64\\\\macromed\\\\flash\\\\flashplayerupdateservice.exe'\n",
            "  '3' ... 'CVE-2016-4220' \"['carbonblack']\" '40']\n",
            " [2\n",
            "  'c:\\\\windows\\\\syswow64\\\\macromed\\\\flash\\\\flashplayerupdateservice.exe'\n",
            "  '3' ... 'CVE-2016-0995' \"['carbonblack']\" '40']]\n"
          ]
        }
      ]
    },
    {
      "cell_type": "code",
      "source": [
        "from sklearn import preprocessing\n",
        "#from sklearn.preprocessing import standardScaler\n",
        "from sklearn.preprocessing import StandardScaler\n",
        "sc=StandardScaler()\n",
        "sc.fit(new_dataset)\n",
        "X_std=sc.transform(new_dataset)\n",
        "\n",
        "#applying the Kmeans \n",
        "\n",
        "kmeans = KMeans(n_clusters=2, random_state=0).fit(X_std)\n",
        "kmeans.labels_\n",
        "print(\"\\ncluster centers:\")\n",
        "\n",
        "print(kmeans.cluster_centers_)"
      ],
      "metadata": {
        "colab": {
          "base_uri": "https://localhost:8080/",
          "height": 380
        },
        "id": "RZB7niRJhunI",
        "outputId": "44639ca3-8ee6-4fa4-80b1-3104b2556e52"
      },
      "execution_count": null,
      "outputs": [
        {
          "output_type": "error",
          "ename": "ValueError",
          "evalue": "ignored",
          "traceback": [
            "\u001b[0;31m---------------------------------------------------------------------------\u001b[0m",
            "\u001b[0;31mValueError\u001b[0m                                Traceback (most recent call last)",
            "\u001b[0;32m<ipython-input-45-c799a026d0ba>\u001b[0m in \u001b[0;36m<module>\u001b[0;34m\u001b[0m\n\u001b[1;32m      3\u001b[0m \u001b[0;32mfrom\u001b[0m \u001b[0msklearn\u001b[0m\u001b[0;34m.\u001b[0m\u001b[0mpreprocessing\u001b[0m \u001b[0;32mimport\u001b[0m \u001b[0mStandardScaler\u001b[0m\u001b[0;34m\u001b[0m\u001b[0;34m\u001b[0m\u001b[0m\n\u001b[1;32m      4\u001b[0m \u001b[0msc\u001b[0m\u001b[0;34m=\u001b[0m\u001b[0mStandardScaler\u001b[0m\u001b[0;34m(\u001b[0m\u001b[0;34m)\u001b[0m\u001b[0;34m\u001b[0m\u001b[0;34m\u001b[0m\u001b[0m\n\u001b[0;32m----> 5\u001b[0;31m \u001b[0msc\u001b[0m\u001b[0;34m.\u001b[0m\u001b[0mfit\u001b[0m\u001b[0;34m(\u001b[0m\u001b[0mnew_dataset\u001b[0m\u001b[0;34m)\u001b[0m\u001b[0;34m\u001b[0m\u001b[0;34m\u001b[0m\u001b[0m\n\u001b[0m\u001b[1;32m      6\u001b[0m \u001b[0mX_std\u001b[0m\u001b[0;34m=\u001b[0m\u001b[0msc\u001b[0m\u001b[0;34m.\u001b[0m\u001b[0mtransform\u001b[0m\u001b[0;34m(\u001b[0m\u001b[0mnew_dataset\u001b[0m\u001b[0;34m)\u001b[0m\u001b[0;34m\u001b[0m\u001b[0;34m\u001b[0m\u001b[0m\n\u001b[1;32m      7\u001b[0m \u001b[0;34m\u001b[0m\u001b[0m\n",
            "\u001b[0;32m/usr/local/lib/python3.7/dist-packages/sklearn/preprocessing/_data.py\u001b[0m in \u001b[0;36mfit\u001b[0;34m(self, X, y, sample_weight)\u001b[0m\n\u001b[1;32m    804\u001b[0m         \u001b[0;31m# Reset internal state before fitting\u001b[0m\u001b[0;34m\u001b[0m\u001b[0;34m\u001b[0m\u001b[0;34m\u001b[0m\u001b[0m\n\u001b[1;32m    805\u001b[0m         \u001b[0mself\u001b[0m\u001b[0;34m.\u001b[0m\u001b[0m_reset\u001b[0m\u001b[0;34m(\u001b[0m\u001b[0;34m)\u001b[0m\u001b[0;34m\u001b[0m\u001b[0;34m\u001b[0m\u001b[0m\n\u001b[0;32m--> 806\u001b[0;31m         \u001b[0;32mreturn\u001b[0m \u001b[0mself\u001b[0m\u001b[0;34m.\u001b[0m\u001b[0mpartial_fit\u001b[0m\u001b[0;34m(\u001b[0m\u001b[0mX\u001b[0m\u001b[0;34m,\u001b[0m \u001b[0my\u001b[0m\u001b[0;34m,\u001b[0m \u001b[0msample_weight\u001b[0m\u001b[0;34m)\u001b[0m\u001b[0;34m\u001b[0m\u001b[0;34m\u001b[0m\u001b[0m\n\u001b[0m\u001b[1;32m    807\u001b[0m \u001b[0;34m\u001b[0m\u001b[0m\n\u001b[1;32m    808\u001b[0m     \u001b[0;32mdef\u001b[0m \u001b[0mpartial_fit\u001b[0m\u001b[0;34m(\u001b[0m\u001b[0mself\u001b[0m\u001b[0;34m,\u001b[0m \u001b[0mX\u001b[0m\u001b[0;34m,\u001b[0m \u001b[0my\u001b[0m\u001b[0;34m=\u001b[0m\u001b[0;32mNone\u001b[0m\u001b[0;34m,\u001b[0m \u001b[0msample_weight\u001b[0m\u001b[0;34m=\u001b[0m\u001b[0;32mNone\u001b[0m\u001b[0;34m)\u001b[0m\u001b[0;34m:\u001b[0m\u001b[0;34m\u001b[0m\u001b[0;34m\u001b[0m\u001b[0m\n",
            "\u001b[0;32m/usr/local/lib/python3.7/dist-packages/sklearn/preprocessing/_data.py\u001b[0m in \u001b[0;36mpartial_fit\u001b[0;34m(self, X, y, sample_weight)\u001b[0m\n\u001b[1;32m    845\u001b[0m             \u001b[0mdtype\u001b[0m\u001b[0;34m=\u001b[0m\u001b[0mFLOAT_DTYPES\u001b[0m\u001b[0;34m,\u001b[0m\u001b[0;34m\u001b[0m\u001b[0;34m\u001b[0m\u001b[0m\n\u001b[1;32m    846\u001b[0m             \u001b[0mforce_all_finite\u001b[0m\u001b[0;34m=\u001b[0m\u001b[0;34m\"allow-nan\"\u001b[0m\u001b[0;34m,\u001b[0m\u001b[0;34m\u001b[0m\u001b[0;34m\u001b[0m\u001b[0m\n\u001b[0;32m--> 847\u001b[0;31m             \u001b[0mreset\u001b[0m\u001b[0;34m=\u001b[0m\u001b[0mfirst_call\u001b[0m\u001b[0;34m,\u001b[0m\u001b[0;34m\u001b[0m\u001b[0;34m\u001b[0m\u001b[0m\n\u001b[0m\u001b[1;32m    848\u001b[0m         )\n\u001b[1;32m    849\u001b[0m         \u001b[0mn_features\u001b[0m \u001b[0;34m=\u001b[0m \u001b[0mX\u001b[0m\u001b[0;34m.\u001b[0m\u001b[0mshape\u001b[0m\u001b[0;34m[\u001b[0m\u001b[0;36m1\u001b[0m\u001b[0;34m]\u001b[0m\u001b[0;34m\u001b[0m\u001b[0;34m\u001b[0m\u001b[0m\n",
            "\u001b[0;32m/usr/local/lib/python3.7/dist-packages/sklearn/base.py\u001b[0m in \u001b[0;36m_validate_data\u001b[0;34m(self, X, y, reset, validate_separately, **check_params)\u001b[0m\n\u001b[1;32m    564\u001b[0m             \u001b[0;32mraise\u001b[0m \u001b[0mValueError\u001b[0m\u001b[0;34m(\u001b[0m\u001b[0;34m\"Validation should be done on X, y or both.\"\u001b[0m\u001b[0;34m)\u001b[0m\u001b[0;34m\u001b[0m\u001b[0;34m\u001b[0m\u001b[0m\n\u001b[1;32m    565\u001b[0m         \u001b[0;32melif\u001b[0m \u001b[0;32mnot\u001b[0m \u001b[0mno_val_X\u001b[0m \u001b[0;32mand\u001b[0m \u001b[0mno_val_y\u001b[0m\u001b[0;34m:\u001b[0m\u001b[0;34m\u001b[0m\u001b[0;34m\u001b[0m\u001b[0m\n\u001b[0;32m--> 566\u001b[0;31m             \u001b[0mX\u001b[0m \u001b[0;34m=\u001b[0m \u001b[0mcheck_array\u001b[0m\u001b[0;34m(\u001b[0m\u001b[0mX\u001b[0m\u001b[0;34m,\u001b[0m \u001b[0;34m**\u001b[0m\u001b[0mcheck_params\u001b[0m\u001b[0;34m)\u001b[0m\u001b[0;34m\u001b[0m\u001b[0;34m\u001b[0m\u001b[0m\n\u001b[0m\u001b[1;32m    567\u001b[0m             \u001b[0mout\u001b[0m \u001b[0;34m=\u001b[0m \u001b[0mX\u001b[0m\u001b[0;34m\u001b[0m\u001b[0;34m\u001b[0m\u001b[0m\n\u001b[1;32m    568\u001b[0m         \u001b[0;32melif\u001b[0m \u001b[0mno_val_X\u001b[0m \u001b[0;32mand\u001b[0m \u001b[0;32mnot\u001b[0m \u001b[0mno_val_y\u001b[0m\u001b[0;34m:\u001b[0m\u001b[0;34m\u001b[0m\u001b[0;34m\u001b[0m\u001b[0m\n",
            "\u001b[0;32m/usr/local/lib/python3.7/dist-packages/sklearn/utils/validation.py\u001b[0m in \u001b[0;36mcheck_array\u001b[0;34m(array, accept_sparse, accept_large_sparse, dtype, order, copy, force_all_finite, ensure_2d, allow_nd, ensure_min_samples, ensure_min_features, estimator)\u001b[0m\n\u001b[1;32m    744\u001b[0m                     \u001b[0marray\u001b[0m \u001b[0;34m=\u001b[0m \u001b[0marray\u001b[0m\u001b[0;34m.\u001b[0m\u001b[0mastype\u001b[0m\u001b[0;34m(\u001b[0m\u001b[0mdtype\u001b[0m\u001b[0;34m,\u001b[0m \u001b[0mcasting\u001b[0m\u001b[0;34m=\u001b[0m\u001b[0;34m\"unsafe\"\u001b[0m\u001b[0;34m,\u001b[0m \u001b[0mcopy\u001b[0m\u001b[0;34m=\u001b[0m\u001b[0;32mFalse\u001b[0m\u001b[0;34m)\u001b[0m\u001b[0;34m\u001b[0m\u001b[0;34m\u001b[0m\u001b[0m\n\u001b[1;32m    745\u001b[0m                 \u001b[0;32melse\u001b[0m\u001b[0;34m:\u001b[0m\u001b[0;34m\u001b[0m\u001b[0;34m\u001b[0m\u001b[0m\n\u001b[0;32m--> 746\u001b[0;31m                     \u001b[0marray\u001b[0m \u001b[0;34m=\u001b[0m \u001b[0mnp\u001b[0m\u001b[0;34m.\u001b[0m\u001b[0masarray\u001b[0m\u001b[0;34m(\u001b[0m\u001b[0marray\u001b[0m\u001b[0;34m,\u001b[0m \u001b[0morder\u001b[0m\u001b[0;34m=\u001b[0m\u001b[0morder\u001b[0m\u001b[0;34m,\u001b[0m \u001b[0mdtype\u001b[0m\u001b[0;34m=\u001b[0m\u001b[0mdtype\u001b[0m\u001b[0;34m)\u001b[0m\u001b[0;34m\u001b[0m\u001b[0;34m\u001b[0m\u001b[0m\n\u001b[0m\u001b[1;32m    747\u001b[0m             \u001b[0;32mexcept\u001b[0m \u001b[0mComplexWarning\u001b[0m \u001b[0;32mas\u001b[0m \u001b[0mcomplex_warning\u001b[0m\u001b[0;34m:\u001b[0m\u001b[0;34m\u001b[0m\u001b[0;34m\u001b[0m\u001b[0m\n\u001b[1;32m    748\u001b[0m                 raise ValueError(\n",
            "\u001b[0;32m/usr/local/lib/python3.7/dist-packages/pandas/core/generic.py\u001b[0m in \u001b[0;36m__array__\u001b[0;34m(self, dtype)\u001b[0m\n\u001b[1;32m   1991\u001b[0m \u001b[0;34m\u001b[0m\u001b[0m\n\u001b[1;32m   1992\u001b[0m     \u001b[0;32mdef\u001b[0m \u001b[0m__array__\u001b[0m\u001b[0;34m(\u001b[0m\u001b[0mself\u001b[0m\u001b[0;34m,\u001b[0m \u001b[0mdtype\u001b[0m\u001b[0;34m:\u001b[0m \u001b[0mNpDtype\u001b[0m \u001b[0;34m|\u001b[0m \u001b[0;32mNone\u001b[0m \u001b[0;34m=\u001b[0m \u001b[0;32mNone\u001b[0m\u001b[0;34m)\u001b[0m \u001b[0;34m->\u001b[0m \u001b[0mnp\u001b[0m\u001b[0;34m.\u001b[0m\u001b[0mndarray\u001b[0m\u001b[0;34m:\u001b[0m\u001b[0;34m\u001b[0m\u001b[0;34m\u001b[0m\u001b[0m\n\u001b[0;32m-> 1993\u001b[0;31m         \u001b[0;32mreturn\u001b[0m \u001b[0mnp\u001b[0m\u001b[0;34m.\u001b[0m\u001b[0masarray\u001b[0m\u001b[0;34m(\u001b[0m\u001b[0mself\u001b[0m\u001b[0;34m.\u001b[0m\u001b[0m_values\u001b[0m\u001b[0;34m,\u001b[0m \u001b[0mdtype\u001b[0m\u001b[0;34m=\u001b[0m\u001b[0mdtype\u001b[0m\u001b[0;34m)\u001b[0m\u001b[0;34m\u001b[0m\u001b[0;34m\u001b[0m\u001b[0m\n\u001b[0m\u001b[1;32m   1994\u001b[0m \u001b[0;34m\u001b[0m\u001b[0m\n\u001b[1;32m   1995\u001b[0m     def __array_wrap__(\n",
            "\u001b[0;31mValueError\u001b[0m: could not convert string to float: 'c:\\\\windows\\\\syswow64\\\\macromed\\\\flash\\\\flashplayerupdateservice.exe'"
          ]
        }
      ]
    },
    {
      "cell_type": "code",
      "source": [],
      "metadata": {
        "id": "aZy1VTOX9jkQ"
      },
      "execution_count": null,
      "outputs": []
    },
    {
      "cell_type": "code",
      "source": [
        "#applying the support vector machine\n",
        "from sklearn.svm import SVR\n",
        "model=SVR()\n",
        "model.fit(x_train,y_train)\n",
        "pred=model.predict(x_test)\n",
        "acc=model.score(x_test,y_test)\n",
        "print(acc)"
      ],
      "metadata": {
        "id": "mo_yIaWoiISF",
        "outputId": "31155289-eceb-4dc7-f593-35d468565c1e",
        "colab": {
          "base_uri": "https://localhost:8080/",
          "height": 397
        }
      },
      "execution_count": null,
      "outputs": [
        {
          "output_type": "error",
          "ename": "ValueError",
          "evalue": "ignored",
          "traceback": [
            "\u001b[0;31m---------------------------------------------------------------------------\u001b[0m",
            "\u001b[0;31mValueError\u001b[0m                                Traceback (most recent call last)",
            "\u001b[0;32m<ipython-input-42-ba570de2d655>\u001b[0m in \u001b[0;36m<module>\u001b[0;34m\u001b[0m\n\u001b[1;32m      2\u001b[0m \u001b[0;32mfrom\u001b[0m \u001b[0msklearn\u001b[0m\u001b[0;34m.\u001b[0m\u001b[0msvm\u001b[0m \u001b[0;32mimport\u001b[0m \u001b[0mSVR\u001b[0m\u001b[0;34m\u001b[0m\u001b[0;34m\u001b[0m\u001b[0m\n\u001b[1;32m      3\u001b[0m \u001b[0mmodel\u001b[0m\u001b[0;34m=\u001b[0m\u001b[0mSVR\u001b[0m\u001b[0;34m(\u001b[0m\u001b[0;34m)\u001b[0m\u001b[0;34m\u001b[0m\u001b[0;34m\u001b[0m\u001b[0m\n\u001b[0;32m----> 4\u001b[0;31m \u001b[0mmodel\u001b[0m\u001b[0;34m.\u001b[0m\u001b[0mfit\u001b[0m\u001b[0;34m(\u001b[0m\u001b[0mx_train\u001b[0m\u001b[0;34m,\u001b[0m\u001b[0my_train\u001b[0m\u001b[0;34m)\u001b[0m\u001b[0;34m\u001b[0m\u001b[0;34m\u001b[0m\u001b[0m\n\u001b[0m\u001b[1;32m      5\u001b[0m \u001b[0mpred\u001b[0m\u001b[0;34m=\u001b[0m\u001b[0mmodel\u001b[0m\u001b[0;34m.\u001b[0m\u001b[0mpredict\u001b[0m\u001b[0;34m(\u001b[0m\u001b[0mx_test\u001b[0m\u001b[0;34m)\u001b[0m\u001b[0;34m\u001b[0m\u001b[0;34m\u001b[0m\u001b[0m\n\u001b[1;32m      6\u001b[0m \u001b[0macc\u001b[0m\u001b[0;34m=\u001b[0m\u001b[0mmodel\u001b[0m\u001b[0;34m.\u001b[0m\u001b[0mscore\u001b[0m\u001b[0;34m(\u001b[0m\u001b[0mx_test\u001b[0m\u001b[0;34m,\u001b[0m\u001b[0my_test\u001b[0m\u001b[0;34m)\u001b[0m\u001b[0;34m\u001b[0m\u001b[0;34m\u001b[0m\u001b[0m\n",
            "\u001b[0;32m/usr/local/lib/python3.7/dist-packages/sklearn/svm/_base.py\u001b[0m in \u001b[0;36mfit\u001b[0;34m(self, X, y, sample_weight)\u001b[0m\n\u001b[1;32m    194\u001b[0m                 \u001b[0morder\u001b[0m\u001b[0;34m=\u001b[0m\u001b[0;34m\"C\"\u001b[0m\u001b[0;34m,\u001b[0m\u001b[0;34m\u001b[0m\u001b[0;34m\u001b[0m\u001b[0m\n\u001b[1;32m    195\u001b[0m                 \u001b[0maccept_sparse\u001b[0m\u001b[0;34m=\u001b[0m\u001b[0;34m\"csr\"\u001b[0m\u001b[0;34m,\u001b[0m\u001b[0;34m\u001b[0m\u001b[0;34m\u001b[0m\u001b[0m\n\u001b[0;32m--> 196\u001b[0;31m                 \u001b[0maccept_large_sparse\u001b[0m\u001b[0;34m=\u001b[0m\u001b[0;32mFalse\u001b[0m\u001b[0;34m,\u001b[0m\u001b[0;34m\u001b[0m\u001b[0;34m\u001b[0m\u001b[0m\n\u001b[0m\u001b[1;32m    197\u001b[0m             )\n\u001b[1;32m    198\u001b[0m \u001b[0;34m\u001b[0m\u001b[0m\n",
            "\u001b[0;32m/usr/local/lib/python3.7/dist-packages/sklearn/base.py\u001b[0m in \u001b[0;36m_validate_data\u001b[0;34m(self, X, y, reset, validate_separately, **check_params)\u001b[0m\n\u001b[1;32m    579\u001b[0m                 \u001b[0my\u001b[0m \u001b[0;34m=\u001b[0m \u001b[0mcheck_array\u001b[0m\u001b[0;34m(\u001b[0m\u001b[0my\u001b[0m\u001b[0;34m,\u001b[0m \u001b[0;34m**\u001b[0m\u001b[0mcheck_y_params\u001b[0m\u001b[0;34m)\u001b[0m\u001b[0;34m\u001b[0m\u001b[0;34m\u001b[0m\u001b[0m\n\u001b[1;32m    580\u001b[0m             \u001b[0;32melse\u001b[0m\u001b[0;34m:\u001b[0m\u001b[0;34m\u001b[0m\u001b[0;34m\u001b[0m\u001b[0m\n\u001b[0;32m--> 581\u001b[0;31m                 \u001b[0mX\u001b[0m\u001b[0;34m,\u001b[0m \u001b[0my\u001b[0m \u001b[0;34m=\u001b[0m \u001b[0mcheck_X_y\u001b[0m\u001b[0;34m(\u001b[0m\u001b[0mX\u001b[0m\u001b[0;34m,\u001b[0m \u001b[0my\u001b[0m\u001b[0;34m,\u001b[0m \u001b[0;34m**\u001b[0m\u001b[0mcheck_params\u001b[0m\u001b[0;34m)\u001b[0m\u001b[0;34m\u001b[0m\u001b[0;34m\u001b[0m\u001b[0m\n\u001b[0m\u001b[1;32m    582\u001b[0m             \u001b[0mout\u001b[0m \u001b[0;34m=\u001b[0m \u001b[0mX\u001b[0m\u001b[0;34m,\u001b[0m \u001b[0my\u001b[0m\u001b[0;34m\u001b[0m\u001b[0;34m\u001b[0m\u001b[0m\n\u001b[1;32m    583\u001b[0m \u001b[0;34m\u001b[0m\u001b[0m\n",
            "\u001b[0;32m/usr/local/lib/python3.7/dist-packages/sklearn/utils/validation.py\u001b[0m in \u001b[0;36mcheck_X_y\u001b[0;34m(X, y, accept_sparse, accept_large_sparse, dtype, order, copy, force_all_finite, ensure_2d, allow_nd, multi_output, ensure_min_samples, ensure_min_features, y_numeric, estimator)\u001b[0m\n\u001b[1;32m    974\u001b[0m         \u001b[0mensure_min_samples\u001b[0m\u001b[0;34m=\u001b[0m\u001b[0mensure_min_samples\u001b[0m\u001b[0;34m,\u001b[0m\u001b[0;34m\u001b[0m\u001b[0;34m\u001b[0m\u001b[0m\n\u001b[1;32m    975\u001b[0m         \u001b[0mensure_min_features\u001b[0m\u001b[0;34m=\u001b[0m\u001b[0mensure_min_features\u001b[0m\u001b[0;34m,\u001b[0m\u001b[0;34m\u001b[0m\u001b[0;34m\u001b[0m\u001b[0m\n\u001b[0;32m--> 976\u001b[0;31m         \u001b[0mestimator\u001b[0m\u001b[0;34m=\u001b[0m\u001b[0mestimator\u001b[0m\u001b[0;34m,\u001b[0m\u001b[0;34m\u001b[0m\u001b[0;34m\u001b[0m\u001b[0m\n\u001b[0m\u001b[1;32m    977\u001b[0m     )\n\u001b[1;32m    978\u001b[0m \u001b[0;34m\u001b[0m\u001b[0m\n",
            "\u001b[0;32m/usr/local/lib/python3.7/dist-packages/sklearn/utils/validation.py\u001b[0m in \u001b[0;36mcheck_array\u001b[0;34m(array, accept_sparse, accept_large_sparse, dtype, order, copy, force_all_finite, ensure_2d, allow_nd, ensure_min_samples, ensure_min_features, estimator)\u001b[0m\n\u001b[1;32m    744\u001b[0m                     \u001b[0marray\u001b[0m \u001b[0;34m=\u001b[0m \u001b[0marray\u001b[0m\u001b[0;34m.\u001b[0m\u001b[0mastype\u001b[0m\u001b[0;34m(\u001b[0m\u001b[0mdtype\u001b[0m\u001b[0;34m,\u001b[0m \u001b[0mcasting\u001b[0m\u001b[0;34m=\u001b[0m\u001b[0;34m\"unsafe\"\u001b[0m\u001b[0;34m,\u001b[0m \u001b[0mcopy\u001b[0m\u001b[0;34m=\u001b[0m\u001b[0;32mFalse\u001b[0m\u001b[0;34m)\u001b[0m\u001b[0;34m\u001b[0m\u001b[0;34m\u001b[0m\u001b[0m\n\u001b[1;32m    745\u001b[0m                 \u001b[0;32melse\u001b[0m\u001b[0;34m:\u001b[0m\u001b[0;34m\u001b[0m\u001b[0;34m\u001b[0m\u001b[0m\n\u001b[0;32m--> 746\u001b[0;31m                     \u001b[0marray\u001b[0m \u001b[0;34m=\u001b[0m \u001b[0mnp\u001b[0m\u001b[0;34m.\u001b[0m\u001b[0masarray\u001b[0m\u001b[0;34m(\u001b[0m\u001b[0marray\u001b[0m\u001b[0;34m,\u001b[0m \u001b[0morder\u001b[0m\u001b[0;34m=\u001b[0m\u001b[0morder\u001b[0m\u001b[0;34m,\u001b[0m \u001b[0mdtype\u001b[0m\u001b[0;34m=\u001b[0m\u001b[0mdtype\u001b[0m\u001b[0;34m)\u001b[0m\u001b[0;34m\u001b[0m\u001b[0;34m\u001b[0m\u001b[0m\n\u001b[0m\u001b[1;32m    747\u001b[0m             \u001b[0;32mexcept\u001b[0m \u001b[0mComplexWarning\u001b[0m \u001b[0;32mas\u001b[0m \u001b[0mcomplex_warning\u001b[0m\u001b[0;34m:\u001b[0m\u001b[0;34m\u001b[0m\u001b[0;34m\u001b[0m\u001b[0m\n\u001b[1;32m    748\u001b[0m                 raise ValueError(\n",
            "\u001b[0;31mValueError\u001b[0m: could not convert string to float: 'c:\\\\windows\\\\syswow64\\\\macromed\\\\flash\\\\flashplayerupdateservice.exe'"
          ]
        }
      ]
    }
  ]
}